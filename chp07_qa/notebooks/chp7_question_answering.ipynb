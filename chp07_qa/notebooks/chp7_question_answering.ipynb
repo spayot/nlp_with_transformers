{
 "cells": [
  {
   "cell_type": "code",
   "execution_count": 1,
   "metadata": {},
   "outputs": [],
   "source": [
    "import sys\n",
    "sys.path.append(\"../src/\")\n",
    "\n",
    "import qa\n",
    "\n",
    "%load_ext autoreload\n",
    "%autoreload 2"
   ]
  },
  {
   "attachments": {},
   "cell_type": "markdown",
   "metadata": {},
   "source": [
    "# load dataset"
   ]
  },
  {
   "cell_type": "code",
   "execution_count": 2,
   "metadata": {},
   "outputs": [
    {
     "name": "stderr",
     "output_type": "stream",
     "text": [
      "/Users/spayot/miniforge3/envs/tfm7/lib/python3.10/site-packages/tqdm/auto.py:22: TqdmWarning: IProgress not found. Please update jupyter and ipywidgets. See https://ipywidgets.readthedocs.io/en/stable/user_install.html\n",
      "  from .autonotebook import tqdm as notebook_tqdm\n"
     ]
    }
   ],
   "source": [
    "import datasets\n",
    "import pandas as pd\n",
    "import matplotlib.pyplot as plt\n",
    "\n",
    "DOMAIN = \"movies\""
   ]
  },
  {
   "cell_type": "code",
   "execution_count": 3,
   "metadata": {},
   "outputs": [
    {
     "name": "stdout",
     "output_type": "stream",
     "text": [
      "existing domains for subjqa: ['books', 'electronics', 'grocery', 'movies', 'restaurants', 'tripadvisor'] \n",
      "\n"
     ]
    },
    {
     "name": "stderr",
     "output_type": "stream",
     "text": [
      "Found cached dataset subjqa (/Users/spayot/.cache/huggingface/datasets/subjqa/movies/1.1.0/e5588f9298ff2d70686a00cc377e4bdccf4e32287459e3c6baf2dc5ab57fe7fd)\n",
      "100%|██████████| 3/3 [00:00<00:00, 397.24it/s]"
     ]
    },
    {
     "name": "stdout",
     "output_type": "stream",
     "text": [
      "{'text': [], 'answer_start': [], 'answer_subj_level': [], 'ans_subj_score': [], 'is_ans_subjective': []} \n",
      "\n"
     ]
    },
    {
     "name": "stderr",
     "output_type": "stream",
     "text": [
      "\n"
     ]
    }
   ],
   "source": [
    "domains = datasets.get_dataset_config_names(\"subjqa\")\n",
    "print(\"existing domains for subjqa:\", domains, \"\\n\")\n",
    "\n",
    "assert DOMAIN in domains, f\"{DOMAIN} this is not a valid domain name\"\n",
    "subjqa = datasets.load_dataset(\"subjqa\", name=DOMAIN)\n",
    "print(subjqa[\"train\"][\"answers\"][1], \"\\n\")"
   ]
  },
  {
   "attachments": {},
   "cell_type": "markdown",
   "metadata": {},
   "source": [
    "## Exploratory Data Analysis"
   ]
  },
  {
   "cell_type": "code",
   "execution_count": 4,
   "metadata": {},
   "outputs": [
    {
     "name": "stdout",
     "output_type": "stream",
     "text": [
      "Number of questions in train:               1,369\n",
      "Number of questions in test:                  291\n",
      "Number of questions in validation:            261\n"
     ]
    }
   ],
   "source": [
    "dfs = {split: dataset.to_pandas() for split, dataset in subjqa.flatten().items()}\n",
    "def print_slices_size(dfs: dict[str, pd.DataFrame]) -> None:\n",
    "    for split, df in dfs.items():\n",
    "        print(f\"Number of questions in {split + ':':<15} {df['id'].nunique():>10,}\")\n",
    "\n",
    "print_slices_size(dfs)"
   ]
  },
  {
   "cell_type": "code",
   "execution_count": 5,
   "metadata": {},
   "outputs": [
    {
     "data": {
      "text/html": [
       "<div>\n",
       "<style scoped>\n",
       "    .dataframe tbody tr th:only-of-type {\n",
       "        vertical-align: middle;\n",
       "    }\n",
       "\n",
       "    .dataframe tbody tr th {\n",
       "        vertical-align: top;\n",
       "    }\n",
       "\n",
       "    .dataframe thead th {\n",
       "        text-align: right;\n",
       "    }\n",
       "</style>\n",
       "<table border=\"1\" class=\"dataframe\">\n",
       "  <thead>\n",
       "    <tr style=\"text-align: right;\">\n",
       "      <th></th>\n",
       "      <th>title</th>\n",
       "      <th>question</th>\n",
       "      <th>answers.text</th>\n",
       "      <th>answers.answer_start</th>\n",
       "      <th>context</th>\n",
       "    </tr>\n",
       "  </thead>\n",
       "  <tbody>\n",
       "    <tr>\n",
       "      <th>105</th>\n",
       "      <td>0792154649</td>\n",
       "      <td>How was the movie?</td>\n",
       "      <td>[Great movie for the whole family, Great movie]</td>\n",
       "      <td>[19, 19]</td>\n",
       "      <td>I love this movie. Great movie for the whole f...</td>\n",
       "    </tr>\n",
       "    <tr>\n",
       "      <th>15</th>\n",
       "      <td>0780621964</td>\n",
       "      <td>Does this movie have good or rubbish effects?</td>\n",
       "      <td>[]</td>\n",
       "      <td>[]</td>\n",
       "      <td>I liked the first movie a lot so when the seco...</td>\n",
       "    </tr>\n",
       "  </tbody>\n",
       "</table>\n",
       "</div>"
      ],
      "text/plain": [
       "          title                                       question  \\\n",
       "105  0792154649                             How was the movie?   \n",
       "15   0780621964  Does this movie have good or rubbish effects?   \n",
       "\n",
       "                                        answers.text answers.answer_start  \\\n",
       "105  [Great movie for the whole family, Great movie]             [19, 19]   \n",
       "15                                                []                   []   \n",
       "\n",
       "                                               context  \n",
       "105  I love this movie. Great movie for the whole f...  \n",
       "15   I liked the first movie a lot so when the seco...  "
      ]
     },
     "execution_count": 5,
     "metadata": {},
     "output_type": "execute_result"
    }
   ],
   "source": [
    "qa_cols = [\"title\", \"question\", \"answers.text\", \"answers.answer_start\", \"context\"]\n",
    "sample_df = dfs[\"train\"].loc[:,qa_cols].sample(2)\n",
    "sample_df"
   ]
  },
  {
   "cell_type": "code",
   "execution_count": 6,
   "metadata": {},
   "outputs": [
    {
     "data": {
      "text/plain": [
       "False    856\n",
       "True     513\n",
       "Name: answers.text, dtype: int64"
      ]
     },
     "execution_count": 6,
     "metadata": {},
     "output_type": "execute_result"
    }
   ],
   "source": [
    "# how many items have answers?\n",
    "dfs[\"train\"][\"answers.text\"].apply(lambda x: len(x) > 0).value_counts()"
   ]
  },
  {
   "cell_type": "code",
   "execution_count": 50,
   "metadata": {},
   "outputs": [
    {
     "data": {
      "text/html": [
       "<div>\n",
       "<style scoped>\n",
       "    .dataframe tbody tr th:only-of-type {\n",
       "        vertical-align: middle;\n",
       "    }\n",
       "\n",
       "    .dataframe tbody tr th {\n",
       "        vertical-align: top;\n",
       "    }\n",
       "\n",
       "    .dataframe thead th {\n",
       "        text-align: right;\n",
       "    }\n",
       "</style>\n",
       "<table border=\"1\" class=\"dataframe\">\n",
       "  <thead>\n",
       "    <tr style=\"text-align: right;\">\n",
       "      <th></th>\n",
       "      <th>title</th>\n",
       "      <th>question</th>\n",
       "      <th>answers.text</th>\n",
       "      <th>answers.answer_start</th>\n",
       "      <th>context</th>\n",
       "    </tr>\n",
       "  </thead>\n",
       "  <tbody>\n",
       "    <tr>\n",
       "      <th>105</th>\n",
       "      <td>0792154649</td>\n",
       "      <td>How was the movie?</td>\n",
       "      <td>[Great movie for the whole family, Great movie]</td>\n",
       "      <td>[19, 19]</td>\n",
       "      <td>I love this movie. Great movie for the whole family. Charlton Heston is awes...</td>\n",
       "    </tr>\n",
       "    <tr>\n",
       "      <th>15</th>\n",
       "      <td>0780621964</td>\n",
       "      <td>Does this movie have good or rubbish effects?</td>\n",
       "      <td>[]</td>\n",
       "      <td>[]</td>\n",
       "      <td>I liked the first movie a lot so when the second one came out I went to see ...</td>\n",
       "    </tr>\n",
       "  </tbody>\n",
       "</table>\n",
       "</div>"
      ],
      "text/plain": [
       "          title                                       question  \\\n",
       "105  0792154649                             How was the movie?   \n",
       "15   0780621964  Does this movie have good or rubbish effects?   \n",
       "\n",
       "                                        answers.text answers.answer_start  \\\n",
       "105  [Great movie for the whole family, Great movie]             [19, 19]   \n",
       "15                                                []                   []   \n",
       "\n",
       "                                                                             context  \n",
       "105  I love this movie. Great movie for the whole family. Charlton Heston is awes...  \n",
       "15   I liked the first movie a lot so when the second one came out I went to see ...  "
      ]
     },
     "execution_count": 50,
     "metadata": {},
     "output_type": "execute_result"
    }
   ],
   "source": [
    "sample_df"
   ]
  },
  {
   "cell_type": "code",
   "execution_count": 61,
   "metadata": {},
   "outputs": [
    {
     "data": {
      "text/plain": [
       "('Great movie for the whole family', 'Great movie for the whole family')"
      ]
     },
     "execution_count": 61,
     "metadata": {},
     "output_type": "execute_result"
    }
   ],
   "source": [
    "idx = 0\n",
    "start_idx = sample_df[\"answers.answer_start\"].iloc[idx][0]\n",
    "end_idx = start_idx + len(sample_df[\"answers.text\"].iloc[idx][0])\n",
    "sample_df[\"context\"].iloc[idx][start_idx:end_idx], sample_df[\"answers.text\"].iloc[idx][0]"
   ]
  },
  {
   "cell_type": "code",
   "execution_count": 8,
   "metadata": {},
   "outputs": [
    {
     "data": {
      "image/png": "[encoded data removed]",
      "text/plain": [
       "<Figure size 640x480 with 1 Axes>"
      ]
     },
     "metadata": {},
     "output_type": "display_data"
    }
   ],
   "source": [
    "# what kind of questions are in the training set?\n",
    "def count_start_words(series: pd.Series, start_words: list[str]) -> dict[str,int]:\n",
    "    counts = {}\n",
    "    for word in start_words:\n",
    "        counts[word] = (series\n",
    "            .str.lower()\n",
    "            .str.startswith(word.lower())\n",
    "            .sum())\n",
    "\n",
    "    return counts\n",
    "\n",
    "def plot_word_counts(word_counts: dict[str, int]) -> None:\n",
    "    pd.Series(counts).sort_values().plot.barh(title=\"frequency of question types\");\n",
    "\n",
    "start_words = [\"How\", \"What\", \"Where\", \"When\", \"Why\", \"Who\", \"Is\", \"Do\"]\n",
    "counts = count_start_words(dfs[\"train\"][\"question\"], start_words)\n",
    "plot_word_counts(counts)"
   ]
  },
  {
   "cell_type": "code",
   "execution_count": 9,
   "metadata": {},
   "outputs": [
    {
     "name": "stdout",
     "output_type": "stream",
     "text": [
      "How do you do for your beautiful messages?\n",
      "How good is the story in this serie?\n",
      "How is the bit?\n",
      "\n",
      "What is your favorite movie?\n",
      "What is the limit of the transfer?\n",
      "What did you like most about the film?\n",
      "\n",
      "Is the plot in the right place?\n",
      "Is the main character a good actor?\n",
      "Is it hard to find a way to reach them?\n",
      "\n"
     ]
    }
   ],
   "source": [
    "def sample_questions_with_start_word(questions: pd.Series, start_word: str, sample_size: int = 3) -> pd.Series:\n",
    "    return questions[questions.str.lower().str.startswith(start_word.lower())].sample(sample_size)\n",
    "\n",
    "def print_samples_with_start_word_list(questions: pd.Series, start_word_list: list[str], sample_size: int = 3) -> None:\n",
    "    for word in start_word_list:\n",
    "        sample_questions = sample_questions_with_start_word(questions, word, sample_size)\n",
    "        print(*sample_questions, sep=\"\\n\")\n",
    "        print()\n",
    "\n",
    "\n",
    "print_samples_with_start_word_list(dfs[\"train\"][\"question\"], [\"How\", \"What\", \"Is\"])"
   ]
  },
  {
   "attachments": {},
   "cell_type": "markdown",
   "metadata": {},
   "source": [
    "# Extracting answers from text"
   ]
  },
  {
   "cell_type": "code",
   "execution_count": 10,
   "metadata": {},
   "outputs": [],
   "source": [
    "from transformers import AutoTokenizer\n",
    "\n",
    "MODEL_CKPT = \"deepset/minilm-uncased-squad2\"\n",
    "tokenizer = AutoTokenizer.from_pretrained(MODEL_CKPT)"
   ]
  },
  {
   "cell_type": "code",
   "execution_count": 11,
   "metadata": {},
   "outputs": [
    {
     "name": "stdout",
     "output_type": "stream",
     "text": [
      "{'input_ids': tensor([[  101,  2040,  3248,  1996,  2364,  2839,  1029,   102,  2023,  2143,\n",
      "          8235,  2135,  2856,  2011,  2198,  7232,  3065,  1037,  2402, 10533,\n",
      "          1006, 12831,  3363,  2358,  9910,  2361,  1007,  4982,  2000,  4476,\n",
      "          1999,  1996, 12930,  1997,  1996,  3708,  2301,  1012,   102]]), 'token_type_ids': tensor([[0, 0, 0, 0, 0, 0, 0, 0, 1, 1, 1, 1, 1, 1, 1, 1, 1, 1, 1, 1, 1, 1, 1, 1,\n",
      "         1, 1, 1, 1, 1, 1, 1, 1, 1, 1, 1, 1, 1, 1, 1]]), 'attention_mask': tensor([[1, 1, 1, 1, 1, 1, 1, 1, 1, 1, 1, 1, 1, 1, 1, 1, 1, 1, 1, 1, 1, 1, 1, 1,\n",
      "         1, 1, 1, 1, 1, 1, 1, 1, 1, 1, 1, 1, 1, 1, 1]])}\n",
      "[CLS] who plays the main character? [SEP] this film brilliantly directed by john cameron shows a young carpenter ( merryll streep ) grow to fame in the midst of the 19th century. [SEP]\n"
     ]
    }
   ],
   "source": [
    "question = \"Who plays the main character?\"\n",
    "context = \"this film brilliantly directed by John Cameron shows a young carpenter (Merryll Streep) grow to fame in the midst of the 19th century.\"\n",
    "inputs = tokenizer(question, context, return_tensors=\"pt\")\n",
    "print(inputs)\n",
    "print(tokenizer.decode(inputs[\"input_ids\"][0]))"
   ]
  },
  {
   "cell_type": "code",
   "execution_count": 12,
   "metadata": {},
   "outputs": [
    {
     "name": "stdout",
     "output_type": "stream",
     "text": [
      "QuestionAnsweringModelOutput(loss=None, start_logits=tensor([[ 2.1060, -5.7358, -6.0297, -5.5793, -6.0490, -6.5436, -6.5746,  2.1060,\n",
      "         -4.6390, -6.0619, -5.8395, -6.4893, -6.0956, -6.2996, -5.0551, -6.3164,\n",
      "         -5.6653, -1.2571, -2.6422,  0.8292,  3.0302,  6.6095, -2.4039, -2.4473,\n",
      "         -5.3281, -1.3681, -4.4412, -5.5199, -5.8619, -6.3535, -5.9934, -3.9990,\n",
      "         -6.2053, -6.0370, -4.9624, -6.0011, -6.7903, -5.9915,  2.1060]]), end_logits=tensor([[ 2.0439, -6.3125, -6.3776, -6.4139, -6.4673, -5.8300, -5.6640,  2.0439,\n",
      "         -6.5273, -5.7469, -6.2036, -5.7139, -6.1205, -6.1102, -6.2016, -4.4481,\n",
      "         -5.9626, -5.8089, -5.2867,  0.8968, -3.3977, -0.2626, -3.2219, -4.7237,\n",
      "         -3.4788,  6.2356,  2.2657, -6.2941, -6.4426, -5.5345, -6.3411, -6.1913,\n",
      "         -6.2336, -6.2938, -6.3297, -6.1236, -4.9332, -1.4371,  2.0439]]), hidden_states=None, attentions=None)\n"
     ]
    }
   ],
   "source": [
    "import torch\n",
    "from transformers import AutoModelForQuestionAnswering\n",
    "\n",
    "model = AutoModelForQuestionAnswering.from_pretrained(MODEL_CKPT)\n",
    "with torch.no_grad():\n",
    "    outputs = model(**inputs)\n",
    "print(outputs)"
   ]
  },
  {
   "cell_type": "code",
   "execution_count": 13,
   "metadata": {},
   "outputs": [],
   "source": [
    "import transformers as tfm"
   ]
  },
  {
   "cell_type": "code",
   "execution_count": 14,
   "metadata": {},
   "outputs": [
    {
     "data": {
      "text/plain": [
       "[{'score': 0.9206932187080383,\n",
       "  'start': 72,\n",
       "  'end': 86,\n",
       "  'answer': 'Merryll Streep'},\n",
       " {'score': 0.0256821122020483,\n",
       "  'start': 71,\n",
       "  'end': 86,\n",
       "  'answer': '(Merryll Streep'},\n",
       " {'score': 0.017378173768520355,\n",
       "  'start': 72,\n",
       "  'end': 87,\n",
       "  'answer': 'Merryll Streep)'}]"
      ]
     },
     "execution_count": 14,
     "metadata": {},
     "output_type": "execute_result"
    }
   ],
   "source": [
    "pipe = tfm.pipeline(task=\"question-answering\", model=model, tokenizer=tokenizer)\n",
    "pipe(question=question, context=context, top_k=3)"
   ]
  },
  {
   "attachments": {},
   "cell_type": "markdown",
   "metadata": {},
   "source": [
    "# Haystack: Retriever-Reader architecture\n",
    "## Document Store"
   ]
  },
  {
   "cell_type": "code",
   "execution_count": 18,
   "metadata": {},
   "outputs": [
    {
     "name": "stdout",
     "output_type": "stream",
     "text": [
      "huggingface/tokenizers: The current process just got forked, after parallelism has already been used. Disabling parallelism to avoid deadlocks...\n",
      "To disable this warning, you can either:\n",
      "\t- Avoid using `tokenizers` before the fork if possible\n",
      "\t- Explicitly set the environment variable TOKENIZERS_PARALLELISM=(true | false)\n"
     ]
    },
    {
     "name": "stderr",
     "output_type": "stream",
     "text": [
      "Unable to find image 'elasticsearch:7.9.2' locally\n",
      "7.9.2: Pulling from library/elasticsearch\n",
      "9f74aa7d9ab9: Pulling fs layer\n",
      "400a45e237b0: Pulling fs layer\n",
      "da3333bd92b5: Pulling fs layer\n",
      "8fcb044e3dce: Pulling fs layer\n",
      "68c8ab10a68b: Pulling fs layer\n",
      "f1a49ad5d099: Pulling fs layer\n",
      "ce2c85c995ef: Pulling fs layer\n",
      "bbfc9a234a20: Pulling fs layer\n",
      "724bf09a020c: Pulling fs layer\n",
      "8fcb044e3dce: Waiting\n",
      "68c8ab10a68b: Waiting\n",
      "f1a49ad5d099: Waiting\n",
      "ce2c85c995ef: Waiting\n",
      "bbfc9a234a20: Waiting\n",
      "724bf09a020c: Waiting\n",
      "400a45e237b0: Verifying Checksum\n",
      "400a45e237b0: Download complete\n",
      "8fcb044e3dce: Download complete\n",
      "da3333bd92b5: Verifying Checksum\n",
      "da3333bd92b5: Download complete\n",
      "f1a49ad5d099: Verifying Checksum\n",
      "f1a49ad5d099: Download complete\n",
      "ce2c85c995ef: Verifying Checksum\n",
      "ce2c85c995ef: Download complete\n",
      "bbfc9a234a20: Verifying Checksum\n",
      "bbfc9a234a20: Download complete\n",
      "724bf09a020c: Download complete\n",
      "9f74aa7d9ab9: Verifying Checksum\n",
      "9f74aa7d9ab9: Download complete\n",
      "9f74aa7d9ab9: Pull complete\n",
      "400a45e237b0: Pull complete\n",
      "da3333bd92b5: Pull complete\n",
      "8fcb044e3dce: Pull complete\n",
      "68c8ab10a68b: Verifying Checksum\n",
      "68c8ab10a68b: Download complete\n",
      "68c8ab10a68b: Pull complete\n",
      "f1a49ad5d099: Pull complete\n",
      "ce2c85c995ef: Pull complete\n",
      "bbfc9a234a20: Pull complete\n",
      "724bf09a020c: Pull complete\n",
      "Digest: sha256:e3b52403c6fb95eb4dc6092d39c187acfc38e8afd61e4d38801ae323b3eeeff3\n",
      "Status: Downloaded newer image for elasticsearch:7.9.2\n"
     ]
    },
    {
     "name": "stdout",
     "output_type": "stream",
     "text": [
      "cec8b1dca7c23e1e3bfa8ce5eb03998d6432a0c13312c579028bc34699635ce9\n"
     ]
    }
   ],
   "source": [
    "from haystack.utils import launch_es\n",
    "\n",
    "# launch elastic search docker container\n",
    "launch_es()"
   ]
  },
  {
   "cell_type": "code",
   "execution_count": 19,
   "metadata": {},
   "outputs": [
    {
     "name": "stdout",
     "output_type": "stream",
     "text": [
      "huggingface/tokenizers: The current process just got forked, after parallelism has already been used. Disabling parallelism to avoid deadlocks...\n",
      "To disable this warning, you can either:\n",
      "\t- Avoid using `tokenizers` before the fork if possible\n",
      "\t- Explicitly set the environment variable TOKENIZERS_PARALLELISM=(true | false)\n",
      "{\n",
      "  \"name\" : \"cec8b1dca7c2\",\n",
      "  \"cluster_name\" : \"docker-cluster\",\n",
      "  \"cluster_uuid\" : \"PaaWLd4URPq9HqODjXe-Nw\",\n",
      "  \"version\" : {\n",
      "    \"number\" : \"7.9.2\",\n",
      "    \"build_flavor\" : \"default\",\n",
      "    \"build_type\" : \"docker\",\n",
      "    \"build_hash\" : \"d34da0ea4a966c4e49417f2da2f244e3e97b4e6e\",\n",
      "    \"build_date\" : \"2020-09-23T04:28:49.179747Z\",\n",
      "    \"build_snapshot\" : false,\n",
      "    \"lucene_version\" : \"8.6.2\",\n",
      "    \"minimum_wire_compatibility_version\" : \"6.8.0\",\n",
      "    \"minimum_index_compatibility_version\" : \"6.0.0-beta1\"\n",
      "  },\n",
      "  \"tagline\" : \"You Know, for Search\"\n",
      "}\n"
     ]
    }
   ],
   "source": [
    "# verifying that elasticsearch cluster works\n",
    "!curl -X GET \"localhost:9200/?pretty\""
   ]
  },
  {
   "cell_type": "code",
   "execution_count": 22,
   "metadata": {},
   "outputs": [
    {
     "name": "stdout",
     "output_type": "stream",
     "text": [
      "huggingface/tokenizers: The current process just got forked, after parallelism has already been used. Disabling parallelism to avoid deadlocks...\n",
      "To disable this warning, you can either:\n",
      "\t- Avoid using `tokenizers` before the fork if possible\n",
      "\t- Explicitly set the environment variable TOKENIZERS_PARALLELISM=(true | false)\n",
      "yellow open movies 4ZW7kCudQja8SFzfVnGejw 1 1 0 0 208b 208b\n",
      "yellow open label  9RFaY-AWRxWJIwQqspwxaw 1 1 0 0 208b 208b\n"
     ]
    }
   ],
   "source": [
    "!curl -X GET \"localhost:9200/_cat/indices\""
   ]
  },
  {
   "attachments": {},
   "cell_type": "markdown",
   "metadata": {},
   "source": [
    "**Note**: below cell has been extracted form haystack tutorial: https://haystack.deepset.ai/tutorials/01_basic_qa_pipeline"
   ]
  },
  {
   "cell_type": "code",
   "execution_count": 21,
   "metadata": {},
   "outputs": [],
   "source": [
    "import os\n",
    "from haystack.document_stores import ElasticsearchDocumentStore\n",
    "\n",
    "# Get the host where Elasticsearch is running, default to localhost\n",
    "host = os.environ.get(\"ELASTICSEARCH_HOST\", \"localhost\")\n",
    "document_store = ElasticsearchDocumentStore(host=host, username=\"\", password=\"\", index=DOMAIN, return_embedding=True)"
   ]
  },
  {
   "cell_type": "code",
   "execution_count": null,
   "metadata": {},
   "outputs": [],
   "source": []
  },
  {
   "cell_type": "code",
   "execution_count": 83,
   "metadata": {},
   "outputs": [
    {
     "name": "stdout",
     "output_type": "stream",
     "text": [
      "Loaded 1,624 documents\n"
     ]
    }
   ],
   "source": [
    "\n",
    "def df_row_to_ES_doc(row, split: str) -> dict:\n",
    "    return {\n",
    "        \"content\": row.context, \n",
    "        \"meta\": {\n",
    "            \"item_id\": row.title, \n",
    "            \"question_id\": row.id,\n",
    "            \"split\": split,\n",
    "        }}\n",
    "\n",
    "\n",
    "def df_to_ES_doc(df: pd.DataFrame, split: str) -> list[dict]:\n",
    "    return [\n",
    "        df_row_to_ES_doc(row, split) \n",
    "        for row in df.drop_duplicates(subset=\"context\").itertuples()\n",
    "        ]\n",
    "\n",
    "for split, df in dfs.items():\n",
    "    docs = df_to_ES_doc(df, split)\n",
    "    document_store.write_documents(docs, index=DOMAIN)\n",
    "\n",
    "print(f\"Loaded {document_store.get_document_count():,} documents\")\n",
    "\n",
    "# row = next(dfs[\"train\"].itertuples())\n",
    "# df_row_to_es_doc(row, \"train\")\n",
    "\n",
    "# df_to_es_doc(dfs[\"train\"].sample(3), \"train\")"
   ]
  },
  {
   "attachments": {},
   "cell_type": "markdown",
   "metadata": {},
   "source": [
    "# Retriever"
   ]
  },
  {
   "cell_type": "code",
   "execution_count": 85,
   "metadata": {},
   "outputs": [],
   "source": [
    "from haystack.nodes import BM25Retriever\n",
    "\n",
    "es_retriever = BM25Retriever(document_store=document_store)"
   ]
  },
  {
   "cell_type": "code",
   "execution_count": 107,
   "metadata": {},
   "outputs": [
    {
     "name": "stdout",
     "output_type": "stream",
     "text": [
      "<Document: id=6a09e915e3af83102ab11bbc6527b4f3, content='1- Lacks a main character (no protagonist)2- Anakin is not introduced until 45 minutes into the movi...'>\n",
      "<Document: id=2d0d8ad846456f58d2e68042b71e4398, content='Yes, my main gripe, like many fans of the franchise, is Jake Lloyd. But to surprise a few people, I ...'>\n",
      "<Document: id=d450c78a3b8e7ae2c362299a99d5a58b, content='Get ready to be swept away by the next installment of one of the most loved and watched sci-fi movie...'>\n"
     ]
    }
   ],
   "source": [
    "item_id = \"630575067X\" # star wars episode 1\n",
    "query = \" who is the main character?\"\n",
    "retrieved_docs = es_retriever.retrieve(query=query, top_k=3, filters={\"item_id\": item_id, \"split\": \"train\"})\n",
    "print(*retrieved_docs, sep='\\n')"
   ]
  },
  {
   "attachments": {},
   "cell_type": "markdown",
   "metadata": {},
   "source": [
    "# Reader"
   ]
  },
  {
   "cell_type": "code",
   "execution_count": 101,
   "metadata": {},
   "outputs": [],
   "source": [
    "from haystack.nodes import FARMReader\n",
    "\n",
    "# Load a  local model or any of the QA models on\n",
    "# Hugging Face's model hub (https://huggingface.co/models)\n",
    "\n",
    "MAX_SEQ_LENGTH, DOC_STRIDE = 384, 128\n",
    "reader = FARMReader(model_name_or_path=MODEL_CKPT, \n",
    "    use_gpu=True, \n",
    "    progress_bar=False, \n",
    "    max_seq_len=MAX_SEQ_LENGTH,\n",
    "    doc_stride=DOC_STRIDE,\n",
    "    return_no_answer=True)\n"
   ]
  },
  {
   "cell_type": "code",
   "execution_count": 102,
   "metadata": {},
   "outputs": [
    {
     "name": "stdout",
     "output_type": "stream",
     "text": [
      "{'query': 'Who plays the main character?', 'no_ans_gap': 8.695183277130127, 'answers': [<Answer {'answer': 'Merryll Streep', 'type': 'extractive', 'score': 0.9352176189422607, 'context': 'this film brilliantly directed by John Cameron shows a young carpenter (Merryll Streep) grow to fame in the midst of the 19th century.', 'offsets_in_document': [{'start': 72, 'end': 86}], 'offsets_in_context': [{'start': 72, 'end': 86}], 'document_id': '9862efcec7c7cc3e2135f7fa86ee6601', 'meta': {}}>]}\n"
     ]
    }
   ],
   "source": [
    "print(reader.predict_on_texts(question=question, texts=[context], top_k=1))"
   ]
  },
  {
   "attachments": {},
   "cell_type": "markdown",
   "metadata": {},
   "source": [
    "## Pipeline"
   ]
  },
  {
   "cell_type": "code",
   "execution_count": 103,
   "metadata": {},
   "outputs": [],
   "source": [
    "from haystack.pipelines import ExtractiveQAPipeline\n",
    "\n",
    "pipe = ExtractiveQAPipeline(reader, es_retriever)\n",
    "\n"
   ]
  },
  {
   "cell_type": "code",
   "execution_count": 114,
   "metadata": {},
   "outputs": [
    {
     "name": "stdout",
     "output_type": "stream",
     "text": [
      "Question:  how long is this movie?\n",
      "\n",
      "Answer 1: 16 years\n",
      "Review snipper: ...hey want; I just feel that they're judging The Phantom Menace based on 16 years of their own expectations rather than judging it for what it is: a vis...\n",
      "\n",
      "\n",
      "Answer 2: \n",
      "Review snipper: ...None...\n",
      "\n",
      "\n",
      "Answer 3: a huge disapointment\n",
      "Review snipper: ...t this film would equal the Second Coming. However, the movie is a huge disapointment. Granted, the special effects  and ship and creature designs are...\n",
      "\n",
      "\n"
     ]
    }
   ],
   "source": [
    "TOP_K_READER = 3\n",
    "\n",
    "item_id = \"630575067X\" # star wars episode 1\n",
    "query = \" how long is this movie?\"\n",
    "\n",
    "params = {\n",
    "    \"Retriever\": {\n",
    "        \"top_k\": 3,\n",
    "        \"filters\": {\n",
    "            \"item_id\": [item_id],\n",
    "            \"split\": \"train\",\n",
    "            }\n",
    "        },\n",
    "    \"Reader\": {\n",
    "        \"top_k\": TOP_K_READER,\n",
    "        },\n",
    "    }\n",
    "preds = pipe.run(query=query, params=params)\n",
    "\n",
    "print(f\"Question: {preds['query']}\\n\")\n",
    "for idx in range(TOP_K_READER):\n",
    "    print(f\"Answer {idx + 1}: {preds['answers'][idx].answer}\")\n",
    "    print(f\"Review snippet: ...{preds['answers'][idx].context}...\\n\\n\")\n",
    "\n"
   ]
  },
  {
   "attachments": {},
   "cell_type": "markdown",
   "metadata": {},
   "source": [
    "# Improving QA Pipeline\n",
    "## Evaluating Retriever"
   ]
  },
  {
   "cell_type": "code",
   "execution_count": 115,
   "metadata": {},
   "outputs": [],
   "source": [
    "from haystack.pipelines import DocumentSearchPipeline\n",
    "\n",
    "pipe = DocumentSearchPipeline(retriever=es_retriever)"
   ]
  },
  {
   "cell_type": "markdown",
   "metadata": {},
   "source": [
    "### Generating labeled data for pipeline evaluation for test set"
   ]
  },
  {
   "cell_type": "code",
   "execution_count": 127,
   "metadata": {},
   "outputs": [
    {
     "data": {
      "text/plain": [
       "Pandas(Index=1, domain='movies', nn_mod='amazing', nn_asp='cinematography', query_mod='close', query_asp='relationship', q_reviews_id='5c47f7c54408b6fa6b388a3b3ac7689e', question_subj_level=1, ques_subj_score=0.0, is_ques_subjective=False, review_id='bb474a32c0035a8a75fd110c43cb3ed7', id='43e12e7953dc0eca200b658a0d0d1eb3', title='0310263662', context='I find it sad that reviewers such as \"A Kid\\'s Review\" (only one of quite a few) found it necessary to use personal attacks as a way of conveying their lack of spiritual understanding of or enthusiasm for the film.  (Saying over and over again that they wish Mel had made another Mad Max film only shows they did not have the ability or desire to consider what the film was about.  You probably should not have seen it since you are clearly unable to grasp the truth of His message.)That said, I will not lower myself again to the same level as other reviewers who attack differing personal spiritual views as a means to criticize the film - I can only suppose it is because they are threatened by the message.  If you didn\\'t like the film, say why you didn\\'t like the film. Don\\'t call people who DID find the film a profoundly moving experience idiots because you can\\'t understand our faith.  It is only demonstrating your own ignorance to do so.  If you choose not to believe that Jesus was who he was portrayed as in \"The Passion of the Christ\" and in the Bible, that is your opinion and you are welcome to it.  But save the intellectual drivel about how anyone who does believe is deluded and cannot think for themselves.  Learn to read and research and you might be surprised at what you learn.  And - By the way - I am a Christian (NOT Catholic) who was brought up Unitarian.  I know how to read and think for myself!  I\\'m not being blindly lead.  Free will is a basic point of Faith.  I use my free will to believe.  You use yours to ridicule.  I\\'m sad for you.In terms of visual message, this film was spectacular.  The cinematography is amazing.  It truly conveys the anguish most involved experienced - not just Jesus and his followers.  For those who claim that His message is missed in the film, I call your attention to the last moments on the Cross when the other men there had the chance to choose their path - the redemption one received while the other continued to ridicule.  That is the bottom line message - the redemption and forgiveness that is available to all.I have seen many reviews that criticize Mel for making it too violent.  I find this ironic.  Have you watched the violence out there on film, in video games, even on TV?  I certainly have plenty of it in my film library.  Our culture has become immune to it.  I expect that had the violence not been portrayed so graphically the film would have lost substantial impact.  That said, it was the most difficult film I have ever watched and I cried throughout the film in the theater, but I purchased the DVD.  I will watch it again when I feel I need to be reminded of the sacrifice that was made on the behalf of all who believe - and all who do not.', question='What is your relationship with Jesus?', _15=array(['why you',\n",
       "       'I am a Christian (NOT Catholic) who was brought up Unitarian'],\n",
       "      dtype=object), _16=array([ 744, 1319], dtype=int32), _17=array([1, 1]), _18=array([0., 0.], dtype=float32), _19=array([False, False]))"
      ]
     },
     "execution_count": 127,
     "metadata": {},
     "output_type": "execute_result"
    }
   ],
   "source": [
    "row"
   ]
  },
  {
   "cell_type": "code",
   "execution_count": 142,
   "metadata": {},
   "outputs": [
    {
     "data": {
      "text/plain": [
       "337"
      ]
     },
     "execution_count": 142,
     "metadata": {},
     "output_type": "execute_result"
    }
   ],
   "source": [
    "from haystack import Label, Answer, Document\n",
    "\n",
    "def create_label(row, answer: str, no_answer: bool):\n",
    "    meta = {\"item_id\": row[\"title\"], \"question_id\": row[\"id\"]}\n",
    "    return Label(\n",
    "            query=row[\"question\"], \n",
    "            answer=Answer(answer=answer), \n",
    "            origin=\"gold-label\", \n",
    "            document=Document(\n",
    "                content=row[\"context\"], \n",
    "                id=row[\"review_id\"]),\n",
    "            meta=meta, \n",
    "            is_correct_answer=True, \n",
    "            is_correct_document=True,\n",
    "            no_answer=no_answer, \n",
    "            filters={\"item_id\": [row[\"title\"]], \"split\":[\"test\"]}\n",
    "            )\n",
    "\n",
    "\n",
    "def create_labels_from_row(row) -> list[Label]:\n",
    "    if len(row[\"answers.text\"]) == 0:\n",
    "        return [create_label(row, answer=\"\", no_answer=True)]\n",
    "    return [create_label(row, answer, no_answer=False) for answer in row[\"answers.text\"]]\n",
    "    \n",
    "    \n",
    "\n",
    "def create_labels_from_df(df: pd.DataFrame) -> list[Label]:\n",
    "    labels = []\n",
    "    for _, row in df.iterrows():\n",
    "        labels += create_labels_from_row(row)\n",
    "\n",
    "    return labels\n",
    "\n",
    "\n",
    "# testing code\n",
    "rows = dfs[\"test\"].iterrows()\n",
    "_, row = next(rows)\n",
    "_, row = next(rows)\n",
    "\n",
    "labels = create_labels_from_row(row)\n",
    "assert len(labels) == 2\n"
   ]
  },
  {
   "cell_type": "code",
   "execution_count": 149,
   "metadata": {},
   "outputs": [
    {
     "name": "stdout",
     "output_type": "stream",
     "text": [
      "Loaded 337 question-answer pairs\n"
     ]
    }
   ],
   "source": [
    "# execution code\n",
    "labels = create_labels_from_df(dfs[\"test\"])\n",
    "\n",
    "document_store.write_labels(labels, index=\"label\")\n",
    "\n",
    "print(f\"\"\"Loaded {document_store.get_label_count(index=\"label\")} \\\n",
    "question-answer pairs\"\"\")"
   ]
  },
  {
   "cell_type": "code",
   "execution_count": 150,
   "metadata": {},
   "outputs": [
    {
     "name": "stdout",
     "output_type": "stream",
     "text": [
      "273\n"
     ]
    }
   ],
   "source": [
    "labels_agg = document_store.get_all_labels_aggregated(\n",
    "    index=\"label\",\n",
    "    open_domain=True,\n",
    "    aggregate_by_meta=[\"item_id\"]\n",
    ")\n",
    "print(len(labels_agg))"
   ]
  },
  {
   "cell_type": "code",
   "execution_count": 159,
   "metadata": {},
   "outputs": [
    {
     "data": {
      "text/plain": [
       "<MultiLabel: {'labels': [<Label: {'id': '8ef3bfc1-2164-4084-91c2-de61ff0d5049', 'query': 'What is your take on the direction the movie is taking?', 'document': {'id': 'e55d379edfcd04ec185b78106ecdb173', 'content': \"This was in my opinion not a movie but an experience. Mel Gibson did such a great job of potraying the last hours of our Lord and Savior Jesus Christ's life. The movie was so moving and touching. I can't imagine having any of that done to me. Unfortunately, Jesus really didn't have a choice. That was foretold to happen to Jesus so we could be washed clean from our sins and have everlasting life.And to those who think that this movie was unrealistic in some respects you're right. It wasn't entirely realistc...because Jesus looked even worse then what they showed. In the Bible it clearly states that you couldn't even recognize Jesus that was how badly beaten he was.But, as to why no one helped him when he was being beaten or why he let them arrest him it was because it was foretold for it to happen that way and Jesus knew that and so did his followers.Also, people who loved this movie like me aren't dumb. No one is dumb everyone has their own opinion and that's fine to God. But, this is what happened to our Lord and Savior and those who don't believe it to be realistic must not be those that are walking in the light. Because anyone who was would know that this movie was very realistic and that it was meant to happen that way. I love you Jesus!\", 'content_type': 'text', 'meta': {}, 'score': None, 'embedding': None}, 'is_correct_answer': True, 'is_correct_document': True, 'origin': 'gold-label', 'answer': {'answer': '', 'type': 'extractive', 'score': None, 'context': None, 'offsets_in_document': None, 'offsets_in_context': None, 'document_id': None, 'meta': {}}, 'pipeline_id': None, 'created_at': '2022-12-28 10:27:38', 'updated_at': '2022-12-28 10:27:38', 'meta': {'item_id': '0310263662', 'question_id': '1f94eb81de0cd3d7874554c7fabb6ab4'}, 'filters': {'item_id': ['0310263662'], 'split': ['test']}}>], 'query': 'What is your take on the direction the movie is taking?', 'filters': {'item_id': ['0310263662'], 'split': ['test']}, 'id': 'a3ecbb85a1f7497a9180023ca4656c5d', 'no_answer': True, 'answers': [''], 'offsets_in_documents': [], 'offsets_in_contexts': [], 'document_ids': [], 'contexts': []}>"
      ]
     },
     "execution_count": 159,
     "metadata": {},
     "output_type": "execute_result"
    }
   ],
   "source": [
    "labels_agg[0]"
   ]
  },
  {
   "cell_type": "code",
   "execution_count": 160,
   "metadata": {},
   "outputs": [
    {
     "name": "stdout",
     "output_type": "stream",
     "text": [
      "Recall@3: 0.98\n"
     ]
    }
   ],
   "source": [
    "\n",
    "# We can run the pipeline with the desired top_k value like this\n",
    "eval_result = pipe.eval(\n",
    "    labels=labels_agg,\n",
    "    params={\"Retriever\": {\"top_k\": 3}},\n",
    ")\n",
    "metrics = eval_result.calculate_metrics()\n",
    "\n",
    "print(f\"Recall@3: {metrics['Retriever']['recall_single_hit']:.2f}\")"
   ]
  },
  {
   "cell_type": "code",
   "execution_count": 163,
   "metadata": {},
   "outputs": [
    {
     "data": {
      "text/html": [
       "<div>\n",
       "<style scoped>\n",
       "    .dataframe tbody tr th:only-of-type {\n",
       "        vertical-align: middle;\n",
       "    }\n",
       "\n",
       "    .dataframe tbody tr th {\n",
       "        vertical-align: top;\n",
       "    }\n",
       "\n",
       "    .dataframe thead th {\n",
       "        text-align: right;\n",
       "    }\n",
       "</style>\n",
       "<table border=\"1\" class=\"dataframe\">\n",
       "  <thead>\n",
       "    <tr style=\"text-align: right;\">\n",
       "      <th></th>\n",
       "      <th>multilabel_id</th>\n",
       "      <th>query</th>\n",
       "      <th>filters</th>\n",
       "      <th>context</th>\n",
       "      <th>gold_contexts</th>\n",
       "      <th>gold_id_match</th>\n",
       "      <th>context_match</th>\n",
       "      <th>answer_match</th>\n",
       "      <th>gold_id_or_answer_match</th>\n",
       "      <th>gold_id_and_answer_match</th>\n",
       "      <th>...</th>\n",
       "      <th>rank</th>\n",
       "      <th>document_id</th>\n",
       "      <th>gold_document_ids</th>\n",
       "      <th>gold_documents_id_match</th>\n",
       "      <th>gold_contexts_similarity</th>\n",
       "      <th>gold_answers_match</th>\n",
       "      <th>type</th>\n",
       "      <th>node</th>\n",
       "      <th>eval_mode</th>\n",
       "      <th>index</th>\n",
       "    </tr>\n",
       "  </thead>\n",
       "  <tbody>\n",
       "    <tr>\n",
       "      <th>0</th>\n",
       "      <td>a3ecbb85a1f7497a9180023ca4656c5d</td>\n",
       "      <td>What is your take on the direction the movie is taking?</td>\n",
       "      <td>b'{\"item_id\": [\"0310263662\"], \"split\": [\"test\"]}'</td>\n",
       "      <td>I find it sad that reviewers such as \"A Kid's Review\" (only one of quite a f...</td>\n",
       "      <td>[]</td>\n",
       "      <td>0.0</td>\n",
       "      <td>0.0</td>\n",
       "      <td>0.0</td>\n",
       "      <td>0.0</td>\n",
       "      <td>0.0</td>\n",
       "      <td>...</td>\n",
       "      <td>1.0</td>\n",
       "      <td>b964217f3614e4b573c7c1e058cc3032</td>\n",
       "      <td>[]</td>\n",
       "      <td>[]</td>\n",
       "      <td>[]</td>\n",
       "      <td>[0.0]</td>\n",
       "      <td>document</td>\n",
       "      <td>Retriever</td>\n",
       "      <td>integrated</td>\n",
       "      <td>0</td>\n",
       "    </tr>\n",
       "    <tr>\n",
       "      <th>1</th>\n",
       "      <td>a3ecbb85a1f7497a9180023ca4656c5d</td>\n",
       "      <td>What is your take on the direction the movie is taking?</td>\n",
       "      <td>b'{\"item_id\": [\"0310263662\"], \"split\": [\"test\"]}'</td>\n",
       "      <td>Now I am not a religious person, even tough I believe in the existence of a ...</td>\n",
       "      <td>[]</td>\n",
       "      <td>0.0</td>\n",
       "      <td>0.0</td>\n",
       "      <td>0.0</td>\n",
       "      <td>0.0</td>\n",
       "      <td>0.0</td>\n",
       "      <td>...</td>\n",
       "      <td>2.0</td>\n",
       "      <td>45b427836e490b1e008e15b8c84560ab</td>\n",
       "      <td>[]</td>\n",
       "      <td>[]</td>\n",
       "      <td>[]</td>\n",
       "      <td>[0.0]</td>\n",
       "      <td>document</td>\n",
       "      <td>Retriever</td>\n",
       "      <td>integrated</td>\n",
       "      <td>1</td>\n",
       "    </tr>\n",
       "    <tr>\n",
       "      <th>2</th>\n",
       "      <td>a3ecbb85a1f7497a9180023ca4656c5d</td>\n",
       "      <td>What is your take on the direction the movie is taking?</td>\n",
       "      <td>b'{\"item_id\": [\"0310263662\"], \"split\": [\"test\"]}'</td>\n",
       "      <td>This was in my opinion not a movie but an experience. Mel Gibson did such a ...</td>\n",
       "      <td>[]</td>\n",
       "      <td>0.0</td>\n",
       "      <td>0.0</td>\n",
       "      <td>0.0</td>\n",
       "      <td>0.0</td>\n",
       "      <td>0.0</td>\n",
       "      <td>...</td>\n",
       "      <td>3.0</td>\n",
       "      <td>be832bea3625db1ba345826e781f6916</td>\n",
       "      <td>[]</td>\n",
       "      <td>[]</td>\n",
       "      <td>[]</td>\n",
       "      <td>[0.0]</td>\n",
       "      <td>document</td>\n",
       "      <td>Retriever</td>\n",
       "      <td>integrated</td>\n",
       "      <td>2</td>\n",
       "    </tr>\n",
       "  </tbody>\n",
       "</table>\n",
       "<p>3 rows × 24 columns</p>\n",
       "</div>"
      ],
      "text/plain": [
       "                      multilabel_id  \\\n",
       "0  a3ecbb85a1f7497a9180023ca4656c5d   \n",
       "1  a3ecbb85a1f7497a9180023ca4656c5d   \n",
       "2  a3ecbb85a1f7497a9180023ca4656c5d   \n",
       "\n",
       "                                                     query  \\\n",
       "0  What is your take on the direction the movie is taking?   \n",
       "1  What is your take on the direction the movie is taking?   \n",
       "2  What is your take on the direction the movie is taking?   \n",
       "\n",
       "                                             filters  \\\n",
       "0  b'{\"item_id\": [\"0310263662\"], \"split\": [\"test\"]}'   \n",
       "1  b'{\"item_id\": [\"0310263662\"], \"split\": [\"test\"]}'   \n",
       "2  b'{\"item_id\": [\"0310263662\"], \"split\": [\"test\"]}'   \n",
       "\n",
       "                                                                           context  \\\n",
       "0  I find it sad that reviewers such as \"A Kid's Review\" (only one of quite a f...   \n",
       "1  Now I am not a religious person, even tough I believe in the existence of a ...   \n",
       "2  This was in my opinion not a movie but an experience. Mel Gibson did such a ...   \n",
       "\n",
       "  gold_contexts  gold_id_match  context_match  answer_match  \\\n",
       "0            []            0.0            0.0           0.0   \n",
       "1            []            0.0            0.0           0.0   \n",
       "2            []            0.0            0.0           0.0   \n",
       "\n",
       "   gold_id_or_answer_match  gold_id_and_answer_match  ...  rank  \\\n",
       "0                      0.0                       0.0  ...   1.0   \n",
       "1                      0.0                       0.0  ...   2.0   \n",
       "2                      0.0                       0.0  ...   3.0   \n",
       "\n",
       "                        document_id  gold_document_ids  \\\n",
       "0  b964217f3614e4b573c7c1e058cc3032                 []   \n",
       "1  45b427836e490b1e008e15b8c84560ab                 []   \n",
       "2  be832bea3625db1ba345826e781f6916                 []   \n",
       "\n",
       "   gold_documents_id_match  gold_contexts_similarity gold_answers_match  \\\n",
       "0                       []                        []              [0.0]   \n",
       "1                       []                        []              [0.0]   \n",
       "2                       []                        []              [0.0]   \n",
       "\n",
       "       type       node   eval_mode index  \n",
       "0  document  Retriever  integrated     0  \n",
       "1  document  Retriever  integrated     1  \n",
       "2  document  Retriever  integrated     2  \n",
       "\n",
       "[3 rows x 24 columns]"
      ]
     },
     "execution_count": 163,
     "metadata": {},
     "output_type": "execute_result"
    }
   ],
   "source": [
    "eval_result[\"Retriever\"].head(3)"
   ]
  },
  {
   "cell_type": "code",
   "execution_count": 166,
   "metadata": {},
   "outputs": [],
   "source": [
    "import haystack as hs"
   ]
  },
  {
   "cell_type": "code",
   "execution_count": 174,
   "metadata": {},
   "outputs": [],
   "source": [
    "def evaluate_retriever_recall(retriever: hs.nodes.BaseRetriever, top_ks: list[int]= [1,3,5,10,20]) -> pd.DataFrame:\n",
    "    pipe = DocumentSearchPipeline(retriever)\n",
    "    eval_results = pipe.eval(\n",
    "        labels=labels_agg, \n",
    "        params={\"Retriever\": {\"top_k\": max(top_ks)}})\n",
    "    \n",
    "    results = {}\n",
    "    for k in top_ks:\n",
    "        metrics = eval_results.calculate_metrics(simulated_top_k_retriever=k)\n",
    "        results[k] = {\"recall\": metrics[\"Retriever\"][\"recall_single_hit\"]}\n",
    "    return pd.DataFrame.from_dict(results, orient=\"index\")\n",
    "\n",
    "bm25_results = evaluate_retriever_recall(es_retriever)\n"
   ]
  },
  {
   "cell_type": "code",
   "execution_count": 178,
   "metadata": {},
   "outputs": [
    {
     "data": {
      "image/png": "[encoded data removed]",
      "text/plain": [
       "<Figure size 640x480 with 1 Axes>"
      ]
     },
     "metadata": {},
     "output_type": "display_data"
    }
   ],
   "source": [
    "def plot_retriever_eval(results: dict[str, pd.DataFrame], metrics: str = \"recall\") -> None:\n",
    "    fig, ax = plt.subplots()\n",
    "    for retriever_name, results_df in results.items():\n",
    "        results_df.plot(y=metrics, ax=ax, label=retriever_name)\n",
    "    plt.title(\"retriever Recall@k\")\n",
    "    plt.xlabel(\"k\")\n",
    "    plt.ylabel(metrics)\n",
    "    plt.show()\n",
    "\n",
    "retriever_results = {\"bm25\": bm25_results}\n",
    "\n",
    "plot_retriever_eval(retriever_results)\n",
    "\n"
   ]
  },
  {
   "attachments": {},
   "cell_type": "markdown",
   "metadata": {},
   "source": [
    "## Comparing with DPR retriever"
   ]
  },
  {
   "cell_type": "code",
   "execution_count": 179,
   "metadata": {},
   "outputs": [
    {
     "name": "stderr",
     "output_type": "stream",
     "text": [
      "Downloading: 100%|██████████| 28.0/28.0 [00:00<00:00, 12.6kB/s]\n",
      "Downloading: 100%|██████████| 232k/232k [00:00<00:00, 587kB/s] \n",
      "Downloading: 100%|██████████| 466k/466k [00:00<00:00, 962kB/s] \n",
      "Downloading: 100%|██████████| 493/493 [00:00<00:00, 161kB/s]\n",
      "Downloading: 100%|██████████| 438M/438M [01:28<00:00, 4.93MB/s] \n",
      "Downloading: 100%|██████████| 28.0/28.0 [00:00<00:00, 9.15kB/s]\n",
      "Downloading: 100%|██████████| 232k/232k [00:00<00:00, 863kB/s] \n",
      "Downloading: 100%|██████████| 466k/466k [00:00<00:00, 953kB/s] \n",
      "Downloading: 100%|██████████| 492/492 [00:00<00:00, 218kB/s]\n",
      "The tokenizer class you load from this checkpoint is not the same type as the class this function is called from. It may result in unexpected tokenization. \n",
      "The tokenizer class you load from this checkpoint is 'DPRQuestionEncoderTokenizer'. \n",
      "The class this function is called from is 'DPRContextEncoderTokenizerFast'.\n",
      "Downloading: 100%|██████████| 438M/438M [01:05<00:00, 6.70MB/s] \n"
     ]
    }
   ],
   "source": [
    "from haystack.nodes import DensePassageRetriever\n",
    "\n",
    "dpr_retriever = DensePassageRetriever(document_store=document_store,\n",
    "    query_embedding_model=\"facebook/dpr-question_encoder-single-nq-base\",\n",
    "    passage_embedding_model=\"facebook/dpr-ctx_encoder-single-nq-base\",\n",
    "    embed_title=False)"
   ]
  },
  {
   "cell_type": "code",
   "execution_count": 180,
   "metadata": {},
   "outputs": [
    {
     "name": "stderr",
     "output_type": "stream",
     "text": [
      "Updating embeddings: 10000 Docs [02:04, 80.44 Docs/s]           \n"
     ]
    }
   ],
   "source": [
    "document_store.update_embeddings(retriever=dpr_retriever)"
   ]
  },
  {
   "cell_type": "code",
   "execution_count": 181,
   "metadata": {},
   "outputs": [
    {
     "data": {
      "image/png": "[encoded data removed]",
      "text/plain": [
       "<Figure size 640x480 with 1 Axes>"
      ]
     },
     "metadata": {},
     "output_type": "display_data"
    }
   ],
   "source": [
    "retriever_results[\"DPR\"] = evaluate_retriever_recall(dpr_retriever)\n",
    "\n",
    "plot_retriever_eval(retriever_results)"
   ]
  },
  {
   "attachments": {},
   "cell_type": "markdown",
   "metadata": {},
   "source": [
    "## Evaluating Reader"
   ]
  },
  {
   "cell_type": "code",
   "execution_count": 184,
   "metadata": {},
   "outputs": [
    {
     "name": "stdout",
     "output_type": "stream",
     "text": [
      "label:      6000 hours\n",
      "prediction: about 6000 hours\n",
      "\tEM: 0\n",
      "\tF1: 0.8\n",
      "label:      6000 hours\n",
      "prediction: about 6000 dollars\n",
      "\tEM: 0\n",
      "\tF1: 0.4\n"
     ]
    }
   ],
   "source": [
    "from haystack.modeling.evaluation.squad import compute_f1, compute_exact\n",
    "\n",
    "def print_reading_metrics(pred, label) -> None:\n",
    "    print(f\"label:      {label}\")\n",
    "    print(f\"prediction: {pred}\")\n",
    "    print(f\"\\tEM: {compute_exact(label, pred)}\")\n",
    "    print(f\"\\tF1: {compute_f1(label, pred)}\")\n",
    "\n",
    "print_reading_metrics(pred = \"about 6000 hours\", label = \"6000 hours\")\n",
    "print_reading_metrics(f\"about 6000 dollars\", \"6000 hours\")"
   ]
  },
  {
   "cell_type": "code",
   "execution_count": 187,
   "metadata": {},
   "outputs": [],
   "source": [
    "def evaluate_reader(reader, score_keys: list[str] = None) -> dict:\n",
    "    if score_keys is None:\n",
    "        score_keys = ['exact_match', 'f1']\n",
    "    \n",
    "    pipe = hs.pipelines.Pipeline()\n",
    "    pipe.add_node(component=reader, name=\"Reader\", inputs=[\"Query\"])\n",
    "    docs = [[label.document for label in multilabel.labels] for multilabel in labels_agg]\n",
    "    eval_result = pipe.eval(\n",
    "        labels=labels_agg,\n",
    "        documents=docs,\n",
    "        params={}\n",
    "        )\n",
    "    metrics = eval_result.calculate_metrics(simulated_top_k_reader=1)\n",
    "    return {k: v for k, v in metrics[\"Reader\"].items() if k in score_keys}\n",
    "\n",
    "\n",
    "\n",
    "reader_eval = {}\n",
    "reader_eval[\"MiniLM. Fine-tuned on SQUAD\"] = evaluate_reader(reader)"
   ]
  },
  {
   "cell_type": "code",
   "execution_count": 189,
   "metadata": {},
   "outputs": [
    {
     "data": {
      "image/png": "[encoded data removed]",
      "text/plain": [
       "<Figure size 640x480 with 1 Axes>"
      ]
     },
     "metadata": {},
     "output_type": "display_data"
    }
   ],
   "source": [
    "def plot_reader_eval(reader_eval):\n",
    "    fig, ax = plt.subplots()\n",
    "    df = pd.DataFrame.from_dict(reader_eval).reindex([\"exact_match\", \"f1\"])\n",
    "    df.plot(kind=\"bar\", ylabel=\"Score\", rot=0, ax=ax)\n",
    "    ax.set_xticklabels([\"EM\", \"F1\"])\n",
    "    ax.set_ylim([0,1])\n",
    "    plt.legend(loc='upper left')\n",
    "    plt.show()\n",
    "\n",
    "plot_reader_eval(reader_eval)"
   ]
  },
  {
   "attachments": {},
   "cell_type": "markdown",
   "metadata": {},
   "source": [
    "## Domain Adaptation\n",
    "Requires to transform training data into SQUAD JSON format"
   ]
  },
  {
   "cell_type": "code",
   "execution_count": 202,
   "metadata": {},
   "outputs": [
    {
     "data": {
      "text/html": [
       "<div>\n",
       "<style scoped>\n",
       "    .dataframe tbody tr th:only-of-type {\n",
       "        vertical-align: middle;\n",
       "    }\n",
       "\n",
       "    .dataframe tbody tr th {\n",
       "        vertical-align: top;\n",
       "    }\n",
       "\n",
       "    .dataframe thead th {\n",
       "        text-align: right;\n",
       "    }\n",
       "</style>\n",
       "<table border=\"1\" class=\"dataframe\">\n",
       "  <thead>\n",
       "    <tr style=\"text-align: right;\">\n",
       "      <th></th>\n",
       "      <th>context</th>\n",
       "      <th>title</th>\n",
       "      <th>answers.text</th>\n",
       "      <th>answers.answer_start</th>\n",
       "      <th>id</th>\n",
       "      <th>review_id</th>\n",
       "    </tr>\n",
       "  </thead>\n",
       "  <tbody>\n",
       "    <tr>\n",
       "      <th>822</th>\n",
       "      <td>The negative reviews about crash is mostly non-sense. Crash is one of the be...</td>\n",
       "      <td>B000A3XY5A</td>\n",
       "      <td>[the film dealt with that truth very well, the best films produced by Hollyw...</td>\n",
       "      <td>[492, 70]</td>\n",
       "      <td>67048a32543bc9a01f67e99017addc09</td>\n",
       "      <td>c61736d71be1632ce96d64c32e353ab9</td>\n",
       "    </tr>\n",
       "    <tr>\n",
       "      <th>150</th>\n",
       "      <td>Episode IV - A New HopeSpecs and Features125 mins, PG, letterboxed widescree...</td>\n",
       "      <td>0793906091</td>\n",
       "      <td>[]</td>\n",
       "      <td>[]</td>\n",
       "      <td>d93d50a4575c566715daba1e0c7e63ff</td>\n",
       "      <td>48a13ede23976e6a6bfb90dc1efdc633</td>\n",
       "    </tr>\n",
       "    <tr>\n",
       "      <th>274</th>\n",
       "      <td>I know alot of Halloween fans were disappointed with this box set because th...</td>\n",
       "      <td>6304697961</td>\n",
       "      <td>[]</td>\n",
       "      <td>[]</td>\n",
       "      <td>a9c80950950a22590c92e391c2ae706a</td>\n",
       "      <td>0cc6c3ae8072a7fa5ab92720a73286ac</td>\n",
       "    </tr>\n",
       "  </tbody>\n",
       "</table>\n",
       "</div>"
      ],
      "text/plain": [
       "                                                                             context  \\\n",
       "822  The negative reviews about crash is mostly non-sense. Crash is one of the be...   \n",
       "150  Episode IV - A New HopeSpecs and Features125 mins, PG, letterboxed widescree...   \n",
       "274  I know alot of Halloween fans were disappointed with this box set because th...   \n",
       "\n",
       "          title  \\\n",
       "822  B000A3XY5A   \n",
       "150  0793906091   \n",
       "274  6304697961   \n",
       "\n",
       "                                                                        answers.text  \\\n",
       "822  [the film dealt with that truth very well, the best films produced by Hollyw...   \n",
       "150                                                                               []   \n",
       "274                                                                               []   \n",
       "\n",
       "    answers.answer_start                                id  \\\n",
       "822            [492, 70]  67048a32543bc9a01f67e99017addc09   \n",
       "150                   []  d93d50a4575c566715daba1e0c7e63ff   \n",
       "274                   []  a9c80950950a22590c92e391c2ae706a   \n",
       "\n",
       "                            review_id  \n",
       "822  c61736d71be1632ce96d64c32e353ab9  \n",
       "150  48a13ede23976e6a6bfb90dc1efdc633  \n",
       "274  0cc6c3ae8072a7fa5ab92720a73286ac  "
      ]
     },
     "execution_count": 202,
     "metadata": {},
     "output_type": "execute_result"
    }
   ],
   "source": [
    "sample_df = dfs[\"train\"].loc[:, [\"context\", \"title\", \"answers.text\", \"answers.answer_start\", \"id\", \"review_id\"]].sample(3)\n",
    "sample_df"
   ]
  },
  {
   "cell_type": "code",
   "execution_count": 203,
   "metadata": {},
   "outputs": [
    {
     "data": {
      "text/plain": [
       "context                 The negative reviews about crash is mostly non-sense. Crash is one of the be...\n",
       "title                                                                                        B000A3XY5A\n",
       "answers.text            [the film dealt with that truth very well, the best films produced by Hollyw...\n",
       "answers.answer_start                                                                          [492, 70]\n",
       "id                                                                     67048a32543bc9a01f67e99017addc09\n",
       "review_id                                                              c61736d71be1632ce96d64c32e353ab9\n",
       "Name: 822, dtype: object"
      ]
     },
     "execution_count": 203,
     "metadata": {},
     "output_type": "execute_result"
    }
   ],
   "source": [
    "_, row = next(sample_df.iterrows())\n",
    "row"
   ]
  },
  {
   "cell_type": "code",
   "execution_count": 204,
   "metadata": {},
   "outputs": [
    {
     "name": "stdout",
     "output_type": "stream",
     "text": [
      "[{'text': 'the film dealt with that truth very well', 'answer_start': 492}, {'text': 'the best films produced by Hollywood', 'answer_start': 70}]\n"
     ]
    }
   ],
   "source": [
    "\n",
    "\n",
    "def create_paragraphs(df):\n",
    "    paragraphs = []\n",
    "    id2context = dict(zip(df[\"review_id\"], df[\"context\"]))\n",
    "    for review_id, review in id2context.items():\n",
    "        qas = []\n",
    "        # Filter for all question-answer pairs about a specific context\n",
    "        review_df = df.query(f\"review_id == '{review_id}'\")\n",
    "        id2question = dict(zip(review_df[\"id\"], review_df[\"question\"]))\n",
    "        # Build up the qas array\n",
    "        for qid, question in id2question.items():\n",
    "            # Filter for a single question ID\n",
    "            question_df = df.query(f\"id == '{qid}'\").to_dict(orient=\"list\")\n",
    "            ans_start_idxs = question_df[\"answers.answer_start\"][0].tolist()\n",
    "            ans_text = question_df[\"answers.text\"][0].tolist()\n",
    "            # Fill answerable questions\n",
    "            if len(ans_start_idxs):\n",
    "                answers = [\n",
    "                    {\"text\": text, \"answer_start\": answer_start}\n",
    "                    for text, answer_start in zip(ans_text, ans_start_idxs)]\n",
    "                is_impossible = False\n",
    "            else:\n",
    "                answers = []\n",
    "                is_impossible = True\n",
    "            # Add question-answer pairs to qas\n",
    "            qas.append({\"question\": question, \"id\": qid, \n",
    "                        \"is_impossible\": is_impossible, \"answers\": answers})\n",
    "        # Add context and question-answer pairs to paragraphs\n",
    "        paragraphs.append({\"qas\": qas, \"context\": review})\n",
    "    return paragraphs"
   ]
  },
  {
   "cell_type": "code",
   "execution_count": 222,
   "metadata": {},
   "outputs": [
    {
     "data": {
      "text/plain": [
       "[{'context': \"The negative reviews about crash is mostly non-sense. Crash is one of the best films produced by Hollywood in the last 10 years. I just viewed it for the second time and the movie still felt very intense. The message is simple and clear. No one can judge another human being. Everyone has good and bad. Both qualities will be shown throughout one's life. And racism is so much more than color of our skin. The movie shows that even a mother can be a racist toward her own children. I thought the film dealt with that truth very well. If a person watches this film and learns nothing or feels nothing, that is pretty sad.\",\n",
       "  'qas': [{'question': 'How was film ?',\n",
       "    'id': '67048a32543bc9a01f67e99017addc09',\n",
       "    'answers': [{'text': 'the film dealt with that truth very well',\n",
       "      'answer_start': 492},\n",
       "     {'text': 'the best films produced by Hollywood', 'answer_start': 70}]}]},\n",
       " {'context': 'Being, myself, a person born and raised in the San Fernando Valley of Los Angeles (where a good deal of Crash takes place), I must report that: it isn\\'t this bad. We don\\'t rush around here from one racial conflict to the next, really we don\\'t.But Crash isn\\'t concerned with being realistic, or a slice of life. Crash is a film designed to talk about racism, or, rather, to bring racism up, shove our faces in it, and force *us* to talk about it. And it does that very well.Crash brings together characters of different backgrounds and ethnicities whose lives only briefly intersect; usually, when they do, they react to one another based on the most easily noticable differences--race. The movie is well-acted, well-written and well-directed. You might think that--well, it\\'s about racism, so I know that it\\'s going to be straight-forward and present racists as evil and the oppressed as heroic, etc. But, it\\'s not so. Crash has a great deal more sophistication than that, as displayed in the very opening scene where two young black males are complaining how people act afraid of them just because they\\'re young black males... just before they carjack a passing couple. Surprises abound in this movie, and everyone is shown to have virtues and flaws.I\\'ve noted that some earlier reviewers complain of the \"preachiness\" of the film, but I can\\'t disagree more. Crash doesn\\'t tell us what to do--it doesn\\'t tell us who is right, who wrong, or even why. It simply says \"we have a problem and it looks like: *this*\" and then leaves us to sort it all out.And because it does this in an inventive, enjoyable and compelling way, I say it is a great film.',\n",
       "  'qas': [{'question': 'How do you like the plot?',\n",
       "    'id': 'd3c0e54ff4231d3765ff04ec8c001f2a',\n",
       "    'answers': []}]}]"
      ]
     },
     "execution_count": 222,
     "metadata": {},
     "output_type": "execute_result"
    }
   ],
   "source": [
    "\n",
    "title = \"B000A3XY5A\"\n",
    "qa.processing.create_all_paragraphs_per_title(dfs[\"train\"].query(f\"title=='{title}'\"))"
   ]
  },
  {
   "cell_type": "code",
   "execution_count": 220,
   "metadata": {},
   "outputs": [
    {
     "data": {
      "text/plain": [
       "[{'context': \"The negative reviews about crash is mostly non-sense. Crash is one of the best films produced by Hollywood in the last 10 years. I just viewed it for the second time and the movie still felt very intense. The message is simple and clear. No one can judge another human being. Everyone has good and bad. Both qualities will be shown throughout one's life. And racism is so much more than color of our skin. The movie shows that even a mother can be a racist toward her own children. I thought the film dealt with that truth very well. If a person watches this film and learns nothing or feels nothing, that is pretty sad.\",\n",
       "  'qas': [{'question': 'How was film ?',\n",
       "    'id': '67048a32543bc9a01f67e99017addc09',\n",
       "    'answers': [{'text': 'the film dealt with that truth very well',\n",
       "      'answer_start': 492},\n",
       "     {'text': 'the best films produced by Hollywood', 'answer_start': 70}]}]},\n",
       " {'context': 'Being, myself, a person born and raised in the San Fernando Valley of Los Angeles (where a good deal of Crash takes place), I must report that: it isn\\'t this bad. We don\\'t rush around here from one racial conflict to the next, really we don\\'t.But Crash isn\\'t concerned with being realistic, or a slice of life. Crash is a film designed to talk about racism, or, rather, to bring racism up, shove our faces in it, and force *us* to talk about it. And it does that very well.Crash brings together characters of different backgrounds and ethnicities whose lives only briefly intersect; usually, when they do, they react to one another based on the most easily noticable differences--race. The movie is well-acted, well-written and well-directed. You might think that--well, it\\'s about racism, so I know that it\\'s going to be straight-forward and present racists as evil and the oppressed as heroic, etc. But, it\\'s not so. Crash has a great deal more sophistication than that, as displayed in the very opening scene where two young black males are complaining how people act afraid of them just because they\\'re young black males... just before they carjack a passing couple. Surprises abound in this movie, and everyone is shown to have virtues and flaws.I\\'ve noted that some earlier reviewers complain of the \"preachiness\" of the film, but I can\\'t disagree more. Crash doesn\\'t tell us what to do--it doesn\\'t tell us who is right, who wrong, or even why. It simply says \"we have a problem and it looks like: *this*\" and then leaves us to sort it all out.And because it does this in an inventive, enjoyable and compelling way, I say it is a great film.',\n",
       "  'qas': [{'question': 'How do you like the plot?',\n",
       "    'id': 'd3c0e54ff4231d3765ff04ec8c001f2a',\n",
       "    'answers': []}]}]"
      ]
     },
     "execution_count": 220,
     "metadata": {},
     "output_type": "execute_result"
    }
   ],
   "source": [
    "import json\n",
    "\n",
    "def create_all_paragraphs_per_title(df_by_title: pd.DataFrame):\n",
    "    review_ids = df_by_title.review_id.unique()\n",
    "    return [\n",
    "        create_paragraph(df_by_title.query(f\"review_id=='{review_id}'\")) \n",
    "        for review_id in review_ids\n",
    "        ]\n",
    "        \n",
    "\n",
    "def create_paragraph(df: pd.DataFrame) -> dict:\n",
    "    paragraph = {\n",
    "        \"context\": df.context.iloc[0], # all rows should have same context\n",
    "        \"qas\": [create_qas(row) for _, row in df.iterrows()]}\n",
    "    return paragraph\n",
    "\n",
    "def create_qas(row):\n",
    "    return {\n",
    "        \"question\": row[\"question\"],\n",
    "        \"id\": row[\"id\"],\n",
    "        \"answers\": create_answers_from_row(row),\n",
    "    }\n",
    "\n",
    "def create_answers_from_row(row) -> dict:\n",
    "    if len(row[\"answers.text\"]) == 0:\n",
    "        return []\n",
    "    return [{\n",
    "        \"text\": text, \n",
    "        \"answer_start\": start}\n",
    "        for text, start in zip(row[\"answers.text\"], row[\"answers.answer_start\"])\n",
    "        ]\n",
    "\n",
    "\n",
    "title = \"B000A3XY5A\"\n",
    "create_all_paragraphs_per_title(dfs[\"train\"].query(f\"title=='{title}'\"))"
   ]
  },
  {
   "cell_type": "code",
   "execution_count": 223,
   "metadata": {},
   "outputs": [],
   "source": [
    "\n",
    "groups = (\n",
    "    dfs[\"test\"]\n",
    "    .groupby(\"title\")\n",
    "    .apply(create_all_paragraphs_per_title)\n",
    "    .to_frame(name=\"paragraphs\")\n",
    "    .reset_index())"
   ]
  },
  {
   "cell_type": "code",
   "execution_count": 238,
   "metadata": {},
   "outputs": [
    {
     "data": {
      "text/plain": [
       "'../data/transformed/movies-{split}.json'"
      ]
     },
     "execution_count": 238,
     "metadata": {},
     "output_type": "execute_result"
    }
   ],
   "source": []
  },
  {
   "cell_type": "code",
   "execution_count": 239,
   "metadata": {},
   "outputs": [
    {
     "ename": "AttributeError",
     "evalue": "module 'qa' has no attribute 'squad_conversion'",
     "output_type": "error",
     "traceback": [
      "\u001b[0;31m---------------------------------------------------------------------------\u001b[0m",
      "\u001b[0;31mAttributeError\u001b[0m                            Traceback (most recent call last)",
      "Cell \u001b[0;32mIn[239], line 1\u001b[0m\n\u001b[0;32m----> 1\u001b[0m qa\u001b[39m.\u001b[39;49msquad_conversion\u001b[39m.\u001b[39mconvert_all_data_to_squad(dfs, \u001b[39mf\u001b[39m\u001b[39m\"\u001b[39m\u001b[39m../data/transformed/\u001b[39m\u001b[39m{\u001b[39;00mDOMAIN\u001b[39m}\u001b[39;00m\u001b[39m-\u001b[39m\u001b[39m{{\u001b[39;00m\u001b[39msplit\u001b[39m\u001b[39m}}\u001b[39;00m\u001b[39m.json\u001b[39m\u001b[39m\"\u001b[39m)\n",
      "\u001b[0;31mAttributeError\u001b[0m: module 'qa' has no attribute 'squad_conversion'"
     ]
    }
   ],
   "source": [
    "qa.squad_conversion.convert_all_data_to_squad(dfs, f\"../data/transformed/{DOMAIN}-{{split}}.json\")"
   ]
  },
  {
   "cell_type": "code",
   "execution_count": 233,
   "metadata": {},
   "outputs": [
    {
     "data": {
      "text/plain": [
       "0"
      ]
     },
     "execution_count": 233,
     "metadata": {},
     "output_type": "execute_result"
    }
   ],
   "source": [
    "df.title.isnull().sum()"
   ]
  },
  {
   "cell_type": "code",
   "execution_count": 235,
   "metadata": {},
   "outputs": [
    {
     "data": {
      "text/plain": [
       "289"
      ]
     },
     "execution_count": 235,
     "metadata": {},
     "output_type": "execute_result"
    }
   ],
   "source": [
    "sum(1 for title in subjqa[\"data\"] for paragraph in title[\"paragraphs\"])"
   ]
  },
  {
   "cell_type": "code",
   "execution_count": 217,
   "metadata": {},
   "outputs": [
    {
     "data": {
      "text/html": [
       "<div>\n",
       "<style scoped>\n",
       "    .dataframe tbody tr th:only-of-type {\n",
       "        vertical-align: middle;\n",
       "    }\n",
       "\n",
       "    .dataframe tbody tr th {\n",
       "        vertical-align: top;\n",
       "    }\n",
       "\n",
       "    .dataframe thead th {\n",
       "        text-align: right;\n",
       "    }\n",
       "</style>\n",
       "<table border=\"1\" class=\"dataframe\">\n",
       "  <thead>\n",
       "    <tr style=\"text-align: right;\">\n",
       "      <th></th>\n",
       "      <th>38</th>\n",
       "    </tr>\n",
       "  </thead>\n",
       "  <tbody>\n",
       "    <tr>\n",
       "      <th>domain</th>\n",
       "      <td>movies</td>\n",
       "    </tr>\n",
       "    <tr>\n",
       "      <th>nn_mod</th>\n",
       "      <td>funny</td>\n",
       "    </tr>\n",
       "    <tr>\n",
       "      <th>nn_asp</th>\n",
       "      <td>situation</td>\n",
       "    </tr>\n",
       "    <tr>\n",
       "      <th>query_mod</th>\n",
       "      <td>funny</td>\n",
       "    </tr>\n",
       "    <tr>\n",
       "      <th>query_asp</th>\n",
       "      <td>plot</td>\n",
       "    </tr>\n",
       "    <tr>\n",
       "      <th>q_reviews_id</th>\n",
       "      <td>871ea2b0604fc68b9c42a936eafe581d</td>\n",
       "    </tr>\n",
       "    <tr>\n",
       "      <th>question_subj_level</th>\n",
       "      <td>1</td>\n",
       "    </tr>\n",
       "    <tr>\n",
       "      <th>ques_subj_score</th>\n",
       "      <td>0.0</td>\n",
       "    </tr>\n",
       "    <tr>\n",
       "      <th>is_ques_subjective</th>\n",
       "      <td>False</td>\n",
       "    </tr>\n",
       "    <tr>\n",
       "      <th>review_id</th>\n",
       "      <td>33c9eea3d10947175123293ed05de890</td>\n",
       "    </tr>\n",
       "    <tr>\n",
       "      <th>id</th>\n",
       "      <td>f8b28eb12b71fc8fe9d9c9bfb2e984b1</td>\n",
       "    </tr>\n",
       "    <tr>\n",
       "      <th>title</th>\n",
       "      <td>0783241038</td>\n",
       "    </tr>\n",
       "    <tr>\n",
       "      <th>context</th>\n",
       "      <td>It's not a serious, important film. It's just fun, and funny. It's *entertai...</td>\n",
       "    </tr>\n",
       "    <tr>\n",
       "      <th>question</th>\n",
       "      <td>How is plot?</td>\n",
       "    </tr>\n",
       "    <tr>\n",
       "      <th>answers.text</th>\n",
       "      <td>[]</td>\n",
       "    </tr>\n",
       "    <tr>\n",
       "      <th>answers.answer_start</th>\n",
       "      <td>[]</td>\n",
       "    </tr>\n",
       "    <tr>\n",
       "      <th>answers.answer_subj_level</th>\n",
       "      <td>[]</td>\n",
       "    </tr>\n",
       "    <tr>\n",
       "      <th>answers.ans_subj_score</th>\n",
       "      <td>[]</td>\n",
       "    </tr>\n",
       "    <tr>\n",
       "      <th>answers.is_ans_subjective</th>\n",
       "      <td>[]</td>\n",
       "    </tr>\n",
       "  </tbody>\n",
       "</table>\n",
       "</div>"
      ],
      "text/plain": [
       "                                                                                                        38\n",
       "domain                                                                                              movies\n",
       "nn_mod                                                                                               funny\n",
       "nn_asp                                                                                           situation\n",
       "query_mod                                                                                            funny\n",
       "query_asp                                                                                             plot\n",
       "q_reviews_id                                                              871ea2b0604fc68b9c42a936eafe581d\n",
       "question_subj_level                                                                                      1\n",
       "ques_subj_score                                                                                        0.0\n",
       "is_ques_subjective                                                                                   False\n",
       "review_id                                                                 33c9eea3d10947175123293ed05de890\n",
       "id                                                                        f8b28eb12b71fc8fe9d9c9bfb2e984b1\n",
       "title                                                                                           0783241038\n",
       "context                    It's not a serious, important film. It's just fun, and funny. It's *entertai...\n",
       "question                                                                                      How is plot?\n",
       "answers.text                                                                                            []\n",
       "answers.answer_start                                                                                    []\n",
       "answers.answer_subj_level                                                                               []\n",
       "answers.ans_subj_score                                                                                  []\n",
       "answers.is_ans_subjective                                                                               []"
      ]
     },
     "execution_count": 217,
     "metadata": {},
     "output_type": "execute_result"
    }
   ],
   "source": [
    "dfs[\"train\"].sample(1).T"
   ]
  },
  {
   "cell_type": "code",
   "execution_count": null,
   "metadata": {},
   "outputs": [],
   "source": []
  }
 ],
 "metadata": {
  "kernelspec": {
   "display_name": "tfm7",
   "language": "python",
   "name": "python3"
  },
  "language_info": {
   "codemirror_mode": {
    "name": "ipython",
    "version": 3
   },
   "file_extension": ".py",
   "mimetype": "text/x-python",
   "name": "python",
   "nbconvert_exporter": "python",
   "pygments_lexer": "ipython3",
   "version": "3.10.0"
  },
  "orig_nbformat": 4,
  "vscode": {
   "interpreter": {
    "hash": "7113f7d4262b619f9929e19fa1d6813f6f0390d16f4a1efa58bd6f5b37c8cb6f"
   }
  }
 },
 "nbformat": 4,
 "nbformat_minor": 2
}
