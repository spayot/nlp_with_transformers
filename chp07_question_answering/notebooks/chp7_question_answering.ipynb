{
 "cells": [
  {
   "cell_type": "code",
   "execution_count": 2,
   "metadata": {},
   "outputs": [
    {
     "name": "stderr",
     "output_type": "stream",
     "text": [
      "/Users/spayot/miniforge3/envs/tfm7/lib/python3.10/site-packages/tqdm/auto.py:22: TqdmWarning: IProgress not found. Please update jupyter and ipywidgets. See https://ipywidgets.readthedocs.io/en/stable/user_install.html\n",
      "  from .autonotebook import tqdm as notebook_tqdm\n"
     ]
    }
   ],
   "source": [
    "import os\n",
    "import sys\n",
    "\n",
    "import datasets\n",
    "import numpy as np\n",
    "import pandas as pd\n",
    "import matplotlib.pyplot as plt\n",
    "import haystack as hs\n",
    "from haystack.modeling.evaluation.squad import compute_f1, compute_exact\n",
    "import torch\n",
    "import transformers as tfm\n",
    "\n",
    "sys.path.append(\"../src/\")\n",
    "\n",
    "import qa\n",
    "\n",
    "%load_ext autoreload\n",
    "%autoreload 2\n",
    "\n",
    "DOMAIN = \"movies\"\n",
    "\n",
    "READER_MODEL = \"deepset/minilm-uncased-squad2\"\n",
    "DPR_QUERY_MODEL = \"facebook/dpr-question_encoder-single-nq-base\"\n",
    "DPR_CTX_ENCODER= \"facebook/dpr-ctx_encoder-single-nq-base\"\n",
    "\n",
    "# data directory to convert to SQUAD format\n",
    "TRANSFORMED_DATA_DIR = \"../data/transformed/\"\n",
    "SQUAD_FILENAME_TEMPLATE = f\"{DOMAIN}-{{split}}.json\""
   ]
  },
  {
   "attachments": {},
   "cell_type": "markdown",
   "metadata": {},
   "source": [
    "# load dataset"
   ]
  },
  {
   "cell_type": "code",
   "execution_count": 4,
   "metadata": {},
   "outputs": [
    {
     "name": "stdout",
     "output_type": "stream",
     "text": [
      "existing domains for subjqa: ['books', 'electronics', 'grocery', 'movies', 'restaurants', 'tripadvisor'] \n",
      "\n"
     ]
    },
    {
     "name": "stderr",
     "output_type": "stream",
     "text": [
      "WARNING:datasets.builder:Found cached dataset subjqa (/Users/spayot/.cache/huggingface/datasets/subjqa/movies/1.1.0/e5588f9298ff2d70686a00cc377e4bdccf4e32287459e3c6baf2dc5ab57fe7fd)\n",
      "100%|██████████| 3/3 [00:00<00:00, 198.42it/s]"
     ]
    },
    {
     "name": "stdout",
     "output_type": "stream",
     "text": [
      "{'text': [], 'answer_start': [], 'answer_subj_level': [], 'ans_subj_score': [], 'is_ans_subjective': []} \n",
      "\n"
     ]
    },
    {
     "name": "stderr",
     "output_type": "stream",
     "text": [
      "\n"
     ]
    }
   ],
   "source": [
    "domains = datasets.get_dataset_config_names(\"subjqa\")\n",
    "print(\"existing domains for subjqa:\", domains, \"\\n\")\n",
    "\n",
    "assert DOMAIN in domains, f\"{DOMAIN} this is not a valid domain name\"\n",
    "subjqa = datasets.load_dataset(\"subjqa\", name=DOMAIN)\n",
    "print(subjqa[\"train\"][\"answers\"][1], \"\\n\")"
   ]
  },
  {
   "attachments": {},
   "cell_type": "markdown",
   "metadata": {},
   "source": [
    "## Exploratory Data Analysis"
   ]
  },
  {
   "cell_type": "code",
   "execution_count": 5,
   "metadata": {},
   "outputs": [
    {
     "name": "stdout",
     "output_type": "stream",
     "text": [
      "Number of questions in train:               1,369\n",
      "Number of questions in test:                  291\n",
      "Number of questions in validation:            261\n"
     ]
    }
   ],
   "source": [
    "dfs = {split: dataset.to_pandas() for split, dataset in subjqa.flatten().items()}\n",
    "\n",
    "def print_slices_size(dfs: dict[str, pd.DataFrame]) -> None:\n",
    "    for split, df in dfs.items():\n",
    "        print(f\"Number of questions in {split + ':':<15} {df['id'].nunique():>10,}\")\n",
    "\n",
    "print_slices_size(dfs)"
   ]
  },
  {
   "cell_type": "code",
   "execution_count": 6,
   "metadata": {},
   "outputs": [
    {
     "data": {
      "text/html": [
       "<div>\n",
       "<style scoped>\n",
       "    .dataframe tbody tr th:only-of-type {\n",
       "        vertical-align: middle;\n",
       "    }\n",
       "\n",
       "    .dataframe tbody tr th {\n",
       "        vertical-align: top;\n",
       "    }\n",
       "\n",
       "    .dataframe thead th {\n",
       "        text-align: right;\n",
       "    }\n",
       "</style>\n",
       "<table border=\"1\" class=\"dataframe\">\n",
       "  <thead>\n",
       "    <tr style=\"text-align: right;\">\n",
       "      <th></th>\n",
       "      <th>title</th>\n",
       "      <th>question</th>\n",
       "      <th>answers.text</th>\n",
       "      <th>answers.answer_start</th>\n",
       "      <th>context</th>\n",
       "    </tr>\n",
       "  </thead>\n",
       "  <tbody>\n",
       "    <tr>\n",
       "      <th>291</th>\n",
       "      <td>6305426651</td>\n",
       "      <td>Is the color better?</td>\n",
       "      <td>[]</td>\n",
       "      <td>[]</td>\n",
       "      <td>If we could all view life in the way this main character, did, LIFE WOULD BE...</td>\n",
       "    </tr>\n",
       "    <tr>\n",
       "      <th>1302</th>\n",
       "      <td>B00AF6B22E</td>\n",
       "      <td>How is movie?</td>\n",
       "      <td>[This movie is gripping hardcore]</td>\n",
       "      <td>[0]</td>\n",
       "      <td>This movie is gripping hardcore, shocking, scary, and very emotional.  You w...</td>\n",
       "    </tr>\n",
       "  </tbody>\n",
       "</table>\n",
       "</div>"
      ],
      "text/plain": [
       "           title              question                       answers.text  \\\n",
       "291   6305426651  Is the color better?                                 []   \n",
       "1302  B00AF6B22E         How is movie?  [This movie is gripping hardcore]   \n",
       "\n",
       "     answers.answer_start  \\\n",
       "291                    []   \n",
       "1302                  [0]   \n",
       "\n",
       "                                                                              context  \n",
       "291   If we could all view life in the way this main character, did, LIFE WOULD BE...  \n",
       "1302  This movie is gripping hardcore, shocking, scary, and very emotional.  You w...  "
      ]
     },
     "execution_count": 6,
     "metadata": {},
     "output_type": "execute_result"
    }
   ],
   "source": [
    "# display sample data\n",
    "qa_cols = [\"title\", \"question\", \"answers.text\", \"answers.answer_start\", \"context\"]\n",
    "\n",
    "sample_df = dfs[\"train\"].loc[:,qa_cols].sample(2)\n",
    "\n",
    "sample_df"
   ]
  },
  {
   "cell_type": "code",
   "execution_count": 7,
   "metadata": {},
   "outputs": [
    {
     "data": {
      "text/plain": [
       "False    856\n",
       "True     513\n",
       "Name: answers.text, dtype: int64"
      ]
     },
     "execution_count": 7,
     "metadata": {},
     "output_type": "execute_result"
    }
   ],
   "source": [
    "# how many items have answers in the training set?\n",
    "dfs[\"train\"][\"answers.text\"].apply(lambda x: len(x) > 0).value_counts()"
   ]
  },
  {
   "cell_type": "code",
   "execution_count": 61,
   "metadata": {},
   "outputs": [
    {
     "data": {
      "text/plain": [
       "('Great movie for the whole family', 'Great movie for the whole family')"
      ]
     },
     "execution_count": 61,
     "metadata": {},
     "output_type": "execute_result"
    }
   ],
   "source": [
    "idx = 0\n",
    "start_idx = sample_df[\"answers.answer_start\"].iloc[idx][0]\n",
    "end_idx = start_idx + len(sample_df[\"answers.text\"].iloc[idx][0])\n",
    "assert sample_df[\"context\"].iloc[idx][start_idx:end_idx] == sample_df[\"answers.text\"].iloc[idx][0]"
   ]
  },
  {
   "cell_type": "code",
   "execution_count": 9,
   "metadata": {},
   "outputs": [
    {
     "data": {
      "image/png": "[encoded data removed]",
      "text/plain": [
       "<Figure size 640x480 with 1 Axes>"
      ]
     },
     "metadata": {},
     "output_type": "display_data"
    }
   ],
   "source": [
    "# refactored\n",
    "# what kind of questions are in the training set?\n",
    "def count_start_words(series: pd.Series, start_words: list[str]) -> dict[str,int]:\n",
    "    counts = {}\n",
    "    for word in start_words:\n",
    "        counts[word] = (series\n",
    "            .str.lower()\n",
    "            .str.startswith(word.lower())\n",
    "            .sum())\n",
    "\n",
    "    return counts\n",
    "\n",
    "def plot_word_counts(word_counts: dict[str, int]) -> None:\n",
    "    (\n",
    "        pd.Series(counts)\n",
    "        .sort_values()\n",
    "        .plot.barh(title=\"frequency of question types\")\n",
    "    );\n",
    "\n",
    "start_words = [\"How\", \"What\", \"Where\", \"When\", \"Why\", \"Who\", \"Is\", \"Do\"]\n",
    "counts = count_start_words(dfs[\"train\"][\"question\"], start_words)\n",
    "plot_word_counts(counts)"
   ]
  },
  {
   "cell_type": "code",
   "execution_count": 10,
   "metadata": {},
   "outputs": [
    {
     "name": "stdout",
     "output_type": "stream",
     "text": [
      "How is feel?\n",
      "How inmersive is the ending scene?\n",
      "How good was the music?\n",
      "\n",
      "What is the version like?\n",
      "What interesting things are the most important in this movie?\n",
      "What is the quality of the movie?\n",
      "\n",
      "Is this story scary?\n",
      "Is the actor attractive?\n",
      "Is the plot simple?\n",
      "\n"
     ]
    }
   ],
   "source": [
    "# refactored\n",
    "def sample_series_with_start_word(series: pd.Series, start_word: str, sample_size: int = 3) -> pd.Series:\n",
    "    has_start_word = (\n",
    "        series\n",
    "        .str.lower()\n",
    "        .str.startswith(start_word.lower())\n",
    "        )\n",
    "    return series[has_start_word].sample(sample_size)\n",
    "\n",
    "def print_samples_with_start_word_list(series: pd.Series, start_word_list: list[str], sample_size: int = 3) -> None:\n",
    "    for word in start_word_list:\n",
    "        sample_questions = sample_series_with_start_word(series, word, sample_size)\n",
    "        print(*sample_questions, sep=\"\\n\")\n",
    "        print()\n",
    "\n",
    "\n",
    "print_samples_with_start_word_list(dfs[\"train\"][\"question\"], [\"How\", \"What\", \"Is\"])"
   ]
  },
  {
   "attachments": {},
   "cell_type": "markdown",
   "metadata": {},
   "source": [
    "# Extracting answers from text"
   ]
  },
  {
   "cell_type": "code",
   "execution_count": 11,
   "metadata": {},
   "outputs": [],
   "source": [
    "from transformers import AutoTokenizer\n",
    "\n",
    "tokenizer = AutoTokenizer.from_pretrained(READER_MODEL)"
   ]
  },
  {
   "cell_type": "code",
   "execution_count": 12,
   "metadata": {},
   "outputs": [
    {
     "name": "stdout",
     "output_type": "stream",
     "text": [
      "{'input_ids': tensor([[  101,  2040,  3248,  1996,  2364,  2839,  1029,   102,  2023,  2143,\n",
      "          8235,  2135,  2856,  2011,  2198,  7232,  3065,  1037,  2402, 10533,\n",
      "          1006, 12831,  3363,  2358,  9910,  2361,  1007,  4982,  2000,  4476,\n",
      "          1999,  1996, 12930,  1997,  1996,  3708,  2301,  1012,   102]]), 'token_type_ids': tensor([[0, 0, 0, 0, 0, 0, 0, 0, 1, 1, 1, 1, 1, 1, 1, 1, 1, 1, 1, 1, 1, 1, 1, 1,\n",
      "         1, 1, 1, 1, 1, 1, 1, 1, 1, 1, 1, 1, 1, 1, 1]]), 'attention_mask': tensor([[1, 1, 1, 1, 1, 1, 1, 1, 1, 1, 1, 1, 1, 1, 1, 1, 1, 1, 1, 1, 1, 1, 1, 1,\n",
      "         1, 1, 1, 1, 1, 1, 1, 1, 1, 1, 1, 1, 1, 1, 1]])}\n",
      "[CLS] who plays the main character? [SEP] this film brilliantly directed by john cameron shows a young carpenter ( merryll streep ) grow to fame in the midst of the 19th century. [SEP]\n"
     ]
    }
   ],
   "source": [
    "question = \"Who plays the main character?\"\n",
    "context = \"this film brilliantly directed by John Cameron shows a young carpenter (Merryll Streep) grow to fame in the midst of the 19th century.\"\n",
    "inputs = tokenizer(question, context, return_tensors=\"pt\")\n",
    "print(inputs)\n",
    "print(tokenizer.decode(inputs[\"input_ids\"][0]))"
   ]
  },
  {
   "cell_type": "code",
   "execution_count": 13,
   "metadata": {},
   "outputs": [
    {
     "name": "stdout",
     "output_type": "stream",
     "text": [
      "QuestionAnsweringModelOutput(loss=None, start_logits=tensor([[ 2.1060, -5.7358, -6.0297, -5.5793, -6.0490, -6.5436, -6.5746,  2.1060,\n",
      "         -4.6390, -6.0619, -5.8395, -6.4893, -6.0956, -6.2996, -5.0551, -6.3164,\n",
      "         -5.6653, -1.2571, -2.6422,  0.8292,  3.0302,  6.6095, -2.4039, -2.4473,\n",
      "         -5.3281, -1.3681, -4.4412, -5.5199, -5.8619, -6.3535, -5.9934, -3.9990,\n",
      "         -6.2053, -6.0370, -4.9624, -6.0011, -6.7903, -5.9915,  2.1060]]), end_logits=tensor([[ 2.0439, -6.3125, -6.3776, -6.4139, -6.4673, -5.8300, -5.6640,  2.0439,\n",
      "         -6.5273, -5.7469, -6.2036, -5.7139, -6.1205, -6.1102, -6.2016, -4.4481,\n",
      "         -5.9626, -5.8089, -5.2867,  0.8968, -3.3977, -0.2626, -3.2219, -4.7237,\n",
      "         -3.4788,  6.2356,  2.2657, -6.2941, -6.4426, -5.5345, -6.3411, -6.1913,\n",
      "         -6.2336, -6.2938, -6.3297, -6.1236, -4.9332, -1.4371,  2.0439]]), hidden_states=None, attentions=None)\n"
     ]
    }
   ],
   "source": [
    "model = tfm.AutoModelForQuestionAnswering.from_pretrained(READER_MODEL)\n",
    "with torch.no_grad():\n",
    "    outputs = model(**inputs)\n",
    "print(outputs)"
   ]
  },
  {
   "cell_type": "code",
   "execution_count": 14,
   "metadata": {},
   "outputs": [
    {
     "data": {
      "text/plain": [
       "[{'score': 0.9206932187080383,\n",
       "  'start': 72,\n",
       "  'end': 86,\n",
       "  'answer': 'Merryll Streep'},\n",
       " {'score': 0.0256821122020483,\n",
       "  'start': 71,\n",
       "  'end': 86,\n",
       "  'answer': '(Merryll Streep'},\n",
       " {'score': 0.017378173768520355,\n",
       "  'start': 72,\n",
       "  'end': 87,\n",
       "  'answer': 'Merryll Streep)'}]"
      ]
     },
     "execution_count": 14,
     "metadata": {},
     "output_type": "execute_result"
    }
   ],
   "source": [
    "pipe = tfm.pipeline(task=\"question-answering\", model=model, tokenizer=tokenizer)\n",
    "pipe(question=question, context=context, top_k=3)"
   ]
  },
  {
   "cell_type": "code",
   "execution_count": 18,
   "metadata": {},
   "outputs": [
    {
     "data": {
      "image/png": "[encoded data removed]",
      "text/plain": [
       "<Figure size 640x480 with 2 Axes>"
      ]
     },
     "metadata": {},
     "output_type": "display_data"
    }
   ],
   "source": [
    "# refactored: visualize logits values for each token both for predicted start token and end token\n",
    "qa.plot.plot_logits_as_barchart(inputs, outputs, tokenizer)"
   ]
  },
  {
   "attachments": {},
   "cell_type": "markdown",
   "metadata": {},
   "source": [
    "# Haystack: Retriever-Reader architecture\n",
    "## Document Store"
   ]
  },
  {
   "cell_type": "code",
   "execution_count": 18,
   "metadata": {},
   "outputs": [
    {
     "name": "stdout",
     "output_type": "stream",
     "text": [
      "huggingface/tokenizers: The current process just got forked, after parallelism has already been used. Disabling parallelism to avoid deadlocks...\n",
      "To disable this warning, you can either:\n",
      "\t- Avoid using `tokenizers` before the fork if possible\n",
      "\t- Explicitly set the environment variable TOKENIZERS_PARALLELISM=(true | false)\n"
     ]
    },
    {
     "name": "stderr",
     "output_type": "stream",
     "text": [
      "Unable to find image 'elasticsearch:7.9.2' locally\n",
      "7.9.2: Pulling from library/elasticsearch\n",
      "9f74aa7d9ab9: Pulling fs layer\n",
      "400a45e237b0: Pulling fs layer\n",
      "da3333bd92b5: Pulling fs layer\n",
      "8fcb044e3dce: Pulling fs layer\n",
      "68c8ab10a68b: Pulling fs layer\n",
      "f1a49ad5d099: Pulling fs layer\n",
      "ce2c85c995ef: Pulling fs layer\n",
      "bbfc9a234a20: Pulling fs layer\n",
      "724bf09a020c: Pulling fs layer\n",
      "8fcb044e3dce: Waiting\n",
      "68c8ab10a68b: Waiting\n",
      "f1a49ad5d099: Waiting\n",
      "ce2c85c995ef: Waiting\n",
      "bbfc9a234a20: Waiting\n",
      "724bf09a020c: Waiting\n",
      "400a45e237b0: Verifying Checksum\n",
      "400a45e237b0: Download complete\n",
      "8fcb044e3dce: Download complete\n",
      "da3333bd92b5: Verifying Checksum\n",
      "da3333bd92b5: Download complete\n",
      "f1a49ad5d099: Verifying Checksum\n",
      "f1a49ad5d099: Download complete\n",
      "ce2c85c995ef: Verifying Checksum\n",
      "ce2c85c995ef: Download complete\n",
      "bbfc9a234a20: Verifying Checksum\n",
      "bbfc9a234a20: Download complete\n",
      "724bf09a020c: Download complete\n",
      "9f74aa7d9ab9: Verifying Checksum\n",
      "9f74aa7d9ab9: Download complete\n",
      "9f74aa7d9ab9: Pull complete\n",
      "400a45e237b0: Pull complete\n",
      "da3333bd92b5: Pull complete\n",
      "8fcb044e3dce: Pull complete\n",
      "68c8ab10a68b: Verifying Checksum\n",
      "68c8ab10a68b: Download complete\n",
      "68c8ab10a68b: Pull complete\n",
      "f1a49ad5d099: Pull complete\n",
      "ce2c85c995ef: Pull complete\n",
      "bbfc9a234a20: Pull complete\n",
      "724bf09a020c: Pull complete\n",
      "Digest: sha256:e3b52403c6fb95eb4dc6092d39c187acfc38e8afd61e4d38801ae323b3eeeff3\n",
      "Status: Downloaded newer image for elasticsearch:7.9.2\n"
     ]
    },
    {
     "name": "stdout",
     "output_type": "stream",
     "text": [
      "cec8b1dca7c23e1e3bfa8ce5eb03998d6432a0c13312c579028bc34699635ce9\n"
     ]
    }
   ],
   "source": [
    "# launch elastic search docker container\n",
    "hs.utils.launch_es()"
   ]
  },
  {
   "cell_type": "code",
   "execution_count": 19,
   "metadata": {},
   "outputs": [
    {
     "name": "stdout",
     "output_type": "stream",
     "text": [
      "huggingface/tokenizers: The current process just got forked, after parallelism has already been used. Disabling parallelism to avoid deadlocks...\n",
      "To disable this warning, you can either:\n",
      "\t- Avoid using `tokenizers` before the fork if possible\n",
      "\t- Explicitly set the environment variable TOKENIZERS_PARALLELISM=(true | false)\n",
      "{\n",
      "  \"name\" : \"cec8b1dca7c2\",\n",
      "  \"cluster_name\" : \"docker-cluster\",\n",
      "  \"cluster_uuid\" : \"PaaWLd4URPq9HqODjXe-Nw\",\n",
      "  \"version\" : {\n",
      "    \"number\" : \"7.9.2\",\n",
      "    \"build_flavor\" : \"default\",\n",
      "    \"build_type\" : \"docker\",\n",
      "    \"build_hash\" : \"d34da0ea4a966c4e49417f2da2f244e3e97b4e6e\",\n",
      "    \"build_date\" : \"2020-09-23T04:28:49.179747Z\",\n",
      "    \"build_snapshot\" : false,\n",
      "    \"lucene_version\" : \"8.6.2\",\n",
      "    \"minimum_wire_compatibility_version\" : \"6.8.0\",\n",
      "    \"minimum_index_compatibility_version\" : \"6.0.0-beta1\"\n",
      "  },\n",
      "  \"tagline\" : \"You Know, for Search\"\n",
      "}\n"
     ]
    }
   ],
   "source": [
    "# verifying that elasticsearch cluster works\n",
    "!curl -X GET \"localhost:9200/?pretty\""
   ]
  },
  {
   "cell_type": "code",
   "execution_count": 22,
   "metadata": {},
   "outputs": [
    {
     "name": "stdout",
     "output_type": "stream",
     "text": [
      "huggingface/tokenizers: The current process just got forked, after parallelism has already been used. Disabling parallelism to avoid deadlocks...\n",
      "To disable this warning, you can either:\n",
      "\t- Avoid using `tokenizers` before the fork if possible\n",
      "\t- Explicitly set the environment variable TOKENIZERS_PARALLELISM=(true | false)\n",
      "yellow open movies 4ZW7kCudQja8SFzfVnGejw 1 1 0 0 208b 208b\n",
      "yellow open label  9RFaY-AWRxWJIwQqspwxaw 1 1 0 0 208b 208b\n"
     ]
    }
   ],
   "source": [
    "!curl -X GET \"localhost:9200/_cat/indices\""
   ]
  },
  {
   "attachments": {},
   "cell_type": "markdown",
   "metadata": {},
   "source": [
    "**Note**: below cell has been extracted form haystack tutorial: https://haystack.deepset.ai/tutorials/01_basic_qa_pipeline"
   ]
  },
  {
   "cell_type": "code",
   "execution_count": 21,
   "metadata": {},
   "outputs": [],
   "source": [
    "# Get the host where Elasticsearch is running, default to localhost\n",
    "host = os.environ.get(\"ELASTICSEARCH_HOST\", \"localhost\")\n",
    "document_store = hs.document_stores.ElasticsearchDocumentStore(host=host, username=\"\", password=\"\", index=DOMAIN, return_embedding=True)"
   ]
  },
  {
   "attachments": {},
   "cell_type": "markdown",
   "metadata": {},
   "source": [
    "### ingest data from dfs into document store"
   ]
  },
  {
   "cell_type": "code",
   "execution_count": 83,
   "metadata": {},
   "outputs": [
    {
     "name": "stdout",
     "output_type": "stream",
     "text": [
      "Loaded 1,624 documents\n"
     ]
    }
   ],
   "source": [
    "# refactored\n",
    "def df_row_to_ES_doc(row, split: str) -> dict:\n",
    "    return {\n",
    "        \"content\": row.context, \n",
    "        \"meta\": {\n",
    "            \"item_id\": row.title, \n",
    "            \"question_id\": row.id,\n",
    "            \"split\": split,\n",
    "        }}\n",
    "\n",
    "\n",
    "def df_to_ES_doc(df: pd.DataFrame, split: str) -> list[dict]:\n",
    "    return [\n",
    "        df_row_to_ES_doc(row, split) \n",
    "        for row in df.drop_duplicates(subset=\"context\").itertuples()\n",
    "        ]\n",
    "\n",
    "for split, df in dfs.items():\n",
    "    docs = df_to_ES_doc(df, split)\n",
    "    document_store.write_documents(docs, index=DOMAIN)\n",
    "\n",
    "print(f\"Loaded {document_store.get_document_count():,} documents\")"
   ]
  },
  {
   "attachments": {},
   "cell_type": "markdown",
   "metadata": {},
   "source": [
    "# Retriever"
   ]
  },
  {
   "cell_type": "code",
   "execution_count": 85,
   "metadata": {},
   "outputs": [],
   "source": [
    "es_retriever = hs.nodes.BM25Retriever(document_store=document_store)"
   ]
  },
  {
   "attachments": {},
   "cell_type": "markdown",
   "metadata": {},
   "source": [
    "Looking at an example"
   ]
  },
  {
   "cell_type": "code",
   "execution_count": 107,
   "metadata": {},
   "outputs": [
    {
     "name": "stdout",
     "output_type": "stream",
     "text": [
      "<Document: id=6a09e915e3af83102ab11bbc6527b4f3, content='1- Lacks a main character (no protagonist)2- Anakin is not introduced until 45 minutes into the movi...'>\n",
      "<Document: id=2d0d8ad846456f58d2e68042b71e4398, content='Yes, my main gripe, like many fans of the franchise, is Jake Lloyd. But to surprise a few people, I ...'>\n",
      "<Document: id=d450c78a3b8e7ae2c362299a99d5a58b, content='Get ready to be swept away by the next installment of one of the most loved and watched sci-fi movie...'>\n"
     ]
    }
   ],
   "source": [
    "item_id = \"630575067X\" # star wars episode 1\n",
    "query = \" who is the main character?\"\n",
    "retrieved_docs = es_retriever.retrieve(query=query, top_k=3, filters={\"item_id\": item_id, \"split\": \"train\"})\n",
    "print(*retrieved_docs, sep='\\n')"
   ]
  },
  {
   "attachments": {},
   "cell_type": "markdown",
   "metadata": {},
   "source": [
    "# Reader"
   ]
  },
  {
   "cell_type": "code",
   "execution_count": 101,
   "metadata": {},
   "outputs": [],
   "source": [
    "from haystack.nodes import FARMReader\n",
    "\n",
    "# Load a  local model or any of the QA models on\n",
    "# Hugging Face's model hub (https://huggingface.co/models)\n",
    "\n",
    "MAX_SEQ_LENGTH, DOC_STRIDE = 384, 128\n",
    "\n",
    "reader = FARMReader(model_name_or_path=READER_MODEL, \n",
    "    use_gpu=True, \n",
    "    progress_bar=False, \n",
    "    max_seq_len=MAX_SEQ_LENGTH,\n",
    "    doc_stride=DOC_STRIDE,\n",
    "    return_no_answer=True)\n"
   ]
  },
  {
   "cell_type": "code",
   "execution_count": 102,
   "metadata": {},
   "outputs": [
    {
     "name": "stdout",
     "output_type": "stream",
     "text": [
      "{'query': 'Who plays the main character?', 'no_ans_gap': 8.695183277130127, 'answers': [<Answer {'answer': 'Merryll Streep', 'type': 'extractive', 'score': 0.9352176189422607, 'context': 'this film brilliantly directed by John Cameron shows a young carpenter (Merryll Streep) grow to fame in the midst of the 19th century.', 'offsets_in_document': [{'start': 72, 'end': 86}], 'offsets_in_context': [{'start': 72, 'end': 86}], 'document_id': '9862efcec7c7cc3e2135f7fa86ee6601', 'meta': {}}>]}\n"
     ]
    }
   ],
   "source": [
    "print(reader.predict_on_texts(question=question, texts=[context], top_k=1))"
   ]
  },
  {
   "attachments": {},
   "cell_type": "markdown",
   "metadata": {},
   "source": [
    "## Pipeline"
   ]
  },
  {
   "cell_type": "code",
   "execution_count": 103,
   "metadata": {},
   "outputs": [],
   "source": [
    "pipe = hs.pipelines.ExtractiveQAPipeline(reader, es_retriever)\n",
    "\n"
   ]
  },
  {
   "cell_type": "code",
   "execution_count": 114,
   "metadata": {},
   "outputs": [
    {
     "name": "stdout",
     "output_type": "stream",
     "text": [
      "Question:  how long is this movie?\n",
      "\n",
      "Answer 1: 16 years\n",
      "Review snipper: ...hey want; I just feel that they're judging The Phantom Menace based on 16 years of their own expectations rather than judging it for what it is: a vis...\n",
      "\n",
      "\n",
      "Answer 2: \n",
      "Review snipper: ...None...\n",
      "\n",
      "\n",
      "Answer 3: a huge disapointment\n",
      "Review snipper: ...t this film would equal the Second Coming. However, the movie is a huge disapointment. Granted, the special effects  and ship and creature designs are...\n",
      "\n",
      "\n"
     ]
    }
   ],
   "source": [
    "TOP_K_READER = 3\n",
    "\n",
    "item_id = \"630575067X\" # star wars episode 1\n",
    "query = \" how long is this movie?\"\n",
    "\n",
    "params = {\n",
    "    \"Retriever\": {\n",
    "        \"top_k\": 3,\n",
    "        \"filters\": {\n",
    "            \"item_id\": [item_id],\n",
    "            \"split\": \"train\",\n",
    "            }\n",
    "        },\n",
    "    \"Reader\": {\n",
    "        \"top_k\": TOP_K_READER,\n",
    "        },\n",
    "    }\n",
    "preds = pipe.run(query=query, params=params)\n",
    "\n",
    "print(f\"Question: {preds['query']}\\n\")\n",
    "for idx in range(TOP_K_READER):\n",
    "    print(f\"Answer {idx + 1}: {preds['answers'][idx].answer}\")\n",
    "    print(f\"Review snippet: ...{preds['answers'][idx].context}...\\n\\n\")\n",
    "\n"
   ]
  },
  {
   "attachments": {},
   "cell_type": "markdown",
   "metadata": {},
   "source": [
    "# Improving QA Pipeline\n",
    "## Evaluating Retriever"
   ]
  },
  {
   "cell_type": "code",
   "execution_count": 115,
   "metadata": {},
   "outputs": [],
   "source": [
    "pipe = hs.pipelines.DocumentSearchPipeline(retriever=es_retriever)"
   ]
  },
  {
   "cell_type": "markdown",
   "metadata": {},
   "source": [
    "### Generating labeled data for pipeline evaluation for test set"
   ]
  },
  {
   "cell_type": "code",
   "execution_count": 149,
   "metadata": {},
   "outputs": [
    {
     "name": "stdout",
     "output_type": "stream",
     "text": [
      "Loaded 337 question-answer pairs\n"
     ]
    }
   ],
   "source": [
    "# refactored\n",
    "labels = qa.label.create_labels_from_df(dfs[\"test\"])\n",
    "\n",
    "document_store.write_labels(labels, index=\"label\")\n",
    "\n",
    "print(f\"\"\"Loaded {document_store.get_label_count(index=\"label\")} \\\n",
    "question-answer pairs\"\"\")"
   ]
  },
  {
   "cell_type": "code",
   "execution_count": 150,
   "metadata": {},
   "outputs": [
    {
     "name": "stdout",
     "output_type": "stream",
     "text": [
      "273\n"
     ]
    }
   ],
   "source": [
    "labels_agg = document_store.get_all_labels_aggregated(\n",
    "    index=\"label\",\n",
    "    open_domain=True,\n",
    "    aggregate_by_meta=[\"item_id\"]\n",
    ")\n",
    "print(len(labels_agg))"
   ]
  },
  {
   "cell_type": "code",
   "execution_count": 291,
   "metadata": {},
   "outputs": [
    {
     "data": {
      "text/plain": [
       "<MultiLabel: {'labels': [<Label: {'id': '8ef3bfc1-2164-4084-91c2-de61ff0d5049', 'query': 'What is your take on the direction the movie is taking?', 'document': {'id': 'e55d379edfcd04ec185b78106ecdb173', 'content': \"This was in my opinion not a movie but an experience. Mel Gibson did such a great job of potraying the last hours of our Lord and Savior Jesus Christ's life. The movie was so moving and touching. I can't imagine having any of that done to me. Unfortunately, Jesus really didn't have a choice. That was foretold to happen to Jesus so we could be washed clean from our sins and have everlasting life.And to those who think that this movie was unrealistic in some respects you're right. It wasn't entirely realistc...because Jesus looked even worse then what they showed. In the Bible it clearly states that you couldn't even recognize Jesus that was how badly beaten he was.But, as to why no one helped him when he was being beaten or why he let them arrest him it was because it was foretold for it to happen that way and Jesus knew that and so did his followers.Also, people who loved this movie like me aren't dumb. No one is dumb everyone has their own opinion and that's fine to God. But, this is what happened to our Lord and Savior and those who don't believe it to be realistic must not be those that are walking in the light. Because anyone who was would know that this movie was very realistic and that it was meant to happen that way. I love you Jesus!\", 'content_type': 'text', 'meta': {}, 'score': None, 'embedding': None}, 'is_correct_answer': True, 'is_correct_document': True, 'origin': 'gold-label', 'answer': {'answer': '', 'type': 'extractive', 'score': None, 'context': None, 'offsets_in_document': None, 'offsets_in_context': None, 'document_id': None, 'meta': {}}, 'pipeline_id': None, 'created_at': '2022-12-28 10:27:38', 'updated_at': '2022-12-28 10:27:38', 'meta': {'item_id': '0310263662', 'question_id': '1f94eb81de0cd3d7874554c7fabb6ab4'}, 'filters': {'item_id': ['0310263662'], 'split': ['test']}}>], 'query': 'What is your take on the direction the movie is taking?', 'filters': {'item_id': ['0310263662'], 'split': ['test']}, 'id': 'a3ecbb85a1f7497a9180023ca4656c5d', 'no_answer': True, 'answers': [''], 'offsets_in_documents': [], 'offsets_in_contexts': [], 'document_ids': [], 'contexts': []}>"
      ]
     },
     "execution_count": 291,
     "metadata": {},
     "output_type": "execute_result"
    }
   ],
   "source": [
    "labels_agg[0]"
   ]
  },
  {
   "cell_type": "code",
   "execution_count": 160,
   "metadata": {},
   "outputs": [
    {
     "name": "stdout",
     "output_type": "stream",
     "text": [
      "Recall@3: 0.98\n"
     ]
    }
   ],
   "source": [
    "# We can run the pipeline with the desired top_k value like this\n",
    "eval_result = pipe.eval(\n",
    "    labels=labels_agg,\n",
    "    params={\"Retriever\": {\"top_k\": 3}},\n",
    ")\n",
    "metrics = eval_result.calculate_metrics()\n",
    "\n",
    "print(f\"Recall@3: {metrics['Retriever']['recall_single_hit']:.2f}\")"
   ]
  },
  {
   "cell_type": "code",
   "execution_count": 163,
   "metadata": {},
   "outputs": [
    {
     "data": {
      "text/html": [
       "<div>\n",
       "<style scoped>\n",
       "    .dataframe tbody tr th:only-of-type {\n",
       "        vertical-align: middle;\n",
       "    }\n",
       "\n",
       "    .dataframe tbody tr th {\n",
       "        vertical-align: top;\n",
       "    }\n",
       "\n",
       "    .dataframe thead th {\n",
       "        text-align: right;\n",
       "    }\n",
       "</style>\n",
       "<table border=\"1\" class=\"dataframe\">\n",
       "  <thead>\n",
       "    <tr style=\"text-align: right;\">\n",
       "      <th></th>\n",
       "      <th>multilabel_id</th>\n",
       "      <th>query</th>\n",
       "      <th>filters</th>\n",
       "      <th>context</th>\n",
       "      <th>gold_contexts</th>\n",
       "      <th>gold_id_match</th>\n",
       "      <th>context_match</th>\n",
       "      <th>answer_match</th>\n",
       "      <th>gold_id_or_answer_match</th>\n",
       "      <th>gold_id_and_answer_match</th>\n",
       "      <th>...</th>\n",
       "      <th>rank</th>\n",
       "      <th>document_id</th>\n",
       "      <th>gold_document_ids</th>\n",
       "      <th>gold_documents_id_match</th>\n",
       "      <th>gold_contexts_similarity</th>\n",
       "      <th>gold_answers_match</th>\n",
       "      <th>type</th>\n",
       "      <th>node</th>\n",
       "      <th>eval_mode</th>\n",
       "      <th>index</th>\n",
       "    </tr>\n",
       "  </thead>\n",
       "  <tbody>\n",
       "    <tr>\n",
       "      <th>0</th>\n",
       "      <td>a3ecbb85a1f7497a9180023ca4656c5d</td>\n",
       "      <td>What is your take on the direction the movie is taking?</td>\n",
       "      <td>b'{\"item_id\": [\"0310263662\"], \"split\": [\"test\"]}'</td>\n",
       "      <td>I find it sad that reviewers such as \"A Kid's Review\" (only one of quite a f...</td>\n",
       "      <td>[]</td>\n",
       "      <td>0.0</td>\n",
       "      <td>0.0</td>\n",
       "      <td>0.0</td>\n",
       "      <td>0.0</td>\n",
       "      <td>0.0</td>\n",
       "      <td>...</td>\n",
       "      <td>1.0</td>\n",
       "      <td>b964217f3614e4b573c7c1e058cc3032</td>\n",
       "      <td>[]</td>\n",
       "      <td>[]</td>\n",
       "      <td>[]</td>\n",
       "      <td>[0.0]</td>\n",
       "      <td>document</td>\n",
       "      <td>Retriever</td>\n",
       "      <td>integrated</td>\n",
       "      <td>0</td>\n",
       "    </tr>\n",
       "    <tr>\n",
       "      <th>1</th>\n",
       "      <td>a3ecbb85a1f7497a9180023ca4656c5d</td>\n",
       "      <td>What is your take on the direction the movie is taking?</td>\n",
       "      <td>b'{\"item_id\": [\"0310263662\"], \"split\": [\"test\"]}'</td>\n",
       "      <td>Now I am not a religious person, even tough I believe in the existence of a ...</td>\n",
       "      <td>[]</td>\n",
       "      <td>0.0</td>\n",
       "      <td>0.0</td>\n",
       "      <td>0.0</td>\n",
       "      <td>0.0</td>\n",
       "      <td>0.0</td>\n",
       "      <td>...</td>\n",
       "      <td>2.0</td>\n",
       "      <td>45b427836e490b1e008e15b8c84560ab</td>\n",
       "      <td>[]</td>\n",
       "      <td>[]</td>\n",
       "      <td>[]</td>\n",
       "      <td>[0.0]</td>\n",
       "      <td>document</td>\n",
       "      <td>Retriever</td>\n",
       "      <td>integrated</td>\n",
       "      <td>1</td>\n",
       "    </tr>\n",
       "    <tr>\n",
       "      <th>2</th>\n",
       "      <td>a3ecbb85a1f7497a9180023ca4656c5d</td>\n",
       "      <td>What is your take on the direction the movie is taking?</td>\n",
       "      <td>b'{\"item_id\": [\"0310263662\"], \"split\": [\"test\"]}'</td>\n",
       "      <td>This was in my opinion not a movie but an experience. Mel Gibson did such a ...</td>\n",
       "      <td>[]</td>\n",
       "      <td>0.0</td>\n",
       "      <td>0.0</td>\n",
       "      <td>0.0</td>\n",
       "      <td>0.0</td>\n",
       "      <td>0.0</td>\n",
       "      <td>...</td>\n",
       "      <td>3.0</td>\n",
       "      <td>be832bea3625db1ba345826e781f6916</td>\n",
       "      <td>[]</td>\n",
       "      <td>[]</td>\n",
       "      <td>[]</td>\n",
       "      <td>[0.0]</td>\n",
       "      <td>document</td>\n",
       "      <td>Retriever</td>\n",
       "      <td>integrated</td>\n",
       "      <td>2</td>\n",
       "    </tr>\n",
       "  </tbody>\n",
       "</table>\n",
       "<p>3 rows × 24 columns</p>\n",
       "</div>"
      ],
      "text/plain": [
       "                      multilabel_id  \\\n",
       "0  a3ecbb85a1f7497a9180023ca4656c5d   \n",
       "1  a3ecbb85a1f7497a9180023ca4656c5d   \n",
       "2  a3ecbb85a1f7497a9180023ca4656c5d   \n",
       "\n",
       "                                                     query  \\\n",
       "0  What is your take on the direction the movie is taking?   \n",
       "1  What is your take on the direction the movie is taking?   \n",
       "2  What is your take on the direction the movie is taking?   \n",
       "\n",
       "                                             filters  \\\n",
       "0  b'{\"item_id\": [\"0310263662\"], \"split\": [\"test\"]}'   \n",
       "1  b'{\"item_id\": [\"0310263662\"], \"split\": [\"test\"]}'   \n",
       "2  b'{\"item_id\": [\"0310263662\"], \"split\": [\"test\"]}'   \n",
       "\n",
       "                                                                           context  \\\n",
       "0  I find it sad that reviewers such as \"A Kid's Review\" (only one of quite a f...   \n",
       "1  Now I am not a religious person, even tough I believe in the existence of a ...   \n",
       "2  This was in my opinion not a movie but an experience. Mel Gibson did such a ...   \n",
       "\n",
       "  gold_contexts  gold_id_match  context_match  answer_match  \\\n",
       "0            []            0.0            0.0           0.0   \n",
       "1            []            0.0            0.0           0.0   \n",
       "2            []            0.0            0.0           0.0   \n",
       "\n",
       "   gold_id_or_answer_match  gold_id_and_answer_match  ...  rank  \\\n",
       "0                      0.0                       0.0  ...   1.0   \n",
       "1                      0.0                       0.0  ...   2.0   \n",
       "2                      0.0                       0.0  ...   3.0   \n",
       "\n",
       "                        document_id  gold_document_ids  \\\n",
       "0  b964217f3614e4b573c7c1e058cc3032                 []   \n",
       "1  45b427836e490b1e008e15b8c84560ab                 []   \n",
       "2  be832bea3625db1ba345826e781f6916                 []   \n",
       "\n",
       "   gold_documents_id_match  gold_contexts_similarity gold_answers_match  \\\n",
       "0                       []                        []              [0.0]   \n",
       "1                       []                        []              [0.0]   \n",
       "2                       []                        []              [0.0]   \n",
       "\n",
       "       type       node   eval_mode index  \n",
       "0  document  Retriever  integrated     0  \n",
       "1  document  Retriever  integrated     1  \n",
       "2  document  Retriever  integrated     2  \n",
       "\n",
       "[3 rows x 24 columns]"
      ]
     },
     "execution_count": 163,
     "metadata": {},
     "output_type": "execute_result"
    }
   ],
   "source": [
    "eval_result[\"Retriever\"].head(3)"
   ]
  },
  {
   "cell_type": "code",
   "execution_count": 174,
   "metadata": {},
   "outputs": [],
   "source": [
    "retriever_results = {}\n",
    "\n",
    "retriever_results[\"bm25\"] = qa.evaluate.retriever_recall(es_retriever)\n"
   ]
  },
  {
   "cell_type": "code",
   "execution_count": 178,
   "metadata": {},
   "outputs": [
    {
     "data": {
      "image/png": "[encoded data removed]",
      "text/plain": [
       "<Figure size 640x480 with 1 Axes>"
      ]
     },
     "metadata": {},
     "output_type": "display_data"
    }
   ],
   "source": [
    "# refactored\n",
    "qa.plot.plot_retriever_eval(retriever_results)"
   ]
  },
  {
   "attachments": {},
   "cell_type": "markdown",
   "metadata": {},
   "source": [
    "## Comparing with DPR retriever"
   ]
  },
  {
   "cell_type": "code",
   "execution_count": 179,
   "metadata": {},
   "outputs": [
    {
     "name": "stderr",
     "output_type": "stream",
     "text": [
      "Downloading: 100%|██████████| 28.0/28.0 [00:00<00:00, 12.6kB/s]\n",
      "Downloading: 100%|██████████| 232k/232k [00:00<00:00, 587kB/s] \n",
      "Downloading: 100%|██████████| 466k/466k [00:00<00:00, 962kB/s] \n",
      "Downloading: 100%|██████████| 493/493 [00:00<00:00, 161kB/s]\n",
      "Downloading: 100%|██████████| 438M/438M [01:28<00:00, 4.93MB/s] \n",
      "Downloading: 100%|██████████| 28.0/28.0 [00:00<00:00, 9.15kB/s]\n",
      "Downloading: 100%|██████████| 232k/232k [00:00<00:00, 863kB/s] \n",
      "Downloading: 100%|██████████| 466k/466k [00:00<00:00, 953kB/s] \n",
      "Downloading: 100%|██████████| 492/492 [00:00<00:00, 218kB/s]\n",
      "The tokenizer class you load from this checkpoint is not the same type as the class this function is called from. It may result in unexpected tokenization. \n",
      "The tokenizer class you load from this checkpoint is 'DPRQuestionEncoderTokenizer'. \n",
      "The class this function is called from is 'DPRContextEncoderTokenizerFast'.\n",
      "Downloading: 100%|██████████| 438M/438M [01:05<00:00, 6.70MB/s] \n"
     ]
    }
   ],
   "source": [
    "dpr_retriever = hs.nodes.DensePassageRetriever(\n",
    "    document_store=document_store,\n",
    "    query_embedding_model=DPR_QUERY_MODEL,\n",
    "    passage_embedding_model=DPR_CTX_ENCODER,\n",
    "    embed_title=False)"
   ]
  },
  {
   "cell_type": "code",
   "execution_count": 180,
   "metadata": {},
   "outputs": [
    {
     "name": "stderr",
     "output_type": "stream",
     "text": [
      "Updating embeddings: 10000 Docs [02:04, 80.44 Docs/s]           \n"
     ]
    }
   ],
   "source": [
    "document_store.update_embeddings(retriever=dpr_retriever)"
   ]
  },
  {
   "cell_type": "code",
   "execution_count": 316,
   "metadata": {},
   "outputs": [
    {
     "data": {
      "text/plain": [
       "<Document: {'content': \"Okay, I was just like everyone else--I wanted to see this movie really really badly.  So I did.  And at first I thought it was great!  But later, I realized how very childish this movie is.  Sure, the visual effects were nice, and the pod race was cool, but the visuals can't compare with The Matrix.  Also, Jar Jar Binks and Boss Nass are a very unwelcome addition, with their very eyeball-rolling senses of humor.  And the plot wasn't very clever either.  It's really pretty hard to relate this movie to the Trilogy.  If you're anyone under 13 (as I was when I saw it), you should like at the very least like it, as long as you don't expect it to be like the old Star Wars.  But if you are an adult who is a big fan of the Trilogy, avoid The Phantom Menace at all costs.Rated PG, for sci-fi action and violence, not much else, really everyone should be allowed to see it.  But the question remains: does EVERYONE really WANT TO?\", 'content_type': 'text', 'score': 0.5312093733737563, 'meta': {'item_id': '630575067X', 'question_id': 'd903a1b4a5413cd5b582376ec38916ec', 'split': 'train'}, 'embedding': '<embedding of shape (768,)>', 'id': '6c00f4d6afc79231d114fe34b9c6217b'}>"
      ]
     },
     "metadata": {},
     "output_type": "display_data"
    },
    {
     "name": "stdout",
     "output_type": "stream",
     "text": [
      "embedding type: <class 'numpy.ndarray'>\n"
     ]
    }
   ],
   "source": [
    "# looking at doc structure after adding embeddings:\n",
    "id = \"6c00f4d6afc79231d114fe34b9c6217b\"\n",
    "doc = document_store.get_document_by_id(id)\n",
    "display(doc)\n",
    "print(f\"embedding type: {type(doc.embedding)}\")"
   ]
  },
  {
   "cell_type": "code",
   "execution_count": 181,
   "metadata": {},
   "outputs": [
    {
     "data": {
      "image/png": "[encoded data removed]",
      "text/plain": [
       "<Figure size 640x480 with 1 Axes>"
      ]
     },
     "metadata": {},
     "output_type": "display_data"
    }
   ],
   "source": [
    "retriever_results[\"DPR\"] = qa.evaluate.retriever_recall(dpr_retriever)\n",
    "\n",
    "qa.plot.plot_retriever_eval(retriever_results)"
   ]
  },
  {
   "attachments": {},
   "cell_type": "markdown",
   "metadata": {},
   "source": [
    "# TO DO: fine tuning DPR on dataset\n",
    "https://haystack.deepset.ai/tutorials/09_dpr_training"
   ]
  },
  {
   "attachments": {},
   "cell_type": "markdown",
   "metadata": {},
   "source": [
    "## Evaluating Reader"
   ]
  },
  {
   "cell_type": "code",
   "execution_count": 184,
   "metadata": {},
   "outputs": [
    {
     "name": "stdout",
     "output_type": "stream",
     "text": [
      "label:      6000 hours\n",
      "prediction: about 6000 hours\n",
      "\tEM: 0\n",
      "\tF1: 0.8\n",
      "label:      6000 hours\n",
      "prediction: about 6000 dollars\n",
      "\tEM: 0\n",
      "\tF1: 0.4\n"
     ]
    }
   ],
   "source": [
    "# refactored\n",
    "def print_reading_metrics(pred, label) -> None:\n",
    "    print(f\"label:      {label}\")\n",
    "    print(f\"prediction: {pred}\")\n",
    "    print(f\"\\tEM: {compute_exact(label, pred)}\")\n",
    "    print(f\"\\tF1: {compute_f1(label, pred)}\")\n",
    "\n",
    "print_reading_metrics(pred = \"about 6000 hours\", label = \"6000 hours\")\n",
    "print_reading_metrics(f\"about 6000 dollars\", \"6000 hours\")"
   ]
  },
  {
   "cell_type": "code",
   "execution_count": 187,
   "metadata": {},
   "outputs": [],
   "source": [
    "# refactored\n",
    "reader_eval = {}\n",
    "reader_eval[\"MiniLM. Fine-tuned on SQUAD\"] = qa.evaluate.evaluate_reader(reader)"
   ]
  },
  {
   "cell_type": "code",
   "execution_count": 189,
   "metadata": {},
   "outputs": [
    {
     "data": {
      "image/png": "[encoded data removed]",
      "text/plain": [
       "<Figure size 640x480 with 1 Axes>"
      ]
     },
     "metadata": {},
     "output_type": "display_data"
    }
   ],
   "source": [
    "# refactored\n",
    "qa.plot.plot_reader_eval(reader_eval)"
   ]
  },
  {
   "attachments": {},
   "cell_type": "markdown",
   "metadata": {},
   "source": [
    "## Domain Adaptation\n",
    "Requires to transform training data into SQUAD JSON format"
   ]
  },
  {
   "cell_type": "code",
   "execution_count": 258,
   "metadata": {},
   "outputs": [],
   "source": [
    "# refactored\n",
    "qa.squad_conversion.convert_all_data_to_squad_format(dfs, TRANSFORMED_DATA_DIR + SQUAD_FILENAME_TEMPLATE)"
   ]
  },
  {
   "cell_type": "code",
   "execution_count": null,
   "metadata": {},
   "outputs": [],
   "source": [
    "# /!\\ takes ~21min per epoch to train on an M1.\n",
    "reader.train(\n",
    "    data_dir=TRANSFORMED_DATA_DIR,\n",
    "    use_gpu=True,\n",
    "    n_epochs=1,\n",
    "    batch_size=16,\n",
    "    train_filename=SQUAD_FILENAME_TEMPLATE.format(split=\"train\"),\n",
    "    dev_filename=SQUAD_FILENAME_TEMPLATE.format(split=\"validation\"),\n",
    ")"
   ]
  },
  {
   "cell_type": "code",
   "execution_count": 263,
   "metadata": {},
   "outputs": [
    {
     "data": {
      "image/png": "[encoded data removed]",
      "text/plain": [
       "<Figure size 640x480 with 1 Axes>"
      ]
     },
     "metadata": {},
     "output_type": "display_data"
    }
   ],
   "source": [
    "reader_eval[\"MiniLM. Fine-tuned on SQUAD + SubQA(movies)\"] = qa.evaluate.evaluate_reader(reader)\n",
    "plot_reader_eval(reader_eval)"
   ]
  },
  {
   "attachments": {},
   "cell_type": "markdown",
   "metadata": {},
   "source": [
    "## Comparing with model fine-tuned without SQUAD transfer learning "
   ]
  },
  {
   "cell_type": "code",
   "execution_count": 295,
   "metadata": {},
   "outputs": [
    {
     "name": "stderr",
     "output_type": "stream",
     "text": [
      "Downloading: 100%|██████████| 385/385 [00:00<00:00, 231kB/s]\n",
      "Downloading: 100%|██████████| 133M/133M [00:17<00:00, 7.58MB/s] \n",
      "Some weights of BertForQuestionAnswering were not initialized from the model checkpoint at microsoft/MiniLM-L12-H384-uncased and are newly initialized: ['qa_outputs.bias', 'qa_outputs.weight']\n",
      "You should probably TRAIN this model on a down-stream task to be able to use it for predictions and inference.\n",
      "Downloading: 100%|██████████| 2.00/2.00 [00:00<00:00, 972B/s]\n",
      "Downloading: 100%|██████████| 232k/232k [00:00<00:00, 588kB/s] \n",
      "Downloading: 100%|██████████| 112/112 [00:00<00:00, 95.5kB/s]\n"
     ]
    }
   ],
   "source": [
    "MINILM_CKPT = \"microsoft/MiniLM-L12-H384-uncased\"\n",
    "minilm_reader = hs.nodes.FARMReader(\n",
    "    model_name_or_path=MINILM_CKPT, \n",
    "    progress_bar=False, \n",
    "    max_seq_len=MAX_SEQ_LENGTH, \n",
    "    doc_stride=DOC_STRIDE, \n",
    "    return_no_answer=True,\n",
    ")"
   ]
  },
  {
   "cell_type": "code",
   "execution_count": 296,
   "metadata": {},
   "outputs": [
    {
     "name": "stderr",
     "output_type": "stream",
     "text": [
      "Preprocessing dataset:   0%|          | 0/3 [00:00<?, ? Dicts/s]WARNING:haystack.modeling.data_handler.processor:Answer 'made you who you are, and you use it to bleed even more and more money out of us.Palpatine would have been proud. ANSWERNOTFOUND' not contained in context.\n",
      "Example will not be converted for training/evaluation.\n",
      "WARNING:haystack.modeling.data_handler.processor:Answer 'the most  brilliant film ever made. ANSWERNOTFOUND' not contained in context.\n",
      "Example will not be converted for training/evaluation.\n",
      "WARNING:haystack.modeling.data_handler.processor:Answer using start/end indices is '  Instead of making light of his situation he would  perhaps have been wiser to escape the terrible onslaught that was the  Holocaust and maybe all the tragedy could have been avoided for both him  and his family.Life was anything but beautiful particularly when the  hard labor began and most specifically when he realized that a perceived  friend was anything b' while gold label text is 'Instead of making light of his situation he would  perhaps have been wiser to escape the terrible onslaught that was the  Holocaust and maybe all the tragedy could have been avoided for both him  and his family.Life was anything but beautiful particularly when the  hard labor began and most specifically when he realized that a perceived  friend was anything but'.\n",
      "Example will not be converted for training/evaluation.\n",
      "Preprocessing dataset:  33%|███▎      | 1/3 [00:00<00:01,  1.39 Dicts/s]WARNING:haystack.modeling.data_handler.processor:Answer 'The music, including the new song, is still outstanding.So what's my complaint?  It's the same one I have with the stage version.  The Phantom is made out to be sympathetic.  This is even truer here as we see his past as a little boy.  The problem is he's an evil man whose true nature comes out the more people stand up to him.  I realize I'm alone in not enjoying this glorification.  At least he does realize how bad his behavior has been near the end.Overall, this is a wonderful musical brought to life beautifully on screen.  Stage purists won't like it, but the rest of us will be able to enjoy this outstanding musical. ANSWERNOTFOUND' not contained in context.\n",
      "Example will not be converted for training/evaluation.\n",
      "Preprocessing dataset: 100%|██████████| 3/3 [00:01<00:00,  2.32 Dicts/s]\n",
      "ERROR:haystack.modeling.data_handler.processor:Unable to convert 4 samples to features. Their ids are : 285-0-0, 270-0-0, 133-0-9, 223-0-0\n",
      "Preprocessing dataset: 100%|██████████| 1/1 [00:00<00:00,  5.46 Dicts/s]\n",
      "ERROR:haystack.modeling.data_handler.processor:Unable to convert 4 samples to features. Their ids are : 270-0-0, 133-0-9, 223-0-0, 285-0-0\n"
     ]
    }
   ],
   "source": [
    "minilm_reader.train(\n",
    "    data_dir=\"../data/transformed/\",\n",
    "    use_gpu=True,\n",
    "    train_filename=SQUAD_FILENAME_TEMPLATE.format(split=\"train\"), \n",
    "    dev_filename=SQUAD_FILENAME_TEMPLATE.format(split=\"validation\"),\n",
    "    n_epochs=1,\n",
    "    batch_size=16,\n",
    ")"
   ]
  },
  {
   "cell_type": "code",
   "execution_count": 297,
   "metadata": {},
   "outputs": [],
   "source": [
    "reader_eval[f\"MiniLM. Fine-tuned on subjqa({DOMAIN}\"] = qa.evaluate.evaluate_reader(minilm_reader)"
   ]
  },
  {
   "cell_type": "code",
   "execution_count": 298,
   "metadata": {},
   "outputs": [
    {
     "data": {
      "image/png": "[encoded data removed]",
      "text/plain": [
       "<Figure size 640x480 with 1 Axes>"
      ]
     },
     "metadata": {},
     "output_type": "display_data"
    }
   ],
   "source": [
    "qa.plot.plot_reader_eval(reader_eval)"
   ]
  }
 ],
 "metadata": {
  "kernelspec": {
   "display_name": "tfm7",
   "language": "python",
   "name": "python3"
  },
  "language_info": {
   "codemirror_mode": {
    "name": "ipython",
    "version": 3
   },
   "file_extension": ".py",
   "mimetype": "text/x-python",
   "name": "python",
   "nbconvert_exporter": "python",
   "pygments_lexer": "ipython3",
   "version": "3.10.0"
  },
  "orig_nbformat": 4,
  "vscode": {
   "interpreter": {
    "hash": "7113f7d4262b619f9929e19fa1d6813f6f0390d16f4a1efa58bd6f5b37c8cb6f"
   }
  }
 },
 "nbformat": 4,
 "nbformat_minor": 2
}
