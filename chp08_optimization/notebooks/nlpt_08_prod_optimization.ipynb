{
 "cells": [
  {
   "cell_type": "markdown",
   "metadata": {},
   "source": [
    "# intent classification pipeline\n",
    "\n",
    "Based on CLINC150 dataset: 150 intent classes including an out of scope class (OOS).\n"
   ]
  },
  {
   "cell_type": "code",
   "execution_count": 177,
   "metadata": {},
   "outputs": [
    {
     "name": "stdout",
     "output_type": "stream",
     "text": [
      "The autoreload extension is already loaded. To reload it, use:\n",
      "  %reload_ext autoreload\n"
     ]
    }
   ],
   "source": [
    "import numpy as np\n",
    "import transformers as tfm\n",
    "from transformers import pipeline\n",
    "import torch\n",
    "from src.n08 import distillation, perf_benchmark\n",
    "\n"
   ]
  },
  {
   "cell_type": "code",
   "execution_count": 137,
   "metadata": {},
   "outputs": [],
   "source": [
    "# starting model: BERT finetuned on the CLINC150 dataset\n",
    "\n",
    "BERT_CKPT = \"transformersbook/bert-base-uncased-finetuned-clinc\"\n",
    "pipe = pipeline(\"text-classification\", model=BERT_CKPT)"
   ]
  },
  {
   "cell_type": "code",
   "execution_count": 3,
   "metadata": {},
   "outputs": [
    {
     "name": "stderr",
     "output_type": "stream",
     "text": [
      "Reusing dataset clinc_oos (/Users/SPayot/.cache/huggingface/datasets/clinc_oos/plus/1.0.0/abcc41d382f8137f039adc747af44714941e8196e845dfbdd8ae7a7e020e6ba1)\n"
     ]
    },
    {
     "data": {
      "application/vnd.jupyter.widget-view+json": {
       "model_id": "48c811c9ecb14687bef68add5b11ed5f",
       "version_major": 2,
       "version_minor": 0
      },
      "text/plain": [
       "  0%|          | 0/3 [00:00<?, ?it/s]"
      ]
     },
     "metadata": {},
     "output_type": "display_data"
    }
   ],
   "source": [
    "from datasets import load_dataset\n",
    "clinc = load_dataset(\"clinc_oos\", \"plus\")\n",
    "\n",
    "intents = clinc[\"test\"].features[\"intent\"]"
   ]
  },
  {
   "cell_type": "code",
   "execution_count": 4,
   "metadata": {},
   "outputs": [
    {
     "data": {
      "text/plain": [
       "[{'label': 'book_flight', 'score': 0.2848978638648987}]"
      ]
     },
     "execution_count": 4,
     "metadata": {},
     "output_type": "execute_result"
    }
   ],
   "source": [
    "query = \"i would like to make a trip from Paris to Roma\"\n",
    "pipe(query)"
   ]
  },
  {
   "cell_type": "markdown",
   "metadata": {},
   "source": [
    "## Creating Performance Benchmark"
   ]
  },
  {
   "cell_type": "code",
   "execution_count": 138,
   "metadata": {},
   "outputs": [
    {
     "name": "stdout",
     "output_type": "stream",
     "text": [
      "Model Size (MB):      418.2\n",
      "Avg. Latency (ms): 42.98 +/- 4.50\n",
      "Model Accuracy:       86.73%\n"
     ]
    }
   ],
   "source": [
    "# create object recording all performances\n",
    "METRICS_PATH = \"nlpt08_perf_metrics.pkl\"\n",
    "\n",
    "perf_metrics = perf_benchmark.PerfMetrics(path=METRICS_PATH)\n",
    "\n",
    "pb = perf_benchmark.PerformanceBenchmark(pipeline=pipe, dataset=clinc[\"test\"], class_label=\"intent\")\n",
    "perf_metrics.update(pb.run_benchmark())"
   ]
  },
  {
   "cell_type": "markdown",
   "metadata": {},
   "source": [
    "## Knowledge Distillation\n",
    "* create custom Trainer mixing a cross entropy loss from ground truth labels and a Kullback-Leibler divergence loss"
   ]
  },
  {
   "cell_type": "markdown",
   "metadata": {},
   "source": [
    "### prepare dataset"
   ]
  },
  {
   "cell_type": "code",
   "execution_count": 31,
   "metadata": {},
   "outputs": [
    {
     "data": {
      "application/vnd.jupyter.widget-view+json": {
       "model_id": "008f35e79760483eaa392bd3e0b15f5e",
       "version_major": 2,
       "version_minor": 0
      },
      "text/plain": [
       "  0%|          | 0/16 [00:00<?, ?ba/s]"
      ]
     },
     "metadata": {},
     "output_type": "display_data"
    },
    {
     "data": {
      "application/vnd.jupyter.widget-view+json": {
       "model_id": "4701e5011b3c42f3bc7cc03c52c09cd5",
       "version_major": 2,
       "version_minor": 0
      },
      "text/plain": [
       "  0%|          | 0/4 [00:00<?, ?ba/s]"
      ]
     },
     "metadata": {},
     "output_type": "display_data"
    },
    {
     "data": {
      "application/vnd.jupyter.widget-view+json": {
       "model_id": "f817c92df6994308ac6ff87e8ac7e875",
       "version_major": 2,
       "version_minor": 0
      },
      "text/plain": [
       "  0%|          | 0/6 [00:00<?, ?ba/s]"
      ]
     },
     "metadata": {},
     "output_type": "display_data"
    }
   ],
   "source": [
    "from transformers import AutoTokenizer\n",
    "\n",
    "STUDENT_CKPT = \"distilbert-base-uncased\"\n",
    "student_tokenizer = AutoTokenizer.from_pretrained(STUDENT_CKPT)\n",
    "\n",
    "def tokenize_text(batch):\n",
    "    return student_tokenizer(batch[\"text\"], truncation=True)\n",
    "\n",
    "clinc_enc = clinc.map(tokenize_text, batched=True, remove_columns=[\"text\"])\n",
    "clinc_enc = clinc_enc.rename_column(\"intent\", \"labels\")\n",
    "\n",
    "\n"
   ]
  },
  {
   "cell_type": "code",
   "execution_count": 76,
   "metadata": {},
   "outputs": [],
   "source": [
    "\n",
    "# define metrics\n",
    "def compute_metrics(pred: tfm.EvalPrediction) -> dict:\n",
    "    predictions, labels = pred\n",
    "    predictions = np.argmax(predictions, axis=-1)\n",
    "    return perf_benchmark.accuracy_score.compute(predictions=predictions, references=labels)"
   ]
  },
  {
   "cell_type": "code",
   "execution_count": null,
   "metadata": {},
   "outputs": [],
   "source": [
    "# test compute_metrics\n",
    "pred = tfm.EvalPrediction(predictions=np.random.random((5,3)), label_ids=np.array([1,2,1,2,0]))\n",
    "compute_metrics(pred)"
   ]
  },
  {
   "cell_type": "code",
   "execution_count": 77,
   "metadata": {},
   "outputs": [],
   "source": [
    "BATCH_SIZE = 48\n",
    "FINETUNED_CKPT = \"n08-distilbert-base-uncased-finetuned-clinc\"\n",
    "\n",
    "config = {\n",
    "    \"output_dir\": FINETUNED_CKPT,\n",
    "    \"num_train_epochs\": 5,\n",
    "    \"learning_rate\": 2e-5,\n",
    "    \"per_device_train_batch_size\": BATCH_SIZE,\n",
    "    \"per_device_eval_batch_size\": BATCH_SIZE,\n",
    "    \"weight_decay\": 0.01,\n",
    "    \"save_steps\": 1e6,\n",
    "    \"evaluation_strategy\": \"epoch\",\n",
    "    \"disable_tqdm\": False,\n",
    "    \"push_to_hub\": False,\n",
    "    \"log_level\": \"error\",\n",
    "    \"alpha\": 1,\n",
    "    \"temperature\": 2,\n",
    "}\n",
    "\n",
    "student_training_args = distillation.DistillationTrainingArguments(**config)"
   ]
  },
  {
   "cell_type": "code",
   "execution_count": 78,
   "metadata": {},
   "outputs": [
    {
     "name": "stderr",
     "output_type": "stream",
     "text": [
      "/opt/homebrew/Caskroom/miniforge/base/envs/transformers_test/lib/python3.10/site-packages/transformers/optimization.py:306: FutureWarning: This implementation of AdamW is deprecated and will be removed in a future version. Use the PyTorch implementation torch.optim.AdamW instead, or set `no_deprecation_warning=True` to disable this warning\n",
      "  warnings.warn(\n"
     ]
    },
    {
     "data": {
      "application/vnd.jupyter.widget-view+json": {
       "model_id": "b435f374a5804903950659d4b22103a9",
       "version_major": 2,
       "version_minor": 0
      },
      "text/plain": [
       "  0%|          | 0/1590 [00:00<?, ?it/s]"
      ]
     },
     "metadata": {},
     "output_type": "display_data"
    },
    {
     "data": {
      "application/vnd.jupyter.widget-view+json": {
       "model_id": "7ddfa033452f4d53a219bd1596922e20",
       "version_major": 2,
       "version_minor": 0
      },
      "text/plain": [
       "  0%|          | 0/65 [00:00<?, ?it/s]"
      ]
     },
     "metadata": {},
     "output_type": "display_data"
    },
    {
     "name": "stdout",
     "output_type": "stream",
     "text": [
      "{'eval_loss': 3.2787506580352783, 'eval_accuracy': 0.7458064516129033, 'eval_runtime': 30.0789, 'eval_samples_per_second': 103.062, 'eval_steps_per_second': 2.161, 'epoch': 1.0}\n",
      "{'loss': 3.78, 'learning_rate': 1.371069182389937e-05, 'epoch': 1.57}\n"
     ]
    },
    {
     "data": {
      "application/vnd.jupyter.widget-view+json": {
       "model_id": "9539c59452d84a818a26d3152f385bb3",
       "version_major": 2,
       "version_minor": 0
      },
      "text/plain": [
       "  0%|          | 0/65 [00:00<?, ?it/s]"
      ]
     },
     "metadata": {},
     "output_type": "display_data"
    },
    {
     "name": "stdout",
     "output_type": "stream",
     "text": [
      "{'eval_loss': 1.870642066001892, 'eval_accuracy': 0.8338709677419355, 'eval_runtime': 29.0962, 'eval_samples_per_second': 106.543, 'eval_steps_per_second': 2.234, 'epoch': 2.0}\n"
     ]
    },
    {
     "data": {
      "application/vnd.jupyter.widget-view+json": {
       "model_id": "ee946bd5a3b8419198f681e9b37481d2",
       "version_major": 2,
       "version_minor": 0
      },
      "text/plain": [
       "  0%|          | 0/65 [00:00<?, ?it/s]"
      ]
     },
     "metadata": {},
     "output_type": "display_data"
    },
    {
     "name": "stdout",
     "output_type": "stream",
     "text": [
      "{'eval_loss': 1.162010669708252, 'eval_accuracy': 0.8941935483870967, 'eval_runtime': 30.6834, 'eval_samples_per_second': 101.032, 'eval_steps_per_second': 2.118, 'epoch': 3.0}\n",
      "{'loss': 1.6915, 'learning_rate': 7.421383647798742e-06, 'epoch': 3.14}\n"
     ]
    },
    {
     "data": {
      "application/vnd.jupyter.widget-view+json": {
       "model_id": "e65ed5e67ce5425c8b383f66776f7879",
       "version_major": 2,
       "version_minor": 0
      },
      "text/plain": [
       "  0%|          | 0/65 [00:00<?, ?it/s]"
      ]
     },
     "metadata": {},
     "output_type": "display_data"
    },
    {
     "name": "stdout",
     "output_type": "stream",
     "text": [
      "{'eval_loss': 0.8613191246986389, 'eval_accuracy': 0.91, 'eval_runtime': 29.6398, 'eval_samples_per_second': 104.589, 'eval_steps_per_second': 2.193, 'epoch': 4.0}\n",
      "{'loss': 0.9057, 'learning_rate': 1.1320754716981133e-06, 'epoch': 4.72}\n"
     ]
    },
    {
     "data": {
      "application/vnd.jupyter.widget-view+json": {
       "model_id": "aa7b877eba0a43ce805769b9bef08275",
       "version_major": 2,
       "version_minor": 0
      },
      "text/plain": [
       "  0%|          | 0/65 [00:00<?, ?it/s]"
      ]
     },
     "metadata": {},
     "output_type": "display_data"
    },
    {
     "name": "stdout",
     "output_type": "stream",
     "text": [
      "{'eval_loss': 0.7781001329421997, 'eval_accuracy': 0.9161290322580645, 'eval_runtime': 30.9947, 'eval_samples_per_second': 100.017, 'eval_steps_per_second': 2.097, 'epoch': 5.0}\n",
      "{'train_runtime': 1692.4032, 'train_samples_per_second': 45.054, 'train_steps_per_second': 0.939, 'train_loss': 2.0489570953561076, 'epoch': 5.0}\n"
     ]
    },
    {
     "data": {
      "text/plain": [
       "TrainOutput(global_step=1590, training_loss=2.0489570953561076, metrics={'train_runtime': 1692.4032, 'train_samples_per_second': 45.054, 'train_steps_per_second': 0.939, 'train_loss': 2.0489570953561076, 'epoch': 5.0})"
      ]
     },
     "execution_count": 78,
     "metadata": {},
     "output_type": "execute_result"
    }
   ],
   "source": [
    "# create a student model initializer (classification layer is randomly initialized)\n",
    "student_config = tfm.AutoConfig.from_pretrained(\n",
    "    STUDENT_CKPT, \n",
    "    num_labels=intents.num_classes,\n",
    "    id2label=pipe.model.config.id2label,\n",
    "    label2id=pipe.model.config.label2id,\n",
    ")\n",
    "\n",
    "device = torch.device(\"cuda\" if torch.cuda.is_available() else \"cpu\")\n",
    "\n",
    "def student_init():\n",
    "    return tfm.AutoModelForSequenceClassification.from_pretrained(\n",
    "        STUDENT_CKPT, config=student_config,\n",
    "    ).to(device)\n",
    "\n",
    "# instantiate the teacher model (classification layer is already finetuned)\n",
    "TEACHER_CKPT = \"transformersbook/bert-base-uncased-finetuned-clinc\"\n",
    "teacher_model = tfm.AutoModelForSequenceClassification.from_pretrained(\n",
    "    TEACHER_CKPT, num_labels=intents.num_classes\n",
    ").to(device)\n",
    "\n",
    "# instantiate trainer\n",
    "\n",
    "distilbert_trainer = distillation.DistillationTrainer(\n",
    "    model_init=student_init,\n",
    "    teacher_model=teacher_model,\n",
    "    args=student_training_args,\n",
    "    train_dataset=clinc_enc[\"train\"],\n",
    "    eval_dataset=clinc_enc[\"validation\"],\n",
    "    compute_metrics=compute_metrics,\n",
    "    tokenizer=student_tokenizer,\n",
    ")\n",
    "\n",
    "distilbert_trainer.train()\n",
    "\n"
   ]
  },
  {
   "cell_type": "code",
   "execution_count": 93,
   "metadata": {},
   "outputs": [],
   "source": [
    "distilbert_trainer.save_model()"
   ]
  },
  {
   "cell_type": "markdown",
   "metadata": {},
   "source": [
    "### benchmark the distilled pipeline"
   ]
  },
  {
   "cell_type": "code",
   "execution_count": 139,
   "metadata": {},
   "outputs": [
    {
     "name": "stdout",
     "output_type": "stream",
     "text": [
      "Model Size (MB):      255.9\n",
      "Avg. Latency (ms): 21.02 +/- 2.51\n",
      "Model Accuracy:       85.98%\n"
     ]
    }
   ],
   "source": [
    "pipe = tfm.pipeline(\"text-classification\", FINETUNED_CKPT)\n",
    "\n",
    "pb = perf_benchmark.PerformanceBenchmark(pipe, clinc[\"test\"], optim_type=\"DistilBert\")\n",
    "perf_metrics.update(pb.run_benchmark())"
   ]
  },
  {
   "cell_type": "code",
   "execution_count": 136,
   "metadata": {},
   "outputs": [
    {
     "data": {
      "text/plain": [
       "baseline Bert            {'size': 255.887375831604, 'latency_ms_avg': 24.814978801005054, 'latency_ms_std': 5.226718527972285, 'accuracy': 0.8598181818181818}\n",
       "DistilBert               {'size': 255.887375831604, 'latency_ms_avg': 22.835909619461745, 'latency_ms_std': 2.5132182079848695, 'accuracy': 0.8598181818181818}"
      ]
     },
     "execution_count": 136,
     "metadata": {},
     "output_type": "execute_result"
    }
   ],
   "source": [
    "perf_metrics"
   ]
  },
  {
   "cell_type": "markdown",
   "metadata": {},
   "source": [
    "## plot metrics"
   ]
  },
  {
   "cell_type": "code",
   "execution_count": 140,
   "metadata": {},
   "outputs": [
    {
     "data": {
      "image/png": "[encoded data removed]",
      "text/plain": [
       "<Figure size 432x288 with 1 Axes>"
      ]
     },
     "metadata": {
      "needs_background": "light"
     },
     "output_type": "display_data"
    }
   ],
   "source": [
    "perf_benchmark.plot_metrics(perf_metrics, \"DistilBert\")"
   ]
  },
  {
   "cell_type": "markdown",
   "metadata": {},
   "source": [
    "## HyperParameter Optimization"
   ]
  },
  {
   "cell_type": "code",
   "execution_count": 142,
   "metadata": {},
   "outputs": [
    {
     "name": "stderr",
     "output_type": "stream",
     "text": [
      "\u001b[32m[I 2022-09-11 07:29:26,217]\u001b[0m A new study created in memory with name: no-name-49770998-eee1-46c5-ad71-93fe3f5a8f76\u001b[0m\n",
      "/opt/homebrew/Caskroom/miniforge/base/envs/transformers_test/lib/python3.10/site-packages/transformers/optimization.py:306: FutureWarning: This implementation of AdamW is deprecated and will be removed in a future version. Use the PyTorch implementation torch.optim.AdamW instead, or set `no_deprecation_warning=True` to disable this warning\n",
      "  warnings.warn(\n"
     ]
    },
    {
     "data": {
      "application/vnd.jupyter.widget-view+json": {
       "model_id": "70bcb736572c449a98fd035ecde453fc",
       "version_major": 2,
       "version_minor": 0
      },
      "text/plain": [
       "  0%|          | 0/2544 [00:00<?, ?it/s]"
      ]
     },
     "metadata": {},
     "output_type": "display_data"
    },
    {
     "data": {
      "application/vnd.jupyter.widget-view+json": {
       "model_id": "05f9185fd6754054b57a8a100450d1c7",
       "version_major": 2,
       "version_minor": 0
      },
      "text/plain": [
       "  0%|          | 0/65 [00:00<?, ?it/s]"
      ]
     },
     "metadata": {},
     "output_type": "display_data"
    },
    {
     "name": "stdout",
     "output_type": "stream",
     "text": [
      "{'eval_loss': 409.7368469238281, 'eval_accuracy': 0.6729032258064516, 'eval_runtime': 30.4813, 'eval_samples_per_second': 101.702, 'eval_steps_per_second': 2.132, 'epoch': 1.0}\n",
      "{'loss': 585.9738, 'learning_rate': 1.606918238993711e-05, 'epoch': 1.57}\n"
     ]
    },
    {
     "data": {
      "application/vnd.jupyter.widget-view+json": {
       "model_id": "1ff20eae97a5476298b874aadefe9fed",
       "version_major": 2,
       "version_minor": 0
      },
      "text/plain": [
       "  0%|          | 0/65 [00:00<?, ?it/s]"
      ]
     },
     "metadata": {},
     "output_type": "display_data"
    },
    {
     "name": "stdout",
     "output_type": "stream",
     "text": [
      "{'eval_loss': 127.71336364746094, 'eval_accuracy': 0.8151612903225807, 'eval_runtime': 30.0479, 'eval_samples_per_second': 103.169, 'eval_steps_per_second': 2.163, 'epoch': 2.0}\n"
     ]
    },
    {
     "data": {
      "application/vnd.jupyter.widget-view+json": {
       "model_id": "2ded285bcdb843249be278a07f2b8481",
       "version_major": 2,
       "version_minor": 0
      },
      "text/plain": [
       "  0%|          | 0/65 [00:00<?, ?it/s]"
      ]
     },
     "metadata": {},
     "output_type": "display_data"
    },
    {
     "name": "stdout",
     "output_type": "stream",
     "text": [
      "{'eval_loss': 55.2181510925293, 'eval_accuracy': 0.8983870967741936, 'eval_runtime': 26.7488, 'eval_samples_per_second': 115.893, 'eval_steps_per_second': 2.43, 'epoch': 3.0}\n",
      "{'loss': 134.2968, 'learning_rate': 1.2138364779874214e-05, 'epoch': 3.14}\n"
     ]
    },
    {
     "data": {
      "application/vnd.jupyter.widget-view+json": {
       "model_id": "4f0cafac107a457486053aca8905a5a0",
       "version_major": 2,
       "version_minor": 0
      },
      "text/plain": [
       "  0%|          | 0/65 [00:00<?, ?it/s]"
      ]
     },
     "metadata": {},
     "output_type": "display_data"
    },
    {
     "name": "stdout",
     "output_type": "stream",
     "text": [
      "{'eval_loss': 36.8720703125, 'eval_accuracy': 0.9148387096774193, 'eval_runtime': 26.6206, 'eval_samples_per_second': 116.451, 'eval_steps_per_second': 2.442, 'epoch': 4.0}\n",
      "{'loss': 45.1987, 'learning_rate': 8.207547169811321e-06, 'epoch': 4.72}\n"
     ]
    },
    {
     "data": {
      "application/vnd.jupyter.widget-view+json": {
       "model_id": "f05c67058be848d084e5a73ec8ddbe59",
       "version_major": 2,
       "version_minor": 0
      },
      "text/plain": [
       "  0%|          | 0/65 [00:00<?, ?it/s]"
      ]
     },
     "metadata": {},
     "output_type": "display_data"
    },
    {
     "name": "stdout",
     "output_type": "stream",
     "text": [
      "{'eval_loss': 28.893110275268555, 'eval_accuracy': 0.927741935483871, 'eval_runtime': 27.0378, 'eval_samples_per_second': 114.654, 'eval_steps_per_second': 2.404, 'epoch': 5.0}\n"
     ]
    },
    {
     "data": {
      "application/vnd.jupyter.widget-view+json": {
       "model_id": "9f1559efdae64595870669941d8bdbe2",
       "version_major": 2,
       "version_minor": 0
      },
      "text/plain": [
       "  0%|          | 0/65 [00:00<?, ?it/s]"
      ]
     },
     "metadata": {},
     "output_type": "display_data"
    },
    {
     "name": "stdout",
     "output_type": "stream",
     "text": [
      "{'eval_loss': 25.15157699584961, 'eval_accuracy': 0.932258064516129, 'eval_runtime': 26.6904, 'eval_samples_per_second': 116.147, 'eval_steps_per_second': 2.435, 'epoch': 6.0}\n",
      "{'loss': 28.6735, 'learning_rate': 4.276729559748428e-06, 'epoch': 6.29}\n"
     ]
    },
    {
     "data": {
      "application/vnd.jupyter.widget-view+json": {
       "model_id": "f367eacba59c439486df1219802b5dcb",
       "version_major": 2,
       "version_minor": 0
      },
      "text/plain": [
       "  0%|          | 0/65 [00:00<?, ?it/s]"
      ]
     },
     "metadata": {},
     "output_type": "display_data"
    },
    {
     "name": "stdout",
     "output_type": "stream",
     "text": [
      "{'eval_loss': 23.15143394470215, 'eval_accuracy': 0.9348387096774193, 'eval_runtime': 25.9114, 'eval_samples_per_second': 119.638, 'eval_steps_per_second': 2.509, 'epoch': 7.0}\n",
      "{'loss': 23.4454, 'learning_rate': 3.459119496855346e-07, 'epoch': 7.86}\n"
     ]
    },
    {
     "data": {
      "application/vnd.jupyter.widget-view+json": {
       "model_id": "2c14c83c569b457680dc2fb5a4b42e39",
       "version_major": 2,
       "version_minor": 0
      },
      "text/plain": [
       "  0%|          | 0/65 [00:00<?, ?it/s]"
      ]
     },
     "metadata": {},
     "output_type": "display_data"
    },
    {
     "name": "stderr",
     "output_type": "stream",
     "text": [
      "\u001b[32m[I 2022-09-11 08:09:12,077]\u001b[0m Trial 0 finished with value: 0.9329032258064516 and parameters: {'num_train_epochs': 8, 'alpha': 0.6222876118819244, 'temperature': 20}. Best is trial 0 with value: 0.9329032258064516.\u001b[0m\n"
     ]
    },
    {
     "name": "stdout",
     "output_type": "stream",
     "text": [
      "{'eval_loss': 22.747631072998047, 'eval_accuracy': 0.9329032258064516, 'eval_runtime': 25.6247, 'eval_samples_per_second': 120.977, 'eval_steps_per_second': 2.537, 'epoch': 8.0}\n",
      "{'train_runtime': 2384.2609, 'train_samples_per_second': 51.169, 'train_steps_per_second': 1.067, 'train_loss': 161.08817348840103, 'epoch': 8.0}\n"
     ]
    },
    {
     "name": "stderr",
     "output_type": "stream",
     "text": [
      "/opt/homebrew/Caskroom/miniforge/base/envs/transformers_test/lib/python3.10/site-packages/transformers/optimization.py:306: FutureWarning: This implementation of AdamW is deprecated and will be removed in a future version. Use the PyTorch implementation torch.optim.AdamW instead, or set `no_deprecation_warning=True` to disable this warning\n",
      "  warnings.warn(\n"
     ]
    },
    {
     "data": {
      "application/vnd.jupyter.widget-view+json": {
       "model_id": "6c6f1d241bf147b29a3eeabf87ba615c",
       "version_major": 2,
       "version_minor": 0
      },
      "text/plain": [
       "  0%|          | 0/1590 [00:00<?, ?it/s]"
      ]
     },
     "metadata": {},
     "output_type": "display_data"
    },
    {
     "data": {
      "application/vnd.jupyter.widget-view+json": {
       "model_id": "1922396a2678449c9e48c7f6fe24661f",
       "version_major": 2,
       "version_minor": 0
      },
      "text/plain": [
       "  0%|          | 0/65 [00:00<?, ?it/s]"
      ]
     },
     "metadata": {},
     "output_type": "display_data"
    },
    {
     "name": "stdout",
     "output_type": "stream",
     "text": [
      "{'eval_loss': 17.08588218688965, 'eval_accuracy': 0.6638709677419354, 'eval_runtime': 25.722, 'eval_samples_per_second': 120.519, 'eval_steps_per_second': 2.527, 'epoch': 1.0}\n",
      "{'loss': 23.9613, 'learning_rate': 1.371069182389937e-05, 'epoch': 1.57}\n"
     ]
    },
    {
     "data": {
      "application/vnd.jupyter.widget-view+json": {
       "model_id": "959128cbd84a47f2992db9c5e1b06053",
       "version_major": 2,
       "version_minor": 0
      },
      "text/plain": [
       "  0%|          | 0/65 [00:00<?, ?it/s]"
      ]
     },
     "metadata": {},
     "output_type": "display_data"
    },
    {
     "name": "stdout",
     "output_type": "stream",
     "text": [
      "{'eval_loss': 6.32084321975708, 'eval_accuracy': 0.7887096774193548, 'eval_runtime': 25.5805, 'eval_samples_per_second': 121.186, 'eval_steps_per_second': 2.541, 'epoch': 2.0}\n"
     ]
    },
    {
     "data": {
      "application/vnd.jupyter.widget-view+json": {
       "model_id": "b0c2f3dfd2964d6886acfd0d9c6b1466",
       "version_major": 2,
       "version_minor": 0
      },
      "text/plain": [
       "  0%|          | 0/65 [00:00<?, ?it/s]"
      ]
     },
     "metadata": {},
     "output_type": "display_data"
    },
    {
     "name": "stdout",
     "output_type": "stream",
     "text": [
      "{'eval_loss': 3.0382401943206787, 'eval_accuracy': 0.8648387096774194, 'eval_runtime': 25.6715, 'eval_samples_per_second': 120.756, 'eval_steps_per_second': 2.532, 'epoch': 3.0}\n",
      "{'loss': 6.7057, 'learning_rate': 7.421383647798742e-06, 'epoch': 3.14}\n"
     ]
    },
    {
     "data": {
      "application/vnd.jupyter.widget-view+json": {
       "model_id": "7aecb52283584a409fa2b8b21a9dfa3f",
       "version_major": 2,
       "version_minor": 0
      },
      "text/plain": [
       "  0%|          | 0/65 [00:00<?, ?it/s]"
      ]
     },
     "metadata": {},
     "output_type": "display_data"
    },
    {
     "name": "stdout",
     "output_type": "stream",
     "text": [
      "{'eval_loss': 2.15744948387146, 'eval_accuracy': 0.8964516129032258, 'eval_runtime': 25.0899, 'eval_samples_per_second': 123.556, 'eval_steps_per_second': 2.591, 'epoch': 4.0}\n",
      "{'loss': 2.8818, 'learning_rate': 1.1320754716981133e-06, 'epoch': 4.72}\n"
     ]
    },
    {
     "data": {
      "application/vnd.jupyter.widget-view+json": {
       "model_id": "f6d08540583346639ff9b1d050acf80c",
       "version_major": 2,
       "version_minor": 0
      },
      "text/plain": [
       "  0%|          | 0/65 [00:00<?, ?it/s]"
      ]
     },
     "metadata": {},
     "output_type": "display_data"
    },
    {
     "name": "stderr",
     "output_type": "stream",
     "text": [
      "\u001b[32m[I 2022-09-11 08:31:55,203]\u001b[0m Trial 1 finished with value: 0.9041935483870968 and parameters: {'num_train_epochs': 5, 'alpha': 0.283648179224557, 'temperature': 4}. Best is trial 0 with value: 0.9329032258064516.\u001b[0m\n"
     ]
    },
    {
     "name": "stdout",
     "output_type": "stream",
     "text": [
      "{'eval_loss': 1.9527842998504639, 'eval_accuracy': 0.9041935483870968, 'eval_runtime': 26.2067, 'eval_samples_per_second': 118.29, 'eval_steps_per_second': 2.48, 'epoch': 5.0}\n",
      "{'train_runtime': 1361.4542, 'train_samples_per_second': 56.006, 'train_steps_per_second': 1.168, 'train_loss': 10.68751485572671, 'epoch': 5.0}\n"
     ]
    },
    {
     "name": "stderr",
     "output_type": "stream",
     "text": [
      "/opt/homebrew/Caskroom/miniforge/base/envs/transformers_test/lib/python3.10/site-packages/transformers/optimization.py:306: FutureWarning: This implementation of AdamW is deprecated and will be removed in a future version. Use the PyTorch implementation torch.optim.AdamW instead, or set `no_deprecation_warning=True` to disable this warning\n",
      "  warnings.warn(\n"
     ]
    },
    {
     "data": {
      "application/vnd.jupyter.widget-view+json": {
       "model_id": "1fbab7b1415946f49a9cbc9116501566",
       "version_major": 2,
       "version_minor": 0
      },
      "text/plain": [
       "  0%|          | 0/3180 [00:00<?, ?it/s]"
      ]
     },
     "metadata": {},
     "output_type": "display_data"
    },
    {
     "data": {
      "application/vnd.jupyter.widget-view+json": {
       "model_id": "47399c3c36864b3694ffc7928d49bc63",
       "version_major": 2,
       "version_minor": 0
      },
      "text/plain": [
       "  0%|          | 0/65 [00:00<?, ?it/s]"
      ]
     },
     "metadata": {},
     "output_type": "display_data"
    },
    {
     "name": "stdout",
     "output_type": "stream",
     "text": [
      "{'eval_loss': 327.34002685546875, 'eval_accuracy': 0.6738709677419354, 'eval_runtime': 26.0987, 'eval_samples_per_second': 118.78, 'eval_steps_per_second': 2.491, 'epoch': 1.0}\n",
      "{'loss': 471.2332, 'learning_rate': 1.685534591194969e-05, 'epoch': 1.57}\n"
     ]
    },
    {
     "data": {
      "application/vnd.jupyter.widget-view+json": {
       "model_id": "f335f79426fa4eb893aa310c0a1b7f5d",
       "version_major": 2,
       "version_minor": 0
      },
      "text/plain": [
       "  0%|          | 0/65 [00:00<?, ?it/s]"
      ]
     },
     "metadata": {},
     "output_type": "display_data"
    },
    {
     "name": "stdout",
     "output_type": "stream",
     "text": [
      "{'eval_loss': 96.70613098144531, 'eval_accuracy': 0.8219354838709677, 'eval_runtime': 25.7383, 'eval_samples_per_second': 120.443, 'eval_steps_per_second': 2.525, 'epoch': 2.0}\n"
     ]
    },
    {
     "data": {
      "application/vnd.jupyter.widget-view+json": {
       "model_id": "604515100be9484b9622b08dd9bfe0db",
       "version_major": 2,
       "version_minor": 0
      },
      "text/plain": [
       "  0%|          | 0/65 [00:00<?, ?it/s]"
      ]
     },
     "metadata": {},
     "output_type": "display_data"
    },
    {
     "name": "stdout",
     "output_type": "stream",
     "text": [
      "{'eval_loss': 41.269439697265625, 'eval_accuracy': 0.9051612903225806, 'eval_runtime': 26.2184, 'eval_samples_per_second': 118.237, 'eval_steps_per_second': 2.479, 'epoch': 3.0}\n",
      "{'loss': 101.7273, 'learning_rate': 1.371069182389937e-05, 'epoch': 3.14}\n"
     ]
    },
    {
     "data": {
      "application/vnd.jupyter.widget-view+json": {
       "model_id": "cf47cdd10b314f8bb9847832f01ac692",
       "version_major": 2,
       "version_minor": 0
      },
      "text/plain": [
       "  0%|          | 0/65 [00:00<?, ?it/s]"
      ]
     },
     "metadata": {},
     "output_type": "display_data"
    },
    {
     "name": "stdout",
     "output_type": "stream",
     "text": [
      "{'eval_loss': 27.358102798461914, 'eval_accuracy': 0.9174193548387096, 'eval_runtime': 25.6457, 'eval_samples_per_second': 120.878, 'eval_steps_per_second': 2.535, 'epoch': 4.0}\n",
      "{'loss': 32.7561, 'learning_rate': 1.0566037735849058e-05, 'epoch': 4.72}\n"
     ]
    },
    {
     "data": {
      "application/vnd.jupyter.widget-view+json": {
       "model_id": "8c918f60c4fd4be2a34dde67ac08ac18",
       "version_major": 2,
       "version_minor": 0
      },
      "text/plain": [
       "  0%|          | 0/65 [00:00<?, ?it/s]"
      ]
     },
     "metadata": {},
     "output_type": "display_data"
    },
    {
     "name": "stdout",
     "output_type": "stream",
     "text": [
      "{'eval_loss': 21.0953369140625, 'eval_accuracy': 0.932258064516129, 'eval_runtime': 26.762, 'eval_samples_per_second': 115.836, 'eval_steps_per_second': 2.429, 'epoch': 5.0}\n"
     ]
    },
    {
     "data": {
      "application/vnd.jupyter.widget-view+json": {
       "model_id": "edbc83731234451ab49f39e40db9fde6",
       "version_major": 2,
       "version_minor": 0
      },
      "text/plain": [
       "  0%|          | 0/65 [00:00<?, ?it/s]"
      ]
     },
     "metadata": {},
     "output_type": "display_data"
    },
    {
     "name": "stdout",
     "output_type": "stream",
     "text": [
      "{'eval_loss': 18.05329704284668, 'eval_accuracy': 0.9335483870967742, 'eval_runtime': 29.5449, 'eval_samples_per_second': 104.925, 'eval_steps_per_second': 2.2, 'epoch': 6.0}\n",
      "{'loss': 20.1956, 'learning_rate': 7.421383647798742e-06, 'epoch': 6.29}\n"
     ]
    },
    {
     "data": {
      "application/vnd.jupyter.widget-view+json": {
       "model_id": "668fa69ace784492b4e327afc5f431bb",
       "version_major": 2,
       "version_minor": 0
      },
      "text/plain": [
       "  0%|          | 0/65 [00:00<?, ?it/s]"
      ]
     },
     "metadata": {},
     "output_type": "display_data"
    },
    {
     "name": "stdout",
     "output_type": "stream",
     "text": [
      "{'eval_loss': 16.241361618041992, 'eval_accuracy': 0.9374193548387096, 'eval_runtime': 28.8791, 'eval_samples_per_second': 107.344, 'eval_steps_per_second': 2.251, 'epoch': 7.0}\n",
      "{'loss': 15.8756, 'learning_rate': 4.276729559748428e-06, 'epoch': 7.86}\n"
     ]
    },
    {
     "data": {
      "application/vnd.jupyter.widget-view+json": {
       "model_id": "867424fa1805465da3600ba0aed8ad5e",
       "version_major": 2,
       "version_minor": 0
      },
      "text/plain": [
       "  0%|          | 0/65 [00:00<?, ?it/s]"
      ]
     },
     "metadata": {},
     "output_type": "display_data"
    },
    {
     "name": "stdout",
     "output_type": "stream",
     "text": [
      "{'eval_loss': 15.52964973449707, 'eval_accuracy': 0.9364516129032258, 'eval_runtime': 28.5586, 'eval_samples_per_second': 108.549, 'eval_steps_per_second': 2.276, 'epoch': 8.0}\n"
     ]
    },
    {
     "data": {
      "application/vnd.jupyter.widget-view+json": {
       "model_id": "1ad463d3128047c78cae57bc97511fcf",
       "version_major": 2,
       "version_minor": 0
      },
      "text/plain": [
       "  0%|          | 0/65 [00:00<?, ?it/s]"
      ]
     },
     "metadata": {},
     "output_type": "display_data"
    },
    {
     "name": "stdout",
     "output_type": "stream",
     "text": [
      "{'eval_loss': 14.770811080932617, 'eval_accuracy': 0.9387096774193548, 'eval_runtime': 25.7831, 'eval_samples_per_second': 120.234, 'eval_steps_per_second': 2.521, 'epoch': 9.0}\n",
      "{'loss': 14.2997, 'learning_rate': 1.1320754716981133e-06, 'epoch': 9.43}\n"
     ]
    },
    {
     "data": {
      "application/vnd.jupyter.widget-view+json": {
       "model_id": "12082bc8eb624253b4188975be2bbf8d",
       "version_major": 2,
       "version_minor": 0
      },
      "text/plain": [
       "  0%|          | 0/65 [00:00<?, ?it/s]"
      ]
     },
     "metadata": {},
     "output_type": "display_data"
    },
    {
     "name": "stderr",
     "output_type": "stream",
     "text": [
      "\u001b[32m[I 2022-09-11 09:20:11,135]\u001b[0m Trial 2 finished with value: 0.9383870967741935 and parameters: {'num_train_epochs': 10, 'alpha': 0.6614300866291808, 'temperature': 18}. Best is trial 2 with value: 0.9383870967741935.\u001b[0m\n"
     ]
    },
    {
     "name": "stdout",
     "output_type": "stream",
     "text": [
      "{'eval_loss': 14.756326675415039, 'eval_accuracy': 0.9383870967741935, 'eval_runtime': 26.0808, 'eval_samples_per_second': 118.862, 'eval_steps_per_second': 2.492, 'epoch': 10.0}\n",
      "{'train_runtime': 2893.3458, 'train_samples_per_second': 52.707, 'train_steps_per_second': 1.099, 'train_loss': 103.9290378402614, 'epoch': 10.0}\n"
     ]
    },
    {
     "name": "stderr",
     "output_type": "stream",
     "text": [
      "/opt/homebrew/Caskroom/miniforge/base/envs/transformers_test/lib/python3.10/site-packages/transformers/optimization.py:306: FutureWarning: This implementation of AdamW is deprecated and will be removed in a future version. Use the PyTorch implementation torch.optim.AdamW instead, or set `no_deprecation_warning=True` to disable this warning\n",
      "  warnings.warn(\n"
     ]
    },
    {
     "data": {
      "application/vnd.jupyter.widget-view+json": {
       "model_id": "c4ba65b38335484f8b6e7bf89e315624",
       "version_major": 2,
       "version_minor": 0
      },
      "text/plain": [
       "  0%|          | 0/3180 [00:00<?, ?it/s]"
      ]
     },
     "metadata": {},
     "output_type": "display_data"
    },
    {
     "data": {
      "application/vnd.jupyter.widget-view+json": {
       "model_id": "bddd081ac929463aa1cf42c18735724c",
       "version_major": 2,
       "version_minor": 0
      },
      "text/plain": [
       "  0%|          | 0/65 [00:00<?, ?it/s]"
      ]
     },
     "metadata": {},
     "output_type": "display_data"
    },
    {
     "name": "stdout",
     "output_type": "stream",
     "text": [
      "{'eval_loss': 16.1613826751709, 'eval_accuracy': 0.6735483870967742, 'eval_runtime': 26.9254, 'eval_samples_per_second': 115.133, 'eval_steps_per_second': 2.414, 'epoch': 1.0}\n",
      "{'loss': 23.2693, 'learning_rate': 1.685534591194969e-05, 'epoch': 1.57}\n"
     ]
    },
    {
     "data": {
      "application/vnd.jupyter.widget-view+json": {
       "model_id": "3fb5ad36a81640708f3f8500482166e9",
       "version_major": 2,
       "version_minor": 0
      },
      "text/plain": [
       "  0%|          | 0/65 [00:00<?, ?it/s]"
      ]
     },
     "metadata": {},
     "output_type": "display_data"
    },
    {
     "name": "stdout",
     "output_type": "stream",
     "text": [
      "{'eval_loss': 4.773478984832764, 'eval_accuracy': 0.8216129032258065, 'eval_runtime': 26.3137, 'eval_samples_per_second': 117.809, 'eval_steps_per_second': 2.47, 'epoch': 2.0}\n"
     ]
    },
    {
     "data": {
      "application/vnd.jupyter.widget-view+json": {
       "model_id": "5f000519905e40c1a743aa0b67fd9d32",
       "version_major": 2,
       "version_minor": 0
      },
      "text/plain": [
       "  0%|          | 0/65 [00:00<?, ?it/s]"
      ]
     },
     "metadata": {},
     "output_type": "display_data"
    },
    {
     "name": "stdout",
     "output_type": "stream",
     "text": [
      "{'eval_loss': 2.038999319076538, 'eval_accuracy': 0.905483870967742, 'eval_runtime': 26.939, 'eval_samples_per_second': 115.075, 'eval_steps_per_second': 2.413, 'epoch': 3.0}\n",
      "{'loss': 5.0244, 'learning_rate': 1.371069182389937e-05, 'epoch': 3.14}\n"
     ]
    },
    {
     "data": {
      "application/vnd.jupyter.widget-view+json": {
       "model_id": "2680f29a2b5f4cefae145265f62c3de9",
       "version_major": 2,
       "version_minor": 0
      },
      "text/plain": [
       "  0%|          | 0/65 [00:00<?, ?it/s]"
      ]
     },
     "metadata": {},
     "output_type": "display_data"
    },
    {
     "name": "stdout",
     "output_type": "stream",
     "text": [
      "{'eval_loss': 1.35089910030365, 'eval_accuracy': 0.9174193548387096, 'eval_runtime': 26.057, 'eval_samples_per_second': 118.97, 'eval_steps_per_second': 2.495, 'epoch': 4.0}\n",
      "{'loss': 1.6185, 'learning_rate': 1.0566037735849058e-05, 'epoch': 4.72}\n"
     ]
    },
    {
     "data": {
      "application/vnd.jupyter.widget-view+json": {
       "model_id": "084f1208c63e47d9b8bcdf85b5a7e707",
       "version_major": 2,
       "version_minor": 0
      },
      "text/plain": [
       "  0%|          | 0/65 [00:00<?, ?it/s]"
      ]
     },
     "metadata": {},
     "output_type": "display_data"
    },
    {
     "name": "stdout",
     "output_type": "stream",
     "text": [
      "{'eval_loss': 1.0419921875, 'eval_accuracy': 0.9319354838709677, 'eval_runtime': 26.4705, 'eval_samples_per_second': 117.111, 'eval_steps_per_second': 2.456, 'epoch': 5.0}\n"
     ]
    },
    {
     "data": {
      "application/vnd.jupyter.widget-view+json": {
       "model_id": "ca376aac4f57463d9fc1ee0ed1d0e25c",
       "version_major": 2,
       "version_minor": 0
      },
      "text/plain": [
       "  0%|          | 0/65 [00:00<?, ?it/s]"
      ]
     },
     "metadata": {},
     "output_type": "display_data"
    },
    {
     "name": "stdout",
     "output_type": "stream",
     "text": [
      "{'eval_loss': 0.8910449147224426, 'eval_accuracy': 0.9335483870967742, 'eval_runtime': 26.3323, 'eval_samples_per_second': 117.726, 'eval_steps_per_second': 2.468, 'epoch': 6.0}\n",
      "{'loss': 0.998, 'learning_rate': 7.421383647798742e-06, 'epoch': 6.29}\n"
     ]
    },
    {
     "data": {
      "application/vnd.jupyter.widget-view+json": {
       "model_id": "7d525a5ea46c4edc8a5a75342b12afc1",
       "version_major": 2,
       "version_minor": 0
      },
      "text/plain": [
       "  0%|          | 0/65 [00:00<?, ?it/s]"
      ]
     },
     "metadata": {},
     "output_type": "display_data"
    },
    {
     "name": "stdout",
     "output_type": "stream",
     "text": [
      "{'eval_loss': 0.8019853234291077, 'eval_accuracy': 0.9374193548387096, 'eval_runtime': 25.9198, 'eval_samples_per_second': 119.599, 'eval_steps_per_second': 2.508, 'epoch': 7.0}\n",
      "{'loss': 0.7842, 'learning_rate': 4.276729559748428e-06, 'epoch': 7.86}\n"
     ]
    },
    {
     "data": {
      "application/vnd.jupyter.widget-view+json": {
       "model_id": "f08424ae901e4ce0b82ea6c135f2aaf0",
       "version_major": 2,
       "version_minor": 0
      },
      "text/plain": [
       "  0%|          | 0/65 [00:00<?, ?it/s]"
      ]
     },
     "metadata": {},
     "output_type": "display_data"
    },
    {
     "name": "stdout",
     "output_type": "stream",
     "text": [
      "{'eval_loss': 0.7670263648033142, 'eval_accuracy': 0.9364516129032258, 'eval_runtime': 26.259, 'eval_samples_per_second': 118.055, 'eval_steps_per_second': 2.475, 'epoch': 8.0}\n"
     ]
    },
    {
     "data": {
      "application/vnd.jupyter.widget-view+json": {
       "model_id": "168357e52dae4c6fa0847ea3928bfc75",
       "version_major": 2,
       "version_minor": 0
      },
      "text/plain": [
       "  0%|          | 0/65 [00:00<?, ?it/s]"
      ]
     },
     "metadata": {},
     "output_type": "display_data"
    },
    {
     "name": "stdout",
     "output_type": "stream",
     "text": [
      "{'eval_loss': 0.7290367484092712, 'eval_accuracy': 0.9387096774193548, 'eval_runtime': 26.8787, 'eval_samples_per_second': 115.333, 'eval_steps_per_second': 2.418, 'epoch': 9.0}\n",
      "{'loss': 0.7064, 'learning_rate': 1.1320754716981133e-06, 'epoch': 9.43}\n"
     ]
    },
    {
     "data": {
      "application/vnd.jupyter.widget-view+json": {
       "model_id": "e611ec28ed064bb2938eb3bed1b17c6a",
       "version_major": 2,
       "version_minor": 0
      },
      "text/plain": [
       "  0%|          | 0/65 [00:00<?, ?it/s]"
      ]
     },
     "metadata": {},
     "output_type": "display_data"
    },
    {
     "name": "stderr",
     "output_type": "stream",
     "text": [
      "\u001b[32m[I 2022-09-11 10:06:07,513]\u001b[0m Trial 3 finished with value: 0.9387096774193548 and parameters: {'num_train_epochs': 10, 'alpha': 0.5061930041800977, 'temperature': 4}. Best is trial 3 with value: 0.9387096774193548.\u001b[0m\n"
     ]
    },
    {
     "name": "stdout",
     "output_type": "stream",
     "text": [
      "{'eval_loss': 0.7284942269325256, 'eval_accuracy': 0.9387096774193548, 'eval_runtime': 26.4123, 'eval_samples_per_second': 117.37, 'eval_steps_per_second': 2.461, 'epoch': 10.0}\n",
      "{'train_runtime': 2755.101, 'train_samples_per_second': 55.352, 'train_steps_per_second': 1.154, 'train_loss': 5.132544873795419, 'epoch': 10.0}\n"
     ]
    },
    {
     "name": "stderr",
     "output_type": "stream",
     "text": [
      "/opt/homebrew/Caskroom/miniforge/base/envs/transformers_test/lib/python3.10/site-packages/transformers/optimization.py:306: FutureWarning: This implementation of AdamW is deprecated and will be removed in a future version. Use the PyTorch implementation torch.optim.AdamW instead, or set `no_deprecation_warning=True` to disable this warning\n",
      "  warnings.warn(\n"
     ]
    },
    {
     "data": {
      "application/vnd.jupyter.widget-view+json": {
       "model_id": "92f4280708c8473c983a997add6a0c7d",
       "version_major": 2,
       "version_minor": 0
      },
      "text/plain": [
       "  0%|          | 0/2544 [00:00<?, ?it/s]"
      ]
     },
     "metadata": {},
     "output_type": "display_data"
    },
    {
     "data": {
      "application/vnd.jupyter.widget-view+json": {
       "model_id": "4130c2a045c14836bb67171babf3437d",
       "version_major": 2,
       "version_minor": 0
      },
      "text/plain": [
       "  0%|          | 0/65 [00:00<?, ?it/s]"
      ]
     },
     "metadata": {},
     "output_type": "display_data"
    },
    {
     "name": "stdout",
     "output_type": "stream",
     "text": [
      "{'eval_loss': 65.56271362304688, 'eval_accuracy': 0.6716129032258065, 'eval_runtime': 25.8732, 'eval_samples_per_second': 119.815, 'eval_steps_per_second': 2.512, 'epoch': 1.0}\n",
      "{'loss': 93.7595, 'learning_rate': 1.606918238993711e-05, 'epoch': 1.57}\n"
     ]
    },
    {
     "data": {
      "application/vnd.jupyter.widget-view+json": {
       "model_id": "8c45253f257f496988d2a0920b09b1de",
       "version_major": 2,
       "version_minor": 0
      },
      "text/plain": [
       "  0%|          | 0/65 [00:00<?, ?it/s]"
      ]
     },
     "metadata": {},
     "output_type": "display_data"
    },
    {
     "name": "stdout",
     "output_type": "stream",
     "text": [
      "{'eval_loss': 20.434467315673828, 'eval_accuracy': 0.8151612903225807, 'eval_runtime': 25.868, 'eval_samples_per_second': 119.839, 'eval_steps_per_second': 2.513, 'epoch': 2.0}\n"
     ]
    },
    {
     "data": {
      "application/vnd.jupyter.widget-view+json": {
       "model_id": "5cc0c4bf09124353a546622eddfb5bba",
       "version_major": 2,
       "version_minor": 0
      },
      "text/plain": [
       "  0%|          | 0/65 [00:00<?, ?it/s]"
      ]
     },
     "metadata": {},
     "output_type": "display_data"
    },
    {
     "name": "stdout",
     "output_type": "stream",
     "text": [
      "{'eval_loss': 8.83426284790039, 'eval_accuracy': 0.8980645161290323, 'eval_runtime': 26.4226, 'eval_samples_per_second': 117.324, 'eval_steps_per_second': 2.46, 'epoch': 3.0}\n",
      "{'loss': 21.4854, 'learning_rate': 1.2138364779874214e-05, 'epoch': 3.14}\n"
     ]
    },
    {
     "data": {
      "application/vnd.jupyter.widget-view+json": {
       "model_id": "36e4cc11b7d944858de2cb548d65f82d",
       "version_major": 2,
       "version_minor": 0
      },
      "text/plain": [
       "  0%|          | 0/65 [00:00<?, ?it/s]"
      ]
     },
     "metadata": {},
     "output_type": "display_data"
    },
    {
     "name": "stdout",
     "output_type": "stream",
     "text": [
      "{'eval_loss': 5.897258281707764, 'eval_accuracy': 0.9145161290322581, 'eval_runtime': 26.0999, 'eval_samples_per_second': 118.774, 'eval_steps_per_second': 2.49, 'epoch': 4.0}\n",
      "{'loss': 7.2277, 'learning_rate': 8.207547169811321e-06, 'epoch': 4.72}\n"
     ]
    },
    {
     "data": {
      "application/vnd.jupyter.widget-view+json": {
       "model_id": "f2b8bab9641e4d17abbd470f9de27e77",
       "version_major": 2,
       "version_minor": 0
      },
      "text/plain": [
       "  0%|          | 0/65 [00:00<?, ?it/s]"
      ]
     },
     "metadata": {},
     "output_type": "display_data"
    },
    {
     "name": "stdout",
     "output_type": "stream",
     "text": [
      "{'eval_loss': 4.620263576507568, 'eval_accuracy': 0.9270967741935484, 'eval_runtime': 26.5758, 'eval_samples_per_second': 116.648, 'eval_steps_per_second': 2.446, 'epoch': 5.0}\n"
     ]
    },
    {
     "data": {
      "application/vnd.jupyter.widget-view+json": {
       "model_id": "d9df4124cbd441a781c87dee9fb11f56",
       "version_major": 2,
       "version_minor": 0
      },
      "text/plain": [
       "  0%|          | 0/65 [00:00<?, ?it/s]"
      ]
     },
     "metadata": {},
     "output_type": "display_data"
    },
    {
     "name": "stdout",
     "output_type": "stream",
     "text": [
      "{'eval_loss': 4.021986484527588, 'eval_accuracy': 0.9325806451612904, 'eval_runtime': 26.3011, 'eval_samples_per_second': 117.866, 'eval_steps_per_second': 2.471, 'epoch': 6.0}\n",
      "{'loss': 4.5845, 'learning_rate': 4.276729559748428e-06, 'epoch': 6.29}\n"
     ]
    },
    {
     "data": {
      "application/vnd.jupyter.widget-view+json": {
       "model_id": "67bceb0db2994f8da7e8030c9451642d",
       "version_major": 2,
       "version_minor": 0
      },
      "text/plain": [
       "  0%|          | 0/65 [00:00<?, ?it/s]"
      ]
     },
     "metadata": {},
     "output_type": "display_data"
    },
    {
     "name": "stdout",
     "output_type": "stream",
     "text": [
      "{'eval_loss': 3.7031381130218506, 'eval_accuracy': 0.9341935483870968, 'eval_runtime': 26.1239, 'eval_samples_per_second': 118.665, 'eval_steps_per_second': 2.488, 'epoch': 7.0}\n",
      "{'loss': 3.7489, 'learning_rate': 3.459119496855346e-07, 'epoch': 7.86}\n"
     ]
    },
    {
     "data": {
      "application/vnd.jupyter.widget-view+json": {
       "model_id": "814626b3c2b241fbb00bc23583bfbd10",
       "version_major": 2,
       "version_minor": 0
      },
      "text/plain": [
       "  0%|          | 0/65 [00:00<?, ?it/s]"
      ]
     },
     "metadata": {},
     "output_type": "display_data"
    },
    {
     "name": "stderr",
     "output_type": "stream",
     "text": [
      "\u001b[32m[I 2022-09-11 10:42:46,151]\u001b[0m Trial 4 finished with value: 0.9335483870967742 and parameters: {'num_train_epochs': 8, 'alpha': 0.7470901685855658, 'temperature': 8}. Best is trial 3 with value: 0.9387096774193548.\u001b[0m\n"
     ]
    },
    {
     "name": "stdout",
     "output_type": "stream",
     "text": [
      "{'eval_loss': 3.6388418674468994, 'eval_accuracy': 0.9335483870967742, 'eval_runtime': 26.5806, 'eval_samples_per_second': 116.626, 'eval_steps_per_second': 2.445, 'epoch': 8.0}\n",
      "{'train_runtime': 2197.334, 'train_samples_per_second': 55.522, 'train_steps_per_second': 1.158, 'train_loss': 25.772505664225644, 'epoch': 8.0}\n"
     ]
    },
    {
     "name": "stderr",
     "output_type": "stream",
     "text": [
      "/opt/homebrew/Caskroom/miniforge/base/envs/transformers_test/lib/python3.10/site-packages/transformers/optimization.py:306: FutureWarning: This implementation of AdamW is deprecated and will be removed in a future version. Use the PyTorch implementation torch.optim.AdamW instead, or set `no_deprecation_warning=True` to disable this warning\n",
      "  warnings.warn(\n"
     ]
    },
    {
     "data": {
      "application/vnd.jupyter.widget-view+json": {
       "model_id": "772c591355b54908b112f05533a1c5ce",
       "version_major": 2,
       "version_minor": 0
      },
      "text/plain": [
       "  0%|          | 0/2544 [00:00<?, ?it/s]"
      ]
     },
     "metadata": {},
     "output_type": "display_data"
    },
    {
     "data": {
      "application/vnd.jupyter.widget-view+json": {
       "model_id": "c1eb9b5be8a841a5998a4e6cde07c7e8",
       "version_major": 2,
       "version_minor": 0
      },
      "text/plain": [
       "  0%|          | 0/65 [00:00<?, ?it/s]"
      ]
     },
     "metadata": {},
     "output_type": "display_data"
    },
    {
     "name": "stdout",
     "output_type": "stream",
     "text": [
      "{'eval_loss': 409.7368469238281, 'eval_accuracy': 0.6729032258064516, 'eval_runtime': 26.279, 'eval_samples_per_second': 117.965, 'eval_steps_per_second': 2.473, 'epoch': 1.0}\n",
      "{'loss': 585.9738, 'learning_rate': 1.606918238993711e-05, 'epoch': 1.57}\n"
     ]
    },
    {
     "data": {
      "application/vnd.jupyter.widget-view+json": {
       "model_id": "345b5f5f85d444bc87d01bf818a9f786",
       "version_major": 2,
       "version_minor": 0
      },
      "text/plain": [
       "  0%|          | 0/65 [00:00<?, ?it/s]"
      ]
     },
     "metadata": {},
     "output_type": "display_data"
    },
    {
     "name": "stdout",
     "output_type": "stream",
     "text": [
      "{'eval_loss': 127.71336364746094, 'eval_accuracy': 0.8151612903225807, 'eval_runtime': 26.809, 'eval_samples_per_second': 115.633, 'eval_steps_per_second': 2.425, 'epoch': 2.0}\n"
     ]
    },
    {
     "data": {
      "application/vnd.jupyter.widget-view+json": {
       "model_id": "8fec6d4784b9406bb52d4918691c0aaf",
       "version_major": 2,
       "version_minor": 0
      },
      "text/plain": [
       "  0%|          | 0/65 [00:00<?, ?it/s]"
      ]
     },
     "metadata": {},
     "output_type": "display_data"
    },
    {
     "name": "stdout",
     "output_type": "stream",
     "text": [
      "{'eval_loss': 55.2181510925293, 'eval_accuracy': 0.8983870967741936, 'eval_runtime': 25.9843, 'eval_samples_per_second': 119.303, 'eval_steps_per_second': 2.502, 'epoch': 3.0}\n",
      "{'loss': 134.2968, 'learning_rate': 1.2138364779874214e-05, 'epoch': 3.14}\n"
     ]
    },
    {
     "data": {
      "application/vnd.jupyter.widget-view+json": {
       "model_id": "64ba5b752acb4eeea4cbf39a656ffb5f",
       "version_major": 2,
       "version_minor": 0
      },
      "text/plain": [
       "  0%|          | 0/65 [00:00<?, ?it/s]"
      ]
     },
     "metadata": {},
     "output_type": "display_data"
    },
    {
     "name": "stdout",
     "output_type": "stream",
     "text": [
      "{'eval_loss': 36.8720703125, 'eval_accuracy': 0.9148387096774193, 'eval_runtime': 26.0868, 'eval_samples_per_second': 118.834, 'eval_steps_per_second': 2.492, 'epoch': 4.0}\n",
      "{'loss': 45.1987, 'learning_rate': 8.207547169811321e-06, 'epoch': 4.72}\n"
     ]
    },
    {
     "data": {
      "application/vnd.jupyter.widget-view+json": {
       "model_id": "313826255ff14ad39d3e5c180107be83",
       "version_major": 2,
       "version_minor": 0
      },
      "text/plain": [
       "  0%|          | 0/65 [00:00<?, ?it/s]"
      ]
     },
     "metadata": {},
     "output_type": "display_data"
    },
    {
     "name": "stdout",
     "output_type": "stream",
     "text": [
      "{'eval_loss': 28.893110275268555, 'eval_accuracy': 0.927741935483871, 'eval_runtime': 26.7183, 'eval_samples_per_second': 116.025, 'eval_steps_per_second': 2.433, 'epoch': 5.0}\n"
     ]
    },
    {
     "data": {
      "application/vnd.jupyter.widget-view+json": {
       "model_id": "df97508027e04774a878dbe0201a2218",
       "version_major": 2,
       "version_minor": 0
      },
      "text/plain": [
       "  0%|          | 0/65 [00:00<?, ?it/s]"
      ]
     },
     "metadata": {},
     "output_type": "display_data"
    },
    {
     "name": "stderr",
     "output_type": "stream",
     "text": [
      "\u001b[32m[I 2022-09-11 11:10:28,255]\u001b[0m Trial 5 pruned. \u001b[0m\n"
     ]
    },
    {
     "name": "stdout",
     "output_type": "stream",
     "text": [
      "{'eval_loss': 25.15157699584961, 'eval_accuracy': 0.932258064516129, 'eval_runtime': 25.9174, 'eval_samples_per_second': 119.611, 'eval_steps_per_second': 2.508, 'epoch': 6.0}\n"
     ]
    },
    {
     "name": "stderr",
     "output_type": "stream",
     "text": [
      "/opt/homebrew/Caskroom/miniforge/base/envs/transformers_test/lib/python3.10/site-packages/transformers/optimization.py:306: FutureWarning: This implementation of AdamW is deprecated and will be removed in a future version. Use the PyTorch implementation torch.optim.AdamW instead, or set `no_deprecation_warning=True` to disable this warning\n",
      "  warnings.warn(\n"
     ]
    },
    {
     "data": {
      "application/vnd.jupyter.widget-view+json": {
       "model_id": "48aa4005556f48b2ac056cc03a995b51",
       "version_major": 2,
       "version_minor": 0
      },
      "text/plain": [
       "  0%|          | 0/2226 [00:00<?, ?it/s]"
      ]
     },
     "metadata": {},
     "output_type": "display_data"
    },
    {
     "data": {
      "application/vnd.jupyter.widget-view+json": {
       "model_id": "cfe102f3990946af83cf869cd551af6e",
       "version_major": 2,
       "version_minor": 0
      },
      "text/plain": [
       "  0%|          | 0/65 [00:00<?, ?it/s]"
      ]
     },
     "metadata": {},
     "output_type": "display_data"
    },
    {
     "name": "stderr",
     "output_type": "stream",
     "text": [
      "\u001b[32m[I 2022-09-11 11:15:07,303]\u001b[0m Trial 6 pruned. \u001b[0m\n"
     ]
    },
    {
     "name": "stdout",
     "output_type": "stream",
     "text": [
      "{'eval_loss': 50.68577575683594, 'eval_accuracy': 0.6690322580645162, 'eval_runtime': 26.2265, 'eval_samples_per_second': 118.201, 'eval_steps_per_second': 2.478, 'epoch': 1.0}\n"
     ]
    },
    {
     "name": "stderr",
     "output_type": "stream",
     "text": [
      "/opt/homebrew/Caskroom/miniforge/base/envs/transformers_test/lib/python3.10/site-packages/transformers/optimization.py:306: FutureWarning: This implementation of AdamW is deprecated and will be removed in a future version. Use the PyTorch implementation torch.optim.AdamW instead, or set `no_deprecation_warning=True` to disable this warning\n",
      "  warnings.warn(\n"
     ]
    },
    {
     "data": {
      "application/vnd.jupyter.widget-view+json": {
       "model_id": "d1dd3646e42a4bcfb9cbca8ac031e52e",
       "version_major": 2,
       "version_minor": 0
      },
      "text/plain": [
       "  0%|          | 0/2544 [00:00<?, ?it/s]"
      ]
     },
     "metadata": {},
     "output_type": "display_data"
    },
    {
     "data": {
      "application/vnd.jupyter.widget-view+json": {
       "model_id": "f1e00c82074b4a3d80140548b22b3b0a",
       "version_major": 2,
       "version_minor": 0
      },
      "text/plain": [
       "  0%|          | 0/65 [00:00<?, ?it/s]"
      ]
     },
     "metadata": {},
     "output_type": "display_data"
    },
    {
     "name": "stderr",
     "output_type": "stream",
     "text": [
      "\u001b[32m[I 2022-09-11 11:19:52,151]\u001b[0m Trial 7 pruned. \u001b[0m\n"
     ]
    },
    {
     "name": "stdout",
     "output_type": "stream",
     "text": [
      "{'eval_loss': 36.86907196044922, 'eval_accuracy': 0.6703225806451613, 'eval_runtime': 27.773, 'eval_samples_per_second': 111.619, 'eval_steps_per_second': 2.34, 'epoch': 1.0}\n"
     ]
    },
    {
     "name": "stderr",
     "output_type": "stream",
     "text": [
      "/opt/homebrew/Caskroom/miniforge/base/envs/transformers_test/lib/python3.10/site-packages/transformers/optimization.py:306: FutureWarning: This implementation of AdamW is deprecated and will be removed in a future version. Use the PyTorch implementation torch.optim.AdamW instead, or set `no_deprecation_warning=True` to disable this warning\n",
      "  warnings.warn(\n"
     ]
    },
    {
     "data": {
      "application/vnd.jupyter.widget-view+json": {
       "model_id": "72fb82403fbc4888a4b16763a9960d5d",
       "version_major": 2,
       "version_minor": 0
      },
      "text/plain": [
       "  0%|          | 0/2544 [00:00<?, ?it/s]"
      ]
     },
     "metadata": {},
     "output_type": "display_data"
    },
    {
     "data": {
      "application/vnd.jupyter.widget-view+json": {
       "model_id": "a1b5fd98b8ca49dd80a39ceb88e3facc",
       "version_major": 2,
       "version_minor": 0
      },
      "text/plain": [
       "  0%|          | 0/65 [00:00<?, ?it/s]"
      ]
     },
     "metadata": {},
     "output_type": "display_data"
    },
    {
     "name": "stderr",
     "output_type": "stream",
     "text": [
      "\u001b[32m[I 2022-09-11 11:24:25,400]\u001b[0m Trial 8 pruned. \u001b[0m\n"
     ]
    },
    {
     "name": "stdout",
     "output_type": "stream",
     "text": [
      "{'eval_loss': 230.4776153564453, 'eval_accuracy': 0.6716129032258065, 'eval_runtime': 26.1272, 'eval_samples_per_second': 118.65, 'eval_steps_per_second': 2.488, 'epoch': 1.0}\n"
     ]
    },
    {
     "name": "stderr",
     "output_type": "stream",
     "text": [
      "/opt/homebrew/Caskroom/miniforge/base/envs/transformers_test/lib/python3.10/site-packages/transformers/optimization.py:306: FutureWarning: This implementation of AdamW is deprecated and will be removed in a future version. Use the PyTorch implementation torch.optim.AdamW instead, or set `no_deprecation_warning=True` to disable this warning\n",
      "  warnings.warn(\n"
     ]
    },
    {
     "data": {
      "application/vnd.jupyter.widget-view+json": {
       "model_id": "06c1185c169840e1a3172a1ed0e9bfc4",
       "version_major": 2,
       "version_minor": 0
      },
      "text/plain": [
       "  0%|          | 0/1908 [00:00<?, ?it/s]"
      ]
     },
     "metadata": {},
     "output_type": "display_data"
    },
    {
     "data": {
      "application/vnd.jupyter.widget-view+json": {
       "model_id": "d989906535dd4baea26d1448c5dd55a7",
       "version_major": 2,
       "version_minor": 0
      },
      "text/plain": [
       "  0%|          | 0/65 [00:00<?, ?it/s]"
      ]
     },
     "metadata": {},
     "output_type": "display_data"
    },
    {
     "name": "stderr",
     "output_type": "stream",
     "text": [
      "\u001b[32m[I 2022-09-11 11:29:00,793]\u001b[0m Trial 9 pruned. \u001b[0m\n"
     ]
    },
    {
     "name": "stdout",
     "output_type": "stream",
     "text": [
      "{'eval_loss': 67.11671447753906, 'eval_accuracy': 0.6674193548387096, 'eval_runtime': 26.301, 'eval_samples_per_second': 117.866, 'eval_steps_per_second': 2.471, 'epoch': 1.0}\n"
     ]
    },
    {
     "name": "stderr",
     "output_type": "stream",
     "text": [
      "/opt/homebrew/Caskroom/miniforge/base/envs/transformers_test/lib/python3.10/site-packages/transformers/optimization.py:306: FutureWarning: This implementation of AdamW is deprecated and will be removed in a future version. Use the PyTorch implementation torch.optim.AdamW instead, or set `no_deprecation_warning=True` to disable this warning\n",
      "  warnings.warn(\n"
     ]
    },
    {
     "data": {
      "application/vnd.jupyter.widget-view+json": {
       "model_id": "1ce18c90a1174dd08214216f49d661d4",
       "version_major": 2,
       "version_minor": 0
      },
      "text/plain": [
       "  0%|          | 0/3180 [00:00<?, ?it/s]"
      ]
     },
     "metadata": {},
     "output_type": "display_data"
    },
    {
     "data": {
      "application/vnd.jupyter.widget-view+json": {
       "model_id": "f10997a7c1a34f1f8bf582910ccd567d",
       "version_major": 2,
       "version_minor": 0
      },
      "text/plain": [
       "  0%|          | 0/65 [00:00<?, ?it/s]"
      ]
     },
     "metadata": {},
     "output_type": "display_data"
    },
    {
     "name": "stdout",
     "output_type": "stream",
     "text": [
      "{'eval_loss': 145.4540252685547, 'eval_accuracy': 0.6738709677419354, 'eval_runtime': 26.395, 'eval_samples_per_second': 117.446, 'eval_steps_per_second': 2.463, 'epoch': 1.0}\n",
      "{'loss': 209.4262, 'learning_rate': 1.685534591194969e-05, 'epoch': 1.57}\n"
     ]
    },
    {
     "data": {
      "application/vnd.jupyter.widget-view+json": {
       "model_id": "a53f57686ef64822a716a21628fb198a",
       "version_major": 2,
       "version_minor": 0
      },
      "text/plain": [
       "  0%|          | 0/65 [00:00<?, ?it/s]"
      ]
     },
     "metadata": {},
     "output_type": "display_data"
    },
    {
     "name": "stdout",
     "output_type": "stream",
     "text": [
      "{'eval_loss': 42.97153091430664, 'eval_accuracy': 0.822258064516129, 'eval_runtime': 25.8774, 'eval_samples_per_second': 119.796, 'eval_steps_per_second': 2.512, 'epoch': 2.0}\n"
     ]
    },
    {
     "data": {
      "application/vnd.jupyter.widget-view+json": {
       "model_id": "c9064e545c844fea8cfabbbcc6300807",
       "version_major": 2,
       "version_minor": 0
      },
      "text/plain": [
       "  0%|          | 0/65 [00:00<?, ?it/s]"
      ]
     },
     "metadata": {},
     "output_type": "display_data"
    },
    {
     "name": "stdout",
     "output_type": "stream",
     "text": [
      "{'eval_loss': 18.352121353149414, 'eval_accuracy': 0.9048387096774193, 'eval_runtime': 25.6736, 'eval_samples_per_second': 120.747, 'eval_steps_per_second': 2.532, 'epoch': 3.0}\n",
      "{'loss': 45.2262, 'learning_rate': 1.371069182389937e-05, 'epoch': 3.14}\n"
     ]
    },
    {
     "data": {
      "application/vnd.jupyter.widget-view+json": {
       "model_id": "dda149f310144b15a635bfc19da2f6c5",
       "version_major": 2,
       "version_minor": 0
      },
      "text/plain": [
       "  0%|          | 0/65 [00:00<?, ?it/s]"
      ]
     },
     "metadata": {},
     "output_type": "display_data"
    },
    {
     "name": "stdout",
     "output_type": "stream",
     "text": [
      "{'eval_loss': 12.165090560913086, 'eval_accuracy': 0.9170967741935484, 'eval_runtime': 26.1802, 'eval_samples_per_second': 118.41, 'eval_steps_per_second': 2.483, 'epoch': 4.0}\n",
      "{'loss': 14.5696, 'learning_rate': 1.0566037735849058e-05, 'epoch': 4.72}\n"
     ]
    },
    {
     "data": {
      "application/vnd.jupyter.widget-view+json": {
       "model_id": "1c5fa73372b743e1aef6cd3edeec4cc1",
       "version_major": 2,
       "version_minor": 0
      },
      "text/plain": [
       "  0%|          | 0/65 [00:00<?, ?it/s]"
      ]
     },
     "metadata": {},
     "output_type": "display_data"
    },
    {
     "name": "stdout",
     "output_type": "stream",
     "text": [
      "{'eval_loss': 9.379666328430176, 'eval_accuracy': 0.9319354838709677, 'eval_runtime': 25.2321, 'eval_samples_per_second': 122.859, 'eval_steps_per_second': 2.576, 'epoch': 5.0}\n"
     ]
    },
    {
     "data": {
      "application/vnd.jupyter.widget-view+json": {
       "model_id": "6a16a600679c4d688548451b7efecbe8",
       "version_major": 2,
       "version_minor": 0
      },
      "text/plain": [
       "  0%|          | 0/65 [00:00<?, ?it/s]"
      ]
     },
     "metadata": {},
     "output_type": "display_data"
    },
    {
     "name": "stdout",
     "output_type": "stream",
     "text": [
      "{'eval_loss': 8.022161483764648, 'eval_accuracy': 0.9332258064516129, 'eval_runtime': 26.2807, 'eval_samples_per_second': 117.957, 'eval_steps_per_second': 2.473, 'epoch': 6.0}\n",
      "{'loss': 8.9832, 'learning_rate': 7.421383647798742e-06, 'epoch': 6.29}\n"
     ]
    },
    {
     "data": {
      "application/vnd.jupyter.widget-view+json": {
       "model_id": "41e96caebc964d7f827b57378807ba3a",
       "version_major": 2,
       "version_minor": 0
      },
      "text/plain": [
       "  0%|          | 0/65 [00:00<?, ?it/s]"
      ]
     },
     "metadata": {},
     "output_type": "display_data"
    },
    {
     "name": "stdout",
     "output_type": "stream",
     "text": [
      "{'eval_loss': 7.218976974487305, 'eval_accuracy': 0.9374193548387096, 'eval_runtime': 26.5248, 'eval_samples_per_second': 116.872, 'eval_steps_per_second': 2.451, 'epoch': 7.0}\n",
      "{'loss': 7.0585, 'learning_rate': 4.276729559748428e-06, 'epoch': 7.86}\n"
     ]
    },
    {
     "data": {
      "application/vnd.jupyter.widget-view+json": {
       "model_id": "586fa2331630457a99cf689d59540b3e",
       "version_major": 2,
       "version_minor": 0
      },
      "text/plain": [
       "  0%|          | 0/65 [00:00<?, ?it/s]"
      ]
     },
     "metadata": {},
     "output_type": "display_data"
    },
    {
     "name": "stdout",
     "output_type": "stream",
     "text": [
      "{'eval_loss': 6.903942584991455, 'eval_accuracy': 0.9364516129032258, 'eval_runtime': 25.7039, 'eval_samples_per_second': 120.604, 'eval_steps_per_second': 2.529, 'epoch': 8.0}\n"
     ]
    },
    {
     "data": {
      "application/vnd.jupyter.widget-view+json": {
       "model_id": "28dcf6ed90cd4cf38092673220b41af6",
       "version_major": 2,
       "version_minor": 0
      },
      "text/plain": [
       "  0%|          | 0/65 [00:00<?, ?it/s]"
      ]
     },
     "metadata": {},
     "output_type": "display_data"
    },
    {
     "name": "stderr",
     "output_type": "stream",
     "text": [
      "\u001b[32m[I 2022-09-11 12:10:15,002]\u001b[0m Trial 10 pruned. \u001b[0m\n"
     ]
    },
    {
     "name": "stdout",
     "output_type": "stream",
     "text": [
      "{'eval_loss': 6.563264846801758, 'eval_accuracy': 0.9380645161290323, 'eval_runtime': 26.4321, 'eval_samples_per_second': 117.281, 'eval_steps_per_second': 2.459, 'epoch': 9.0}\n"
     ]
    },
    {
     "name": "stderr",
     "output_type": "stream",
     "text": [
      "/opt/homebrew/Caskroom/miniforge/base/envs/transformers_test/lib/python3.10/site-packages/transformers/optimization.py:306: FutureWarning: This implementation of AdamW is deprecated and will be removed in a future version. Use the PyTorch implementation torch.optim.AdamW instead, or set `no_deprecation_warning=True` to disable this warning\n",
      "  warnings.warn(\n"
     ]
    },
    {
     "data": {
      "application/vnd.jupyter.widget-view+json": {
       "model_id": "8433cd4ef9e54df79ea3f74d1ebfb9ef",
       "version_major": 2,
       "version_minor": 0
      },
      "text/plain": [
       "  0%|          | 0/3180 [00:00<?, ?it/s]"
      ]
     },
     "metadata": {},
     "output_type": "display_data"
    },
    {
     "data": {
      "application/vnd.jupyter.widget-view+json": {
       "model_id": "e446e11e203f485d98921c53dd1b9dbc",
       "version_major": 2,
       "version_minor": 0
      },
      "text/plain": [
       "  0%|          | 0/65 [00:00<?, ?it/s]"
      ]
     },
     "metadata": {},
     "output_type": "display_data"
    },
    {
     "name": "stdout",
     "output_type": "stream",
     "text": [
      "{'eval_loss': 4.040698528289795, 'eval_accuracy': 0.6735483870967742, 'eval_runtime': 26.7558, 'eval_samples_per_second': 115.863, 'eval_steps_per_second': 2.429, 'epoch': 1.0}\n",
      "{'loss': 5.8176, 'learning_rate': 1.685534591194969e-05, 'epoch': 1.57}\n"
     ]
    },
    {
     "data": {
      "application/vnd.jupyter.widget-view+json": {
       "model_id": "4e36937d8fa24c8dba024d8f53bd013f",
       "version_major": 2,
       "version_minor": 0
      },
      "text/plain": [
       "  0%|          | 0/65 [00:00<?, ?it/s]"
      ]
     },
     "metadata": {},
     "output_type": "display_data"
    },
    {
     "name": "stdout",
     "output_type": "stream",
     "text": [
      "{'eval_loss': 1.193907618522644, 'eval_accuracy': 0.8212903225806452, 'eval_runtime': 26.1192, 'eval_samples_per_second': 118.686, 'eval_steps_per_second': 2.489, 'epoch': 2.0}\n"
     ]
    },
    {
     "data": {
      "application/vnd.jupyter.widget-view+json": {
       "model_id": "a5ceeda5249b4c68a60a66c2eaae9028",
       "version_major": 2,
       "version_minor": 0
      },
      "text/plain": [
       "  0%|          | 0/65 [00:00<?, ?it/s]"
      ]
     },
     "metadata": {},
     "output_type": "display_data"
    },
    {
     "name": "stdout",
     "output_type": "stream",
     "text": [
      "{'eval_loss': 0.5095374584197998, 'eval_accuracy': 0.905483870967742, 'eval_runtime': 26.1929, 'eval_samples_per_second': 118.353, 'eval_steps_per_second': 2.482, 'epoch': 3.0}\n",
      "{'loss': 1.2561, 'learning_rate': 1.371069182389937e-05, 'epoch': 3.14}\n"
     ]
    },
    {
     "data": {
      "application/vnd.jupyter.widget-view+json": {
       "model_id": "4be39f653b9442bcb1c887a5c78ec228",
       "version_major": 2,
       "version_minor": 0
      },
      "text/plain": [
       "  0%|          | 0/65 [00:00<?, ?it/s]"
      ]
     },
     "metadata": {},
     "output_type": "display_data"
    },
    {
     "name": "stdout",
     "output_type": "stream",
     "text": [
      "{'eval_loss': 0.3377636671066284, 'eval_accuracy': 0.9180645161290323, 'eval_runtime': 26.4557, 'eval_samples_per_second': 117.177, 'eval_steps_per_second': 2.457, 'epoch': 4.0}\n",
      "{'loss': 0.4045, 'learning_rate': 1.0566037735849058e-05, 'epoch': 4.72}\n"
     ]
    },
    {
     "data": {
      "application/vnd.jupyter.widget-view+json": {
       "model_id": "8cf7220a94054be28b50d3134c5aee28",
       "version_major": 2,
       "version_minor": 0
      },
      "text/plain": [
       "  0%|          | 0/65 [00:00<?, ?it/s]"
      ]
     },
     "metadata": {},
     "output_type": "display_data"
    },
    {
     "name": "stdout",
     "output_type": "stream",
     "text": [
      "{'eval_loss': 0.2604124844074249, 'eval_accuracy': 0.932258064516129, 'eval_runtime': 26.3588, 'eval_samples_per_second': 117.608, 'eval_steps_per_second': 2.466, 'epoch': 5.0}\n"
     ]
    },
    {
     "data": {
      "application/vnd.jupyter.widget-view+json": {
       "model_id": "f73f33d4aac94626ad38a5bd3f429a50",
       "version_major": 2,
       "version_minor": 0
      },
      "text/plain": [
       "  0%|          | 0/65 [00:00<?, ?it/s]"
      ]
     },
     "metadata": {},
     "output_type": "display_data"
    },
    {
     "name": "stdout",
     "output_type": "stream",
     "text": [
      "{'eval_loss': 0.22283005714416504, 'eval_accuracy': 0.9335483870967742, 'eval_runtime': 26.7658, 'eval_samples_per_second': 115.819, 'eval_steps_per_second': 2.428, 'epoch': 6.0}\n",
      "{'loss': 0.2494, 'learning_rate': 7.421383647798742e-06, 'epoch': 6.29}\n"
     ]
    },
    {
     "data": {
      "application/vnd.jupyter.widget-view+json": {
       "model_id": "7526699dfa9844b78959743a9adce9c9",
       "version_major": 2,
       "version_minor": 0
      },
      "text/plain": [
       "  0%|          | 0/65 [00:00<?, ?it/s]"
      ]
     },
     "metadata": {},
     "output_type": "display_data"
    },
    {
     "name": "stdout",
     "output_type": "stream",
     "text": [
      "{'eval_loss': 0.20045776665210724, 'eval_accuracy': 0.9374193548387096, 'eval_runtime': 26.5527, 'eval_samples_per_second': 116.749, 'eval_steps_per_second': 2.448, 'epoch': 7.0}\n",
      "{'loss': 0.196, 'learning_rate': 4.276729559748428e-06, 'epoch': 7.86}\n"
     ]
    },
    {
     "data": {
      "application/vnd.jupyter.widget-view+json": {
       "model_id": "19cdcde4de4b46ecaa60c42bdc936934",
       "version_major": 2,
       "version_minor": 0
      },
      "text/plain": [
       "  0%|          | 0/65 [00:00<?, ?it/s]"
      ]
     },
     "metadata": {},
     "output_type": "display_data"
    },
    {
     "name": "stdout",
     "output_type": "stream",
     "text": [
      "{'eval_loss': 0.19164671003818512, 'eval_accuracy': 0.9364516129032258, 'eval_runtime': 26.4386, 'eval_samples_per_second': 117.253, 'eval_steps_per_second': 2.459, 'epoch': 8.0}\n"
     ]
    },
    {
     "data": {
      "application/vnd.jupyter.widget-view+json": {
       "model_id": "c5371cbf0dd2492c8ed0252574c5432e",
       "version_major": 2,
       "version_minor": 0
      },
      "text/plain": [
       "  0%|          | 0/65 [00:00<?, ?it/s]"
      ]
     },
     "metadata": {},
     "output_type": "display_data"
    },
    {
     "name": "stdout",
     "output_type": "stream",
     "text": [
      "{'eval_loss': 0.1823204606771469, 'eval_accuracy': 0.9387096774193548, 'eval_runtime': 27.019, 'eval_samples_per_second': 114.734, 'eval_steps_per_second': 2.406, 'epoch': 9.0}\n",
      "{'loss': 0.1765, 'learning_rate': 1.1320754716981133e-06, 'epoch': 9.43}\n"
     ]
    },
    {
     "data": {
      "application/vnd.jupyter.widget-view+json": {
       "model_id": "2f4d7d5a69d342698b7e413bd9b79f06",
       "version_major": 2,
       "version_minor": 0
      },
      "text/plain": [
       "  0%|          | 0/65 [00:00<?, ?it/s]"
      ]
     },
     "metadata": {},
     "output_type": "display_data"
    },
    {
     "name": "stderr",
     "output_type": "stream",
     "text": [
      "\u001b[32m[I 2022-09-11 12:57:50,512]\u001b[0m Trial 11 finished with value: 0.9383870967741935 and parameters: {'num_train_epochs': 10, 'alpha': 0.5244837570964943, 'temperature': 2}. Best is trial 3 with value: 0.9387096774193548.\u001b[0m\n"
     ]
    },
    {
     "name": "stdout",
     "output_type": "stream",
     "text": [
      "{'eval_loss': 0.18210305273532867, 'eval_accuracy': 0.9383870967741935, 'eval_runtime': 28.1708, 'eval_samples_per_second': 110.043, 'eval_steps_per_second': 2.307, 'epoch': 10.0}\n",
      "{'train_runtime': 2854.1188, 'train_samples_per_second': 53.432, 'train_steps_per_second': 1.114, 'train_loss': 1.2831302234961552, 'epoch': 10.0}\n"
     ]
    },
    {
     "name": "stderr",
     "output_type": "stream",
     "text": [
      "/opt/homebrew/Caskroom/miniforge/base/envs/transformers_test/lib/python3.10/site-packages/transformers/optimization.py:306: FutureWarning: This implementation of AdamW is deprecated and will be removed in a future version. Use the PyTorch implementation torch.optim.AdamW instead, or set `no_deprecation_warning=True` to disable this warning\n",
      "  warnings.warn(\n"
     ]
    },
    {
     "data": {
      "application/vnd.jupyter.widget-view+json": {
       "model_id": "d9abe4826ea24046bd9df5ebfc498795",
       "version_major": 2,
       "version_minor": 0
      },
      "text/plain": [
       "  0%|          | 0/3180 [00:00<?, ?it/s]"
      ]
     },
     "metadata": {},
     "output_type": "display_data"
    },
    {
     "data": {
      "application/vnd.jupyter.widget-view+json": {
       "model_id": "a16a71aa343042e198854be9f6e45981",
       "version_major": 2,
       "version_minor": 0
      },
      "text/plain": [
       "  0%|          | 0/65 [00:00<?, ?it/s]"
      ]
     },
     "metadata": {},
     "output_type": "display_data"
    },
    {
     "name": "stdout",
     "output_type": "stream",
     "text": [
      "{'eval_loss': 227.2723388671875, 'eval_accuracy': 0.6738709677419354, 'eval_runtime': 31.8681, 'eval_samples_per_second': 97.276, 'eval_steps_per_second': 2.04, 'epoch': 1.0}\n",
      "{'loss': 327.2268, 'learning_rate': 1.685534591194969e-05, 'epoch': 1.57}\n"
     ]
    },
    {
     "data": {
      "application/vnd.jupyter.widget-view+json": {
       "model_id": "d7e43cbec430405782a69dd013165a20",
       "version_major": 2,
       "version_minor": 0
      },
      "text/plain": [
       "  0%|          | 0/65 [00:00<?, ?it/s]"
      ]
     },
     "metadata": {},
     "output_type": "display_data"
    },
    {
     "name": "stdout",
     "output_type": "stream",
     "text": [
      "{'eval_loss': 67.13215637207031, 'eval_accuracy': 0.8212903225806452, 'eval_runtime': 26.9622, 'eval_samples_per_second': 114.976, 'eval_steps_per_second': 2.411, 'epoch': 2.0}\n"
     ]
    },
    {
     "data": {
      "application/vnd.jupyter.widget-view+json": {
       "model_id": "d633b9c0b1834c2aa7f8b7ab941283ba",
       "version_major": 2,
       "version_minor": 0
      },
      "text/plain": [
       "  0%|          | 0/65 [00:00<?, ?it/s]"
      ]
     },
     "metadata": {},
     "output_type": "display_data"
    },
    {
     "name": "stdout",
     "output_type": "stream",
     "text": [
      "{'eval_loss': 28.668346405029297, 'eval_accuracy': 0.905483870967742, 'eval_runtime': 25.5451, 'eval_samples_per_second': 121.354, 'eval_steps_per_second': 2.545, 'epoch': 3.0}\n",
      "{'loss': 70.6507, 'learning_rate': 1.371069182389937e-05, 'epoch': 3.14}\n"
     ]
    },
    {
     "data": {
      "application/vnd.jupyter.widget-view+json": {
       "model_id": "2df15416109049dd93faeee687cab1f1",
       "version_major": 2,
       "version_minor": 0
      },
      "text/plain": [
       "  0%|          | 0/65 [00:00<?, ?it/s]"
      ]
     },
     "metadata": {},
     "output_type": "display_data"
    },
    {
     "name": "stdout",
     "output_type": "stream",
     "text": [
      "{'eval_loss': 19.001802444458008, 'eval_accuracy': 0.9170967741935484, 'eval_runtime': 27.0105, 'eval_samples_per_second': 114.77, 'eval_steps_per_second': 2.406, 'epoch': 4.0}\n",
      "{'loss': 22.7602, 'learning_rate': 1.0566037735849058e-05, 'epoch': 4.72}\n"
     ]
    },
    {
     "data": {
      "application/vnd.jupyter.widget-view+json": {
       "model_id": "0c77120094bf422da078166c7c463742",
       "version_major": 2,
       "version_minor": 0
      },
      "text/plain": [
       "  0%|          | 0/65 [00:00<?, ?it/s]"
      ]
     },
     "metadata": {},
     "output_type": "display_data"
    },
    {
     "name": "stdout",
     "output_type": "stream",
     "text": [
      "{'eval_loss': 14.65249252319336, 'eval_accuracy': 0.9319354838709677, 'eval_runtime': 27.9193, 'eval_samples_per_second': 111.034, 'eval_steps_per_second': 2.328, 'epoch': 5.0}\n"
     ]
    },
    {
     "data": {
      "application/vnd.jupyter.widget-view+json": {
       "model_id": "bab2e2989b2c464283d6eb1e57c1cce9",
       "version_major": 2,
       "version_minor": 0
      },
      "text/plain": [
       "  0%|          | 0/65 [00:00<?, ?it/s]"
      ]
     },
     "metadata": {},
     "output_type": "display_data"
    },
    {
     "name": "stdout",
     "output_type": "stream",
     "text": [
      "{'eval_loss': 12.534611701965332, 'eval_accuracy': 0.9335483870967742, 'eval_runtime': 26.2083, 'eval_samples_per_second': 118.283, 'eval_steps_per_second': 2.48, 'epoch': 6.0}\n",
      "{'loss': 14.0344, 'learning_rate': 7.421383647798742e-06, 'epoch': 6.29}\n"
     ]
    },
    {
     "data": {
      "application/vnd.jupyter.widget-view+json": {
       "model_id": "4f4137eb1205417898da3e872a75d58b",
       "version_major": 2,
       "version_minor": 0
      },
      "text/plain": [
       "  0%|          | 0/65 [00:00<?, ?it/s]"
      ]
     },
     "metadata": {},
     "output_type": "display_data"
    },
    {
     "name": "stderr",
     "output_type": "stream",
     "text": [
      "\u001b[32m[I 2022-09-11 14:02:16,390]\u001b[0m Trial 12 pruned. \u001b[0m\n"
     ]
    },
    {
     "name": "stdout",
     "output_type": "stream",
     "text": [
      "{'eval_loss': 11.279304504394531, 'eval_accuracy': 0.9370967741935484, 'eval_runtime': 26.181, 'eval_samples_per_second': 118.406, 'eval_steps_per_second': 2.483, 'epoch': 7.0}\n"
     ]
    },
    {
     "name": "stderr",
     "output_type": "stream",
     "text": [
      "/opt/homebrew/Caskroom/miniforge/base/envs/transformers_test/lib/python3.10/site-packages/transformers/optimization.py:306: FutureWarning: This implementation of AdamW is deprecated and will be removed in a future version. Use the PyTorch implementation torch.optim.AdamW instead, or set `no_deprecation_warning=True` to disable this warning\n",
      "  warnings.warn(\n"
     ]
    },
    {
     "data": {
      "application/vnd.jupyter.widget-view+json": {
       "model_id": "0c91563e13f042fc81bb74d1fc47ff6b",
       "version_major": 2,
       "version_minor": 0
      },
      "text/plain": [
       "  0%|          | 0/2862 [00:00<?, ?it/s]"
      ]
     },
     "metadata": {},
     "output_type": "display_data"
    },
    {
     "data": {
      "application/vnd.jupyter.widget-view+json": {
       "model_id": "3ef61d3e9ba947d4aa0b523b8d0a78d6",
       "version_major": 2,
       "version_minor": 0
      },
      "text/plain": [
       "  0%|          | 0/65 [00:00<?, ?it/s]"
      ]
     },
     "metadata": {},
     "output_type": "display_data"
    },
    {
     "name": "stderr",
     "output_type": "stream",
     "text": [
      "\u001b[32m[I 2022-09-11 14:07:44,501]\u001b[0m Trial 13 pruned. \u001b[0m\n"
     ]
    },
    {
     "name": "stdout",
     "output_type": "stream",
     "text": [
      "{'eval_loss': 260.131103515625, 'eval_accuracy': 0.6729032258064516, 'eval_runtime': 29.4055, 'eval_samples_per_second': 105.423, 'eval_steps_per_second': 2.21, 'epoch': 1.0}\n"
     ]
    },
    {
     "name": "stderr",
     "output_type": "stream",
     "text": [
      "/opt/homebrew/Caskroom/miniforge/base/envs/transformers_test/lib/python3.10/site-packages/transformers/optimization.py:306: FutureWarning: This implementation of AdamW is deprecated and will be removed in a future version. Use the PyTorch implementation torch.optim.AdamW instead, or set `no_deprecation_warning=True` to disable this warning\n",
      "  warnings.warn(\n"
     ]
    },
    {
     "data": {
      "application/vnd.jupyter.widget-view+json": {
       "model_id": "8b4b9b699c0a43b1a1b9365f3532abeb",
       "version_major": 2,
       "version_minor": 0
      },
      "text/plain": [
       "  0%|          | 0/2862 [00:00<?, ?it/s]"
      ]
     },
     "metadata": {},
     "output_type": "display_data"
    },
    {
     "data": {
      "application/vnd.jupyter.widget-view+json": {
       "model_id": "13b0f0e11ec64ac7bb2cbff2f034d788",
       "version_major": 2,
       "version_minor": 0
      },
      "text/plain": [
       "  0%|          | 0/65 [00:00<?, ?it/s]"
      ]
     },
     "metadata": {},
     "output_type": "display_data"
    },
    {
     "name": "stderr",
     "output_type": "stream",
     "text": [
      "\u001b[32m[I 2022-09-11 14:13:23,635]\u001b[0m Trial 14 pruned. \u001b[0m\n"
     ]
    },
    {
     "name": "stdout",
     "output_type": "stream",
     "text": [
      "{'eval_loss': 122.95350646972656, 'eval_accuracy': 0.6729032258064516, 'eval_runtime': 27.5237, 'eval_samples_per_second': 112.63, 'eval_steps_per_second': 2.362, 'epoch': 1.0}\n"
     ]
    },
    {
     "name": "stderr",
     "output_type": "stream",
     "text": [
      "/opt/homebrew/Caskroom/miniforge/base/envs/transformers_test/lib/python3.10/site-packages/transformers/optimization.py:306: FutureWarning: This implementation of AdamW is deprecated and will be removed in a future version. Use the PyTorch implementation torch.optim.AdamW instead, or set `no_deprecation_warning=True` to disable this warning\n",
      "  warnings.warn(\n"
     ]
    },
    {
     "data": {
      "application/vnd.jupyter.widget-view+json": {
       "model_id": "cb4594b3c03d4b0d9f68bd0c0dab9fe4",
       "version_major": 2,
       "version_minor": 0
      },
      "text/plain": [
       "  0%|          | 0/2862 [00:00<?, ?it/s]"
      ]
     },
     "metadata": {},
     "output_type": "display_data"
    },
    {
     "data": {
      "application/vnd.jupyter.widget-view+json": {
       "model_id": "d98d7b775c714f8baa6e8fd230ca3f0a",
       "version_major": 2,
       "version_minor": 0
      },
      "text/plain": [
       "  0%|          | 0/65 [00:00<?, ?it/s]"
      ]
     },
     "metadata": {},
     "output_type": "display_data"
    },
    {
     "name": "stderr",
     "output_type": "stream",
     "text": [
      "\u001b[32m[I 2022-09-11 14:18:07,296]\u001b[0m Trial 15 pruned. \u001b[0m\n"
     ]
    },
    {
     "name": "stdout",
     "output_type": "stream",
     "text": [
      "{'eval_loss': 122.95350646972656, 'eval_accuracy': 0.6729032258064516, 'eval_runtime': 26.8279, 'eval_samples_per_second': 115.551, 'eval_steps_per_second': 2.423, 'epoch': 1.0}\n"
     ]
    },
    {
     "name": "stderr",
     "output_type": "stream",
     "text": [
      "/opt/homebrew/Caskroom/miniforge/base/envs/transformers_test/lib/python3.10/site-packages/transformers/optimization.py:306: FutureWarning: This implementation of AdamW is deprecated and will be removed in a future version. Use the PyTorch implementation torch.optim.AdamW instead, or set `no_deprecation_warning=True` to disable this warning\n",
      "  warnings.warn(\n"
     ]
    },
    {
     "data": {
      "application/vnd.jupyter.widget-view+json": {
       "model_id": "5bf164ee0815421cb47323c52913bef6",
       "version_major": 2,
       "version_minor": 0
      },
      "text/plain": [
       "  0%|          | 0/3180 [00:00<?, ?it/s]"
      ]
     },
     "metadata": {},
     "output_type": "display_data"
    },
    {
     "data": {
      "application/vnd.jupyter.widget-view+json": {
       "model_id": "7063c93e03694139bdf97b8791a3628a",
       "version_major": 2,
       "version_minor": 0
      },
      "text/plain": [
       "  0%|          | 0/65 [00:00<?, ?it/s]"
      ]
     },
     "metadata": {},
     "output_type": "display_data"
    },
    {
     "name": "stdout",
     "output_type": "stream",
     "text": [
      "{'eval_loss': 291.91229248046875, 'eval_accuracy': 0.6732258064516129, 'eval_runtime': 26.704, 'eval_samples_per_second': 116.088, 'eval_steps_per_second': 2.434, 'epoch': 1.0}\n",
      "{'loss': 420.3007, 'learning_rate': 1.685534591194969e-05, 'epoch': 1.57}\n"
     ]
    },
    {
     "data": {
      "application/vnd.jupyter.widget-view+json": {
       "model_id": "05a9ff4da9394a9ab253dfd47ae62dbb",
       "version_major": 2,
       "version_minor": 0
      },
      "text/plain": [
       "  0%|          | 0/65 [00:00<?, ?it/s]"
      ]
     },
     "metadata": {},
     "output_type": "display_data"
    },
    {
     "name": "stdout",
     "output_type": "stream",
     "text": [
      "{'eval_loss': 86.21381378173828, 'eval_accuracy': 0.8216129032258065, 'eval_runtime': 25.4834, 'eval_samples_per_second': 121.648, 'eval_steps_per_second': 2.551, 'epoch': 2.0}\n"
     ]
    },
    {
     "data": {
      "application/vnd.jupyter.widget-view+json": {
       "model_id": "53e74c65a3024dc1913dcd50d4349dab",
       "version_major": 2,
       "version_minor": 0
      },
      "text/plain": [
       "  0%|          | 0/65 [00:00<?, ?it/s]"
      ]
     },
     "metadata": {},
     "output_type": "display_data"
    },
    {
     "name": "stdout",
     "output_type": "stream",
     "text": [
      "{'eval_loss': 36.84004211425781, 'eval_accuracy': 0.9051612903225806, 'eval_runtime': 26.2205, 'eval_samples_per_second': 118.228, 'eval_steps_per_second': 2.479, 'epoch': 3.0}\n",
      "{'loss': 90.7688, 'learning_rate': 1.371069182389937e-05, 'epoch': 3.14}\n"
     ]
    },
    {
     "data": {
      "application/vnd.jupyter.widget-view+json": {
       "model_id": "643898e2ca94416a91ba01377e614735",
       "version_major": 2,
       "version_minor": 0
      },
      "text/plain": [
       "  0%|          | 0/65 [00:00<?, ?it/s]"
      ]
     },
     "metadata": {},
     "output_type": "display_data"
    },
    {
     "name": "stdout",
     "output_type": "stream",
     "text": [
      "{'eval_loss': 24.41901969909668, 'eval_accuracy': 0.9174193548387096, 'eval_runtime': 26.6674, 'eval_samples_per_second': 116.247, 'eval_steps_per_second': 2.437, 'epoch': 4.0}\n",
      "{'loss': 29.2461, 'learning_rate': 1.0566037735849058e-05, 'epoch': 4.72}\n"
     ]
    },
    {
     "data": {
      "application/vnd.jupyter.widget-view+json": {
       "model_id": "bfffa457a65b4fd5b813fa70f60fa85d",
       "version_major": 2,
       "version_minor": 0
      },
      "text/plain": [
       "  0%|          | 0/65 [00:00<?, ?it/s]"
      ]
     },
     "metadata": {},
     "output_type": "display_data"
    },
    {
     "name": "stdout",
     "output_type": "stream",
     "text": [
      "{'eval_loss': 18.81529426574707, 'eval_accuracy': 0.9319354838709677, 'eval_runtime': 30.4873, 'eval_samples_per_second': 101.682, 'eval_steps_per_second': 2.132, 'epoch': 5.0}\n"
     ]
    },
    {
     "data": {
      "application/vnd.jupyter.widget-view+json": {
       "model_id": "85f70de4c80546b79d7fcfe6cc219af3",
       "version_major": 2,
       "version_minor": 0
      },
      "text/plain": [
       "  0%|          | 0/65 [00:00<?, ?it/s]"
      ]
     },
     "metadata": {},
     "output_type": "display_data"
    },
    {
     "name": "stdout",
     "output_type": "stream",
     "text": [
      "{'eval_loss': 16.106517791748047, 'eval_accuracy': 0.9335483870967742, 'eval_runtime': 26.1502, 'eval_samples_per_second': 118.546, 'eval_steps_per_second': 2.486, 'epoch': 6.0}\n",
      "{'loss': 18.0296, 'learning_rate': 7.421383647798742e-06, 'epoch': 6.29}\n"
     ]
    },
    {
     "data": {
      "application/vnd.jupyter.widget-view+json": {
       "model_id": "ddb55220fc8f4bfeb61f585f6dcd57e2",
       "version_major": 2,
       "version_minor": 0
      },
      "text/plain": [
       "  0%|          | 0/65 [00:00<?, ?it/s]"
      ]
     },
     "metadata": {},
     "output_type": "display_data"
    },
    {
     "name": "stdout",
     "output_type": "stream",
     "text": [
      "{'eval_loss': 14.497014045715332, 'eval_accuracy': 0.9374193548387096, 'eval_runtime': 27.1551, 'eval_samples_per_second': 114.159, 'eval_steps_per_second': 2.394, 'epoch': 7.0}\n",
      "{'loss': 14.1658, 'learning_rate': 4.276729559748428e-06, 'epoch': 7.86}\n"
     ]
    },
    {
     "data": {
      "application/vnd.jupyter.widget-view+json": {
       "model_id": "a318cecc532047a5aa3685e376acc9b6",
       "version_major": 2,
       "version_minor": 0
      },
      "text/plain": [
       "  0%|          | 0/65 [00:00<?, ?it/s]"
      ]
     },
     "metadata": {},
     "output_type": "display_data"
    },
    {
     "name": "stdout",
     "output_type": "stream",
     "text": [
      "{'eval_loss': 13.857540130615234, 'eval_accuracy': 0.9364516129032258, 'eval_runtime': 28.4789, 'eval_samples_per_second': 108.852, 'eval_steps_per_second': 2.282, 'epoch': 8.0}\n"
     ]
    },
    {
     "data": {
      "application/vnd.jupyter.widget-view+json": {
       "model_id": "f97332cb66f24e1a933ca0d6ca0e4720",
       "version_major": 2,
       "version_minor": 0
      },
      "text/plain": [
       "  0%|          | 0/65 [00:00<?, ?it/s]"
      ]
     },
     "metadata": {},
     "output_type": "display_data"
    },
    {
     "name": "stderr",
     "output_type": "stream",
     "text": [
      "\u001b[32m[I 2022-09-11 15:02:44,021]\u001b[0m Trial 16 pruned. \u001b[0m\n"
     ]
    },
    {
     "name": "stdout",
     "output_type": "stream",
     "text": [
      "{'eval_loss': 13.173480033874512, 'eval_accuracy': 0.9380645161290323, 'eval_runtime': 29.3478, 'eval_samples_per_second': 105.63, 'eval_steps_per_second': 2.215, 'epoch': 9.0}\n"
     ]
    },
    {
     "name": "stderr",
     "output_type": "stream",
     "text": [
      "/opt/homebrew/Caskroom/miniforge/base/envs/transformers_test/lib/python3.10/site-packages/transformers/optimization.py:306: FutureWarning: This implementation of AdamW is deprecated and will be removed in a future version. Use the PyTorch implementation torch.optim.AdamW instead, or set `no_deprecation_warning=True` to disable this warning\n",
      "  warnings.warn(\n"
     ]
    },
    {
     "data": {
      "application/vnd.jupyter.widget-view+json": {
       "model_id": "f26f1d717194434d9bb79393cfb8cd89",
       "version_major": 2,
       "version_minor": 0
      },
      "text/plain": [
       "  0%|          | 0/2862 [00:00<?, ?it/s]"
      ]
     },
     "metadata": {},
     "output_type": "display_data"
    },
    {
     "data": {
      "application/vnd.jupyter.widget-view+json": {
       "model_id": "be637726ba7448dab022c0d97ffb0841",
       "version_major": 2,
       "version_minor": 0
      },
      "text/plain": [
       "  0%|          | 0/65 [00:00<?, ?it/s]"
      ]
     },
     "metadata": {},
     "output_type": "display_data"
    },
    {
     "name": "stderr",
     "output_type": "stream",
     "text": [
      "\u001b[32m[I 2022-09-11 15:07:59,436]\u001b[0m Trial 17 pruned. \u001b[0m\n"
     ]
    },
    {
     "name": "stdout",
     "output_type": "stream",
     "text": [
      "{'eval_loss': 171.7284698486328, 'eval_accuracy': 0.6729032258064516, 'eval_runtime': 29.0981, 'eval_samples_per_second': 106.536, 'eval_steps_per_second': 2.234, 'epoch': 1.0}\n"
     ]
    },
    {
     "name": "stderr",
     "output_type": "stream",
     "text": [
      "/opt/homebrew/Caskroom/miniforge/base/envs/transformers_test/lib/python3.10/site-packages/transformers/optimization.py:306: FutureWarning: This implementation of AdamW is deprecated and will be removed in a future version. Use the PyTorch implementation torch.optim.AdamW instead, or set `no_deprecation_warning=True` to disable this warning\n",
      "  warnings.warn(\n"
     ]
    },
    {
     "data": {
      "application/vnd.jupyter.widget-view+json": {
       "model_id": "48b732d217a4435584d1fafc185cf2ab",
       "version_major": 2,
       "version_minor": 0
      },
      "text/plain": [
       "  0%|          | 0/2226 [00:00<?, ?it/s]"
      ]
     },
     "metadata": {},
     "output_type": "display_data"
    },
    {
     "data": {
      "application/vnd.jupyter.widget-view+json": {
       "model_id": "416a3ed244224da3a555ea0d2fbd86c1",
       "version_major": 2,
       "version_minor": 0
      },
      "text/plain": [
       "  0%|          | 0/65 [00:00<?, ?it/s]"
      ]
     },
     "metadata": {},
     "output_type": "display_data"
    },
    {
     "name": "stderr",
     "output_type": "stream",
     "text": [
      "\u001b[32m[I 2022-09-11 15:13:07,267]\u001b[0m Trial 18 pruned. \u001b[0m\n"
     ]
    },
    {
     "name": "stdout",
     "output_type": "stream",
     "text": [
      "{'eval_loss': 4.137561798095703, 'eval_accuracy': 0.6690322580645162, 'eval_runtime': 26.7342, 'eval_samples_per_second': 115.956, 'eval_steps_per_second': 2.431, 'epoch': 1.0}\n"
     ]
    },
    {
     "name": "stderr",
     "output_type": "stream",
     "text": [
      "/opt/homebrew/Caskroom/miniforge/base/envs/transformers_test/lib/python3.10/site-packages/transformers/optimization.py:306: FutureWarning: This implementation of AdamW is deprecated and will be removed in a future version. Use the PyTorch implementation torch.optim.AdamW instead, or set `no_deprecation_warning=True` to disable this warning\n",
      "  warnings.warn(\n"
     ]
    },
    {
     "data": {
      "application/vnd.jupyter.widget-view+json": {
       "model_id": "e3d4723c2eaf469893c570d87a942236",
       "version_major": 2,
       "version_minor": 0
      },
      "text/plain": [
       "  0%|          | 0/3180 [00:00<?, ?it/s]"
      ]
     },
     "metadata": {},
     "output_type": "display_data"
    },
    {
     "data": {
      "application/vnd.jupyter.widget-view+json": {
       "model_id": "e5a65595584d4262b7c288dfd0a7f4af",
       "version_major": 2,
       "version_minor": 0
      },
      "text/plain": [
       "  0%|          | 0/65 [00:00<?, ?it/s]"
      ]
     },
     "metadata": {},
     "output_type": "display_data"
    },
    {
     "name": "stdout",
     "output_type": "stream",
     "text": [
      "{'eval_loss': 327.34002685546875, 'eval_accuracy': 0.6738709677419354, 'eval_runtime': 28.4228, 'eval_samples_per_second': 109.067, 'eval_steps_per_second': 2.287, 'epoch': 1.0}\n",
      "{'loss': 471.2332, 'learning_rate': 1.685534591194969e-05, 'epoch': 1.57}\n"
     ]
    },
    {
     "data": {
      "application/vnd.jupyter.widget-view+json": {
       "model_id": "eb5a3a9e5605426caccc016dfb6cd4eb",
       "version_major": 2,
       "version_minor": 0
      },
      "text/plain": [
       "  0%|          | 0/65 [00:00<?, ?it/s]"
      ]
     },
     "metadata": {},
     "output_type": "display_data"
    },
    {
     "name": "stdout",
     "output_type": "stream",
     "text": [
      "{'eval_loss': 96.70613098144531, 'eval_accuracy': 0.8219354838709677, 'eval_runtime': 28.9716, 'eval_samples_per_second': 107.001, 'eval_steps_per_second': 2.244, 'epoch': 2.0}\n"
     ]
    },
    {
     "data": {
      "application/vnd.jupyter.widget-view+json": {
       "model_id": "7f0916a8dcfb4d219bce8cfc7d0e767c",
       "version_major": 2,
       "version_minor": 0
      },
      "text/plain": [
       "  0%|          | 0/65 [00:00<?, ?it/s]"
      ]
     },
     "metadata": {},
     "output_type": "display_data"
    },
    {
     "name": "stdout",
     "output_type": "stream",
     "text": [
      "{'eval_loss': 41.269439697265625, 'eval_accuracy': 0.9051612903225806, 'eval_runtime': 32.4699, 'eval_samples_per_second': 95.473, 'eval_steps_per_second': 2.002, 'epoch': 3.0}\n",
      "{'loss': 101.7273, 'learning_rate': 1.371069182389937e-05, 'epoch': 3.14}\n"
     ]
    },
    {
     "data": {
      "application/vnd.jupyter.widget-view+json": {
       "model_id": "254e3511ec7d4c0a87d65f4e840eac7b",
       "version_major": 2,
       "version_minor": 0
      },
      "text/plain": [
       "  0%|          | 0/65 [00:00<?, ?it/s]"
      ]
     },
     "metadata": {},
     "output_type": "display_data"
    },
    {
     "name": "stdout",
     "output_type": "stream",
     "text": [
      "{'eval_loss': 27.358102798461914, 'eval_accuracy': 0.9174193548387096, 'eval_runtime': 26.3454, 'eval_samples_per_second': 117.668, 'eval_steps_per_second': 2.467, 'epoch': 4.0}\n",
      "{'loss': 32.7561, 'learning_rate': 1.0566037735849058e-05, 'epoch': 4.72}\n"
     ]
    },
    {
     "data": {
      "application/vnd.jupyter.widget-view+json": {
       "model_id": "22c7d2d172dc4d0d971638971ccef36d",
       "version_major": 2,
       "version_minor": 0
      },
      "text/plain": [
       "  0%|          | 0/65 [00:00<?, ?it/s]"
      ]
     },
     "metadata": {},
     "output_type": "display_data"
    },
    {
     "name": "stdout",
     "output_type": "stream",
     "text": [
      "{'eval_loss': 21.0953369140625, 'eval_accuracy': 0.932258064516129, 'eval_runtime': 25.1037, 'eval_samples_per_second': 123.488, 'eval_steps_per_second': 2.589, 'epoch': 5.0}\n"
     ]
    },
    {
     "data": {
      "application/vnd.jupyter.widget-view+json": {
       "model_id": "63af7f484d494927a3d5d550ba74046a",
       "version_major": 2,
       "version_minor": 0
      },
      "text/plain": [
       "  0%|          | 0/65 [00:00<?, ?it/s]"
      ]
     },
     "metadata": {},
     "output_type": "display_data"
    },
    {
     "name": "stdout",
     "output_type": "stream",
     "text": [
      "{'eval_loss': 18.05329704284668, 'eval_accuracy': 0.9335483870967742, 'eval_runtime': 26.1917, 'eval_samples_per_second': 118.358, 'eval_steps_per_second': 2.482, 'epoch': 6.0}\n",
      "{'loss': 20.1956, 'learning_rate': 7.421383647798742e-06, 'epoch': 6.29}\n"
     ]
    },
    {
     "data": {
      "application/vnd.jupyter.widget-view+json": {
       "model_id": "1cf54c46b3484f8b9a29109fada0df45",
       "version_major": 2,
       "version_minor": 0
      },
      "text/plain": [
       "  0%|          | 0/65 [00:00<?, ?it/s]"
      ]
     },
     "metadata": {},
     "output_type": "display_data"
    },
    {
     "name": "stdout",
     "output_type": "stream",
     "text": [
      "{'eval_loss': 16.241361618041992, 'eval_accuracy': 0.9374193548387096, 'eval_runtime': 25.7698, 'eval_samples_per_second': 120.296, 'eval_steps_per_second': 2.522, 'epoch': 7.0}\n",
      "{'loss': 15.8756, 'learning_rate': 4.276729559748428e-06, 'epoch': 7.86}\n"
     ]
    },
    {
     "data": {
      "application/vnd.jupyter.widget-view+json": {
       "model_id": "ef0f4ccb22614736809189aa4b47452e",
       "version_major": 2,
       "version_minor": 0
      },
      "text/plain": [
       "  0%|          | 0/65 [00:00<?, ?it/s]"
      ]
     },
     "metadata": {},
     "output_type": "display_data"
    },
    {
     "name": "stdout",
     "output_type": "stream",
     "text": [
      "{'eval_loss': 15.52964973449707, 'eval_accuracy': 0.9364516129032258, 'eval_runtime': 25.4093, 'eval_samples_per_second': 122.003, 'eval_steps_per_second': 2.558, 'epoch': 8.0}\n"
     ]
    },
    {
     "data": {
      "application/vnd.jupyter.widget-view+json": {
       "model_id": "1d50f68ac3504c91a3db6934c5408b28",
       "version_major": 2,
       "version_minor": 0
      },
      "text/plain": [
       "  0%|          | 0/65 [00:00<?, ?it/s]"
      ]
     },
     "metadata": {},
     "output_type": "display_data"
    },
    {
     "name": "stdout",
     "output_type": "stream",
     "text": [
      "{'eval_loss': 14.770811080932617, 'eval_accuracy': 0.9387096774193548, 'eval_runtime': 26.6081, 'eval_samples_per_second': 116.506, 'eval_steps_per_second': 2.443, 'epoch': 9.0}\n",
      "{'loss': 14.2997, 'learning_rate': 1.1320754716981133e-06, 'epoch': 9.43}\n"
     ]
    },
    {
     "data": {
      "application/vnd.jupyter.widget-view+json": {
       "model_id": "42bd8a05d4e6446e8763fd06d6a5da17",
       "version_major": 2,
       "version_minor": 0
      },
      "text/plain": [
       "  0%|          | 0/65 [00:00<?, ?it/s]"
      ]
     },
     "metadata": {},
     "output_type": "display_data"
    },
    {
     "name": "stderr",
     "output_type": "stream",
     "text": [
      "\u001b[32m[I 2022-09-11 16:01:32,850]\u001b[0m Trial 19 finished with value: 0.9383870967741935 and parameters: {'num_train_epochs': 10, 'alpha': 0.5554176692884056, 'temperature': 18}. Best is trial 3 with value: 0.9387096774193548.\u001b[0m\n"
     ]
    },
    {
     "name": "stdout",
     "output_type": "stream",
     "text": [
      "{'eval_loss': 14.756326675415039, 'eval_accuracy': 0.9383870967741935, 'eval_runtime': 26.6846, 'eval_samples_per_second': 116.172, 'eval_steps_per_second': 2.436, 'epoch': 10.0}\n",
      "{'train_runtime': 2904.3256, 'train_samples_per_second': 52.508, 'train_steps_per_second': 1.095, 'train_loss': 103.9290378402614, 'epoch': 10.0}\n",
      "BestRun(run_id='3', objective=0.9387096774193548, hyperparameters={'num_train_epochs': 10, 'alpha': 0.5061930041800977, 'temperature': 4})\n"
     ]
    }
   ],
   "source": [
    "from optuna import trial\n",
    "\n",
    "def hp_space(trial):\n",
    "    return {\n",
    "        \"num_train_epochs\": trial.suggest_int(\"num_train_epochs\", 5, 10),\n",
    "        \"alpha\": trial.suggest_float(\"alpha\", 0,1),\n",
    "        \"temperature\": trial.suggest_int(\"temperature\", 2, 20),\n",
    "        }\n",
    "\n",
    "best_run = distilbert_trainer.hyperparameter_search(n_trials=20, direction=\"maximize\", hp_space=hp_space)\n",
    "\n",
    "print(best_run)"
   ]
  },
  {
   "cell_type": "markdown",
   "metadata": {},
   "source": [
    "### Execute Run with best parameters"
   ]
  },
  {
   "cell_type": "code",
   "execution_count": 148,
   "metadata": {},
   "outputs": [
    {
     "data": {
      "text/plain": [
       "{'num_train_epochs': 10, 'alpha': 0.5061930041800977, 'temperature': 4}"
      ]
     },
     "execution_count": 148,
     "metadata": {},
     "output_type": "execute_result"
    }
   ],
   "source": [
    "best_run.hyperparameters"
   ]
  },
  {
   "cell_type": "code",
   "execution_count": 150,
   "metadata": {},
   "outputs": [
    {
     "name": "stderr",
     "output_type": "stream",
     "text": [
      "/opt/homebrew/Caskroom/miniforge/base/envs/transformers_test/lib/python3.10/site-packages/transformers/optimization.py:306: FutureWarning: This implementation of AdamW is deprecated and will be removed in a future version. Use the PyTorch implementation torch.optim.AdamW instead, or set `no_deprecation_warning=True` to disable this warning\n",
      "  warnings.warn(\n"
     ]
    },
    {
     "data": {
      "application/vnd.jupyter.widget-view+json": {
       "model_id": "7783e3cef811482eb3ecdc9587ca717f",
       "version_major": 2,
       "version_minor": 0
      },
      "text/plain": [
       "  0%|          | 0/3180 [00:00<?, ?it/s]"
      ]
     },
     "metadata": {},
     "output_type": "display_data"
    },
    {
     "data": {
      "application/vnd.jupyter.widget-view+json": {
       "model_id": "26b1a074ffbb48b8bd28813dc0e1c772",
       "version_major": 2,
       "version_minor": 0
      },
      "text/plain": [
       "  0%|          | 0/65 [00:00<?, ?it/s]"
      ]
     },
     "metadata": {},
     "output_type": "display_data"
    },
    {
     "name": "stdout",
     "output_type": "stream",
     "text": [
      "{'eval_loss': 9.588530540466309, 'eval_accuracy': 0.6819354838709677, 'eval_runtime': 30.2821, 'eval_samples_per_second': 102.371, 'eval_steps_per_second': 2.146, 'epoch': 1.0}\n",
      "{'loss': 13.3625, 'learning_rate': 1.685534591194969e-05, 'epoch': 1.57}\n"
     ]
    },
    {
     "data": {
      "application/vnd.jupyter.widget-view+json": {
       "model_id": "0f7592f8c0f241ec964266a204b82c51",
       "version_major": 2,
       "version_minor": 0
      },
      "text/plain": [
       "  0%|          | 0/65 [00:00<?, ?it/s]"
      ]
     },
     "metadata": {},
     "output_type": "display_data"
    },
    {
     "name": "stdout",
     "output_type": "stream",
     "text": [
      "{'eval_loss': 3.1719703674316406, 'eval_accuracy': 0.8293548387096774, 'eval_runtime': 28.9356, 'eval_samples_per_second': 107.135, 'eval_steps_per_second': 2.246, 'epoch': 2.0}\n"
     ]
    },
    {
     "data": {
      "application/vnd.jupyter.widget-view+json": {
       "model_id": "fb09c52d77044db583caa41484b41517",
       "version_major": 2,
       "version_minor": 0
      },
      "text/plain": [
       "  0%|          | 0/65 [00:00<?, ?it/s]"
      ]
     },
     "metadata": {},
     "output_type": "display_data"
    },
    {
     "name": "stdout",
     "output_type": "stream",
     "text": [
      "{'eval_loss': 1.5561734437942505, 'eval_accuracy': 0.9051612903225806, 'eval_runtime': 25.8795, 'eval_samples_per_second': 119.786, 'eval_steps_per_second': 2.512, 'epoch': 3.0}\n",
      "{'loss': 3.2106, 'learning_rate': 1.371069182389937e-05, 'epoch': 3.14}\n"
     ]
    },
    {
     "data": {
      "application/vnd.jupyter.widget-view+json": {
       "model_id": "51bd8be16c5b43e9964d5e675bc80caf",
       "version_major": 2,
       "version_minor": 0
      },
      "text/plain": [
       "  0%|          | 0/65 [00:00<?, ?it/s]"
      ]
     },
     "metadata": {},
     "output_type": "display_data"
    },
    {
     "name": "stdout",
     "output_type": "stream",
     "text": [
      "{'eval_loss': 1.1648995876312256, 'eval_accuracy': 0.9212903225806451, 'eval_runtime': 25.1574, 'eval_samples_per_second': 123.224, 'eval_steps_per_second': 2.584, 'epoch': 4.0}\n",
      "{'loss': 1.2406, 'learning_rate': 1.0566037735849058e-05, 'epoch': 4.72}\n"
     ]
    },
    {
     "data": {
      "application/vnd.jupyter.widget-view+json": {
       "model_id": "3c859ab1ee7c4173ad9b635ad7703800",
       "version_major": 2,
       "version_minor": 0
      },
      "text/plain": [
       "  0%|          | 0/65 [00:00<?, ?it/s]"
      ]
     },
     "metadata": {},
     "output_type": "display_data"
    },
    {
     "name": "stdout",
     "output_type": "stream",
     "text": [
      "{'eval_loss': 0.9908452033996582, 'eval_accuracy': 0.9348387096774193, 'eval_runtime': 28.0752, 'eval_samples_per_second': 110.418, 'eval_steps_per_second': 2.315, 'epoch': 5.0}\n"
     ]
    },
    {
     "data": {
      "application/vnd.jupyter.widget-view+json": {
       "model_id": "9504bc7ebf1241f2b432b5196034dd28",
       "version_major": 2,
       "version_minor": 0
      },
      "text/plain": [
       "  0%|          | 0/65 [00:00<?, ?it/s]"
      ]
     },
     "metadata": {},
     "output_type": "display_data"
    },
    {
     "name": "stdout",
     "output_type": "stream",
     "text": [
      "{'eval_loss': 0.9036418199539185, 'eval_accuracy': 0.9367741935483871, 'eval_runtime': 28.8135, 'eval_samples_per_second': 107.588, 'eval_steps_per_second': 2.256, 'epoch': 6.0}\n",
      "{'loss': 0.8822, 'learning_rate': 7.421383647798742e-06, 'epoch': 6.29}\n"
     ]
    },
    {
     "data": {
      "application/vnd.jupyter.widget-view+json": {
       "model_id": "4b2003ce832642748031f048174342c8",
       "version_major": 2,
       "version_minor": 0
      },
      "text/plain": [
       "  0%|          | 0/65 [00:00<?, ?it/s]"
      ]
     },
     "metadata": {},
     "output_type": "display_data"
    },
    {
     "name": "stdout",
     "output_type": "stream",
     "text": [
      "{'eval_loss': 0.8503142595291138, 'eval_accuracy': 0.9409677419354838, 'eval_runtime': 29.7615, 'eval_samples_per_second': 104.161, 'eval_steps_per_second': 2.184, 'epoch': 7.0}\n",
      "{'loss': 0.7581, 'learning_rate': 4.276729559748428e-06, 'epoch': 7.86}\n"
     ]
    },
    {
     "data": {
      "application/vnd.jupyter.widget-view+json": {
       "model_id": "c41e5aee3361407db7b2363a12252c1a",
       "version_major": 2,
       "version_minor": 0
      },
      "text/plain": [
       "  0%|          | 0/65 [00:00<?, ?it/s]"
      ]
     },
     "metadata": {},
     "output_type": "display_data"
    },
    {
     "name": "stdout",
     "output_type": "stream",
     "text": [
      "{'eval_loss': 0.8329495191574097, 'eval_accuracy': 0.9390322580645162, 'eval_runtime': 30.3222, 'eval_samples_per_second': 102.235, 'eval_steps_per_second': 2.144, 'epoch': 8.0}\n"
     ]
    },
    {
     "data": {
      "application/vnd.jupyter.widget-view+json": {
       "model_id": "9f9b88dcca6a4f46a159b79fd61005b5",
       "version_major": 2,
       "version_minor": 0
      },
      "text/plain": [
       "  0%|          | 0/65 [00:00<?, ?it/s]"
      ]
     },
     "metadata": {},
     "output_type": "display_data"
    },
    {
     "name": "stdout",
     "output_type": "stream",
     "text": [
      "{'eval_loss': 0.8109413385391235, 'eval_accuracy': 0.942258064516129, 'eval_runtime': 26.7929, 'eval_samples_per_second': 115.703, 'eval_steps_per_second': 2.426, 'epoch': 9.0}\n",
      "{'loss': 0.7149, 'learning_rate': 1.1320754716981133e-06, 'epoch': 9.43}\n"
     ]
    },
    {
     "data": {
      "application/vnd.jupyter.widget-view+json": {
       "model_id": "879bd50660994ab18279dc729dcd2e21",
       "version_major": 2,
       "version_minor": 0
      },
      "text/plain": [
       "  0%|          | 0/65 [00:00<?, ?it/s]"
      ]
     },
     "metadata": {},
     "output_type": "display_data"
    },
    {
     "name": "stdout",
     "output_type": "stream",
     "text": [
      "{'eval_loss': 0.8100083470344543, 'eval_accuracy': 0.9416129032258065, 'eval_runtime': 26.1298, 'eval_samples_per_second': 118.639, 'eval_steps_per_second': 2.488, 'epoch': 10.0}\n",
      "{'train_runtime': 3032.4203, 'train_samples_per_second': 50.29, 'train_steps_per_second': 1.049, 'train_loss': 3.2104153159279494, 'epoch': 10.0}\n"
     ]
    }
   ],
   "source": [
    "for k,v in best_run.hyperparameters.items():\n",
    "    setattr(student_training_args, k, v)\n",
    "\n",
    "DISTILLED_CKPT = \"n08-distilbert-base-uncased-distilled-clinc\"\n",
    "student_training_args.output_dir = DISTILLED_CKPT\n",
    "\n",
    "# instantiate trainer with optimal hyperparameters\n",
    "distil_trainer = distillation.DistillationTrainer(\n",
    "    model_init=student_init,\n",
    "    teacher_model=teacher_model,\n",
    "    args=student_training_args,\n",
    "    train_dataset=clinc_enc[\"train\"],\n",
    "    eval_dataset=clinc_enc[\"validation\"],\n",
    "    compute_metrics=compute_metrics,\n",
    "    tokenizer=student_tokenizer,\n",
    ")\n",
    "\n",
    "distil_trainer.train();\n",
    "\n",
    "distil_trainer.save_model()"
   ]
  },
  {
   "cell_type": "code",
   "execution_count": 151,
   "metadata": {},
   "outputs": [
    {
     "name": "stdout",
     "output_type": "stream",
     "text": [
      "Model Size (MB):      255.9\n",
      "Avg. Latency (ms): 20.08 +/- 2.28\n",
      "Model Accuracy:       86.16%\n"
     ]
    },
    {
     "data": {
      "image/png": "[encoded data removed]",
      "text/plain": [
       "<Figure size 432x288 with 1 Axes>"
      ]
     },
     "metadata": {
      "needs_background": "light"
     },
     "output_type": "display_data"
    }
   ],
   "source": [
    "def pb_run_log_plot(pm: perf_benchmark.PerfMetrics, optim_type: str, model_ckpt: str) -> None:\n",
    "    \"\"\"run benchmark. update metrics report and save. plot metrics\"\"\"\n",
    "    pipe = tfm.pipeline(\"text-classification\", model_ckpt)\n",
    "\n",
    "    pb = perf_benchmark.PerformanceBenchmark(pipe, clinc[\"test\"], optim_type=optim_type)\n",
    "    pm.update(pb.run_benchmark())\n",
    "\n",
    "    pm.to_pkl()\n",
    "\n",
    "    perf_benchmark.plot_metrics(perf_metrics, optim_type)\n",
    "\n",
    "pb_run_log_plot(perf_metrics, optim_type=\"Distilled\", model_ckpt=DISTILLED_CKPT)\n",
    "    "
   ]
  },
  {
   "cell_type": "markdown",
   "metadata": {},
   "source": [
    "## Quantization"
   ]
  },
  {
   "cell_type": "code",
   "execution_count": 163,
   "metadata": {},
   "outputs": [],
   "source": [
    "backend = \"qnnpack\"\n",
    "qconfig = torch.quantization.get_default_qconfig(backend)  "
   ]
  },
  {
   "cell_type": "code",
   "execution_count": 165,
   "metadata": {},
   "outputs": [],
   "source": [
    "from secrets import token_urlsafe\n",
    "from torch.quantization import quantize_dynamic\n",
    "\n",
    "tokenizer = tfm.AutoTokenizer.from_pretrained(DISTILLED_CKPT)\n",
    "model = tfm.AutoModelForSequenceClassification.from_pretrained(DISTILLED_CKPT) #.to(\"cpu\")\n",
    "\n",
    "# setting up proper backend\n",
    "backend = \"qnnpack\"\n",
    "qconfig = torch.quantization.get_default_qconfig(backend)  \n",
    "torch.backends.quantized.engine = backend\n",
    "\n",
    "model_quantized = quantize_dynamic(model, qconfig_spec={torch.nn.Linear}, dtype=torch.qint8)"
   ]
  },
  {
   "cell_type": "code",
   "execution_count": 166,
   "metadata": {},
   "outputs": [
    {
     "name": "stdout",
     "output_type": "stream",
     "text": [
      "Model Size (MB):      132.4\n",
      "Avg. Latency (ms): 16.42 +/- 0.49\n",
      "Model Accuracy:       86.45%\n"
     ]
    }
   ],
   "source": [
    "pipe = tfm.pipeline(\"text-classification\", model=model_quantized, tokenizer=tokenizer)\n",
    "\n",
    "pb = perf_benchmark.PerformanceBenchmark(pipe, clinc[\"test\"], optim_type=\"Distillation + Quantization\")\n",
    "perf_metrics.update(pb.run_benchmark())\n",
    "\n",
    "perf_metrics.to_pkl()"
   ]
  },
  {
   "cell_type": "code",
   "execution_count": 168,
   "metadata": {},
   "outputs": [
    {
     "data": {
      "image/png": "[encoded data removed]",
      "text/plain": [
       "<Figure size 432x288 with 1 Axes>"
      ]
     },
     "metadata": {
      "needs_background": "light"
     },
     "output_type": "display_data"
    }
   ],
   "source": [
    "perf_benchmark.plot_metrics(perf_metrics, \"Distillation + Quantization\")"
   ]
  },
  {
   "cell_type": "code",
   "execution_count": 174,
   "metadata": {},
   "outputs": [
    {
     "data": {
      "text/html": [
       "<div>\n",
       "<style scoped>\n",
       "    .dataframe tbody tr th:only-of-type {\n",
       "        vertical-align: middle;\n",
       "    }\n",
       "\n",
       "    .dataframe tbody tr th {\n",
       "        vertical-align: top;\n",
       "    }\n",
       "\n",
       "    .dataframe thead th {\n",
       "        text-align: right;\n",
       "    }\n",
       "</style>\n",
       "<table border=\"1\" class=\"dataframe\">\n",
       "  <thead>\n",
       "    <tr style=\"text-align: right;\">\n",
       "      <th></th>\n",
       "      <th>baseline Bert</th>\n",
       "      <th>DistilBert</th>\n",
       "      <th>Distilled</th>\n",
       "      <th>Distillation + Quantization</th>\n",
       "    </tr>\n",
       "  </thead>\n",
       "  <tbody>\n",
       "    <tr>\n",
       "      <th>size</th>\n",
       "      <td>418.163</td>\n",
       "      <td>255.887</td>\n",
       "      <td>255.887</td>\n",
       "      <td>132.396</td>\n",
       "    </tr>\n",
       "    <tr>\n",
       "      <th>latency_ms_avg</th>\n",
       "      <td>42.976</td>\n",
       "      <td>21.025</td>\n",
       "      <td>20.081</td>\n",
       "      <td>16.418</td>\n",
       "    </tr>\n",
       "    <tr>\n",
       "      <th>latency_ms_std</th>\n",
       "      <td>4.500</td>\n",
       "      <td>2.509</td>\n",
       "      <td>2.278</td>\n",
       "      <td>0.485</td>\n",
       "    </tr>\n",
       "    <tr>\n",
       "      <th>accuracy</th>\n",
       "      <td>0.867</td>\n",
       "      <td>0.860</td>\n",
       "      <td>0.862</td>\n",
       "      <td>0.865</td>\n",
       "    </tr>\n",
       "  </tbody>\n",
       "</table>\n",
       "</div>"
      ],
      "text/plain": [
       "                baseline Bert  DistilBert  Distilled  \\\n",
       "size                  418.163     255.887    255.887   \n",
       "latency_ms_avg         42.976      21.025     20.081   \n",
       "latency_ms_std          4.500       2.509      2.278   \n",
       "accuracy                0.867       0.860      0.862   \n",
       "\n",
       "                Distillation + Quantization  \n",
       "size                                132.396  \n",
       "latency_ms_avg                       16.418  \n",
       "latency_ms_std                        0.485  \n",
       "accuracy                              0.865  "
      ]
     },
     "execution_count": 174,
     "metadata": {},
     "output_type": "execute_result"
    }
   ],
   "source": [
    "import pandas as pd\n",
    "\n",
    "pd.DataFrame.from_dict(perf_metrics.metrics).round(3)"
   ]
  },
  {
   "cell_type": "markdown",
   "metadata": {},
   "source": [
    "The Quantized Model saves about ~20% on latency here, but \n",
    "## Optimizing Inference with ONNX and ONNX Runtime\n",
    "### Save model in ONNX format"
   ]
  },
  {
   "cell_type": "code",
   "execution_count": 181,
   "metadata": {},
   "outputs": [
    {
     "name": "stderr",
     "output_type": "stream",
     "text": [
      "/opt/homebrew/Caskroom/miniforge/base/envs/transformers_test/lib/python3.10/site-packages/transformers/convert_graph_to_onnx.py:378: FutureWarning: The `transformers.convert_graph_to_onnx` package is deprecated and will be removed in version 5 of Transformers\n",
      "  warnings.warn(\n"
     ]
    },
    {
     "name": "stdout",
     "output_type": "stream",
     "text": [
      "ONNX opset version set to: 12\n",
      "Loading pipeline (model: distilbert-base-uncased-distilled-clinc, tokenizer: PreTrainedTokenizerFast(name_or_path='distilbert-base-uncased-distilled-clinc', vocab_size=30522, model_max_len=512, is_fast=True, padding_side='right', truncation_side='right', special_tokens={'unk_token': '[UNK]', 'sep_token': '[SEP]', 'pad_token': '[PAD]', 'cls_token': '[CLS]', 'mask_token': '[MASK]'}))\n",
      "Creating folder n08_onnx\n",
      "Using framework PyTorch: 1.13.0.dev20220606\n",
      "Found input input_ids with shape: {0: 'batch', 1: 'sequence'}\n",
      "Found input attention_mask with shape: {0: 'batch', 1: 'sequence'}\n",
      "Found output output_0 with shape: {0: 'batch'}\n",
      "Ensuring inputs are in correct order\n",
      "head_mask is not present in the generated input list.\n",
      "Generated inputs order: ['input_ids', 'attention_mask']\n"
     ]
    },
    {
     "name": "stderr",
     "output_type": "stream",
     "text": [
      "/opt/homebrew/Caskroom/miniforge/base/envs/transformers_test/lib/python3.10/site-packages/transformers/models/distilbert/modeling_distilbert.py:214: TracerWarning: torch.tensor results are registered as constants in the trace. You can safely ignore this warning if you use this function to create tensors out of constant variables that would be the same every time you call this function. In any other case, this might cause the trace to be incorrect.\n",
      "  scores = scores.masked_fill(mask, torch.tensor(-float(\"inf\")))  # (bs, n_heads, q_length, k_length)\n",
      "/opt/homebrew/Caskroom/miniforge/base/envs/transformers_test/lib/python3.10/site-packages/torch/onnx/symbolic_helper.py:1145: UserWarning: ONNX export mode is set to False, but operator 'dropout' is set to train=False. Exporting with train=False.\n",
      "  warnings.warn(\n"
     ]
    }
   ],
   "source": [
    "from pathlib import Path\n",
    "from psutil import cpu_count\n",
    "import os\n",
    "\n",
    "os.environ[\"OMP_NUM_THREADS\"] = f\"{cpu_count()}\"\n",
    "os.environ[\"OMP_WAIT_POLICY\"] = \"ACTIVE\"\n",
    "\n",
    "onnx_model_path = Path(\"n08_onnx/model.onnx\")\n",
    "\n",
    "tfm.convert_graph_to_onnx.convert(\n",
    "    framework=\"pt\",\n",
    "    model=DISTILLED_CKPT,\n",
    "    tokenizer=tokenizer,\n",
    "    output=onnx_model_path,\n",
    "    opset=12,\n",
    "    pipeline_name=\"text-classification\",\n",
    ")\n"
   ]
  },
  {
   "cell_type": "markdown",
   "metadata": {},
   "source": [
    "### load model for ONNX RunTime"
   ]
  },
  {
   "cell_type": "code",
   "execution_count": 183,
   "metadata": {},
   "outputs": [],
   "source": [
    "from src.n08 import onnx\n",
    "\n",
    "# load model with ONNX\n",
    "onnx_model = onnx.create_model_for_provider(onnx_model_path)"
   ]
  },
  {
   "cell_type": "markdown",
   "metadata": {},
   "source": [
    "#### evaluate "
   ]
  },
  {
   "cell_type": "code",
   "execution_count": 198,
   "metadata": {},
   "outputs": [
    {
     "data": {
      "text/plain": [
       "'prediction: 61, true label: 61'"
      ]
     },
     "execution_count": 198,
     "metadata": {},
     "output_type": "execute_result"
    }
   ],
   "source": [
    "inputs = clinc_enc[\"test\"][:1]\n",
    "label = inputs.pop(\"labels\")[0]\n",
    "logits_onnx = onnx_model.run(None, inputs)[0]\n",
    "\n",
    "preds = np.argmax(logits_onnx)\n",
    "f\"prediction: {preds}, true label: {label}\""
   ]
  },
  {
   "cell_type": "code",
   "execution_count": 206,
   "metadata": {},
   "outputs": [
    {
     "data": {
      "text/plain": [
       "[{'label': 'book_flight', 'score': 0.27645037}]"
      ]
     },
     "execution_count": 206,
     "metadata": {},
     "output_type": "execute_result"
    }
   ],
   "source": [
    "# create pipeline\n",
    "pipe = onnx.OnnxPipeline(model=onnx_model, tokenizer=tokenizer, id2labels=intents.int2str)\n",
    "\n",
    "pipe(query)"
   ]
  },
  {
   "cell_type": "code",
   "execution_count": 211,
   "metadata": {},
   "outputs": [
    {
     "name": "stdout",
     "output_type": "stream",
     "text": [
      "Model Size (MB):      255.0\n",
      "Avg. Latency (ms): 17.30 +/- 0.46\n",
      "Model Accuracy:       86.16%\n"
     ]
    }
   ],
   "source": [
    "optim_type = \"Distillation + ORT\"\n",
    "pb = perf_benchmark.OnnxPerformanceBenchmark(pipe, clinc[\"test\"], optim_type=optim_type, model_path=onnx_model_path)\n",
    "perf_metrics.update(pb.run_benchmark())"
   ]
  },
  {
   "cell_type": "code",
   "execution_count": 215,
   "metadata": {},
   "outputs": [
    {
     "data": {
      "image/png": "[encoded data removed]",
      "text/plain": [
       "<Figure size 432x288 with 1 Axes>"
      ]
     },
     "metadata": {
      "needs_background": "light"
     },
     "output_type": "display_data"
    }
   ],
   "source": [
    "perf_benchmark.plot_metrics(perf_metrics, optim_type)"
   ]
  },
  {
   "cell_type": "code",
   "execution_count": 217,
   "metadata": {},
   "outputs": [
    {
     "name": "stdout",
     "output_type": "stream",
     "text": [
      "Ignore MatMul due to non constant B: /[MatMul_121]\n",
      "Ignore MatMul due to non constant B: /[MatMul_134]\n",
      "Ignore MatMul due to non constant B: /[MatMul_203]\n",
      "Ignore MatMul due to non constant B: /[MatMul_216]\n",
      "Ignore MatMul due to non constant B: /[MatMul_285]\n",
      "Ignore MatMul due to non constant B: /[MatMul_298]\n",
      "Ignore MatMul due to non constant B: /[MatMul_367]\n",
      "Ignore MatMul due to non constant B: /[MatMul_380]\n",
      "Ignore MatMul due to non constant B: /[MatMul_449]\n",
      "Ignore MatMul due to non constant B: /[MatMul_462]\n",
      "Ignore MatMul due to non constant B: /[MatMul_531]\n",
      "Ignore MatMul due to non constant B: /[MatMul_544]\n"
     ]
    }
   ],
   "source": [
    "from onnxruntime.quantization import quantize_dynamic, QuantType\n",
    "model_input = \"n08_onnx/model.onnx\"\n",
    "model_output = \"n08_onnx/model.quant.onnx\"\n",
    "quantize_dynamic(model_input, model_output, weight_type=QuantType.QInt8)\n",
    "\n"
   ]
  },
  {
   "cell_type": "code",
   "execution_count": 221,
   "metadata": {},
   "outputs": [
    {
     "name": "stdout",
     "output_type": "stream",
     "text": [
      "Model Size (MB):       64.0\n",
      "Avg. Latency (ms): 11.55 +/- 0.57\n",
      "Model Accuracy:       86.69%\n"
     ]
    }
   ],
   "source": [
    "onnx_quantized_model = onnx.create_model_for_provider(model_output)\n",
    "pipe = onnx.OnnxPipeline(onnx_quantized_model, tokenizer=tokenizer, id2labels=intents.int2str)\n",
    "optim_type = \"Distillation + ORT + Quantization\"\n",
    "pb = perf_benchmark.OnnxPerformanceBenchmark(pipe, clinc[\"test\"], optim_type, model_path=model_output)\n",
    "\n",
    "perf_metrics.update(pb.run_benchmark())\n"
   ]
  },
  {
   "cell_type": "code",
   "execution_count": 222,
   "metadata": {},
   "outputs": [
    {
     "data": {
      "image/png": "[encoded data removed]",
      "text/plain": [
       "<Figure size 432x288 with 1 Axes>"
      ]
     },
     "metadata": {
      "needs_background": "light"
     },
     "output_type": "display_data"
    }
   ],
   "source": [
    "perf_benchmark.plot_metrics(perf_metrics, optim_type)"
   ]
  },
  {
   "cell_type": "code",
   "execution_count": 229,
   "metadata": {},
   "outputs": [
    {
     "data": {
      "text/plain": [
       "6.533796027302742"
      ]
     },
     "execution_count": 229,
     "metadata": {},
     "output_type": "execute_result"
    }
   ],
   "source": [
    "sizes = pd.DataFrame(perf_metrics.metrics).loc[\"size\",:]\n",
    "sizes.max() / sizes.min()"
   ]
  },
  {
   "cell_type": "code",
   "execution_count": 233,
   "metadata": {},
   "outputs": [
    {
     "name": "stdout",
     "output_type": "stream",
     "text": [
      "\u001b[0;31mType:\u001b[0m        PerfMetrics\n",
      "\u001b[0;31mString form:\u001b[0m\n",
      "baseline Bert            {'size': 418.1629457473755, 'latency_ms_avg': 42.975668828585185, 'latency_ms_std': 4.500188071834349, 'accuracy': 0.8672727272727273}\n",
      "DistilBert               {'size': 255.887375831604, 'latency_ms_avg': 21.02458419976756, 'latency_ms_std': 2.509321777292666, 'accuracy': 0.8598181818181818}\n",
      "Distilled                {'size': 255.887375831604, 'latency_ms_avg': 20.080723389983177, 'latency_ms_std': 2.277982428745364, 'accuracy': 0.8616363636363636}\n",
      "Distillation + Quantization{'size': 132.3961420059204, 'latency_ms_avg': 16.418234558659606, 'latency_ms_std': 0.48508236204886523, 'accuracy': 0.8645454545454545}\n",
      "Distillation + ORT       {'size': 255, 'latency_ms_avg': 17.296920056978706, 'latency_ms_std': 0.46197105927182414, 'accuracy': 0.8616363636363636}\n",
      "Distillation + ORT + Quantization{'size': 64, 'latency_ms_avg': 11.551636266813148, 'latency_ms_std': 0.5704890659161305, 'accuracy': 0.866909090909091}\n",
      "\u001b[0;31mFile:\u001b[0m        ~/projects/transformers_test/src/perf_benchmark.py\n",
      "\u001b[0;31mDocstring:\u001b[0m   <no docstring>\n"
     ]
    }
   ],
   "source": [
    "perf_metrics??"
   ]
  },
  {
   "cell_type": "code",
   "execution_count": 235,
   "metadata": {},
   "outputs": [
    {
     "name": "stdout",
     "output_type": "stream",
     "text": [
      "\u001b[0;31mInit signature:\u001b[0m \u001b[0mPerfMetrics\u001b[0m\u001b[0;34m(\u001b[0m\u001b[0;34m)\u001b[0m\u001b[0;34m\u001b[0m\u001b[0;34m\u001b[0m\u001b[0m\n",
      "\u001b[0;31mDocstring:\u001b[0m      <no docstring>\n",
      "\u001b[0;31mType:\u001b[0m           type\n",
      "\u001b[0;31mSubclasses:\u001b[0m     \n"
     ]
    }
   ],
   "source": [
    "PerfMetrics??"
   ]
  },
  {
   "cell_type": "code",
   "execution_count": null,
   "metadata": {},
   "outputs": [],
   "source": []
  }
 ],
 "metadata": {
  "kernelspec": {
   "display_name": "Python 3.10.5 ('transformers_test')",
   "language": "python",
   "name": "python3"
  },
  "language_info": {
   "codemirror_mode": {
    "name": "ipython",
    "version": 3
   },
   "file_extension": ".py",
   "mimetype": "text/x-python",
   "name": "python",
   "nbconvert_exporter": "python",
   "pygments_lexer": "ipython3",
   "version": "3.10.5 | packaged by conda-forge | (main, Jun 14 2022, 07:07:06) [Clang 13.0.1 ]"
  },
  "orig_nbformat": 4,
  "vscode": {
   "interpreter": {
    "hash": "9d83e443af04ee4a2b7674501f995fcbc3c6babd5df870dcdd1638c80c6f79c5"
   }
  }
 },
 "nbformat": 4,
 "nbformat_minor": 2
}
