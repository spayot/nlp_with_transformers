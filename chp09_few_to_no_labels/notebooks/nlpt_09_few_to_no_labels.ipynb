{
 "cells": [
  {
   "cell_type": "markdown",
   "metadata": {},
   "source": [
    "# "
   ]
  },
  {
   "cell_type": "markdown",
   "metadata": {},
   "source": [
    "# TODO\n",
    "- reinstall transformers with pytorch-nightly so that can use `mps` device"
   ]
  },
  {
   "cell_type": "markdown",
   "metadata": {},
   "source": [
    "# Few to No Labels\n",
    "Concepts Covered:\n",
    "* Multi-label classification\n",
    "* Baseline: Naive Bayes cast as a one-vs-rest problem (using `scikit-multilearn`)\n",
    "* zero-shot classfication: recasting problem as a text entailment problem. \n",
    "    * top k vs threshold approach\n",
    "* Text data augmentation (`nlpaug` library) \n",
    "* Using embeddings as a lookup table (FAISS)\n",
    "    * how many neighbors? what threshold?\n",
    "* Fine-Tuning a Vanilla Transformer\n",
    "* Domain Adaptation: Fine-Tuning language model on unlabeled data before training model on labeled data.\n",
    "\n",
    "\n",
    "**Original Application**: Github issue tagging  \n",
    "**Proposed Application**: NEoD conversation tagging\n",
    "\n",
    "## Dataset Preparation\n",
    "\n",
    "\n"
   ]
  },
  {
   "cell_type": "code",
   "execution_count": 9,
   "metadata": {},
   "outputs": [
    {
     "name": "stdout",
     "output_type": "stream",
     "text": [
      "The autoreload extension is already loaded. To reload it, use:\n",
      "  %reload_ext autoreload\n"
     ]
    }
   ],
   "source": [
    "from src.n_nine import plot\n",
    "\n",
    "%load_ext autoreload\n",
    "%autoreload 2"
   ]
  },
  {
   "cell_type": "code",
   "execution_count": 10,
   "metadata": {},
   "outputs": [
    {
     "name": "stdout",
     "output_type": "stream",
     "text": [
      "Dataframe shape: (9930, 26)\n",
      "duplicates dropped: 187\n"
     ]
    }
   ],
   "source": [
    " import pandas as pd\n",
    "\n",
    " DATASET_URL = \"https://git.io/nlp-with-transformers\"\n",
    " df_issues = pd.read_json(DATASET_URL, lines=True)\n",
    "\n",
    " print(f\"Dataframe shape: {df_issues.shape}\")\n",
    "\n",
    "# only keep label name (drop id, nodes, ...)\n",
    " df_issues[\"labels\"] = df_issues.labels.apply(lambda l: [n['name'] for n in l])\n",
    "\n",
    "# keep main labels and map to simpler lower case labels\n",
    " label_map = {\n",
    "    \"Core: Tokenization\": \"tokenization\",\n",
    "    \"New model\": \"new model\",\n",
    "    \"Core: Modeling\": \"model training\",\n",
    "    \"Usage\": \"usage\",\n",
    "    \"Core: Pipeline\": \"pipeline\",\n",
    "    \"TensorFlow\": \"tensorflow\",\n",
    "    \"PyTorch\": \"pytorch\",\n",
    "    \"Examples\": \"examples\",\n",
    "    \"Documentation\": \"documentation\"\n",
    "}\n",
    "\n",
    "def filter_labels(labels: list[str]) -> list[str]:\n",
    "    return [label_map[label] for label in labels if label in label_map]\n",
    "\n",
    "df_issues[\"labels\"] = df_issues.labels.apply(filter_labels)\n",
    "all_labels = list(label_map.values())\n",
    "\n",
    "# adding a flag to know whether issue has at least one labeled or not\n",
    "df_issues[\"labeled\"] = df_issues.labels.apply(len) > 0\n",
    "\n",
    "\n",
    "# drop duplicates\n",
    "df_issues[\"text\"] = df_issues.title + \"\\n\\n\" + df_issues.body\n",
    "previous_length = len(df_issues)\n",
    "df_issues = df_issues.drop_duplicates(subset=\"text\")\n",
    "\n",
    "print(f\"duplicates dropped: {previous_length - len(df_issues)}\")"
   ]
  },
  {
   "cell_type": "code",
   "execution_count": 11,
   "metadata": {},
   "outputs": [
    {
     "data": {
      "image/png": "[encoded data removed]",
      "text/plain": [
       "<Figure size 640x480 with 1 Axes>"
      ]
     },
     "metadata": {},
     "output_type": "display_data"
    }
   ],
   "source": [
    "import numpy as np\n",
    "import matplotlib.pyplot as plt\n",
    "\n",
    "(\n",
    "    df_issues[\"text\"].str.split()\n",
    "    .apply(len)\n",
    "    .hist(bins=np.linspace(0,500,50), grid=False, edgecolor=\"C0\")\n",
    ")\n",
    "plt.title(\"words per issue\")\n",
    "plt.xlabel(\"number of words\")\n",
    "plt.ylabel(\"Number of issues\")\n",
    "plt.show()\n"
   ]
  },
  {
   "cell_type": "markdown",
   "metadata": {},
   "source": [
    "# Creating a Training Set"
   ]
  },
  {
   "cell_type": "code",
   "execution_count": 12,
   "metadata": {},
   "outputs": [
    {
     "name": "stdout",
     "output_type": "stream",
     "text": [
      "[[0 0 0 0 0 1 0 1 0]\n",
      " [0 0 0 0 0 0 1 0 0]]\n"
     ]
    }
   ],
   "source": [
    "from sklearn.preprocessing import MultiLabelBinarizer\n",
    "\n",
    "# fit a label binarizer on data\n",
    "mlb = MultiLabelBinarizer()\n",
    "\n",
    "mlb.fit([all_labels])\n",
    "print(mlb.transform([[\"tokenization\", \"pytorch\"], [\"tensorflow\"]]))\n",
    "\n",
    "# \n",
    "from skmultilearn.model_selection import iterative_train_test_split\n",
    "\n",
    "def balanced_split(df: pd.DataFrame, test_size: float= 0.5) -> tuple[pd.DataFrame]:\n",
    "    idx = np.expand_dims(np.arange(len(df)), axis=1)\n",
    "    labels = mlb.transform(df[\"labels\"])\n",
    "    idx_train, _, idx_test, _ = iterative_train_test_split(idx, labels, test_size=test_size)\n",
    "\n",
    "    return df.iloc[idx_train[:,0]], df.iloc[idx_test[:,0]]\n",
    "\n",
    "df_clean = df_issues[[\"text\", \"labels\", \"labeled\"]].reset_index(drop=True).copy()\n",
    "\n",
    "df_unsup = df_clean.loc[~df_clean.labeled, [\"text\",\"labels\"]]\n",
    "df_sup = df_clean.loc[df_clean.labeled, [\"text\", \"labels\"]]\n",
    "\n",
    "np.random.seed(0)\n",
    "df_train, df_tmp = balanced_split(df_sup, test_size=0.5)\n",
    "df_valid, df_test = balanced_split(df_tmp, test_size=0.5)\n"
   ]
  },
  {
   "cell_type": "code",
   "execution_count": 13,
   "metadata": {},
   "outputs": [
    {
     "data": {
      "text/plain": [
       "DatasetDict({\n",
       "    train: Dataset({\n",
       "        features: ['text', 'labels'],\n",
       "        num_rows: 223\n",
       "    })\n",
       "    valid: Dataset({\n",
       "        features: ['text', 'labels'],\n",
       "        num_rows: 106\n",
       "    })\n",
       "    test: Dataset({\n",
       "        features: ['text', 'labels'],\n",
       "        num_rows: 111\n",
       "    })\n",
       "    unsup: Dataset({\n",
       "        features: ['text', 'labels'],\n",
       "        num_rows: 9303\n",
       "    })\n",
       "})"
      ]
     },
     "execution_count": 13,
     "metadata": {},
     "output_type": "execute_result"
    }
   ],
   "source": [
    "import datasets\n",
    "ds = datasets.DatasetDict({\n",
    "    \"train\": datasets.Dataset.from_pandas(df_train.reset_index(drop=True)),\n",
    "    \"valid\": datasets.Dataset.from_pandas(df_valid.reset_index(drop=True)),\n",
    "    \"test\": datasets.Dataset.from_pandas(df_test.reset_index(drop=True)),\n",
    "    \"unsup\": datasets.Dataset.from_pandas(df_unsup.reset_index(drop=True)),\n",
    "})\n",
    "\n",
    "ds"
   ]
  },
  {
   "cell_type": "markdown",
   "metadata": {},
   "source": [
    "### Creating Training Slices\n",
    "Goal: test how efficient different strategies are depending on number of labeled samples"
   ]
  },
  {
   "cell_type": "code",
   "execution_count": 14,
   "metadata": {},
   "outputs": [
    {
     "name": "stdout",
     "output_type": "stream",
     "text": [
      "target split size: [8, 16, 32, 64, 128, 223]\n",
      "actual split size: [10, 19, 36, 68, 134, 223]\n"
     ]
    }
   ],
   "source": [
    "np.random.seed(0)\n",
    "# create list of all indices\n",
    "all_indices = np.expand_dims(np.arange(len(ds[\"train\"])), axis=1)\n",
    "\n",
    "# indices_pool = array with indices available to pool from \n",
    "indices_pool = all_indices\n",
    "labels = mlb.transform(ds[\"train\"][\"labels\"])\n",
    "train_samples = [2**x for x in range(3,8)]\n",
    "train_slices, last_k = [], 0\n",
    "\n",
    "for i, k in enumerate(train_samples):\n",
    "    indices_pool, labels, new_slice, _ = iterative_train_test_split(indices_pool, labels, (k-last_k) / len(labels))\n",
    "    \n",
    "    last_k = k \n",
    "    if i == 0: \n",
    "        train_slices.append(new_slice)\n",
    "    else:\n",
    "        train_slices.append(np.concatenate([train_slices[-1], new_slice]))\n",
    "\n",
    "# add full dataset as last slice:\n",
    "train_slices.append(all_indices) \n",
    "train_samples.append(len(ds[\"train\"]))\n",
    "\n",
    "\n",
    "train_slices = [np.squeeze(train_slice) for train_slice in train_slices]\n",
    "\n",
    "print(f\"target split size: {train_samples}\")\n",
    "print(f\"actual split size: {[len(s) for s in train_slices]}\")"
   ]
  },
  {
   "cell_type": "code",
   "execution_count": 15,
   "metadata": {},
   "outputs": [
    {
     "data": {
      "application/vnd.jupyter.widget-view+json": {
       "model_id": "0df6edf5d7db409f99e6d6b7387dc600",
       "version_major": 2,
       "version_minor": 0
      },
      "text/plain": [
       "  0%|          | 0/1 [00:00<?, ?ba/s]"
      ]
     },
     "metadata": {},
     "output_type": "display_data"
    },
    {
     "data": {
      "application/vnd.jupyter.widget-view+json": {
       "model_id": "6d8a9f72551f4d3dacdfbc74f41d78a1",
       "version_major": 2,
       "version_minor": 0
      },
      "text/plain": [
       "  0%|          | 0/1 [00:00<?, ?ba/s]"
      ]
     },
     "metadata": {},
     "output_type": "display_data"
    },
    {
     "data": {
      "application/vnd.jupyter.widget-view+json": {
       "model_id": "55dafeb8e88c49d18752890f92d8f445",
       "version_major": 2,
       "version_minor": 0
      },
      "text/plain": [
       "  0%|          | 0/1 [00:00<?, ?ba/s]"
      ]
     },
     "metadata": {},
     "output_type": "display_data"
    },
    {
     "data": {
      "application/vnd.jupyter.widget-view+json": {
       "model_id": "04f9c9aa4e804f7181bb92bdb24d3442",
       "version_major": 2,
       "version_minor": 0
      },
      "text/plain": [
       "  0%|          | 0/10 [00:00<?, ?ba/s]"
      ]
     },
     "metadata": {},
     "output_type": "display_data"
    }
   ],
   "source": [
    "def prepare_labels(batch):\n",
    "    batch[\"label_ids\"] = mlb.transform(batch[\"labels\"])\n",
    "    return batch\n",
    "\n",
    "ds = ds.map(prepare_labels, batched=True)"
   ]
  },
  {
   "cell_type": "markdown",
   "metadata": {},
   "source": [
    "## Create Metrics Record"
   ]
  },
  {
   "cell_type": "code",
   "execution_count": 16,
   "metadata": {},
   "outputs": [],
   "source": [
    "from collections import defaultdict\n",
    "\n",
    "f1_scores = {\"micro\": defaultdict(list), \"macro\": defaultdict(list)}"
   ]
  },
  {
   "cell_type": "markdown",
   "metadata": {},
   "source": [
    "# Naive Bayes Baseline"
   ]
  },
  {
   "cell_type": "code",
   "execution_count": 17,
   "metadata": {},
   "outputs": [],
   "source": [
    "from sklearn.naive_bayes import MultinomialNB\n",
    "\n",
    "from sklearn.pipeline import Pipeline\n",
    "from skmultilearn.problem_transform import BinaryRelevance\n",
    "from sklearn.feature_extraction.text import CountVectorizer, TfidfVectorizer\n",
    "from sklearn.metrics import classification_report\n",
    "\n",
    "\n",
    "\n",
    "def evaluate_pipe_on_slices(pipe: Pipeline, strategy: str, f1_scores: dict) -> None:\n",
    "    for train_slice in train_slices:\n",
    "        ds_train_sample = ds[\"train\"].select(train_slice)\n",
    "        y_train = np.array(ds_train_sample[\"label_ids\"])\n",
    "        y_test = np.array(ds[\"test\"][\"label_ids\"])\n",
    "\n",
    "        # fit pipeline\n",
    "        _ = pipe.fit(ds_train_sample[\"text\"], y_train)\n",
    "\n",
    "        # generate preds and evaluate\n",
    "        y_pred_test = pipe.predict(ds[\"test\"][\"text\"])\n",
    "        clf_report = classification_report(y_test, y_pred_test, \n",
    "            target_names=mlb.classes_, \n",
    "            zero_division=0, \n",
    "            output_dict=True)\n",
    "\n",
    "        f1_scores[\"macro\"][strategy].append(clf_report[\"macro avg\"][\"f1-score\"])\n",
    "        f1_scores[\"micro\"][strategy].append(clf_report[\"micro avg\"][\"f1-score\"])\n",
    "\n",
    "    return f1_scores\n",
    "\n",
    "\n",
    "pipe = Pipeline([(\"vectorizer\", CountVectorizer()), (\"clf\", BinaryRelevance(classifier=MultinomialNB()))])\n",
    "\n",
    "f1_scores = evaluate_pipe_on_slices(pipe, strategy=\"Naive Bayes\", f1_scores=f1_scores)\n",
    "\n"
   ]
  },
  {
   "cell_type": "code",
   "execution_count": 18,
   "metadata": {},
   "outputs": [],
   "source": [
    "pipe = Pipeline([(\"vectorizer\", TfidfVectorizer()), (\"clf\", BinaryRelevance(classifier=MultinomialNB()))])\n",
    "\n",
    "f1_scores = evaluate_pipe_on_slices(pipe, strategy=\"Naive Bayes tfidf\", f1_scores=f1_scores)\n"
   ]
  },
  {
   "cell_type": "code",
   "execution_count": 21,
   "metadata": {},
   "outputs": [
    {
     "data": {
      "image/png": "[encoded data removed]",
      "text/plain": [
       "<Figure size 1000x400 with 2 Axes>"
      ]
     },
     "metadata": {},
     "output_type": "display_data"
    }
   ],
   "source": [
    "plot.plot_metrics(f1_scores, train_samples, \"Naive Bayes tfidf\")"
   ]
  },
  {
   "cell_type": "markdown",
   "metadata": {},
   "source": [
    "## Working with No Labeled Data: Zero-Shot Classification\n",
    "* turn task into an entailment task to figure out whether topics are related by comparing text to a sentence of the form: `\"this section was about the topic [MASK]\"`"
   ]
  },
  {
   "cell_type": "code",
   "execution_count": null,
   "metadata": {},
   "outputs": [],
   "source": []
  }
 ],
 "metadata": {
  "kernelspec": {
   "display_name": "Python 3.9.13 ('tfm2')",
   "language": "python",
   "name": "python3"
  },
  "language_info": {
   "codemirror_mode": {
    "name": "ipython",
    "version": 3
   },
   "file_extension": ".py",
   "mimetype": "text/x-python",
   "name": "python",
   "nbconvert_exporter": "python",
   "pygments_lexer": "ipython3",
   "version": "3.9.13 | packaged by conda-forge | (main, May 27 2022, 17:00:33) \n[Clang 13.0.1 ]"
  },
  "orig_nbformat": 4,
  "vscode": {
   "interpreter": {
    "hash": "c301f0c3898e4f15f330fc5bac7cac59574c406b73e080d7a22a7e5f091db209"
   }
  }
 },
 "nbformat": 4,
 "nbformat_minor": 2
}
