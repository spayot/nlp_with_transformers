{
 "cells": [
  {
   "cell_type": "code",
   "execution_count": 1,
   "metadata": {},
   "outputs": [],
   "source": [
    "\n",
    "import datasets\n",
    "import pandas as pd"
   ]
  },
  {
   "cell_type": "markdown",
   "metadata": {},
   "source": [
    "# loading existing datasets"
   ]
  },
  {
   "cell_type": "code",
   "execution_count": 3,
   "metadata": {},
   "outputs": [
    {
     "name": "stderr",
     "output_type": "stream",
     "text": [
      "Using custom data configuration default\n",
      "Reusing dataset emotion (/Users/SPayot/.cache/huggingface/datasets/emotion/default/0.0.0/348f63ca8e27b3713b6c04d723efe6d824a56fb3d1449794716c0f0296072705)\n"
     ]
    },
    {
     "data": {
      "application/vnd.jupyter.widget-view+json": {
       "model_id": "5d1a8edcedd24f53a954d24fe5c0913f",
       "version_major": 2,
       "version_minor": 0
      },
      "text/plain": [
       "  0%|          | 0/3 [00:00<?, ?it/s]"
      ]
     },
     "metadata": {},
     "output_type": "display_data"
    }
   ],
   "source": [
    "emotions = datasets.load_dataset(\"emotion\")"
   ]
  },
  {
   "cell_type": "code",
   "execution_count": 6,
   "metadata": {},
   "outputs": [
    {
     "data": {
      "text/plain": [
       "{'text': Value(dtype='string', id=None),\n",
       " 'label': ClassLabel(num_classes=6, names=['sadness', 'joy', 'love', 'anger', 'fear', 'surprise'], id=None)}"
      ]
     },
     "execution_count": 6,
     "metadata": {},
     "output_type": "execute_result"
    }
   ],
   "source": [
    "emotions[\"train\"].features"
   ]
  },
  {
   "cell_type": "markdown",
   "metadata": {},
   "source": [
    "# Generating own datasets\n",
    "## generating the data"
   ]
  },
  {
   "cell_type": "code",
   "execution_count": 50,
   "metadata": {},
   "outputs": [
    {
     "data": {
      "text/html": [
       "<div>\n",
       "<style scoped>\n",
       "    .dataframe tbody tr th:only-of-type {\n",
       "        vertical-align: middle;\n",
       "    }\n",
       "\n",
       "    .dataframe tbody tr th {\n",
       "        vertical-align: top;\n",
       "    }\n",
       "\n",
       "    .dataframe thead th {\n",
       "        text-align: right;\n",
       "    }\n",
       "</style>\n",
       "<table border=\"1\" class=\"dataframe\">\n",
       "  <thead>\n",
       "    <tr style=\"text-align: right;\">\n",
       "      <th></th>\n",
       "      <th>text</th>\n",
       "      <th>category</th>\n",
       "    </tr>\n",
       "  </thead>\n",
       "  <tbody>\n",
       "    <tr>\n",
       "      <th>0</th>\n",
       "      <td>i love kyries</td>\n",
       "      <td>basketball</td>\n",
       "    </tr>\n",
       "    <tr>\n",
       "      <th>1</th>\n",
       "      <td>best running shoes</td>\n",
       "      <td>running</td>\n",
       "    </tr>\n",
       "    <tr>\n",
       "      <th>2</th>\n",
       "      <td>cleats for forwards</td>\n",
       "      <td>global football</td>\n",
       "    </tr>\n",
       "    <tr>\n",
       "      <th>3</th>\n",
       "      <td>everyday cool looking snkrs</td>\n",
       "      <td>lifestyle</td>\n",
       "    </tr>\n",
       "    <tr>\n",
       "      <th>4</th>\n",
       "      <td>new pegs</td>\n",
       "      <td>running</td>\n",
       "    </tr>\n",
       "  </tbody>\n",
       "</table>\n",
       "</div>"
      ],
      "text/plain": [
       "                          text         category\n",
       "0                i love kyries       basketball\n",
       "1           best running shoes          running\n",
       "2          cleats for forwards  global football\n",
       "3  everyday cool looking snkrs        lifestyle\n",
       "4                     new pegs          running"
      ]
     },
     "execution_count": 50,
     "metadata": {},
     "output_type": "execute_result"
    }
   ],
   "source": [
    "FPATH = \"../data/simple_dataset.csv\"\n",
    "\n",
    "data={\"text\": [\"i love kyries\", \"best running shoes\", \"cleats for forwards\", \"everyday cool looking snkrs\", \"new pegs\"], \n",
    "\"category\": [\"basketball\", \"running\", \"global football\", \"lifestyle\", \"running\"]}\n",
    "\n",
    "df = pd.DataFrame(data)\n",
    "\n",
    "df.to_csv(FPATH)\n",
    "\n",
    "df"
   ]
  },
  {
   "cell_type": "markdown",
   "metadata": {},
   "source": [
    "## creating a Dataset from a pandas dataframe"
   ]
  },
  {
   "cell_type": "code",
   "execution_count": 42,
   "metadata": {},
   "outputs": [],
   "source": [
    "from collections import OrderedDict\n",
    "\n",
    "label2id =  OrderedDict({\"basketball\": 0, \"running\": 1, \"global football\": 2, \"lifestyle\": 3, \"other\": 4})"
   ]
  },
  {
   "cell_type": "code",
   "execution_count": 59,
   "metadata": {},
   "outputs": [
    {
     "data": {
      "application/vnd.jupyter.widget-view+json": {
       "model_id": "f82502cfff0642388279c84952df3cee",
       "version_major": 2,
       "version_minor": 0
      },
      "text/plain": [
       "  0%|          | 0/5 [00:00<?, ?ex/s]"
      ]
     },
     "metadata": {},
     "output_type": "display_data"
    },
    {
     "data": {
      "text/plain": [
       "Dataset({\n",
       "    features: ['text', 'category', 'label'],\n",
       "    num_rows: 5\n",
       "})"
      ]
     },
     "execution_count": 59,
     "metadata": {},
     "output_type": "execute_result"
    }
   ],
   "source": [
    "ds_pd = datasets.Dataset.from_pandas(df) #, info=\"a toy example of dataset\")\n",
    "\n",
    "\n",
    "\n",
    "\n",
    "def convert_category(example: dict) -> dict[str, int]:\n",
    "    return {\"label\": label2id.get(example[\"category\"])}\n",
    "    \n",
    "ds_pd = ds_pd.map(convert_category)\n",
    "\n",
    "ds_pd"
   ]
  },
  {
   "cell_type": "code",
   "execution_count": 63,
   "metadata": {},
   "outputs": [
    {
     "name": "stdout",
     "output_type": "stream",
     "text": [
      "\ttext: Value(dtype='string', id=None)\n",
      "\tcategory: Value(dtype='string', id=None)\n",
      "\tlabel: Value(dtype='int64', id=None)\n",
      "\n",
      "\ttext: ['i love kyries', 'best running shoes', 'cleats for forwards', 'everyday cool looking snkrs', 'new pegs']\n",
      "\tcategory: ['basketball', 'running', 'global football', 'lifestyle', 'running']\n",
      "\tlabel: [0, 1, 2, 3, 1]\n"
     ]
    }
   ],
   "source": [
    "def print_dict(d: dict) -> None:\n",
    "    print(*[f\"\\t{k}: {v}\" for k, v in d.items()], sep='\\n')\n",
    "    \n",
    "def print_ds(ds):\n",
    "    print_dict(ds.features)\n",
    "    print()\n",
    "    print_dict(ds[:])\n",
    "\n",
    "print_ds(ds_pd)"
   ]
  },
  {
   "cell_type": "markdown",
   "metadata": {},
   "source": [
    "## setting right feature types"
   ]
  },
  {
   "cell_type": "code",
   "execution_count": 66,
   "metadata": {},
   "outputs": [],
   "source": [
    "df[\"label\"] = df.category.map(label2id)"
   ]
  },
  {
   "cell_type": "code",
   "execution_count": 71,
   "metadata": {},
   "outputs": [
    {
     "name": "stdout",
     "output_type": "stream",
     "text": [
      "\tlabel: ClassLabel(num_classes=5, names=['basketball', 'running', 'global football', 'lifestyle', 'other'], id=None)\n",
      "\ttext: Value(dtype='string', id=None)\n",
      "\tcategory: Value(dtype='string', id=None)\n",
      "\n",
      "\tlabel: [0, 1, 2, 3, 1]\n",
      "\ttext: ['i love kyries', 'best running shoes', 'cleats for forwards', 'everyday cool looking snkrs', 'new pegs']\n",
      "\tcategory: ['basketball', 'running', 'global football', 'lifestyle', 'running']\n"
     ]
    }
   ],
   "source": [
    "features = datasets.Features({\n",
    "    \"label\": datasets.ClassLabel(names=list(label2id.keys())),\n",
    "    \"text\": datasets.Value(dtype=\"string\"),\n",
    "    \"category\": datasets.Value(dtype=\"string\"),\n",
    "    })\n",
    "\n",
    "ds_pd2 = datasets.Dataset.from_pandas(df, features=features)\n",
    "print_ds(ds_pd2)"
   ]
  },
  {
   "cell_type": "code",
   "execution_count": 79,
   "metadata": {},
   "outputs": [],
   "source": [
    "# split\n",
    "ds_pd2 = ds_pd2.shuffle(seed=42).train_test_split(.2)"
   ]
  },
  {
   "cell_type": "code",
   "execution_count": 80,
   "metadata": {},
   "outputs": [
    {
     "data": {
      "application/vnd.jupyter.widget-view+json": {
       "model_id": "8bf2b0828d284e05bac3c375e79cb57b",
       "version_major": 2,
       "version_minor": 0
      },
      "text/plain": [
       "Flattening the indices:   0%|          | 0/1 [00:00<?, ?ba/s]"
      ]
     },
     "metadata": {},
     "output_type": "display_data"
    },
    {
     "data": {
      "application/vnd.jupyter.widget-view+json": {
       "model_id": "f1252bed13914a9c921afefc640f5813",
       "version_major": 2,
       "version_minor": 0
      },
      "text/plain": [
       "Flattening the indices:   0%|          | 0/1 [00:00<?, ?ba/s]"
      ]
     },
     "metadata": {},
     "output_type": "display_data"
    }
   ],
   "source": [
    "# save to disk in arrow format\n",
    "ds_pd2.save_to_disk(\"data/simple_dataset/\")"
   ]
  },
  {
   "cell_type": "markdown",
   "metadata": {},
   "source": [
    "# try to handle transforms"
   ]
  },
  {
   "cell_type": "code",
   "execution_count": 1,
   "metadata": {},
   "outputs": [],
   "source": [
    "import requests, io\n",
    "from io import BytesIO\n",
    "from PIL import Image\n",
    "from transformers import CLIPProcessor, CLIPModel\n",
    "import datasets"
   ]
  },
  {
   "cell_type": "code",
   "execution_count": 2,
   "metadata": {},
   "outputs": [
    {
     "name": "stdout",
     "output_type": "stream",
     "text": [
      "RAM used: 253.56 MB\n"
     ]
    }
   ],
   "source": [
    "import psutil\n",
    "\n",
    "def get_ram_usage_mb() -> float:\n",
    "    return psutil.Process().memory_info().rss / (1024 * 1024)\n",
    "\n",
    "def print_ram_usage() -> None:\n",
    "    # Process.memory_info is expressed in bytes, so convert to megabytes\n",
    "    print(f\"RAM used: {get_ram_usage_mb():.2f} MB\")\n",
    "\n",
    "print_ram_usage()"
   ]
  },
  {
   "cell_type": "code",
   "execution_count": 4,
   "metadata": {},
   "outputs": [],
   "source": [
    "filepath = \"https://static.nike.com/a/images/t_default/b23b37f4-1278-4719-8290-4c673d3ef1e0/sportswear-womens-fleece-sweatshirt-vgstZS.png\"\n",
    "image_path = \"data/image_sample.jpg\"\n",
    "img = Image.open(BytesIO(requests.get(filepath).content)).convert('RGB').resize((300,300))\n",
    "img.save(image_path)\n"
   ]
  },
  {
   "cell_type": "code",
   "execution_count": 5,
   "metadata": {},
   "outputs": [
    {
     "name": "stdout",
     "output_type": "stream",
     "text": [
      "before:\n",
      "RAM used: 281.00 MB\n"
     ]
    },
    {
     "data": {
      "application/vnd.jupyter.widget-view+json": {
       "model_id": "914368c932574f82bdd903010a0f51fe",
       "version_major": 2,
       "version_minor": 0
      },
      "text/plain": [
       "  0%|          | 0/32 [00:00<?, ?ba/s]"
      ]
     },
     "metadata": {},
     "output_type": "display_data"
    },
    {
     "name": "stdout",
     "output_type": "stream",
     "text": [
      "after creating datasets.Dataset with 1000 images\n",
      "RAM used: 492.19 MB\n"
     ]
    }
   ],
   "source": [
    "N = 1000\n",
    "\n",
    "\n",
    "data = {\n",
    "    \"filepath\": [image_path for _ in range(N)], \n",
    "    \"label\": [\"cat\" for _ in range(N)],\n",
    "    }\n",
    "\n",
    "ds = datasets.Dataset.from_dict(data)\n",
    "\n",
    "print(\"before:\")\n",
    "print_ram_usage()\n",
    "\n",
    "# open images and save to dataset\n",
    "# def read_image(examples):\n",
    "#     return {\"pixel_values\": [Image.open(BytesIO(requests.get(filepath).content)).convert('RGB').resize((300,300)) for filepath in examples[\"filepath\"]]}\n",
    "\n",
    "def read_image(examples):\n",
    "    return {\"images\": [Image.open(image_path).convert('RGB').resize((300,300)) for filepath in examples[\"filepath\"]]}\n",
    "\n",
    "\n",
    "ds = ds.map(read_image, remove_columns=[\"filepath\"], batched=True, batch_size=32)\n",
    "\n",
    "print(f\"after creating datasets.Dataset with {N} images\")\n",
    "print_ram_usage()\n",
    "\n",
    "\n",
    "# new_img = [Image.open(BytesIO(requests.get(filepath).content)).convert('RGB') for _ in range(N)]\n",
    "\n",
    "# print(f\"after adding {N} images on disk\")\n",
    "# print_ram_usage()\n",
    "\n",
    "# del new_img\n",
    "# del ds"
   ]
  },
  {
   "cell_type": "code",
   "execution_count": 6,
   "metadata": {},
   "outputs": [
    {
     "data": {
      "image/png": "[encoded data removed]",
      "text/plain": [
       "<PIL.PngImagePlugin.PngImageFile image mode=RGB size=300x300>"
      ]
     },
     "execution_count": 6,
     "metadata": {},
     "output_type": "execute_result"
    }
   ],
   "source": [
    "ds[900][\"pixel_values\"]"
   ]
  },
  {
   "cell_type": "code",
   "execution_count": 11,
   "metadata": {},
   "outputs": [
    {
     "name": "stdout",
     "output_type": "stream",
     "text": [
      "RAM used: 517.58 MB\n"
     ]
    },
    {
     "data": {
      "application/vnd.jupyter.widget-view+json": {
       "model_id": "c16c7dda79914265b1ebcb4d5b8a48b3",
       "version_major": 2,
       "version_minor": 0
      },
      "text/plain": [
       "  0%|          | 0/32 [00:00<?, ?ba/s]"
      ]
     },
     "metadata": {},
     "output_type": "display_data"
    },
    {
     "name": "stdout",
     "output_type": "stream",
     "text": [
      "RAM used: 1183.23 MB\n"
     ]
    }
   ],
   "source": [
    "processor = CLIPProcessor.from_pretrained(\"openai/clip-vit-base-patch32\")\n",
    "\n",
    "print_ram_usage()\n",
    "\n",
    "\n",
    "def encode(examples):\n",
    "    return processor(images=examples[\"pixel_values\"])\n",
    "\n",
    "ds = ds.map(encode, batched=True, batch_size=32)\n",
    "\n",
    "print_ram_usage()"
   ]
  },
  {
   "cell_type": "code",
   "execution_count": 6,
   "metadata": {},
   "outputs": [],
   "source": [
    "processor = CLIPProcessor.from_pretrained(\"openai/clip-vit-base-patch32\")"
   ]
  },
  {
   "cell_type": "code",
   "execution_count": 7,
   "metadata": {},
   "outputs": [],
   "source": [
    "N = 1000\n",
    "\n",
    "img_path = \"your/image/path/on/s3\"\n",
    "filepath = \"https://static.nike.com/a/images/t_default/b23b37f4-1278-4719-8290-4c673d3ef1e0/sportswear-womens-fleece-sweatshirt-vgstZS.png\"\n",
    "data = {\n",
    "    \"filepath\": [filepath for _ in range(N)], \n",
    "    \"label\": [\"cat\" for _ in range(N)],\n",
    "    }\n",
    "\n",
    "ds = datasets.Dataset.from_dict(data)\n",
    "\n",
    "\n",
    "def single_pass(examples):\n",
    "    imgs = [Image.open(image_path).convert('RGB').resize((300,300)) for filepath in examples[\"filepath\"]]\n",
    "    return processor(images=imgs)\n",
    "\n",
    "\n",
    "from time import perf_counter\n",
    "\n",
    "\n",
    "def get_time_and_mem() -> tuple[float, float]: \n",
    "\n",
    "    return perf_counter(), psutil.Process(os.getpid()).memory_info().rss / (1024 * 1024)"
   ]
  },
  {
   "cell_type": "code",
   "execution_count": 15,
   "metadata": {},
   "outputs": [],
   "source": []
  },
  {
   "cell_type": "code",
   "execution_count": 26,
   "metadata": {},
   "outputs": [
    {
     "data": {
      "application/vnd.jupyter.widget-view+json": {
       "model_id": "301903105dfa41699fc4b8262de81e10",
       "version_major": 2,
       "version_minor": 0
      },
      "text/plain": [
       "  0%|          | 0/4 [00:00<?, ?ba/s]"
      ]
     },
     "metadata": {},
     "output_type": "display_data"
    },
    {
     "name": "stdout",
     "output_type": "stream",
     "text": [
      "memory used: 565.58MB\n",
      "latency: 3.30 sec\n"
     ]
    }
   ],
   "source": [
    "N = 1000\n",
    "\n",
    "img_path = \"your/image/path/on/s3\"\n",
    "image_path = \"data/image_sample.jpg\"\n",
    "filepath = \"https://static.nike.com/a/images/t_default/b23b37f4-1278-4719-8290-4c673d3ef1e0/sportswear-womens-fleece-sweatshirt-vgstZS.png\"\n",
    "data = {\n",
    "    \"filepath\": [image_path for _ in range(N)], \n",
    "    \"label\": [\"cat\" for _ in range(N)],\n",
    "    }\n",
    "\n",
    "ds = datasets.Dataset.from_dict(data)\n",
    "\n",
    "def single_pass(examples):\n",
    "    # imgs = [Image.open(BytesIO(requests.get(filepath).content)).convert('RGB').resize((300,300)) for filepath in examples[\"filepath\"]]\n",
    "    imgs = [Image.open(filepath).convert('RGB').resize((300,300)) for filepath in examples[\"filepath\"]]\n",
    "    return processor(images=imgs)\n",
    "\n",
    "before = get_time_and_mem()\n",
    "ds = ds.map(single_pass, batched=True, batch_size=256)\n",
    "after = get_time_and_mem()\n",
    "\n",
    "print(f\"memory used: {after[1]-before[1]:.2f}MB\")\n",
    "print(f\"latency: {after[0]-before[0]:.2f} sec\")\n",
    "\n",
    "del ds"
   ]
  },
  {
   "cell_type": "code",
   "execution_count": 3,
   "metadata": {},
   "outputs": [],
   "source": [
    "import requests, io\n",
    "from io import BytesIO\n",
    "from PIL import Image\n",
    "from transformers import CLIPProcessor, CLIPModel\n",
    "import datasets"
   ]
  },
  {
   "cell_type": "markdown",
   "metadata": {},
   "source": [
    "# defining benchmarking class"
   ]
  },
  {
   "cell_type": "code",
   "execution_count": 16,
   "metadata": {},
   "outputs": [],
   "source": [
    "import os\n",
    "import psutil\n",
    "from time import perf_counter\n",
    "\n",
    "def get_time_and_mem() -> tuple[float, float]: \n",
    "\n",
    "    return perf_counter(), psutil.Process(os.getpid()).memory_info().rss / (1024 * 1024)\n",
    "\n",
    "\n",
    "class PerfCheck:\n",
    "    def __init__(self):\n",
    "        \"\"\"measures the impact on RAM and time of a python execution.\n",
    "        Example:\n",
    "        >>> pc = PerfCheck()\n",
    "        >>> pc.start()\n",
    "        >>> time.sleep(1)\n",
    "        >>> pc.stop()\n",
    "        \"\"\"\n",
    "        self.memory : tuple[float, float] = None\n",
    "        self.cpu_perf : tuple[float, float] = None\n",
    "        self.status : str = \"INITIALIZED\"\n",
    "\n",
    "    def start(self) -> None:\n",
    "        self.memory = self._get_ram_mb()\n",
    "        self.cpu_perf = self._get_time()\n",
    "        self.status = \"RUNNING\"\n",
    "\n",
    "    def stop(self) -> None:\n",
    "        self.memory = self._get_ram_mb() - self.memory\n",
    "        self.cpu_perf = self._get_time() - self.cpu_perf\n",
    "        self.status = \"COMPLETED\"\n",
    "\n",
    "    def print(self) -> None:\n",
    "        print(f\"memory used: {self.after[1] - self.before[1]:.2f}MB\")\n",
    "        print(f\"latency: {self.after[0] - self.before[0]:.2f} sec\")\n",
    "\n",
    "    def reset(self) -> None:\n",
    "        self.__init__()\n",
    "\n",
    "    def __repr__(self) -> str:\n",
    "        if self.status == \"COMPLETED\":\n",
    "            return f\"PerfCheck(status={self.status}, cpu_perf={self.cpu_perf:.2f} sec, memory={self.memory:.2f}MB)\"\n",
    "        return f\"PerfCheck(status={self.status})\"\n",
    "\n",
    "    def _get_time(self) -> float:\n",
    "        return perf_counter()\n",
    "\n",
    "    def _get_ram_mb(self) -> float:\n",
    "        return psutil.Process(os.getpid()).memory_info().rss / (1024 * 1024)\n",
    "\n",
    "    \n",
    "\n",
    "\n",
    "def query_dataset(ds, batch_size, n_inferences):\n",
    "    print(f\"querying {n_inferences} batches of size {batch_size} the dataset\")\n",
    "    pc = PerfCheck()\n",
    "    pc.start()\n",
    "    for i in range(n_inferences):\n",
    "        _ = ds[i:i+batch_size][\"pixel_values\"]\n",
    "    pc.stop()\n",
    "    print(pc)"
   ]
  },
  {
   "cell_type": "markdown",
   "metadata": {},
   "source": [
    "# defining dataset"
   ]
  },
  {
   "cell_type": "code",
   "execution_count": 5,
   "metadata": {},
   "outputs": [],
   "source": [
    "N = 1000\n",
    "\n",
    "img_path = \"your/image/path/on/s3\"\n",
    "image_path = \"data/image_sample.jpg\"\n",
    "filepath = \"https://static.nike.com/a/images/t_default/b23b37f4-1278-4719-8290-4c673d3ef1e0/sportswear-womens-fleece-sweatshirt-vgstZS.png\"\n",
    "data = {\n",
    "    \"filepath\": [image_path for _ in range(N)], \n",
    "    \"label\": [\"cat\" for _ in range(N)],\n",
    "    }\n",
    "\n",
    "ds = datasets.Dataset.from_dict(data)"
   ]
  },
  {
   "cell_type": "code",
   "execution_count": 6,
   "metadata": {},
   "outputs": [],
   "source": [
    "# load image tokenizer\n",
    "processor = CLIPProcessor.from_pretrained(\"openai/clip-vit-base-patch32\")"
   ]
  },
  {
   "cell_type": "code",
   "execution_count": 9,
   "metadata": {},
   "outputs": [
    {
     "name": "stdout",
     "output_type": "stream",
     "text": [
      "transforming dataset\n"
     ]
    },
    {
     "data": {
      "application/vnd.jupyter.widget-view+json": {
       "model_id": "76c5d99f5ec643f0921884bb7c95e781",
       "version_major": 2,
       "version_minor": 0
      },
      "text/plain": [
       "  0%|          | 0/4 [00:00<?, ?ba/s]"
      ]
     },
     "metadata": {},
     "output_type": "display_data"
    },
    {
     "name": "stdout",
     "output_type": "stream",
     "text": [
      "memory used: 182.77MB\n",
      "latency: 3.29 sec\n",
      "querying 100 batches of size 16 the dataset\n",
      "memory used: -290.22MB\n",
      "latency: 56.84 sec\n"
     ]
    }
   ],
   "source": [
    "\n",
    "\n",
    "def single_pass(examples):\n",
    "    # imgs = [Image.open(BytesIO(requests.get(filepath).content)).convert('RGB').resize((300,300)) for filepath in examples[\"filepath\"]]\n",
    "    imgs = [Image.open(filepath).convert('RGB').resize((300,300)) for filepath in examples[\"filepath\"]]\n",
    "    return processor(images=imgs)\n",
    "\n",
    "\n",
    "pc = PerfCheck()\n",
    "print(\"transforming dataset\")\n",
    "pc.start()\n",
    "ds2 = ds.map(single_pass, batched=True, batch_size=256)\n",
    "pc.stop()\n",
    "print(pc)\n",
    "\n",
    "\n",
    "N_INFERENCES = 100\n",
    "BATCH_SIZE = 16\n",
    "\n",
    "query_dataset(ds2, n_inferences=N_INFERENCES, batch_size=BATCH_SIZE)"
   ]
  },
  {
   "cell_type": "markdown",
   "metadata": {},
   "source": [
    "## using with_transform instead\n",
    "`with_transform` operates the requested transformation only on the fly"
   ]
  },
  {
   "cell_type": "code",
   "execution_count": 21,
   "metadata": {},
   "outputs": [
    {
     "name": "stdout",
     "output_type": "stream",
     "text": [
      "querying 10 batches of size 16 the dataset\n",
      "PerfCheck(status=COMPLETED, cpu_perf=83.32 sec, memory=118.05MB)\n"
     ]
    }
   ],
   "source": [
    "import requests, io\n",
    "from io import BytesIO\n",
    "from PIL import Image\n",
    "from transformers import CLIPProcessor\n",
    "import datasets\n",
    "\n",
    "DATASET_SIZE = 100\n",
    "IMAGE_PATH = \"http://images.cocodataset.org/val2017/000000039769.jpg\"\n",
    "# \"https://static.nike.com/a/images/t_default/b23b37f4-1278-4719-8290-4c673d3ef1e0/sportswear-womens-fleece-sweatshirt-vgstZS.png\"\n",
    "IMAGE_PATH = \"https://images.nike.com/is/image/DotCom/PDP_HERO/SX5547_010_A/DotCom_SX5547-010.png?wid=300&hei=300&fmt=png-alpha\"\n",
    "MODEL_CKPT = \"openai/clip-vit-base-patch32\"\n",
    "\n",
    "# querying test parameters\n",
    "N_INFERENCES = 10\n",
    "BATCH_SIZE = 16\n",
    "\n",
    "\n",
    "# create synthetic dataset\n",
    "data = {\n",
    "    \"filepath\": [IMAGE_PATH for _ in range(DATASET_SIZE)],\n",
    "    \"label\": [\"hoodie\" for _ in range(DATASET_SIZE)]\n",
    "}\n",
    "\n",
    "ds = datasets.Dataset.from_dict(data)\n",
    "\n",
    "\n",
    "# pre-processing pipeline: filepath > Image > Tokens\n",
    "processor = CLIPProcessor.from_pretrained(MODEL_CKPT)\n",
    "\n",
    "def get_image_from_path(filepath):\n",
    "    return (\n",
    "        Image.open(BytesIO(requests.get(filepath).content))\n",
    "        .convert('RGB')\n",
    "        # .resize((300,300))\n",
    "        )\n",
    "\n",
    "def _transform(examples):\n",
    "    \"\"\"note: with_transform requires to define all\"\"\"\n",
    "    imgs = [get_image_from_path(filepath) for filepath in examples[\"filepath\"]]\n",
    "    examples.update(processor(images=imgs, return_tensors='pt'))\n",
    "    examples.pop('filepath')\n",
    "    return examples\n",
    "\n",
    "ds2 = ds.with_transform(_transform)\n",
    "\n",
    "query_dataset(ds2, n_inferences=N_INFERENCES, batch_size=BATCH_SIZE)\n"
   ]
  },
  {
   "cell_type": "code",
   "execution_count": 23,
   "metadata": {},
   "outputs": [
    {
     "data": {
      "text/plain": [
       "{'label': 'hoodie',\n",
       " 'pixel_values': tensor([[[ 0.5873,  0.5873,  0.6165,  ...,  0.0617,  0.0471, -0.0259],\n",
       "          [ 0.5727,  0.5727,  0.6603,  ...,  0.1201,  0.0763,  0.0909],\n",
       "          [ 0.5873,  0.5435,  0.6165,  ...,  0.0325,  0.1201,  0.0617],\n",
       "          ...,\n",
       "          [ 1.8719,  1.8573,  1.8719,  ...,  1.3902,  1.4340,  1.4194],\n",
       "          [ 1.8281,  1.8719,  1.8427,  ...,  1.4486,  1.4340,  1.5070],\n",
       "          [ 1.8573,  1.9011,  1.8281,  ...,  1.3756,  1.3610,  1.4486]],\n",
       " \n",
       "         [[-1.3169, -1.3019, -1.3169,  ..., -1.4970, -1.4369, -1.4820],\n",
       "          [-1.2418, -1.2718, -1.2268,  ..., -1.4369, -1.4669, -1.4519],\n",
       "          [-1.2568, -1.3169, -1.2268,  ..., -1.4669, -1.4069, -1.4519],\n",
       "          ...,\n",
       "          [ 0.1239,  0.1089,  0.1239,  ..., -0.7016, -0.6865, -0.6865],\n",
       "          [ 0.0789,  0.0939,  0.0488,  ..., -0.6565, -0.6865, -0.6115],\n",
       "          [ 0.0939,  0.1089,  0.0038,  ..., -0.7766, -0.7316, -0.6115]],\n",
       " \n",
       "         [[-0.4848, -0.4137, -0.3853,  ..., -0.9541, -0.8545, -0.8545],\n",
       "          [-0.4137, -0.4706, -0.3711,  ..., -0.8119, -0.8545, -0.7834],\n",
       "          [-0.3284, -0.4422, -0.3853,  ..., -0.8688, -0.8119, -0.8830],\n",
       "          ...,\n",
       "          [ 1.5771,  1.6482,  1.6340,  ...,  0.9088,  0.9514,  0.8945],\n",
       "          [ 1.6198,  1.6055,  1.6055,  ...,  0.8661,  0.8092,  0.7950],\n",
       "          [ 1.6624,  1.6766,  1.5487,  ...,  0.7950,  0.8661,  0.8519]]])}"
      ]
     },
     "execution_count": 23,
     "metadata": {},
     "output_type": "execute_result"
    }
   ],
   "source": [
    "ds2[0]"
   ]
  },
  {
   "cell_type": "code",
   "execution_count": 32,
   "metadata": {},
   "outputs": [
    {
     "name": "stdout",
     "output_type": "stream",
     "text": [
      "transforming dataset\n",
      "memory used: 3.30MB\n",
      "latency: 0.02 sec\n",
      "querying 100 batches of size 16 the dataset\n",
      "memory used: 106.44MB\n",
      "latency: 3.76 sec\n"
     ]
    }
   ],
   "source": [
    "def single_pass_transform(examples):\n",
    "    \"\"\"note: with_transform requires to define all\"\"\"\n",
    "    # imgs = [Image.open(BytesIO(requests.get(filepath).content)).convert('RGB').resize((300,300)) for filepath in examples[\"filepath\"]]\n",
    "    imgs = [Image.open(filepath).convert('RGB').resize((300,300)) for filepath in examples[\"filepath\"]]\n",
    "    examples.update(processor(images=imgs, return_tensors='pt'))\n",
    "    examples.pop('filepath')\n",
    "    return examples\n",
    "\n",
    "\n",
    "pc = PerfCheck()\n",
    "print(\"transforming dataset\")\n",
    "pc.start()\n",
    "ds2 = ds.with_transform(single_pass_transform)\n",
    "pc.stop()\n",
    "\n",
    "\n",
    "\n",
    "query_dataset(ds2, n_inferences=N_INFERENCES, batch_size=BATCH_SIZE)"
   ]
  },
  {
   "cell_type": "code",
   "execution_count": 33,
   "metadata": {},
   "outputs": [
    {
     "data": {
      "text/plain": [
       "1000"
      ]
     },
     "execution_count": 33,
     "metadata": {},
     "output_type": "execute_result"
    }
   ],
   "source": [
    "len(ds2)"
   ]
  },
  {
   "cell_type": "code",
   "execution_count": 36,
   "metadata": {},
   "outputs": [
    {
     "name": "stdout",
     "output_type": "stream",
     "text": [
      "memory used: 565.58MB\n",
      "latency: 3.30 sec\n"
     ]
    },
    {
     "data": {
      "text/plain": [
       "PerfCheck(before=(1554.682487083, 111.53125), after=(1555.687922708, 111.640625))"
      ]
     },
     "execution_count": 36,
     "metadata": {},
     "output_type": "execute_result"
    }
   ],
   "source": [
    "class PerfCheck:\n",
    "    def __init__(self):\n",
    "        self.before : tuple[float, float] = None\n",
    "        self.after : tuple[float, float] = None\n",
    "\n",
    "    def start(self) -> None:\n",
    "        self.before = get_time_and_mem()\n",
    "\n",
    "    def stop(self) -> None:\n",
    "        self.after = get_time_and_mem()\n",
    "\n",
    "        print(f\"memory used: {after[1]-before[1]:.2f}MB\")\n",
    "        print(f\"latency: {after[0]-before[0]:.2f} sec\")\n",
    "\n",
    "    def reset(self) -> None:\n",
    "        self.__init__()\n",
    "\n",
    "    def __repr__(self) -> str:\n",
    "        return f\"PerfCheck(before={self.before}, after={self.after})\"\n",
    "\n",
    "\n",
    "pc = PerfCheck()\n",
    "pc.start()\n",
    "time.sleep(1)\n",
    "pc.stop()\n",
    "\n",
    "pc"
   ]
  },
  {
   "cell_type": "code",
   "execution_count": 37,
   "metadata": {},
   "outputs": [],
   "source": [
    "pc.reset()"
   ]
  },
  {
   "cell_type": "code",
   "execution_count": 38,
   "metadata": {},
   "outputs": [
    {
     "data": {
      "text/plain": [
       "PerfCheck(before=None, after=None)"
      ]
     },
     "execution_count": 38,
     "metadata": {},
     "output_type": "execute_result"
    }
   ],
   "source": [
    "pc"
   ]
  },
  {
   "cell_type": "code",
   "execution_count": null,
   "metadata": {},
   "outputs": [],
   "source": [
    "pc = PerfCheck()\n",
    "ds2 = "
   ]
  },
  {
   "cell_type": "code",
   "execution_count": 82,
   "metadata": {},
   "outputs": [
    {
     "data": {
      "text/plain": [
       "DatasetDict({\n",
       "    train: Dataset({\n",
       "        features: ['label', 'text', 'category'],\n",
       "        num_rows: 4\n",
       "    })\n",
       "    test: Dataset({\n",
       "        features: ['label', 'text', 'category'],\n",
       "        num_rows: 1\n",
       "    })\n",
       "})"
      ]
     },
     "execution_count": 82,
     "metadata": {},
     "output_type": "execute_result"
    }
   ],
   "source": [
    "import requests, io\n",
    "from io import BytesIO\n",
    "from PIL import Image\n",
    "from transformers import CLIPProcessor, CLIPModel\n",
    "processor = CLIPProcessor.from_pretrained(\"openai/clip-vit-base-patch32\")\n",
    "encoded_im = processor(images = [Image.open(BytesIO(requests.get(filepath).content)).convert('RGB')for filepath in list_of_urls], return_tensors=\"pt\""
   ]
  },
  {
   "cell_type": "code",
   "execution_count": 4,
   "metadata": {},
   "outputs": [],
   "source": [
    "import requests, io\n",
    "from io import BytesIO\n",
    "from PIL import Image\n",
    "\n",
    "url = \"https://images.nike.com/is/image/DotCom/PDP_HERO/SX5547_010_A/DotCom_SX5547-010.png?wid=300&hei=300&fmt=png-alpha\"\n",
    "im = Image.open(BytesIO(requests.get(url).content))"
   ]
  },
  {
   "cell_type": "code",
   "execution_count": 8,
   "metadata": {},
   "outputs": [
    {
     "data": {
      "image/png": "[encoded data removed]",
      "text/plain": [
       "<PIL.PngImagePlugin.PngImageFile image mode=P size=300x300>"
      ]
     },
     "execution_count": 8,
     "metadata": {},
     "output_type": "execute_result"
    }
   ],
   "source": [
    "im"
   ]
  },
  {
   "cell_type": "code",
   "execution_count": null,
   "metadata": {},
   "outputs": [
    {
     "data": {
      "application/vnd.jupyter.widget-view+json": {
       "model_id": "6cd369ebd8764071b54847a282ac5cd5",
       "version_major": 2,
       "version_minor": 0
      },
      "text/plain": [
       "Downloading:   0%|          | 0.00/316 [00:00<?, ?B/s]"
      ]
     },
     "metadata": {},
     "output_type": "display_data"
    },
    {
     "data": {
      "application/vnd.jupyter.widget-view+json": {
       "model_id": "9e638474f3cb40d0a9dea9b315d17526",
       "version_major": 2,
       "version_minor": 0
      },
      "text/plain": [
       "Downloading:   0%|          | 0.00/568 [00:00<?, ?B/s]"
      ]
     },
     "metadata": {},
     "output_type": "display_data"
    },
    {
     "data": {
      "application/vnd.jupyter.widget-view+json": {
       "model_id": "c056c2f81b7e4873b2f16db518ce7dbe",
       "version_major": 2,
       "version_minor": 0
      },
      "text/plain": [
       "Downloading:   0%|          | 0.00/862k [00:00<?, ?B/s]"
      ]
     },
     "metadata": {},
     "output_type": "display_data"
    },
    {
     "data": {
      "application/vnd.jupyter.widget-view+json": {
       "model_id": "dd73843f977a43fea655b8a9ac5815b1",
       "version_major": 2,
       "version_minor": 0
      },
      "text/plain": [
       "Downloading:   0%|          | 0.00/525k [00:00<?, ?B/s]"
      ]
     },
     "metadata": {},
     "output_type": "display_data"
    },
    {
     "data": {
      "application/vnd.jupyter.widget-view+json": {
       "model_id": "eb4065cf96d4408c815ee7a40745e84a",
       "version_major": 2,
       "version_minor": 0
      },
      "text/plain": [
       "Downloading:   0%|          | 0.00/2.22M [00:00<?, ?B/s]"
      ]
     },
     "metadata": {},
     "output_type": "display_data"
    },
    {
     "data": {
      "application/vnd.jupyter.widget-view+json": {
       "model_id": "ab803aae811042f095e20a3b10356b0b",
       "version_major": 2,
       "version_minor": 0
      },
      "text/plain": [
       "Downloading:   0%|          | 0.00/389 [00:00<?, ?B/s]"
      ]
     },
     "metadata": {},
     "output_type": "display_data"
    },
    {
     "data": {
      "application/vnd.jupyter.widget-view+json": {
       "model_id": "4a0f3d938fa0455a8830f641fc8a620e",
       "version_major": 2,
       "version_minor": 0
      },
      "text/plain": [
       "Downloading:   0%|          | 0.00/4.19k [00:00<?, ?B/s]"
      ]
     },
     "metadata": {},
     "output_type": "display_data"
    }
   ],
   "source": [
    "processor = CLIPProcessor.from_pretrained(\"openai/clip-vit-base-patch32\")"
   ]
  },
  {
   "cell_type": "code",
   "execution_count": null,
   "metadata": {},
   "outputs": [],
   "source": [
    "emb = processor(images=[Image.open(BytesIO(requests.get(filepath).content)).convert('RGB')])"
   ]
  },
  {
   "cell_type": "code",
   "execution_count": null,
   "metadata": {},
   "outputs": [
    {
     "data": {
      "text/plain": [
       "(3, 224, 224)"
      ]
     },
     "metadata": {},
     "output_type": "display_data"
    }
   ],
   "source": [
    "emb[\"pixel_values\"][0].shape"
   ]
  },
  {
   "cell_type": "code",
   "execution_count": null,
   "metadata": {},
   "outputs": [],
   "source": []
  }
 ],
 "metadata": {
  "kernelspec": {
   "display_name": "Python 3.9.13 ('tfm2')",
   "language": "python",
   "name": "python3"
  },
  "language_info": {
   "codemirror_mode": {
    "name": "ipython",
    "version": 3
   },
   "file_extension": ".py",
   "mimetype": "text/x-python",
   "name": "python",
   "nbconvert_exporter": "python",
   "pygments_lexer": "ipython3",
   "version": "3.9.13 | packaged by conda-forge | (main, May 27 2022, 17:00:33) \n[Clang 13.0.1 ]"
  },
  "orig_nbformat": 4,
  "vscode": {
   "interpreter": {
    "hash": "c301f0c3898e4f15f330fc5bac7cac59574c406b73e080d7a22a7e5f091db209"
   }
  }
 },
 "nbformat": 4,
 "nbformat_minor": 2
}
