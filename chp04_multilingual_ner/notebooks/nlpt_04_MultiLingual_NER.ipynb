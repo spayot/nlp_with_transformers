{
 "cells": [
  {
   "cell_type": "code",
   "execution_count": 1,
   "metadata": {},
   "outputs": [
    {
     "name": "stderr",
     "output_type": "stream",
     "text": [
      "/Users/spayot/miniforge3/envs/tfm4/lib/python3.9/site-packages/tqdm/auto.py:22: TqdmWarning: IProgress not found. Please update jupyter and ipywidgets. See https://ipywidgets.readthedocs.io/en/stable/user_install.html\n",
      "  from .autonotebook import tqdm as notebook_tqdm\n"
     ]
    }
   ],
   "source": [
    "from collections import Counter, defaultdict\n",
    "import sys\n",
    "from typing import Tuple\n",
    "\n",
    "\n",
    "import datasets\n",
    "import matplotlib.pyplot as plt\n",
    "import numpy as np\n",
    "import pandas as pd\n",
    "from seqeval import metrics\n",
    "import torch\n",
    "import transformers as tfm\n",
    "\n",
    "sys.path.append(\"../src\")\n",
    "\n",
    "import ner\n",
    "\n",
    "%load_ext autoreload\n",
    "%autoreload 2\n"
   ]
  },
  {
   "cell_type": "code",
   "execution_count": 2,
   "metadata": {},
   "outputs": [],
   "source": [
    "pd.set_option('display.max_colwidth', None)\n",
    "\n",
    "MODEL_CKPT = \"xlm-roberta-base\""
   ]
  },
  {
   "cell_type": "markdown",
   "metadata": {},
   "source": [
    "# MultiLingual NER\n",
    "* Using XLM-R model\n",
    "* task: create NER model for swiss languages (de, fr, it, en)\n",
    "* dataset: XTREME - PAN-X: de, fr, it, en\n",
    "\n",
    "## Dataset\n",
    "### Load"
   ]
  },
  {
   "cell_type": "code",
   "execution_count": 3,
   "metadata": {},
   "outputs": [
    {
     "name": "stderr",
     "output_type": "stream",
     "text": [
      "Found cached dataset xtreme (/Users/spayot/.cache/huggingface/datasets/xtreme/PAN-X.de/1.0.0/29f5d57a48779f37ccb75cb8708d1095448aad0713b425bdc1ff9a4a128a56e4)\n",
      "100%|██████████| 3/3 [00:00<00:00, 265.79it/s]\n",
      "Loading cached shuffled indices for dataset at /Users/spayot/.cache/huggingface/datasets/xtreme/PAN-X.de/1.0.0/29f5d57a48779f37ccb75cb8708d1095448aad0713b425bdc1ff9a4a128a56e4/cache-e5ddf09f1ae095ec.arrow\n",
      "Loading cached shuffled indices for dataset at /Users/spayot/.cache/huggingface/datasets/xtreme/PAN-X.de/1.0.0/29f5d57a48779f37ccb75cb8708d1095448aad0713b425bdc1ff9a4a128a56e4/cache-25e7e2dd003d0fa6.arrow\n",
      "Loading cached shuffled indices for dataset at /Users/spayot/.cache/huggingface/datasets/xtreme/PAN-X.de/1.0.0/29f5d57a48779f37ccb75cb8708d1095448aad0713b425bdc1ff9a4a128a56e4/cache-73a95bc0accfea8b.arrow\n",
      "Found cached dataset xtreme (/Users/spayot/.cache/huggingface/datasets/xtreme/PAN-X.fr/1.0.0/29f5d57a48779f37ccb75cb8708d1095448aad0713b425bdc1ff9a4a128a56e4)\n",
      "100%|██████████| 3/3 [00:00<00:00, 353.15it/s]\n",
      "Loading cached shuffled indices for dataset at /Users/spayot/.cache/huggingface/datasets/xtreme/PAN-X.fr/1.0.0/29f5d57a48779f37ccb75cb8708d1095448aad0713b425bdc1ff9a4a128a56e4/cache-6ff29513007ec78b.arrow\n",
      "Loading cached shuffled indices for dataset at /Users/spayot/.cache/huggingface/datasets/xtreme/PAN-X.fr/1.0.0/29f5d57a48779f37ccb75cb8708d1095448aad0713b425bdc1ff9a4a128a56e4/cache-c5c9a4fc19dfd7d6.arrow\n",
      "Loading cached shuffled indices for dataset at /Users/spayot/.cache/huggingface/datasets/xtreme/PAN-X.fr/1.0.0/29f5d57a48779f37ccb75cb8708d1095448aad0713b425bdc1ff9a4a128a56e4/cache-9711ab25936b81b7.arrow\n",
      "Found cached dataset xtreme (/Users/spayot/.cache/huggingface/datasets/xtreme/PAN-X.it/1.0.0/29f5d57a48779f37ccb75cb8708d1095448aad0713b425bdc1ff9a4a128a56e4)\n",
      "100%|██████████| 3/3 [00:00<00:00, 373.38it/s]\n",
      "Loading cached shuffled indices for dataset at /Users/spayot/.cache/huggingface/datasets/xtreme/PAN-X.it/1.0.0/29f5d57a48779f37ccb75cb8708d1095448aad0713b425bdc1ff9a4a128a56e4/cache-daa9a1770078307c.arrow\n",
      "Loading cached shuffled indices for dataset at /Users/spayot/.cache/huggingface/datasets/xtreme/PAN-X.it/1.0.0/29f5d57a48779f37ccb75cb8708d1095448aad0713b425bdc1ff9a4a128a56e4/cache-5e244c05031bab3c.arrow\n",
      "Loading cached shuffled indices for dataset at /Users/spayot/.cache/huggingface/datasets/xtreme/PAN-X.it/1.0.0/29f5d57a48779f37ccb75cb8708d1095448aad0713b425bdc1ff9a4a128a56e4/cache-497ee15c12bff58d.arrow\n",
      "Found cached dataset xtreme (/Users/spayot/.cache/huggingface/datasets/xtreme/PAN-X.en/1.0.0/29f5d57a48779f37ccb75cb8708d1095448aad0713b425bdc1ff9a4a128a56e4)\n",
      "100%|██████████| 3/3 [00:00<00:00, 350.50it/s]\n",
      "Loading cached shuffled indices for dataset at /Users/spayot/.cache/huggingface/datasets/xtreme/PAN-X.en/1.0.0/29f5d57a48779f37ccb75cb8708d1095448aad0713b425bdc1ff9a4a128a56e4/cache-757845faa9fa6949.arrow\n",
      "Loading cached shuffled indices for dataset at /Users/spayot/.cache/huggingface/datasets/xtreme/PAN-X.en/1.0.0/29f5d57a48779f37ccb75cb8708d1095448aad0713b425bdc1ff9a4a128a56e4/cache-305cefc7ffa49fd9.arrow\n",
      "Loading cached shuffled indices for dataset at /Users/spayot/.cache/huggingface/datasets/xtreme/PAN-X.en/1.0.0/29f5d57a48779f37ccb75cb8708d1095448aad0713b425bdc1ff9a4a128a56e4/cache-e5ec5e6ba7c1237d.arrow\n"
     ]
    }
   ],
   "source": [
    "langs = {\"de\": 0.629, \"fr\": 0.229, \"it\": 0.084, \"en\": 0.059}\n",
    "\n",
    "# return a DatasetDict if a key doesn't exist\n",
    "panx_ch = defaultdict(datasets.DatasetDict)\n",
    "\n",
    "for lang, frac in langs.items():\n",
    "    # load monolingual corpus\n",
    "    ds = datasets.load_dataset(\"xtreme\", name=f\"PAN-X.{lang}\")\n",
    "    # sample examples to create imbalanced dataset based on language prevalence\n",
    "    for split in ds:\n",
    "        panx_ch[lang][split] = (ds[split]\n",
    "            .shuffle(seed=0)\n",
    "            .select(range(int(frac * ds[split].num_rows))))\n",
    "\n",
    "    "
   ]
  },
  {
   "cell_type": "markdown",
   "metadata": {},
   "source": [
    "### Exploratory Data Analysis"
   ]
  },
  {
   "cell_type": "code",
   "execution_count": 4,
   "metadata": {},
   "outputs": [
    {
     "name": "stdout",
     "output_type": "stream",
     "text": [
      "de 12580 rows\n",
      "fr 4580 rows\n",
      "it 1680 rows\n",
      "en 1180 rows\n"
     ]
    }
   ],
   "source": [
    "# inspecting the number of examples for each language\n",
    "for lang, ds in panx_ch.items():\n",
    "    print(lang, ds[\"train\"].num_rows, \"rows\", sep=\" \")"
   ]
  },
  {
   "cell_type": "code",
   "execution_count": 5,
   "metadata": {},
   "outputs": [
    {
     "data": {
      "text/plain": [
       "{'tokens': Sequence(feature=Value(dtype='string', id=None), length=-1, id=None),\n",
       " 'ner_tags': Sequence(feature=ClassLabel(names=['O', 'B-PER', 'I-PER', 'B-ORG', 'I-ORG', 'B-LOC', 'I-LOC'], id=None), length=-1, id=None),\n",
       " 'langs': Sequence(feature=Value(dtype='string', id=None), length=-1, id=None)}"
      ]
     },
     "execution_count": 5,
     "metadata": {},
     "output_type": "execute_result"
    }
   ],
   "source": [
    "# what are the features in each dataset?\n",
    "panx_ch[\"de\"][\"train\"].features"
   ]
  },
  {
   "cell_type": "code",
   "execution_count": 6,
   "metadata": {},
   "outputs": [
    {
     "name": "stdout",
     "output_type": "stream",
     "text": [
      "{'ner_tags_str': [['O', 'O', 'B-ORG', 'I-ORG', 'O', 'O'], ['B-ORG', 'I-ORG', 'O', 'B-PER', 'I-PER'], ['B-LOC', 'I-LOC', 'I-LOC', 'O', 'B-LOC', 'O', 'O', 'O', 'O', 'B-ORG', 'I-ORG', 'O', 'O']]}\n"
     ]
    }
   ],
   "source": [
    "# let's add string tags \n",
    "tags = panx_ch[\"de\"][\"train\"].features[\"ner_tags\"].feature\n",
    "\n",
    "def create_tag_names(batch: dict):\n",
    "    # tags.int2str turns a list of ids into str labels\n",
    "    tag_names: list = [tags.int2str(tag_id) for tag_id in batch[\"ner_tags\"]] \n",
    "    \n",
    "    return {\"ner_tags_str\": tag_names}\n",
    "\n",
    "batch = ds[\"train\"][:3]\n",
    "\n",
    "print(create_tag_names(batch))\n",
    "\n",
    "    "
   ]
  },
  {
   "cell_type": "code",
   "execution_count": 7,
   "metadata": {},
   "outputs": [
    {
     "name": "stderr",
     "output_type": "stream",
     "text": [
      "100%|██████████| 12580/12580 [00:00<00:00, 23156.80ex/s]\n",
      "100%|██████████| 6290/6290 [00:00<00:00, 23320.56ex/s]\n",
      "100%|██████████| 6290/6290 [00:00<00:00, 19330.94ex/s]\n"
     ]
    },
    {
     "data": {
      "text/html": [
       "<div>\n",
       "<style scoped>\n",
       "    .dataframe tbody tr th:only-of-type {\n",
       "        vertical-align: middle;\n",
       "    }\n",
       "\n",
       "    .dataframe tbody tr th {\n",
       "        vertical-align: top;\n",
       "    }\n",
       "\n",
       "    .dataframe thead th {\n",
       "        text-align: right;\n",
       "    }\n",
       "</style>\n",
       "<table border=\"1\" class=\"dataframe\">\n",
       "  <thead>\n",
       "    <tr style=\"text-align: right;\">\n",
       "      <th></th>\n",
       "      <th>0</th>\n",
       "      <th>1</th>\n",
       "      <th>2</th>\n",
       "      <th>3</th>\n",
       "      <th>4</th>\n",
       "      <th>5</th>\n",
       "      <th>6</th>\n",
       "      <th>7</th>\n",
       "      <th>8</th>\n",
       "      <th>9</th>\n",
       "      <th>10</th>\n",
       "      <th>11</th>\n",
       "    </tr>\n",
       "  </thead>\n",
       "  <tbody>\n",
       "    <tr>\n",
       "      <th>tokens</th>\n",
       "      <td>2.000</td>\n",
       "      <td>Einwohnern</td>\n",
       "      <td>an</td>\n",
       "      <td>der</td>\n",
       "      <td>Danziger</td>\n",
       "      <td>Bucht</td>\n",
       "      <td>in</td>\n",
       "      <td>der</td>\n",
       "      <td>polnischen</td>\n",
       "      <td>Woiwodschaft</td>\n",
       "      <td>Pommern</td>\n",
       "      <td>.</td>\n",
       "    </tr>\n",
       "    <tr>\n",
       "      <th>ner_tags_str</th>\n",
       "      <td>O</td>\n",
       "      <td>O</td>\n",
       "      <td>O</td>\n",
       "      <td>O</td>\n",
       "      <td>B-LOC</td>\n",
       "      <td>I-LOC</td>\n",
       "      <td>O</td>\n",
       "      <td>O</td>\n",
       "      <td>B-LOC</td>\n",
       "      <td>B-LOC</td>\n",
       "      <td>I-LOC</td>\n",
       "      <td>O</td>\n",
       "    </tr>\n",
       "  </tbody>\n",
       "</table>\n",
       "</div>"
      ],
      "text/plain": [
       "                 0           1   2    3         4      5   6    7   \\\n",
       "tokens        2.000  Einwohnern  an  der  Danziger  Bucht  in  der   \n",
       "ner_tags_str      O           O   O    O     B-LOC  I-LOC   O    O   \n",
       "\n",
       "                      8             9        10 11  \n",
       "tokens        polnischen  Woiwodschaft  Pommern  .  \n",
       "ner_tags_str       B-LOC         B-LOC    I-LOC  O  "
      ]
     },
     "execution_count": 7,
     "metadata": {},
     "output_type": "execute_result"
    }
   ],
   "source": [
    "panx_de = panx_ch[\"de\"].map(create_tag_names)\n",
    "\n",
    "de_example = panx_de[\"train\"][0]\n",
    "\n",
    "pd.DataFrame(de_example)[[\"tokens\", \"ner_tags_str\"]].T\n",
    "\n"
   ]
  },
  {
   "cell_type": "markdown",
   "metadata": {},
   "source": [
    "#### How many of each tags in DE dataset?"
   ]
  },
  {
   "cell_type": "code",
   "execution_count": 8,
   "metadata": {},
   "outputs": [
    {
     "data": {
      "text/html": [
       "<div>\n",
       "<style scoped>\n",
       "    .dataframe tbody tr th:only-of-type {\n",
       "        vertical-align: middle;\n",
       "    }\n",
       "\n",
       "    .dataframe tbody tr th {\n",
       "        vertical-align: top;\n",
       "    }\n",
       "\n",
       "    .dataframe thead th {\n",
       "        text-align: right;\n",
       "    }\n",
       "</style>\n",
       "<table border=\"1\" class=\"dataframe\">\n",
       "  <thead>\n",
       "    <tr style=\"text-align: right;\">\n",
       "      <th></th>\n",
       "      <th>train</th>\n",
       "      <th>validation</th>\n",
       "      <th>test</th>\n",
       "    </tr>\n",
       "  </thead>\n",
       "  <tbody>\n",
       "    <tr>\n",
       "      <th>LOC</th>\n",
       "      <td>6186</td>\n",
       "      <td>3172</td>\n",
       "      <td>3180</td>\n",
       "    </tr>\n",
       "    <tr>\n",
       "      <th>ORG</th>\n",
       "      <td>5366</td>\n",
       "      <td>2683</td>\n",
       "      <td>2573</td>\n",
       "    </tr>\n",
       "    <tr>\n",
       "      <th>PER</th>\n",
       "      <td>5810</td>\n",
       "      <td>2893</td>\n",
       "      <td>3071</td>\n",
       "    </tr>\n",
       "  </tbody>\n",
       "</table>\n",
       "</div>"
      ],
      "text/plain": [
       "     train  validation  test\n",
       "LOC   6186        3172  3180\n",
       "ORG   5366        2683  2573\n",
       "PER   5810        2893  3071"
      ]
     },
     "execution_count": 8,
     "metadata": {},
     "output_type": "execute_result"
    }
   ],
   "source": [
    "freqs = defaultdict(Counter)\n",
    "\n",
    "for split, ds in panx_de.items():\n",
    "    for tag_list in ds[\"ner_tags_str\"]:\n",
    "        for tag in tag_list:\n",
    "            if tag.startswith(\"B-\"):\n",
    "                freqs[split][tag[2:]] += 1\n",
    "\n",
    "pd.DataFrame(freqs)"
   ]
  },
  {
   "cell_type": "markdown",
   "metadata": {},
   "source": [
    "## Tokenizer"
   ]
  },
  {
   "cell_type": "code",
   "execution_count": 9,
   "metadata": {},
   "outputs": [
    {
     "name": "stderr",
     "output_type": "stream",
     "text": [
      "Downloading: 100%|██████████| 615/615 [00:00<00:00, 421kB/s]\n",
      "Downloading: 100%|██████████| 5.07M/5.07M [00:00<00:00, 5.48MB/s]\n",
      "Downloading: 100%|██████████| 9.10M/9.10M [00:01<00:00, 7.06MB/s]\n"
     ]
    },
    {
     "name": "stdout",
     "output_type": "stream",
     "text": [
      "['<s>', '▁This', '▁can', '▁probably', '▁be', '▁done', '.', '▁N', \"'\", 'est', '-', 'ce', '▁pas', '?', '</s>']\n"
     ]
    }
   ],
   "source": [
    "xlmr_tokenizer = tfm.AutoTokenizer.from_pretrained(MODEL_CKPT)\n",
    "\n",
    "text = \"This can probably be done. N'est-ce pas?\"\n",
    "\n",
    "print(xlmr_tokenizer(text).tokens())"
   ]
  },
  {
   "cell_type": "markdown",
   "metadata": {},
   "source": [
    "## Model instantiation"
   ]
  },
  {
   "cell_type": "code",
   "execution_count": 89,
   "metadata": {},
   "outputs": [],
   "source": [
    "id2label = dict(enumerate(tags.names))\n",
    "label2id = {tag: idx for idx, tag in enumerate(tags.names)}\n",
    "\n",
    "xlmr_config = tfm.AutoConfig.from_pretrained(MODEL_CKPT, num_labels=tags.num_classes, \n",
    "                                         id2label=id2label, label2id=label2id)\n",
    "\n",
    "xlmr = tfm.AutoModelForTokenClassification.from_pretrained(MODEL_CKPT, config = xlmr_config)"
   ]
  },
  {
   "cell_type": "code",
   "execution_count": 92,
   "metadata": {},
   "outputs": [
    {
     "name": "stdout",
     "output_type": "stream",
     "text": [
      "original text \"This can probably be done. N'est-ce pas?\"\n",
      "number of tokens after tokenization: 15\n",
      "outputs size: torch.Size([1, 15, 7])\n"
     ]
    },
    {
     "data": {
      "text/html": [
       "<div>\n",
       "<style scoped>\n",
       "    .dataframe tbody tr th:only-of-type {\n",
       "        vertical-align: middle;\n",
       "    }\n",
       "\n",
       "    .dataframe tbody tr th {\n",
       "        vertical-align: top;\n",
       "    }\n",
       "\n",
       "    .dataframe thead th {\n",
       "        text-align: right;\n",
       "    }\n",
       "</style>\n",
       "<table border=\"1\" class=\"dataframe\">\n",
       "  <thead>\n",
       "    <tr style=\"text-align: right;\">\n",
       "      <th></th>\n",
       "      <th>0</th>\n",
       "      <th>1</th>\n",
       "      <th>2</th>\n",
       "      <th>3</th>\n",
       "      <th>4</th>\n",
       "      <th>5</th>\n",
       "      <th>6</th>\n",
       "      <th>7</th>\n",
       "      <th>8</th>\n",
       "      <th>9</th>\n",
       "      <th>10</th>\n",
       "      <th>11</th>\n",
       "      <th>12</th>\n",
       "      <th>13</th>\n",
       "      <th>14</th>\n",
       "    </tr>\n",
       "  </thead>\n",
       "  <tbody>\n",
       "    <tr>\n",
       "      <th>tokens</th>\n",
       "      <td>&lt;s&gt;</td>\n",
       "      <td>▁This</td>\n",
       "      <td>▁can</td>\n",
       "      <td>▁probably</td>\n",
       "      <td>▁be</td>\n",
       "      <td>▁done</td>\n",
       "      <td>.</td>\n",
       "      <td>▁N</td>\n",
       "      <td>'</td>\n",
       "      <td>est</td>\n",
       "      <td>-</td>\n",
       "      <td>ce</td>\n",
       "      <td>▁pas</td>\n",
       "      <td>?</td>\n",
       "      <td>&lt;/s&gt;</td>\n",
       "    </tr>\n",
       "    <tr>\n",
       "      <th>ids</th>\n",
       "      <td>0</td>\n",
       "      <td>3293</td>\n",
       "      <td>831</td>\n",
       "      <td>31895</td>\n",
       "      <td>186</td>\n",
       "      <td>16940</td>\n",
       "      <td>5</td>\n",
       "      <td>541</td>\n",
       "      <td>25</td>\n",
       "      <td>525</td>\n",
       "      <td>9</td>\n",
       "      <td>329</td>\n",
       "      <td>452</td>\n",
       "      <td>32</td>\n",
       "      <td>2</td>\n",
       "    </tr>\n",
       "    <tr>\n",
       "      <th>pred_labels</th>\n",
       "      <td>I-LOC</td>\n",
       "      <td>I-LOC</td>\n",
       "      <td>I-LOC</td>\n",
       "      <td>I-LOC</td>\n",
       "      <td>I-LOC</td>\n",
       "      <td>I-LOC</td>\n",
       "      <td>I-LOC</td>\n",
       "      <td>I-LOC</td>\n",
       "      <td>I-LOC</td>\n",
       "      <td>I-LOC</td>\n",
       "      <td>I-LOC</td>\n",
       "      <td>B-LOC</td>\n",
       "      <td>I-LOC</td>\n",
       "      <td>I-LOC</td>\n",
       "      <td>I-LOC</td>\n",
       "    </tr>\n",
       "  </tbody>\n",
       "</table>\n",
       "</div>"
      ],
      "text/plain": [
       "                0      1      2          3      4      5      6      7   \\\n",
       "tokens         <s>  ▁This   ▁can  ▁probably    ▁be  ▁done      .     ▁N   \n",
       "ids              0   3293    831      31895    186  16940      5    541   \n",
       "pred_labels  I-LOC  I-LOC  I-LOC      I-LOC  I-LOC  I-LOC  I-LOC  I-LOC   \n",
       "\n",
       "                8      9      10     11     12     13     14  \n",
       "tokens           '    est      -     ce   ▁pas      ?   </s>  \n",
       "ids             25    525      9    329    452     32      2  \n",
       "pred_labels  I-LOC  I-LOC  I-LOC  B-LOC  I-LOC  I-LOC  I-LOC  "
      ]
     },
     "metadata": {},
     "output_type": "display_data"
    }
   ],
   "source": [
    "# verify that the model outputs something with the expected format:\n",
    "print(f\"original text \\\"{text}\\\"\")\n",
    "\n",
    "tokens = xlmr_tokenizer(text).tokens()\n",
    "print(f\"number of tokens after tokenization: {len(xlmr_tokenizer(text).tokens())}\")\n",
    "\n",
    "input_ids = xlmr_tokenizer.encode(text, return_tensors=\"pt\")\n",
    "\n",
    "outputs = xlmr(input_ids)\n",
    "print(f\"outputs size: {outputs.logits.size()}\")\n",
    "\n",
    "pred_ids = outputs.logits.argmax(-1).numpy()\n",
    "example = {\n",
    "    \"tokens\": tokens, \n",
    "    \"ids\": input_ids[0].numpy(),\n",
    "    \"preds\": outputs.logits.argmax(-1).numpy()[0],\n",
    "    }\n",
    "\n",
    "example = pd.DataFrame(example)\n",
    "\n",
    "example[\"pred_labels\"] = example.preds.map(id2label)\n",
    "display(example.drop(\"preds\", axis=1).T)"
   ]
  },
  {
   "cell_type": "code",
   "execution_count": 93,
   "metadata": {},
   "outputs": [
    {
     "data": {
      "text/html": [
       "<div>\n",
       "<style scoped>\n",
       "    .dataframe tbody tr th:only-of-type {\n",
       "        vertical-align: middle;\n",
       "    }\n",
       "\n",
       "    .dataframe tbody tr th {\n",
       "        vertical-align: top;\n",
       "    }\n",
       "\n",
       "    .dataframe thead th {\n",
       "        text-align: right;\n",
       "    }\n",
       "</style>\n",
       "<table border=\"1\" class=\"dataframe\">\n",
       "  <thead>\n",
       "    <tr style=\"text-align: right;\">\n",
       "      <th></th>\n",
       "      <th>0</th>\n",
       "      <th>1</th>\n",
       "      <th>2</th>\n",
       "      <th>3</th>\n",
       "      <th>4</th>\n",
       "      <th>5</th>\n",
       "      <th>6</th>\n",
       "      <th>7</th>\n",
       "      <th>8</th>\n",
       "      <th>9</th>\n",
       "      <th>10</th>\n",
       "      <th>11</th>\n",
       "      <th>12</th>\n",
       "      <th>13</th>\n",
       "    </tr>\n",
       "  </thead>\n",
       "  <tbody>\n",
       "    <tr>\n",
       "      <th>tokens</th>\n",
       "      <td>&lt;s&gt;</td>\n",
       "      <td>▁let</td>\n",
       "      <td>'</td>\n",
       "      <td>s</td>\n",
       "      <td>▁try</td>\n",
       "      <td>▁with</td>\n",
       "      <td>▁another</td>\n",
       "      <td>▁text</td>\n",
       "      <td>▁now</td>\n",
       "      <td>.</td>\n",
       "      <td>▁en</td>\n",
       "      <td>▁franca</td>\n",
       "      <td>is</td>\n",
       "      <td>&lt;/s&gt;</td>\n",
       "    </tr>\n",
       "    <tr>\n",
       "      <th>tags</th>\n",
       "      <td>I-LOC</td>\n",
       "      <td>I-LOC</td>\n",
       "      <td>I-LOC</td>\n",
       "      <td>I-LOC</td>\n",
       "      <td>I-LOC</td>\n",
       "      <td>B-LOC</td>\n",
       "      <td>I-LOC</td>\n",
       "      <td>I-LOC</td>\n",
       "      <td>I-LOC</td>\n",
       "      <td>I-LOC</td>\n",
       "      <td>I-LOC</td>\n",
       "      <td>I-LOC</td>\n",
       "      <td>I-LOC</td>\n",
       "      <td>I-LOC</td>\n",
       "    </tr>\n",
       "  </tbody>\n",
       "</table>\n",
       "</div>"
      ],
      "text/plain": [
       "           0      1      2      3      4      5         6      7      8   \\\n",
       "tokens    <s>   ▁let      '      s   ▁try  ▁with  ▁another  ▁text   ▁now   \n",
       "tags    I-LOC  I-LOC  I-LOC  I-LOC  I-LOC  B-LOC     I-LOC  I-LOC  I-LOC   \n",
       "\n",
       "           9      10       11     12     13  \n",
       "tokens      .    ▁en  ▁franca     is   </s>  \n",
       "tags    I-LOC  I-LOC    I-LOC  I-LOC  I-LOC  "
      ]
     },
     "execution_count": 93,
     "metadata": {},
     "output_type": "execute_result"
    }
   ],
   "source": [
    "# refactored: turning above into a function\n",
    "ner.inspect.tag_text(\n",
    "    text=\"let's try with another text now. en francais\", \n",
    "    model=xlmr,\n",
    "    tokenizer=xlmr_tokenizer,\n",
    "    tags=tags,\n",
    "    )\n"
   ]
  },
  {
   "cell_type": "markdown",
   "metadata": {},
   "source": [
    "## Preparing the Dataset\n",
    "* tokenize doc\n",
    "* add labels for unlabeled tokens (e.g. second part of split words, or initial character)."
   ]
  },
  {
   "cell_type": "code",
   "execution_count": 94,
   "metadata": {},
   "outputs": [
    {
     "name": "stderr",
     "output_type": "stream",
     "text": [
      "100%|██████████| 13/13 [00:00<00:00, 19.24ba/s]\n",
      "100%|██████████| 7/7 [00:00<00:00, 28.35ba/s]\n",
      "100%|██████████| 7/7 [00:00<00:00, 28.54ba/s]\n"
     ]
    }
   ],
   "source": [
    "# refactored: moved tokenize_and_align_labels to ner.preproc module\n",
    "def encode_panx_dataset(corpus: datasets.DatasetDict) -> datasets.DatasetDict:\n",
    "    return corpus.map(ner.preproc.tokenize_and_align_labels,\n",
    "        fn_kwargs={\"tokenizer\": xlmr_tokenizer}, \n",
    "        batched=True, \n",
    "        remove_columns=[\"langs\", \"ner_tags\", \"tokens\"]\n",
    "        )\n",
    "\n",
    "panx_de_encoded = encode_panx_dataset(panx_ch[\"de\"])"
   ]
  },
  {
   "cell_type": "code",
   "execution_count": 95,
   "metadata": {},
   "outputs": [
    {
     "data": {
      "text/html": [
       "<div>\n",
       "<style scoped>\n",
       "    .dataframe tbody tr th:only-of-type {\n",
       "        vertical-align: middle;\n",
       "    }\n",
       "\n",
       "    .dataframe tbody tr th {\n",
       "        vertical-align: top;\n",
       "    }\n",
       "\n",
       "    .dataframe thead th {\n",
       "        text-align: right;\n",
       "    }\n",
       "</style>\n",
       "<table border=\"1\" class=\"dataframe\">\n",
       "  <thead>\n",
       "    <tr style=\"text-align: right;\">\n",
       "      <th></th>\n",
       "      <th>0</th>\n",
       "      <th>1</th>\n",
       "      <th>2</th>\n",
       "      <th>3</th>\n",
       "      <th>4</th>\n",
       "      <th>5</th>\n",
       "      <th>6</th>\n",
       "      <th>7</th>\n",
       "      <th>8</th>\n",
       "      <th>9</th>\n",
       "      <th>...</th>\n",
       "      <th>15</th>\n",
       "      <th>16</th>\n",
       "      <th>17</th>\n",
       "      <th>18</th>\n",
       "      <th>19</th>\n",
       "      <th>20</th>\n",
       "      <th>21</th>\n",
       "      <th>22</th>\n",
       "      <th>23</th>\n",
       "      <th>24</th>\n",
       "    </tr>\n",
       "  </thead>\n",
       "  <tbody>\n",
       "    <tr>\n",
       "      <th>input_ids</th>\n",
       "      <td>0</td>\n",
       "      <td>70101</td>\n",
       "      <td>176581</td>\n",
       "      <td>19</td>\n",
       "      <td>142</td>\n",
       "      <td>122</td>\n",
       "      <td>2290</td>\n",
       "      <td>708</td>\n",
       "      <td>1505</td>\n",
       "      <td>18363</td>\n",
       "      <td>...</td>\n",
       "      <td>13787</td>\n",
       "      <td>14</td>\n",
       "      <td>15263</td>\n",
       "      <td>18917</td>\n",
       "      <td>663</td>\n",
       "      <td>6947</td>\n",
       "      <td>19</td>\n",
       "      <td>6</td>\n",
       "      <td>5</td>\n",
       "      <td>2</td>\n",
       "    </tr>\n",
       "    <tr>\n",
       "      <th>attention_mask</th>\n",
       "      <td>1</td>\n",
       "      <td>1</td>\n",
       "      <td>1</td>\n",
       "      <td>1</td>\n",
       "      <td>1</td>\n",
       "      <td>1</td>\n",
       "      <td>1</td>\n",
       "      <td>1</td>\n",
       "      <td>1</td>\n",
       "      <td>1</td>\n",
       "      <td>...</td>\n",
       "      <td>1</td>\n",
       "      <td>1</td>\n",
       "      <td>1</td>\n",
       "      <td>1</td>\n",
       "      <td>1</td>\n",
       "      <td>1</td>\n",
       "      <td>1</td>\n",
       "      <td>1</td>\n",
       "      <td>1</td>\n",
       "      <td>1</td>\n",
       "    </tr>\n",
       "    <tr>\n",
       "      <th>labels</th>\n",
       "      <td>-100</td>\n",
       "      <td>0</td>\n",
       "      <td>0</td>\n",
       "      <td>-100</td>\n",
       "      <td>0</td>\n",
       "      <td>0</td>\n",
       "      <td>5</td>\n",
       "      <td>-100</td>\n",
       "      <td>-100</td>\n",
       "      <td>6</td>\n",
       "      <td>...</td>\n",
       "      <td>5</td>\n",
       "      <td>-100</td>\n",
       "      <td>-100</td>\n",
       "      <td>-100</td>\n",
       "      <td>6</td>\n",
       "      <td>-100</td>\n",
       "      <td>-100</td>\n",
       "      <td>0</td>\n",
       "      <td>-100</td>\n",
       "      <td>-100</td>\n",
       "    </tr>\n",
       "    <tr>\n",
       "      <th>tokens</th>\n",
       "      <td>&lt;s&gt;</td>\n",
       "      <td>▁2.000</td>\n",
       "      <td>▁Einwohner</td>\n",
       "      <td>n</td>\n",
       "      <td>▁an</td>\n",
       "      <td>▁der</td>\n",
       "      <td>▁Dan</td>\n",
       "      <td>zi</td>\n",
       "      <td>ger</td>\n",
       "      <td>▁Buch</td>\n",
       "      <td>...</td>\n",
       "      <td>▁Wo</td>\n",
       "      <td>i</td>\n",
       "      <td>wod</td>\n",
       "      <td>schaft</td>\n",
       "      <td>▁Po</td>\n",
       "      <td>mmer</td>\n",
       "      <td>n</td>\n",
       "      <td>▁</td>\n",
       "      <td>.</td>\n",
       "      <td>&lt;/s&gt;</td>\n",
       "    </tr>\n",
       "  </tbody>\n",
       "</table>\n",
       "<p>4 rows × 25 columns</p>\n",
       "</div>"
      ],
      "text/plain": [
       "                  0       1           2     3    4     5     6     7     8   \\\n",
       "input_ids          0   70101      176581    19  142   122  2290   708  1505   \n",
       "attention_mask     1       1           1     1    1     1     1     1     1   \n",
       "labels          -100       0           0  -100    0     0     5  -100  -100   \n",
       "tokens           <s>  ▁2.000  ▁Einwohner     n  ▁an  ▁der  ▁Dan    zi   ger   \n",
       "\n",
       "                   9   ...     15    16     17      18   19    20    21 22  \\\n",
       "input_ids       18363  ...  13787    14  15263   18917  663  6947    19  6   \n",
       "attention_mask      1  ...      1     1      1       1    1     1     1  1   \n",
       "labels              6  ...      5  -100   -100    -100    6  -100  -100  0   \n",
       "tokens          ▁Buch  ...    ▁Wo     i    wod  schaft  ▁Po  mmer     n  ▁   \n",
       "\n",
       "                  23    24  \n",
       "input_ids          5     2  \n",
       "attention_mask     1     1  \n",
       "labels          -100  -100  \n",
       "tokens             .  </s>  \n",
       "\n",
       "[4 rows x 25 columns]"
      ]
     },
     "execution_count": 95,
     "metadata": {},
     "output_type": "execute_result"
    }
   ],
   "source": [
    "example = panx_de_encoded[\"train\"][0]\n",
    "df = pd.DataFrame(example)\n",
    "df[\"tokens\"] = xlmr_tokenizer.convert_ids_to_tokens(example[\"input_ids\"])\n",
    "df.T"
   ]
  },
  {
   "cell_type": "markdown",
   "metadata": {},
   "source": [
    "## Performance Measures\n",
    "using seqeval library"
   ]
  },
  {
   "cell_type": "code",
   "execution_count": 96,
   "metadata": {},
   "outputs": [
    {
     "name": "stdout",
     "output_type": "stream",
     "text": [
      "              precision    recall  f1-score   support\n",
      "\n",
      "           a       0.50      1.00      0.67         1\n",
      "           b       0.00      0.00      0.00         1\n",
      "           c       1.00      1.00      1.00         2\n",
      "\n",
      "   micro avg       0.60      0.75      0.67         4\n",
      "   macro avg       0.50      0.67      0.56         4\n",
      "weighted avg       0.62      0.75      0.67         4\n",
      "\n"
     ]
    }
   ],
   "source": [
    "# quick look at how seqeval metrics work.\n",
    "y_true = [[\"B-a\",\"B-b\",\"I-b\",\"I-b\",\"B-c\",\"B-c\"]]\n",
    "y_pred = [[\"B-a\",\"B-b\",\"I-b\",\"B-a\",\"B-c\",\"B-c\"]]\n",
    "\n",
    "print(metrics.classification_report(y_true, y_pred))"
   ]
  },
  {
   "cell_type": "code",
   "execution_count": 100,
   "metadata": {},
   "outputs": [
    {
     "name": "stdout",
     "output_type": "stream",
     "text": [
      "[['B-ORG', 'B-PER', 'B-PER', 'I-ORG', 'I-LOC', 'B-LOC'], ['I-PER', 'B-LOC', 'B-PER', 'I-ORG', 'O', 'I-PER', 'I-PER']]\n",
      "[['B-ORG', 'B-PER', 'B-PER', 'I-ORG', 'I-LOC', 'B-LOC'], ['I-PER', 'B-LOC', 'B-PER', 'B-PER', 'O', 'I-PER', 'I-PER']]\n"
     ]
    },
    {
     "data": {
      "text/plain": [
       "{'f1': 0.9090909090909091}"
      ]
     },
     "execution_count": 100,
     "metadata": {},
     "output_type": "execute_result"
    }
   ],
   "source": [
    "# testing SeqevalConverter: \n",
    "seqeval_converter = ner.evaluate.SeqevalConverter(id2label)\n",
    "\n",
    "test_preds = torch.rand((2,9,7)).numpy()\n",
    "test_true = test_preds.argmax(-1)\n",
    "test_true[0,0] = -100\n",
    "test_true[1,0] = -100\n",
    "test_true[0,-1] = -100\n",
    "test_true[1,-1] = -100\n",
    "\n",
    "test_true[0,4] = 4\n",
    "test_true[1,4] = 4\n",
    "\n",
    "test_true[0,5] = -100\n",
    "\n",
    "y_true, y_pred = seqeval_converter.align_predictions(predictions=test_preds, label_ids=test_true)\n",
    "print(y_true, y_pred, sep=\"\\n\")\n",
    "\n",
    "eval_pred = tfm.EvalPrediction(test_preds, test_true)\n",
    "seqeval_converter.compute_metrics(eval_pred)"
   ]
  },
  {
   "cell_type": "markdown",
   "metadata": {},
   "source": [
    "# FineTuning XLM-R"
   ]
  },
  {
   "cell_type": "code",
   "execution_count": 101,
   "metadata": {},
   "outputs": [],
   "source": [
    "# define training arguments\n",
    "BATCH_SIZE = 24\n",
    "OUTPUT_DIR = f\"../models/{MODEL_CKPT}-finetuned-panx-de\"\n",
    "\n",
    "training_config = {\n",
    "    \"output_dir\": OUTPUT_DIR,\n",
    "    \"num_train_epochs\": 3,\n",
    "    \"learning_rate\": 2e-5,\n",
    "    \"per_device_train_batch_size\": BATCH_SIZE,\n",
    "    \"per_device_eval_batch_size\": BATCH_SIZE,\n",
    "    \"weight_decay\": 0.01,\n",
    "    \"save_steps\": 1e6,\n",
    "    \"evaluation_strategy\": \"epoch\",\n",
    "    \"disable_tqdm\": False,\n",
    "    \"logging_steps\": len(panx_de_encoded[\"train\"]) // BATCH_SIZE,\n",
    "    \"push_to_hub\": False,\n",
    "    \"log_level\": \"error\",\n",
    "}\n",
    "\n",
    "training_args = tfm.TrainingArguments(**training_config)\n",
    "\n",
    "# refactored\n",
    "seqeval_converter = ner.evaluate.SeqevalConverter(id2label)\n",
    "\n",
    "\n",
    "# define data collation\n",
    "data_collator = tfm.DataCollatorForTokenClassification(xlmr_tokenizer)\n",
    "\n",
    "def model_init():\n",
    "    return (tfm.AutoModelForTokenClassification.from_pretrained(MODEL_CKPT, config=xlmr_config))\n",
    "\n",
    "trainer = tfm.Trainer(\n",
    "    model_init=model_init, \n",
    "    tokenizer=xlmr_tokenizer,\n",
    "    args=training_args,\n",
    "    data_collator=data_collator, \n",
    "    compute_metrics=seqeval_converter.compute_metrics,\n",
    "    train_dataset=panx_de_encoded[\"train\"],\n",
    "    eval_dataset=panx_de_encoded[\"validation\"],\n",
    ")\n"
   ]
  },
  {
   "cell_type": "code",
   "execution_count": 102,
   "metadata": {},
   "outputs": [
    {
     "name": "stderr",
     "output_type": "stream",
     "text": [
      "/Users/spayot/miniforge3/envs/tfm4/lib/python3.9/site-packages/transformers/optimization.py:306: FutureWarning: This implementation of AdamW is deprecated and will be removed in a future version. Use the PyTorch implementation torch.optim.AdamW instead, or set `no_deprecation_warning=True` to disable this warning\n",
      "  warnings.warn(\n",
      " 33%|███▎      | 524/1575 [18:01<45:57,  2.62s/it]  "
     ]
    },
    {
     "name": "stdout",
     "output_type": "stream",
     "text": [
      "{'loss': 0.2962, 'learning_rate': 1.3346031746031746e-05, 'epoch': 1.0}\n"
     ]
    },
    {
     "name": "stderr",
     "output_type": "stream",
     "text": [
      "                                                  \n",
      " 33%|███▎      | 525/1575 [19:24<39:35,  2.26s/it]"
     ]
    },
    {
     "name": "stdout",
     "output_type": "stream",
     "text": [
      "{'eval_loss': 0.16917505860328674, 'eval_f1': 0.8154074751400161, 'eval_runtime': 82.0346, 'eval_samples_per_second': 76.675, 'eval_steps_per_second': 3.206, 'epoch': 1.0}\n"
     ]
    },
    {
     "name": "stderr",
     "output_type": "stream",
     "text": [
      " 67%|██████▋   | 1048/1575 [38:24<14:54,  1.70s/it] "
     ]
    },
    {
     "name": "stdout",
     "output_type": "stream",
     "text": [
      "{'loss': 0.1478, 'learning_rate': 6.692063492063493e-06, 'epoch': 2.0}\n"
     ]
    },
    {
     "name": "stderr",
     "output_type": "stream",
     "text": [
      "                                                   \n",
      " 67%|██████▋   | 1050/1575 [39:49<13:55,  1.59s/it]"
     ]
    },
    {
     "name": "stdout",
     "output_type": "stream",
     "text": [
      "{'eval_loss': 0.1397547423839569, 'eval_f1': 0.8507326007326008, 'eval_runtime': 81.7276, 'eval_samples_per_second': 76.963, 'eval_steps_per_second': 3.218, 'epoch': 2.0}\n"
     ]
    },
    {
     "name": "stderr",
     "output_type": "stream",
     "text": [
      "100%|█████████▉| 1572/1575 [58:30<00:07,  2.55s/it]  "
     ]
    },
    {
     "name": "stdout",
     "output_type": "stream",
     "text": [
      "{'loss': 0.1097, 'learning_rate': 3.8095238095238096e-08, 'epoch': 2.99}\n"
     ]
    },
    {
     "name": "stderr",
     "output_type": "stream",
     "text": [
      "                                                   \n",
      "100%|██████████| 1575/1575 [59:51<00:00,  2.28s/it]"
     ]
    },
    {
     "name": "stdout",
     "output_type": "stream",
     "text": [
      "{'eval_loss': 0.14076970517635345, 'eval_f1': 0.8597321174123681, 'eval_runtime': 75.7327, 'eval_samples_per_second': 83.055, 'eval_steps_per_second': 3.473, 'epoch': 3.0}\n",
      "{'train_runtime': 3591.5774, 'train_samples_per_second': 10.508, 'train_steps_per_second': 0.439, 'train_loss': 0.18437748816278246, 'epoch': 3.0}\n"
     ]
    },
    {
     "name": "stderr",
     "output_type": "stream",
     "text": [
      "\n"
     ]
    },
    {
     "data": {
      "text/plain": [
       "TrainOutput(global_step=1575, training_loss=0.18437748816278246, metrics={'train_runtime': 3591.5774, 'train_samples_per_second': 10.508, 'train_steps_per_second': 0.439, 'train_loss': 0.18437748816278246, 'epoch': 3.0})"
      ]
     },
     "execution_count": 102,
     "metadata": {},
     "output_type": "execute_result"
    }
   ],
   "source": [
    "trainer.train()"
   ]
  },
  {
   "cell_type": "code",
   "execution_count": 103,
   "metadata": {},
   "outputs": [
    {
     "name": "stderr",
     "output_type": "stream",
     "text": [
      "100%|██████████| 263/263 [01:16<00:00,  3.45it/s]\n"
     ]
    },
    {
     "data": {
      "text/plain": [
       "{'eval_loss': 0.14076970517635345,\n",
       " 'eval_f1': 0.8597321174123681,\n",
       " 'eval_runtime': 76.6659,\n",
       " 'eval_samples_per_second': 82.044,\n",
       " 'eval_steps_per_second': 3.43,\n",
       " 'epoch': 3.0}"
      ]
     },
     "execution_count": 103,
     "metadata": {},
     "output_type": "execute_result"
    }
   ],
   "source": [
    "trainer.evaluate(panx_de_encoded[\"validation\"])"
   ]
  },
  {
   "cell_type": "code",
   "execution_count": 104,
   "metadata": {},
   "outputs": [],
   "source": [
    "trainer.save_model()"
   ]
  },
  {
   "attachments": {},
   "cell_type": "markdown",
   "metadata": {},
   "source": [
    "#### Test trained model on a simple sentence"
   ]
  },
  {
   "cell_type": "code",
   "execution_count": 105,
   "metadata": {},
   "outputs": [
    {
     "data": {
      "text/html": [
       "<div>\n",
       "<style scoped>\n",
       "    .dataframe tbody tr th:only-of-type {\n",
       "        vertical-align: middle;\n",
       "    }\n",
       "\n",
       "    .dataframe tbody tr th {\n",
       "        vertical-align: top;\n",
       "    }\n",
       "\n",
       "    .dataframe thead th {\n",
       "        text-align: right;\n",
       "    }\n",
       "</style>\n",
       "<table border=\"1\" class=\"dataframe\">\n",
       "  <thead>\n",
       "    <tr style=\"text-align: right;\">\n",
       "      <th></th>\n",
       "      <th>0</th>\n",
       "      <th>1</th>\n",
       "      <th>2</th>\n",
       "      <th>3</th>\n",
       "      <th>4</th>\n",
       "      <th>5</th>\n",
       "      <th>6</th>\n",
       "      <th>7</th>\n",
       "      <th>8</th>\n",
       "      <th>9</th>\n",
       "      <th>10</th>\n",
       "      <th>11</th>\n",
       "      <th>12</th>\n",
       "      <th>13</th>\n",
       "      <th>14</th>\n",
       "    </tr>\n",
       "  </thead>\n",
       "  <tbody>\n",
       "    <tr>\n",
       "      <th>tokens</th>\n",
       "      <td>&lt;s&gt;</td>\n",
       "      <td>▁Sylv</td>\n",
       "      <td>ain</td>\n",
       "      <td>▁Pay</td>\n",
       "      <td>ot</td>\n",
       "      <td>▁ist</td>\n",
       "      <td>▁ein</td>\n",
       "      <td>▁Informati</td>\n",
       "      <td>ker</td>\n",
       "      <td>▁bei</td>\n",
       "      <td>▁Nike</td>\n",
       "      <td>▁in</td>\n",
       "      <td>▁Kaliforni</td>\n",
       "      <td>en</td>\n",
       "      <td>&lt;/s&gt;</td>\n",
       "    </tr>\n",
       "    <tr>\n",
       "      <th>tags</th>\n",
       "      <td>O</td>\n",
       "      <td>B-PER</td>\n",
       "      <td>I-PER</td>\n",
       "      <td>I-PER</td>\n",
       "      <td>I-PER</td>\n",
       "      <td>O</td>\n",
       "      <td>O</td>\n",
       "      <td>O</td>\n",
       "      <td>O</td>\n",
       "      <td>O</td>\n",
       "      <td>B-ORG</td>\n",
       "      <td>O</td>\n",
       "      <td>B-LOC</td>\n",
       "      <td>I-LOC</td>\n",
       "      <td>O</td>\n",
       "    </tr>\n",
       "  </tbody>\n",
       "</table>\n",
       "</div>"
      ],
      "text/plain": [
       "         0      1      2      3      4     5     6           7    8     9   \\\n",
       "tokens  <s>  ▁Sylv    ain   ▁Pay     ot  ▁ist  ▁ein  ▁Informati  ker  ▁bei   \n",
       "tags      O  B-PER  I-PER  I-PER  I-PER     O     O           O    O     O   \n",
       "\n",
       "           10   11          12     13    14  \n",
       "tokens  ▁Nike  ▁in  ▁Kaliforni     en  </s>  \n",
       "tags    B-ORG    O       B-LOC  I-LOC     O  "
      ]
     },
     "execution_count": 105,
     "metadata": {},
     "output_type": "execute_result"
    }
   ],
   "source": [
    "text_de = \"Sylvain Payot ist ein Informatiker bei Nike in Kalifornien\"\n",
    "ner.inspect.tag_text(text_de, trainer.model, xlmr_tokenizer, tags)"
   ]
  },
  {
   "cell_type": "code",
   "execution_count": 106,
   "metadata": {},
   "outputs": [
    {
     "data": {
      "text/html": [
       "<div>\n",
       "<style scoped>\n",
       "    .dataframe tbody tr th:only-of-type {\n",
       "        vertical-align: middle;\n",
       "    }\n",
       "\n",
       "    .dataframe tbody tr th {\n",
       "        vertical-align: top;\n",
       "    }\n",
       "\n",
       "    .dataframe thead th {\n",
       "        text-align: right;\n",
       "    }\n",
       "</style>\n",
       "<table border=\"1\" class=\"dataframe\">\n",
       "  <thead>\n",
       "    <tr style=\"text-align: right;\">\n",
       "      <th></th>\n",
       "      <th>0</th>\n",
       "      <th>1</th>\n",
       "      <th>2</th>\n",
       "      <th>3</th>\n",
       "      <th>4</th>\n",
       "      <th>5</th>\n",
       "      <th>6</th>\n",
       "      <th>7</th>\n",
       "      <th>8</th>\n",
       "      <th>9</th>\n",
       "      <th>10</th>\n",
       "      <th>11</th>\n",
       "      <th>12</th>\n",
       "      <th>13</th>\n",
       "      <th>14</th>\n",
       "      <th>15</th>\n",
       "      <th>16</th>\n",
       "      <th>17</th>\n",
       "    </tr>\n",
       "  </thead>\n",
       "  <tbody>\n",
       "    <tr>\n",
       "      <th>tokens</th>\n",
       "      <td>&lt;s&gt;</td>\n",
       "      <td>▁Sylv</td>\n",
       "      <td>ain</td>\n",
       "      <td>▁Pay</td>\n",
       "      <td>ot</td>\n",
       "      <td>▁est</td>\n",
       "      <td>▁un</td>\n",
       "      <td>▁informatic</td>\n",
       "      <td>ien</td>\n",
       "      <td>▁travail</td>\n",
       "      <td>lant</td>\n",
       "      <td>▁à</td>\n",
       "      <td>▁Nike</td>\n",
       "      <td>▁en</td>\n",
       "      <td>▁</td>\n",
       "      <td>Bretagne</td>\n",
       "      <td>.</td>\n",
       "      <td>&lt;/s&gt;</td>\n",
       "    </tr>\n",
       "    <tr>\n",
       "      <th>tags</th>\n",
       "      <td>O</td>\n",
       "      <td>B-PER</td>\n",
       "      <td>B-PER</td>\n",
       "      <td>I-PER</td>\n",
       "      <td>I-PER</td>\n",
       "      <td>O</td>\n",
       "      <td>O</td>\n",
       "      <td>O</td>\n",
       "      <td>O</td>\n",
       "      <td>O</td>\n",
       "      <td>O</td>\n",
       "      <td>O</td>\n",
       "      <td>B-ORG</td>\n",
       "      <td>O</td>\n",
       "      <td>B-LOC</td>\n",
       "      <td>B-LOC</td>\n",
       "      <td>O</td>\n",
       "      <td>O</td>\n",
       "    </tr>\n",
       "  </tbody>\n",
       "</table>\n",
       "</div>"
      ],
      "text/plain": [
       "         0      1      2      3      4     5    6            7    8   \\\n",
       "tokens  <s>  ▁Sylv    ain   ▁Pay     ot  ▁est  ▁un  ▁informatic  ien   \n",
       "tags      O  B-PER  B-PER  I-PER  I-PER     O    O            O    O   \n",
       "\n",
       "              9     10  11     12   13     14        15 16    17  \n",
       "tokens  ▁travail  lant  ▁à  ▁Nike  ▁en      ▁  Bretagne  .  </s>  \n",
       "tags           O     O   O  B-ORG    O  B-LOC     B-LOC  O     O  "
      ]
     },
     "execution_count": 106,
     "metadata": {},
     "output_type": "execute_result"
    }
   ],
   "source": [
    "# also works in French!\n",
    "text_fr = \"Sylvain Payot est un informaticien travaillant à Nike en Bretagne.\"\n",
    "ner.inspect.tag_text(text_fr, trainer.model, xlmr_tokenizer, tags)"
   ]
  },
  {
   "cell_type": "markdown",
   "metadata": {},
   "source": [
    "### Error Analysis"
   ]
  },
  {
   "cell_type": "code",
   "execution_count": 153,
   "metadata": {},
   "outputs": [],
   "source": [
    "# refactored\n",
    "builder = ner.erroranalysis.TokensLossDataFrameBuilder(\n",
    "    trainer=trainer,\n",
    "    data_collator=data_collator,\n",
    ")"
   ]
  },
  {
   "cell_type": "code",
   "execution_count": 156,
   "metadata": {},
   "outputs": [
    {
     "data": {
      "text/html": [
       "<div>\n",
       "<style scoped>\n",
       "    .dataframe tbody tr th:only-of-type {\n",
       "        vertical-align: middle;\n",
       "    }\n",
       "\n",
       "    .dataframe tbody tr th {\n",
       "        vertical-align: top;\n",
       "    }\n",
       "\n",
       "    .dataframe thead th {\n",
       "        text-align: right;\n",
       "    }\n",
       "</style>\n",
       "<table border=\"1\" class=\"dataframe\">\n",
       "  <thead>\n",
       "    <tr style=\"text-align: right;\">\n",
       "      <th></th>\n",
       "      <th>input_ids</th>\n",
       "      <th>attention_mask</th>\n",
       "      <th>labels</th>\n",
       "      <th>loss</th>\n",
       "      <th>predicted_labels</th>\n",
       "      <th>input_tokens</th>\n",
       "    </tr>\n",
       "  </thead>\n",
       "  <tbody>\n",
       "    <tr>\n",
       "      <th>0</th>\n",
       "      <td>10699</td>\n",
       "      <td>1</td>\n",
       "      <td>B-ORG</td>\n",
       "      <td>0.05</td>\n",
       "      <td>B-ORG</td>\n",
       "      <td>▁Ham</td>\n",
       "    </tr>\n",
       "    <tr>\n",
       "      <th>0</th>\n",
       "      <td>15</td>\n",
       "      <td>1</td>\n",
       "      <td>I-ORG</td>\n",
       "      <td>0.06</td>\n",
       "      <td>I-ORG</td>\n",
       "      <td>▁(</td>\n",
       "    </tr>\n",
       "    <tr>\n",
       "      <th>0</th>\n",
       "      <td>16104</td>\n",
       "      <td>1</td>\n",
       "      <td>I-ORG</td>\n",
       "      <td>0.05</td>\n",
       "      <td>I-ORG</td>\n",
       "      <td>▁Unternehmen</td>\n",
       "    </tr>\n",
       "    <tr>\n",
       "      <th>0</th>\n",
       "      <td>1388</td>\n",
       "      <td>1</td>\n",
       "      <td>I-ORG</td>\n",
       "      <td>0.06</td>\n",
       "      <td>I-ORG</td>\n",
       "      <td>▁)</td>\n",
       "    </tr>\n",
       "    <tr>\n",
       "      <th>1</th>\n",
       "      <td>56530</td>\n",
       "      <td>1</td>\n",
       "      <td>O</td>\n",
       "      <td>0.00</td>\n",
       "      <td>O</td>\n",
       "      <td>▁WE</td>\n",
       "    </tr>\n",
       "  </tbody>\n",
       "</table>\n",
       "</div>"
      ],
      "text/plain": [
       "  input_ids attention_mask labels  loss predicted_labels  input_tokens\n",
       "0     10699              1  B-ORG  0.05            B-ORG          ▁Ham\n",
       "0        15              1  I-ORG  0.06            I-ORG            ▁(\n",
       "0     16104              1  I-ORG  0.05            I-ORG  ▁Unternehmen\n",
       "0      1388              1  I-ORG  0.06            I-ORG            ▁)\n",
       "1     56530              1      O  0.00                O           ▁WE"
      ]
     },
     "execution_count": 156,
     "metadata": {},
     "output_type": "execute_result"
    }
   ],
   "source": [
    "# below is equivalent to analyzer.build_tokens_dataframe(<dataset>)\n",
    "ds = builder._calculate_token_level_loss_on_dataset(panx_de_encoded[\"validation\"])\n",
    "df = builder._convert_dataset_to_pandas(ds)\n",
    "df_tokens = builder._convert_to_token_level_dataframe(df)\n",
    "df_tokens.head()"
   ]
  },
  {
   "cell_type": "code",
   "execution_count": 157,
   "metadata": {},
   "outputs": [
    {
     "data": {
      "text/html": [
       "<div>\n",
       "<style scoped>\n",
       "    .dataframe tbody tr th:only-of-type {\n",
       "        vertical-align: middle;\n",
       "    }\n",
       "\n",
       "    .dataframe tbody tr th {\n",
       "        vertical-align: top;\n",
       "    }\n",
       "\n",
       "    .dataframe thead th {\n",
       "        text-align: right;\n",
       "    }\n",
       "</style>\n",
       "<table border=\"1\" class=\"dataframe\">\n",
       "  <thead>\n",
       "    <tr style=\"text-align: right;\">\n",
       "      <th></th>\n",
       "      <th>0</th>\n",
       "      <th>1</th>\n",
       "      <th>2</th>\n",
       "      <th>3</th>\n",
       "      <th>4</th>\n",
       "      <th>5</th>\n",
       "      <th>6</th>\n",
       "      <th>7</th>\n",
       "      <th>8</th>\n",
       "      <th>9</th>\n",
       "    </tr>\n",
       "  </thead>\n",
       "  <tbody>\n",
       "    <tr>\n",
       "      <th>input_tokens</th>\n",
       "      <td>▁</td>\n",
       "      <td>▁von</td>\n",
       "      <td>▁in</td>\n",
       "      <td>▁der</td>\n",
       "      <td>▁/</td>\n",
       "      <td>▁und</td>\n",
       "      <td>▁(</td>\n",
       "      <td>▁)</td>\n",
       "      <td>▁''</td>\n",
       "      <td>▁A</td>\n",
       "    </tr>\n",
       "    <tr>\n",
       "      <th>count</th>\n",
       "      <td>6066</td>\n",
       "      <td>808</td>\n",
       "      <td>989</td>\n",
       "      <td>1388</td>\n",
       "      <td>163</td>\n",
       "      <td>1171</td>\n",
       "      <td>246</td>\n",
       "      <td>246</td>\n",
       "      <td>2898</td>\n",
       "      <td>125</td>\n",
       "    </tr>\n",
       "    <tr>\n",
       "      <th>mean</th>\n",
       "      <td>0.04</td>\n",
       "      <td>0.17</td>\n",
       "      <td>0.13</td>\n",
       "      <td>0.08</td>\n",
       "      <td>0.56</td>\n",
       "      <td>0.07</td>\n",
       "      <td>0.32</td>\n",
       "      <td>0.31</td>\n",
       "      <td>0.02</td>\n",
       "      <td>0.42</td>\n",
       "    </tr>\n",
       "    <tr>\n",
       "      <th>sum</th>\n",
       "      <td>213.37</td>\n",
       "      <td>139.38</td>\n",
       "      <td>128.83</td>\n",
       "      <td>111.32</td>\n",
       "      <td>91.12</td>\n",
       "      <td>82.69</td>\n",
       "      <td>79.6</td>\n",
       "      <td>75.17</td>\n",
       "      <td>70.3</td>\n",
       "      <td>52.94</td>\n",
       "    </tr>\n",
       "  </tbody>\n",
       "</table>\n",
       "</div>"
      ],
      "text/plain": [
       "                   0       1       2       3      4      5     6      7     8  \\\n",
       "input_tokens       ▁    ▁von     ▁in    ▁der     ▁/   ▁und    ▁(     ▁)   ▁''   \n",
       "count           6066     808     989    1388    163   1171   246    246  2898   \n",
       "mean            0.04    0.17    0.13    0.08   0.56   0.07  0.32   0.31  0.02   \n",
       "sum           213.37  139.38  128.83  111.32  91.12  82.69  79.6  75.17  70.3   \n",
       "\n",
       "                  9  \n",
       "input_tokens     ▁A  \n",
       "count           125  \n",
       "mean           0.42  \n",
       "sum           52.94  "
      ]
     },
     "metadata": {},
     "output_type": "display_data"
    },
    {
     "data": {
      "text/html": [
       "<div>\n",
       "<style scoped>\n",
       "    .dataframe tbody tr th:only-of-type {\n",
       "        vertical-align: middle;\n",
       "    }\n",
       "\n",
       "    .dataframe tbody tr th {\n",
       "        vertical-align: top;\n",
       "    }\n",
       "\n",
       "    .dataframe thead th {\n",
       "        text-align: right;\n",
       "    }\n",
       "</style>\n",
       "<table border=\"1\" class=\"dataframe\">\n",
       "  <thead>\n",
       "    <tr style=\"text-align: right;\">\n",
       "      <th></th>\n",
       "      <th>0</th>\n",
       "      <th>1</th>\n",
       "      <th>2</th>\n",
       "      <th>3</th>\n",
       "      <th>4</th>\n",
       "      <th>5</th>\n",
       "      <th>6</th>\n",
       "      <th>7</th>\n",
       "      <th>8</th>\n",
       "      <th>9</th>\n",
       "    </tr>\n",
       "  </thead>\n",
       "  <tbody>\n",
       "    <tr>\n",
       "      <th>input_tokens</th>\n",
       "      <td>▁−</td>\n",
       "      <td>▁Geburt</td>\n",
       "      <td>▁Geburtstag</td>\n",
       "      <td>▁Gebäude</td>\n",
       "      <td>▁Gedanken</td>\n",
       "      <td>▁Noch</td>\n",
       "      <td>▁Gefühl</td>\n",
       "      <td>▁Gegensatz</td>\n",
       "      <td>▁Gegner</td>\n",
       "      <td>▁Gebrauch</td>\n",
       "    </tr>\n",
       "    <tr>\n",
       "      <th>count</th>\n",
       "      <td>3</td>\n",
       "      <td>6</td>\n",
       "      <td>6</td>\n",
       "      <td>5</td>\n",
       "      <td>2</td>\n",
       "      <td>3</td>\n",
       "      <td>1</td>\n",
       "      <td>2</td>\n",
       "      <td>7</td>\n",
       "      <td>1</td>\n",
       "    </tr>\n",
       "    <tr>\n",
       "      <th>mean</th>\n",
       "      <td>0.0</td>\n",
       "      <td>0.0</td>\n",
       "      <td>0.0</td>\n",
       "      <td>0.0</td>\n",
       "      <td>0.0</td>\n",
       "      <td>0.0</td>\n",
       "      <td>0.0</td>\n",
       "      <td>0.0</td>\n",
       "      <td>0.0</td>\n",
       "      <td>0.0</td>\n",
       "    </tr>\n",
       "    <tr>\n",
       "      <th>sum</th>\n",
       "      <td>0.0</td>\n",
       "      <td>0.0</td>\n",
       "      <td>0.0</td>\n",
       "      <td>0.0</td>\n",
       "      <td>0.0</td>\n",
       "      <td>0.0</td>\n",
       "      <td>0.0</td>\n",
       "      <td>0.0</td>\n",
       "      <td>0.0</td>\n",
       "      <td>0.0</td>\n",
       "    </tr>\n",
       "  </tbody>\n",
       "</table>\n",
       "</div>"
      ],
      "text/plain": [
       "                0        1            2         3          4      5        6  \\\n",
       "input_tokens   ▁−  ▁Geburt  ▁Geburtstag  ▁Gebäude  ▁Gedanken  ▁Noch  ▁Gefühl   \n",
       "count           3        6            6         5          2      3        1   \n",
       "mean          0.0      0.0          0.0       0.0        0.0    0.0      0.0   \n",
       "sum           0.0      0.0          0.0       0.0        0.0    0.0      0.0   \n",
       "\n",
       "                       7        8          9  \n",
       "input_tokens  ▁Gegensatz  ▁Gegner  ▁Gebrauch  \n",
       "count                  2        7          1  \n",
       "mean                 0.0      0.0        0.0  \n",
       "sum                  0.0      0.0        0.0  "
      ]
     },
     "metadata": {},
     "output_type": "display_data"
    },
    {
     "data": {
      "text/html": [
       "<div>\n",
       "<style scoped>\n",
       "    .dataframe tbody tr th:only-of-type {\n",
       "        vertical-align: middle;\n",
       "    }\n",
       "\n",
       "    .dataframe tbody tr th {\n",
       "        vertical-align: top;\n",
       "    }\n",
       "\n",
       "    .dataframe thead th {\n",
       "        text-align: right;\n",
       "    }\n",
       "</style>\n",
       "<table border=\"1\" class=\"dataframe\">\n",
       "  <thead>\n",
       "    <tr style=\"text-align: right;\">\n",
       "      <th></th>\n",
       "      <th>0</th>\n",
       "      <th>1</th>\n",
       "      <th>2</th>\n",
       "      <th>3</th>\n",
       "      <th>4</th>\n",
       "      <th>5</th>\n",
       "      <th>6</th>\n",
       "      <th>7</th>\n",
       "      <th>8</th>\n",
       "      <th>9</th>\n",
       "    </tr>\n",
       "  </thead>\n",
       "  <tbody>\n",
       "    <tr>\n",
       "      <th>input_tokens</th>\n",
       "      <td>▁</td>\n",
       "      <td>▁''</td>\n",
       "      <td>▁'</td>\n",
       "      <td>▁der</td>\n",
       "      <td>▁und</td>\n",
       "      <td>▁in</td>\n",
       "      <td>▁die</td>\n",
       "      <td>▁von</td>\n",
       "      <td>▁er</td>\n",
       "      <td>▁den</td>\n",
       "    </tr>\n",
       "    <tr>\n",
       "      <th>count</th>\n",
       "      <td>6066</td>\n",
       "      <td>2898</td>\n",
       "      <td>2133</td>\n",
       "      <td>1388</td>\n",
       "      <td>1171</td>\n",
       "      <td>989</td>\n",
       "      <td>860</td>\n",
       "      <td>808</td>\n",
       "      <td>707</td>\n",
       "      <td>489</td>\n",
       "    </tr>\n",
       "    <tr>\n",
       "      <th>mean</th>\n",
       "      <td>0.04</td>\n",
       "      <td>0.02</td>\n",
       "      <td>0.02</td>\n",
       "      <td>0.08</td>\n",
       "      <td>0.07</td>\n",
       "      <td>0.13</td>\n",
       "      <td>0.05</td>\n",
       "      <td>0.17</td>\n",
       "      <td>0.0</td>\n",
       "      <td>0.03</td>\n",
       "    </tr>\n",
       "    <tr>\n",
       "      <th>sum</th>\n",
       "      <td>213.37</td>\n",
       "      <td>70.3</td>\n",
       "      <td>34.46</td>\n",
       "      <td>111.32</td>\n",
       "      <td>82.69</td>\n",
       "      <td>128.83</td>\n",
       "      <td>42.8</td>\n",
       "      <td>139.38</td>\n",
       "      <td>0.0</td>\n",
       "      <td>13.42</td>\n",
       "    </tr>\n",
       "  </tbody>\n",
       "</table>\n",
       "</div>"
      ],
      "text/plain": [
       "                   0     1      2       3      4       5     6       7    8  \\\n",
       "input_tokens       ▁   ▁''     ▁'    ▁der   ▁und     ▁in  ▁die    ▁von  ▁er   \n",
       "count           6066  2898   2133    1388   1171     989   860     808  707   \n",
       "mean            0.04  0.02   0.02    0.08   0.07    0.13  0.05    0.17  0.0   \n",
       "sum           213.37  70.3  34.46  111.32  82.69  128.83  42.8  139.38  0.0   \n",
       "\n",
       "                  9  \n",
       "input_tokens   ▁den  \n",
       "count           489  \n",
       "mean           0.03  \n",
       "sum           13.42  "
      ]
     },
     "metadata": {},
     "output_type": "display_data"
    }
   ],
   "source": [
    "# refactored\n",
    "analyzer = ner.erroranalysis.NERLossAnalyzer(df_tokens)\n",
    "\n",
    "display(analyzer.loss_groupby_analysis(groupby=\"input_tokens\", sort=\"sum\", ascending=False))\n",
    "display(analyzer.loss_groupby_analysis(groupby=\"input_tokens\", ascending=True))\n",
    "display(analyzer.loss_groupby_analysis(groupby=\"input_tokens\", sort=\"count\", ascending=False))"
   ]
  },
  {
   "cell_type": "markdown",
   "metadata": {},
   "source": [
    "#### Visualize the Confusion Matrix"
   ]
  },
  {
   "cell_type": "code",
   "execution_count": 158,
   "metadata": {},
   "outputs": [
    {
     "data": {
      "image/png": "[encoded data removed]",
      "text/plain": [
       "<Figure size 600x600 with 1 Axes>"
      ]
     },
     "metadata": {},
     "output_type": "display_data"
    }
   ],
   "source": [
    "ner.plot.plot_confusion_matrix(df_tokens.labels, df_tokens.predicted_labels, tags.names)"
   ]
  },
  {
   "cell_type": "markdown",
   "metadata": {},
   "source": [
    "## Evaluate Cross Lingual Performance\n",
    "* evaluating performance on other languages without re-training."
   ]
  },
  {
   "cell_type": "code",
   "execution_count": null,
   "metadata": {},
   "outputs": [],
   "source": [
    "def get_f1_score(trainer: transformers.Trainer, dataset: datasets.Dataset) -> float:\n",
    "    return trainer.predict(dataset).metrics[\"test_f1\"]\n",
    "\n",
    "\n",
    "f1_scores = defaultdict(dict)\n",
    "f1_scores[\"de\"][\"de\"] = get_f1_score(trainer, panx_de_encoded[\"test\"])\n",
    "print(f\"f1-scores of [de]-trained model on [de] test dataset is: {f1_scores['de']['de']:.3f}\")"
   ]
  },
  {
   "cell_type": "code",
   "execution_count": null,
   "metadata": {},
   "outputs": [
    {
     "data": {
      "application/vnd.jupyter.widget-view+json": {
       "model_id": "f4dbfba007e84ea699136ecb15fa021d",
       "version_major": 2,
       "version_minor": 0
      },
      "text/plain": [
       "  0%|          | 0/5 [00:00<?, ?ba/s]"
      ]
     },
     "metadata": {},
     "output_type": "display_data"
    },
    {
     "data": {
      "application/vnd.jupyter.widget-view+json": {
       "model_id": "c351b191a0ea49659ffb061a98ed7ff8",
       "version_major": 2,
       "version_minor": 0
      },
      "text/plain": [
       "  0%|          | 0/3 [00:00<?, ?ba/s]"
      ]
     },
     "metadata": {},
     "output_type": "display_data"
    },
    {
     "data": {
      "application/vnd.jupyter.widget-view+json": {
       "model_id": "e2e0a82f8dab4370b789877b9d6dda34",
       "version_major": 2,
       "version_minor": 0
      },
      "text/plain": [
       "  0%|          | 0/3 [00:00<?, ?ba/s]"
      ]
     },
     "metadata": {},
     "output_type": "display_data"
    },
    {
     "name": "stdout",
     "output_type": "stream",
     "text": [
      "f1-score of [de]-trained model on fr test dataset is: 0.706\n"
     ]
    },
    {
     "data": {
      "application/vnd.jupyter.widget-view+json": {
       "model_id": "0418486afbf345369b18ba66039f4128",
       "version_major": 2,
       "version_minor": 0
      },
      "text/plain": [
       "  0%|          | 0/2 [00:00<?, ?ba/s]"
      ]
     },
     "metadata": {},
     "output_type": "display_data"
    },
    {
     "data": {
      "application/vnd.jupyter.widget-view+json": {
       "model_id": "29513efa61a04820a1bc381ac59e62af",
       "version_major": 2,
       "version_minor": 0
      },
      "text/plain": [
       "  0%|          | 0/1 [00:00<?, ?ba/s]"
      ]
     },
     "metadata": {},
     "output_type": "display_data"
    },
    {
     "data": {
      "application/vnd.jupyter.widget-view+json": {
       "model_id": "1800f61e0c6d47d98e9e0aa55f39a96f",
       "version_major": 2,
       "version_minor": 0
      },
      "text/plain": [
       "  0%|          | 0/1 [00:00<?, ?ba/s]"
      ]
     },
     "metadata": {},
     "output_type": "display_data"
    },
    {
     "name": "stdout",
     "output_type": "stream",
     "text": [
      "f1-score of [de]-trained model on it test dataset is: 0.696\n"
     ]
    },
    {
     "data": {
      "application/vnd.jupyter.widget-view+json": {
       "model_id": "5c6e02fb278441fcb3001b161e9e0645",
       "version_major": 2,
       "version_minor": 0
      },
      "text/plain": [
       "  0%|          | 0/2 [00:00<?, ?ba/s]"
      ]
     },
     "metadata": {},
     "output_type": "display_data"
    },
    {
     "data": {
      "application/vnd.jupyter.widget-view+json": {
       "model_id": "dfab224466274aaa95b4d91da1082985",
       "version_major": 2,
       "version_minor": 0
      },
      "text/plain": [
       "  0%|          | 0/1 [00:00<?, ?ba/s]"
      ]
     },
     "metadata": {},
     "output_type": "display_data"
    },
    {
     "data": {
      "application/vnd.jupyter.widget-view+json": {
       "model_id": "474ae09552bc470480271c2ad4f466d4",
       "version_major": 2,
       "version_minor": 0
      },
      "text/plain": [
       "  0%|          | 0/1 [00:00<?, ?ba/s]"
      ]
     },
     "metadata": {},
     "output_type": "display_data"
    },
    {
     "name": "stdout",
     "output_type": "stream",
     "text": [
      "f1-score of [de]-trained model on en test dataset is: 0.598\n"
     ]
    }
   ],
   "source": [
    "def evaluate_lang_performance(lang: str, trainer: transformers.Trainer) -> float:\n",
    "    ds_encoded = encode_panx_dataset(panx_ch[lang])\n",
    "    return get_f1_score(trainer, ds_encoded[\"test\"])\n",
    "\n",
    "for lang in [\"fr\", \"it\", \"en\"]:\n",
    "    f1_scores[\"de\"][lang] = evaluate_lang_performance(lang, trainer)\n",
    "    print(f\"f1-score of [de]-trained model on [{lang}] test dataset is: {f1_scores['de'][lang]:.3f}\")"
   ]
  },
  {
   "cell_type": "markdown",
   "metadata": {},
   "source": [
    "### what language specific dataset size is necessary to beat zero-shot transfer on higher resource model?\n",
    "* example from FR\n",
    "steps:\n",
    "* train a model on a dataset of increasing size in French\n",
    "* evaluate its performance on fr test dataset\n"
   ]
  },
  {
   "cell_type": "code",
   "execution_count": null,
   "metadata": {},
   "outputs": [],
   "source": [
    "def train_on_subset(dataset: datasets.Dataset, num_samples: int) -> pd.DataFrame:\n",
    "    \"\"\"train a model on a subset of a total dataset of size `num_samples`. extract f1-scores\"\"\"\n",
    "\n",
    "    train_ds = dataset[\"train\"].shuffle(seed=42).select(range(num_samples))\n",
    "    valid_ds = dataset[\"validation\"]\n",
    "    test_ds = dataset[\"test\"]\n",
    "\n",
    "    training_args.logging_steps = len(train_ds) // BATCH_SIZE\n",
    "    trainer = transformers.Trainer(\n",
    "        model_init=model_init, \n",
    "        args=training_args,\n",
    "        data_collator=data_collator, \n",
    "        compute_metrics=compute_metrics,\n",
    "        train_dataset=train_ds,\n",
    "        eval_dataset=valid_ds,\n",
    "        tokenizer=xlmr_tokenizer,\n",
    "    )\n",
    "\n",
    "    trainer.train()\n",
    "\n",
    "    f1_score = get_f1_score(trainer=trainer, dataset=test_ds)\n",
    "\n",
    "    return pd.DataFrame({\"num_samples\": [num_samples], \"f1_score\": [f1_score]})\n",
    "\n"
   ]
  },
  {
   "cell_type": "code",
   "execution_count": null,
   "metadata": {},
   "outputs": [
    {
     "data": {
      "application/vnd.jupyter.widget-view+json": {
       "model_id": "21dc5ac387a041e68be6722c2ab5aebd",
       "version_major": 2,
       "version_minor": 0
      },
      "text/plain": [
       "  0%|          | 0/5 [00:00<?, ?ba/s]"
      ]
     },
     "metadata": {},
     "output_type": "display_data"
    },
    {
     "name": "stderr",
     "output_type": "stream",
     "text": [
      "Loading cached processed dataset at /Users/SPayot/.cache/huggingface/datasets/xtreme/PAN-X.fr/1.0.0/349258adc25bb45e47de193222f95e68a44f7a7ab53c4283b3f007208a11bf7e/cache-d94243564fc5fbf9.arrow\n",
      "Loading cached processed dataset at /Users/SPayot/.cache/huggingface/datasets/xtreme/PAN-X.fr/1.0.0/349258adc25bb45e47de193222f95e68a44f7a7ab53c4283b3f007208a11bf7e/cache-05980361e32c5986.arrow\n",
      "/opt/homebrew/Caskroom/miniforge/base/envs/transformers_test/lib/python3.10/site-packages/transformers/optimization.py:306: FutureWarning: This implementation of AdamW is deprecated and will be removed in a future version. Use the PyTorch implementation torch.optim.AdamW instead, or set `no_deprecation_warning=True` to disable this warning\n",
      "  warnings.warn(\n"
     ]
    },
    {
     "data": {
      "application/vnd.jupyter.widget-view+json": {
       "model_id": "14d581919c964865b4fa15234c5e2781",
       "version_major": 2,
       "version_minor": 0
      },
      "text/plain": [
       "  0%|          | 0/33 [00:00<?, ?it/s]"
      ]
     },
     "metadata": {},
     "output_type": "display_data"
    },
    {
     "name": "stdout",
     "output_type": "stream",
     "text": [
      "{'loss': 2.0912, 'learning_rate': 1.3939393939393942e-05, 'epoch': 0.91}\n"
     ]
    },
    {
     "data": {
      "application/vnd.jupyter.widget-view+json": {
       "model_id": "18671a09224542e1a526fb144e132b5a",
       "version_major": 2,
       "version_minor": 0
      },
      "text/plain": [
       "  0%|          | 0/96 [00:00<?, ?it/s]"
      ]
     },
     "metadata": {},
     "output_type": "display_data"
    },
    {
     "name": "stdout",
     "output_type": "stream",
     "text": [
      "{'eval_loss': 1.5919955968856812, 'eval_f1': 0.1053917824957996, 'eval_runtime': 21.7258, 'eval_samples_per_second': 105.405, 'eval_steps_per_second': 4.419, 'epoch': 1.0}\n",
      "{'loss': 1.5363, 'learning_rate': 7.87878787878788e-06, 'epoch': 1.82}\n"
     ]
    },
    {
     "data": {
      "application/vnd.jupyter.widget-view+json": {
       "model_id": "36d7b454f67a43fcb0ec47d0c5efd1b3",
       "version_major": 2,
       "version_minor": 0
      },
      "text/plain": [
       "  0%|          | 0/96 [00:00<?, ?it/s]"
      ]
     },
     "metadata": {},
     "output_type": "display_data"
    },
    {
     "name": "stdout",
     "output_type": "stream",
     "text": [
      "{'eval_loss': 1.3672953844070435, 'eval_f1': 0.024362215582624684, 'eval_runtime': 22.2637, 'eval_samples_per_second': 102.858, 'eval_steps_per_second': 4.312, 'epoch': 2.0}\n",
      "{'loss': 1.3766, 'learning_rate': 1.8181818181818183e-06, 'epoch': 2.73}\n"
     ]
    },
    {
     "data": {
      "application/vnd.jupyter.widget-view+json": {
       "model_id": "5f8605b9f86e4af190f8ef59ca990f2e",
       "version_major": 2,
       "version_minor": 0
      },
      "text/plain": [
       "  0%|          | 0/96 [00:00<?, ?it/s]"
      ]
     },
     "metadata": {},
     "output_type": "display_data"
    },
    {
     "name": "stdout",
     "output_type": "stream",
     "text": [
      "{'eval_loss': 1.3202787637710571, 'eval_f1': 0.06296370563465009, 'eval_runtime': 23.5531, 'eval_samples_per_second': 97.227, 'eval_steps_per_second': 4.076, 'epoch': 3.0}\n",
      "{'train_runtime': 181.6237, 'train_samples_per_second': 4.129, 'train_steps_per_second': 0.182, 'train_loss': 1.634277105331421, 'epoch': 3.0}\n"
     ]
    },
    {
     "data": {
      "application/vnd.jupyter.widget-view+json": {
       "model_id": "aac4543824154420b919360f18764595",
       "version_major": 2,
       "version_minor": 0
      },
      "text/plain": [
       "  0%|          | 0/96 [00:00<?, ?it/s]"
      ]
     },
     "metadata": {},
     "output_type": "display_data"
    },
    {
     "data": {
      "text/html": [
       "<div>\n",
       "<style scoped>\n",
       "    .dataframe tbody tr th:only-of-type {\n",
       "        vertical-align: middle;\n",
       "    }\n",
       "\n",
       "    .dataframe tbody tr th {\n",
       "        vertical-align: top;\n",
       "    }\n",
       "\n",
       "    .dataframe thead th {\n",
       "        text-align: right;\n",
       "    }\n",
       "</style>\n",
       "<table border=\"1\" class=\"dataframe\">\n",
       "  <thead>\n",
       "    <tr style=\"text-align: right;\">\n",
       "      <th></th>\n",
       "      <th>num_samples</th>\n",
       "      <th>f1_score</th>\n",
       "    </tr>\n",
       "  </thead>\n",
       "  <tbody>\n",
       "    <tr>\n",
       "      <th>0</th>\n",
       "      <td>250</td>\n",
       "      <td>0.062239</td>\n",
       "    </tr>\n",
       "  </tbody>\n",
       "</table>\n",
       "</div>"
      ],
      "text/plain": [
       "   num_samples  f1_score\n",
       "0          250  0.062239"
      ]
     },
     "execution_count": 457,
     "metadata": {},
     "output_type": "execute_result"
    }
   ],
   "source": [
    "panx_fr_encoded = encode_panx_dataset(panx_ch[\"fr\"])\n",
    "\n",
    "subset_df = train_on_subset(panx_fr_encoded, 250)\n",
    "subset_df"
   ]
  },
  {
   "cell_type": "code",
   "execution_count": null,
   "metadata": {},
   "outputs": [
    {
     "name": "stderr",
     "output_type": "stream",
     "text": [
      "Loading cached shuffled indices for dataset at /Users/SPayot/.cache/huggingface/datasets/xtreme/PAN-X.fr/1.0.0/349258adc25bb45e47de193222f95e68a44f7a7ab53c4283b3f007208a11bf7e/cache-e0b77cda78ac93c9.arrow\n",
      "/opt/homebrew/Caskroom/miniforge/base/envs/transformers_test/lib/python3.10/site-packages/transformers/optimization.py:306: FutureWarning: This implementation of AdamW is deprecated and will be removed in a future version. Use the PyTorch implementation torch.optim.AdamW instead, or set `no_deprecation_warning=True` to disable this warning\n",
      "  warnings.warn(\n"
     ]
    },
    {
     "data": {
      "application/vnd.jupyter.widget-view+json": {
       "model_id": "9bbf7fe902cb4ff790cced1ec99e3fa1",
       "version_major": 2,
       "version_minor": 0
      },
      "text/plain": [
       "  0%|          | 0/63 [00:00<?, ?it/s]"
      ]
     },
     "metadata": {},
     "output_type": "display_data"
    },
    {
     "name": "stdout",
     "output_type": "stream",
     "text": [
      "{'loss': 1.7986, 'learning_rate': 1.3650793650793652e-05, 'epoch': 0.95}\n"
     ]
    },
    {
     "data": {
      "application/vnd.jupyter.widget-view+json": {
       "model_id": "f36666f8c2cd4a2ca0d6147484e2e658",
       "version_major": 2,
       "version_minor": 0
      },
      "text/plain": [
       "  0%|          | 0/96 [00:00<?, ?it/s]"
      ]
     },
     "metadata": {},
     "output_type": "display_data"
    },
    {
     "name": "stdout",
     "output_type": "stream",
     "text": [
      "{'eval_loss': 1.307023048400879, 'eval_f1': 0.050548995235135695, 'eval_runtime': 23.0622, 'eval_samples_per_second': 99.297, 'eval_steps_per_second': 4.163, 'epoch': 1.0}\n",
      "{'loss': 1.25, 'learning_rate': 7.301587301587301e-06, 'epoch': 1.9}\n"
     ]
    },
    {
     "data": {
      "application/vnd.jupyter.widget-view+json": {
       "model_id": "062e7348cce743258a208e4f39521b23",
       "version_major": 2,
       "version_minor": 0
      },
      "text/plain": [
       "  0%|          | 0/96 [00:00<?, ?it/s]"
      ]
     },
     "metadata": {},
     "output_type": "display_data"
    },
    {
     "name": "stdout",
     "output_type": "stream",
     "text": [
      "{'eval_loss': 1.1147619485855103, 'eval_f1': 0.17111815301041194, 'eval_runtime': 22.6509, 'eval_samples_per_second': 101.1, 'eval_steps_per_second': 4.238, 'epoch': 2.0}\n",
      "{'loss': 1.0512, 'learning_rate': 9.523809523809525e-07, 'epoch': 2.86}\n"
     ]
    },
    {
     "data": {
      "application/vnd.jupyter.widget-view+json": {
       "model_id": "9b9c4ae468ef4a678bba9b2e0ca12e2e",
       "version_major": 2,
       "version_minor": 0
      },
      "text/plain": [
       "  0%|          | 0/96 [00:00<?, ?it/s]"
      ]
     },
     "metadata": {},
     "output_type": "display_data"
    },
    {
     "name": "stdout",
     "output_type": "stream",
     "text": [
      "{'eval_loss': 1.0117052793502808, 'eval_f1': 0.22582941762779438, 'eval_runtime': 20.8221, 'eval_samples_per_second': 109.979, 'eval_steps_per_second': 4.61, 'epoch': 3.0}\n",
      "{'train_runtime': 255.3544, 'train_samples_per_second': 5.874, 'train_steps_per_second': 0.247, 'train_loss': 1.3530717652941506, 'epoch': 3.0}\n"
     ]
    },
    {
     "data": {
      "application/vnd.jupyter.widget-view+json": {
       "model_id": "7123403481c84604bbb65e20c72f7715",
       "version_major": 2,
       "version_minor": 0
      },
      "text/plain": [
       "  0%|          | 0/96 [00:00<?, ?it/s]"
      ]
     },
     "metadata": {},
     "output_type": "display_data"
    },
    {
     "name": "stderr",
     "output_type": "stream",
     "text": [
      "/var/folders/bd/fbzkw6zj6yzdc901yf3mgtpw0000gp/T/ipykernel_56837/3174895469.py:2: FutureWarning: The frame.append method is deprecated and will be removed from pandas in a future version. Use pandas.concat instead.\n",
      "  subset_df = subset_df.append(train_on_subset(panx_fr_encoded, num_samples), ignore_index=True)\n",
      "Loading cached shuffled indices for dataset at /Users/SPayot/.cache/huggingface/datasets/xtreme/PAN-X.fr/1.0.0/349258adc25bb45e47de193222f95e68a44f7a7ab53c4283b3f007208a11bf7e/cache-e0b77cda78ac93c9.arrow\n"
     ]
    },
    {
     "data": {
      "application/vnd.jupyter.widget-view+json": {
       "model_id": "656ea6e43c8d4883b37c8b09d38dca50",
       "version_major": 2,
       "version_minor": 0
      },
      "text/plain": [
       "  0%|          | 0/126 [00:00<?, ?it/s]"
      ]
     },
     "metadata": {},
     "output_type": "display_data"
    },
    {
     "name": "stdout",
     "output_type": "stream",
     "text": [
      "{'loss': 1.5268, 'learning_rate': 1.3492063492063494e-05, 'epoch': 0.98}\n"
     ]
    },
    {
     "data": {
      "application/vnd.jupyter.widget-view+json": {
       "model_id": "8a266378b16a42c694e169c490233e0c",
       "version_major": 2,
       "version_minor": 0
      },
      "text/plain": [
       "  0%|          | 0/96 [00:00<?, ?it/s]"
      ]
     },
     "metadata": {},
     "output_type": "display_data"
    },
    {
     "name": "stdout",
     "output_type": "stream",
     "text": [
      "{'eval_loss': 1.0136070251464844, 'eval_f1': 0.2029151186053158, 'eval_runtime': 21.47, 'eval_samples_per_second': 106.66, 'eval_steps_per_second': 4.471, 'epoch': 1.0}\n",
      "{'loss': 0.835, 'learning_rate': 6.984126984126984e-06, 'epoch': 1.95}\n"
     ]
    },
    {
     "data": {
      "application/vnd.jupyter.widget-view+json": {
       "model_id": "43d388532b6a41b38b6f935afc903b7f",
       "version_major": 2,
       "version_minor": 0
      },
      "text/plain": [
       "  0%|          | 0/96 [00:00<?, ?it/s]"
      ]
     },
     "metadata": {},
     "output_type": "display_data"
    },
    {
     "name": "stdout",
     "output_type": "stream",
     "text": [
      "{'eval_loss': 0.6318351030349731, 'eval_f1': 0.6503651953000953, 'eval_runtime': 21.4419, 'eval_samples_per_second': 106.8, 'eval_steps_per_second': 4.477, 'epoch': 2.0}\n",
      "{'loss': 0.5894, 'learning_rate': 4.7619047619047623e-07, 'epoch': 2.93}\n"
     ]
    },
    {
     "data": {
      "application/vnd.jupyter.widget-view+json": {
       "model_id": "c4577d3ba3f84afbadd228c634802221",
       "version_major": 2,
       "version_minor": 0
      },
      "text/plain": [
       "  0%|          | 0/96 [00:00<?, ?it/s]"
      ]
     },
     "metadata": {},
     "output_type": "display_data"
    },
    {
     "name": "stdout",
     "output_type": "stream",
     "text": [
      "{'eval_loss': 0.5396974682807922, 'eval_f1': 0.6659192825112107, 'eval_runtime': 22.9789, 'eval_samples_per_second': 99.656, 'eval_steps_per_second': 4.178, 'epoch': 3.0}\n",
      "{'train_runtime': 393.5674, 'train_samples_per_second': 7.623, 'train_steps_per_second': 0.32, 'train_loss': 0.9721537591919066, 'epoch': 3.0}\n"
     ]
    },
    {
     "data": {
      "application/vnd.jupyter.widget-view+json": {
       "model_id": "9e743dfffe614fe3bd7f08f89f25cc9a",
       "version_major": 2,
       "version_minor": 0
      },
      "text/plain": [
       "  0%|          | 0/96 [00:00<?, ?it/s]"
      ]
     },
     "metadata": {},
     "output_type": "display_data"
    },
    {
     "name": "stderr",
     "output_type": "stream",
     "text": [
      "Loading cached shuffled indices for dataset at /Users/SPayot/.cache/huggingface/datasets/xtreme/PAN-X.fr/1.0.0/349258adc25bb45e47de193222f95e68a44f7a7ab53c4283b3f007208a11bf7e/cache-e0b77cda78ac93c9.arrow\n"
     ]
    },
    {
     "data": {
      "application/vnd.jupyter.widget-view+json": {
       "model_id": "b4c6982e8ebc4ace8939f739c710de53",
       "version_major": 2,
       "version_minor": 0
      },
      "text/plain": [
       "  0%|          | 0/252 [00:00<?, ?it/s]"
      ]
     },
     "metadata": {},
     "output_type": "display_data"
    },
    {
     "name": "stdout",
     "output_type": "stream",
     "text": [
      "{'loss': 1.1625, 'learning_rate': 1.3412698412698413e-05, 'epoch': 0.99}\n"
     ]
    },
    {
     "data": {
      "application/vnd.jupyter.widget-view+json": {
       "model_id": "42059eba2d5d43d49e6bbfa6e5af796b",
       "version_major": 2,
       "version_minor": 0
      },
      "text/plain": [
       "  0%|          | 0/96 [00:00<?, ?it/s]"
      ]
     },
     "metadata": {},
     "output_type": "display_data"
    },
    {
     "name": "stdout",
     "output_type": "stream",
     "text": [
      "{'eval_loss': 0.5517431497573853, 'eval_f1': 0.6327613104524181, 'eval_runtime': 21.8912, 'eval_samples_per_second': 104.608, 'eval_steps_per_second': 4.385, 'epoch': 1.0}\n",
      "{'loss': 0.4621, 'learning_rate': 6.825396825396826e-06, 'epoch': 1.98}\n"
     ]
    },
    {
     "data": {
      "application/vnd.jupyter.widget-view+json": {
       "model_id": "224a078cffaa41f8b07a083f280fc379",
       "version_major": 2,
       "version_minor": 0
      },
      "text/plain": [
       "  0%|          | 0/96 [00:00<?, ?it/s]"
      ]
     },
     "metadata": {},
     "output_type": "display_data"
    },
    {
     "name": "stdout",
     "output_type": "stream",
     "text": [
      "{'eval_loss': 0.38927942514419556, 'eval_f1': 0.756385068762279, 'eval_runtime': 21.3099, 'eval_samples_per_second': 107.462, 'eval_steps_per_second': 4.505, 'epoch': 2.0}\n",
      "{'loss': 0.3266, 'learning_rate': 2.3809523809523811e-07, 'epoch': 2.96}\n"
     ]
    },
    {
     "data": {
      "application/vnd.jupyter.widget-view+json": {
       "model_id": "bba3ac52a17b46a7a68ca671baa2ed80",
       "version_major": 2,
       "version_minor": 0
      },
      "text/plain": [
       "  0%|          | 0/96 [00:00<?, ?it/s]"
      ]
     },
     "metadata": {},
     "output_type": "display_data"
    },
    {
     "name": "stdout",
     "output_type": "stream",
     "text": [
      "{'eval_loss': 0.3719795346260071, 'eval_f1': 0.7756653992395438, 'eval_runtime': 22.559, 'eval_samples_per_second': 101.511, 'eval_steps_per_second': 4.256, 'epoch': 3.0}\n",
      "{'train_runtime': 762.295, 'train_samples_per_second': 7.871, 'train_steps_per_second': 0.331, 'train_loss': 0.6466079997637916, 'epoch': 3.0}\n"
     ]
    },
    {
     "data": {
      "application/vnd.jupyter.widget-view+json": {
       "model_id": "af6c564847dd44ddbce19b4459eb1a87",
       "version_major": 2,
       "version_minor": 0
      },
      "text/plain": [
       "  0%|          | 0/96 [00:00<?, ?it/s]"
      ]
     },
     "metadata": {},
     "output_type": "display_data"
    }
   ],
   "source": [
    "for num_samples in [500, 1000, 2000]:\n",
    "    subset_df = subset_df.append(train_on_subset(panx_fr_encoded, num_samples), ignore_index=True)"
   ]
  },
  {
   "cell_type": "code",
   "execution_count": null,
   "metadata": {},
   "outputs": [
    {
     "data": {
      "text/html": [
       "<div>\n",
       "<style scoped>\n",
       "    .dataframe tbody tr th:only-of-type {\n",
       "        vertical-align: middle;\n",
       "    }\n",
       "\n",
       "    .dataframe tbody tr th {\n",
       "        vertical-align: top;\n",
       "    }\n",
       "\n",
       "    .dataframe thead th {\n",
       "        text-align: right;\n",
       "    }\n",
       "</style>\n",
       "<table border=\"1\" class=\"dataframe\">\n",
       "  <thead>\n",
       "    <tr style=\"text-align: right;\">\n",
       "      <th></th>\n",
       "      <th>num_samples</th>\n",
       "      <th>f1_score</th>\n",
       "    </tr>\n",
       "  </thead>\n",
       "  <tbody>\n",
       "    <tr>\n",
       "      <th>0</th>\n",
       "      <td>250</td>\n",
       "      <td>0.062239</td>\n",
       "    </tr>\n",
       "    <tr>\n",
       "      <th>1</th>\n",
       "      <td>500</td>\n",
       "      <td>0.204258</td>\n",
       "    </tr>\n",
       "    <tr>\n",
       "      <th>2</th>\n",
       "      <td>1000</td>\n",
       "      <td>0.665959</td>\n",
       "    </tr>\n",
       "    <tr>\n",
       "      <th>3</th>\n",
       "      <td>2000</td>\n",
       "      <td>0.764503</td>\n",
       "    </tr>\n",
       "  </tbody>\n",
       "</table>\n",
       "</div>"
      ],
      "text/plain": [
       "   num_samples  f1_score\n",
       "0          250  0.062239\n",
       "1          500  0.204258\n",
       "2         1000  0.665959\n",
       "3         2000  0.764503"
      ]
     },
     "execution_count": 465,
     "metadata": {},
     "output_type": "execute_result"
    }
   ],
   "source": [
    "subset_df"
   ]
  },
  {
   "cell_type": "code",
   "execution_count": null,
   "metadata": {},
   "outputs": [
    {
     "data": {
      "image/png": "[encoded data removed]",
      "text/plain": [
       "<Figure size 432x288 with 1 Axes>"
      ]
     },
     "metadata": {
      "needs_background": "light"
     },
     "output_type": "display_data"
    }
   ],
   "source": [
    "fig, ax = plt.subplots()\n",
    "ax.axhline(f1_scores[\"de\"][\"fr\"], ls=\"--\", color=\"r\")\n",
    "subset_df.set_index(\"num_samples\").plot(ax=ax)\n",
    "plt.legend([\"Zero-shot from [de]\", \"Fine-tuned on [fr]\"], loc=\"lower right\")\n",
    "plt.ylim((0,1))\n",
    "plt.xlabel(\"Number of Training Samples\")\n",
    "plt.ylabel(\"F1-Score\")\n",
    "plt.show()"
   ]
  },
  {
   "cell_type": "markdown",
   "metadata": {},
   "source": [
    "## Training on all languages at once\n",
    "### Encode and Concatenate datasets for each language"
   ]
  },
  {
   "cell_type": "code",
   "execution_count": null,
   "metadata": {},
   "outputs": [
    {
     "name": "stderr",
     "output_type": "stream",
     "text": [
      "Loading cached processed dataset at /Users/SPayot/.cache/huggingface/datasets/xtreme/PAN-X.fr/1.0.0/349258adc25bb45e47de193222f95e68a44f7a7ab53c4283b3f007208a11bf7e/cache-07fa17e04475672f.arrow\n",
      "Loading cached processed dataset at /Users/SPayot/.cache/huggingface/datasets/xtreme/PAN-X.fr/1.0.0/349258adc25bb45e47de193222f95e68a44f7a7ab53c4283b3f007208a11bf7e/cache-07dac438cc574410.arrow\n",
      "Loading cached processed dataset at /Users/SPayot/.cache/huggingface/datasets/xtreme/PAN-X.fr/1.0.0/349258adc25bb45e47de193222f95e68a44f7a7ab53c4283b3f007208a11bf7e/cache-66fe4a154cc188a1.arrow\n",
      "Loading cached processed dataset at /Users/SPayot/.cache/huggingface/datasets/xtreme/PAN-X.it/1.0.0/349258adc25bb45e47de193222f95e68a44f7a7ab53c4283b3f007208a11bf7e/cache-407e926815bd48fc.arrow\n",
      "Loading cached processed dataset at /Users/SPayot/.cache/huggingface/datasets/xtreme/PAN-X.it/1.0.0/349258adc25bb45e47de193222f95e68a44f7a7ab53c4283b3f007208a11bf7e/cache-dd65a58d0ac05588.arrow\n",
      "Loading cached processed dataset at /Users/SPayot/.cache/huggingface/datasets/xtreme/PAN-X.it/1.0.0/349258adc25bb45e47de193222f95e68a44f7a7ab53c4283b3f007208a11bf7e/cache-b54af25a0e525eb5.arrow\n",
      "Loading cached processed dataset at /Users/SPayot/.cache/huggingface/datasets/xtreme/PAN-X.en/1.0.0/349258adc25bb45e47de193222f95e68a44f7a7ab53c4283b3f007208a11bf7e/cache-98ef0afc738525f1.arrow\n",
      "Loading cached processed dataset at /Users/SPayot/.cache/huggingface/datasets/xtreme/PAN-X.en/1.0.0/349258adc25bb45e47de193222f95e68a44f7a7ab53c4283b3f007208a11bf7e/cache-b576ba08407c0501.arrow\n",
      "Loading cached processed dataset at /Users/SPayot/.cache/huggingface/datasets/xtreme/PAN-X.en/1.0.0/349258adc25bb45e47de193222f95e68a44f7a7ab53c4283b3f007208a11bf7e/cache-bedb0e3dbe7b4e4f.arrow\n",
      "Loading cached shuffled indices for dataset at /Users/SPayot/.cache/huggingface/datasets/xtreme/PAN-X.de/1.0.0/349258adc25bb45e47de193222f95e68a44f7a7ab53c4283b3f007208a11bf7e/cache-f1bf3f58d541fa34.arrow\n"
     ]
    }
   ],
   "source": [
    "def concatenate_splits(corpora: list[datasets.DatasetDict]) -> datasets.DatasetDict:\n",
    "    multi_corpus = datasets.DatasetDict()\n",
    "    for split in corpora[0].keys():\n",
    "        multi_corpus[split] = datasets.concatenate_datasets(\n",
    "            [corpus[split] for corpus in corpora]\n",
    "            ).shuffle(seed=42)\n",
    "    return multi_corpus\n",
    "\n",
    "\n",
    "langs = [\"de\", \"fr\", \"it\", \"en\"]\n",
    "\n",
    "# initialize corpora\n",
    "corpora = [panx_de_encoded]\n",
    "\n",
    "corpora += [encode_panx_dataset(panx_ch[lang]) for lang in langs[1:]]\n",
    "\n",
    "corpora_encoded = concatenate_splits(corpora)\n",
    "\n"
   ]
  },
  {
   "cell_type": "code",
   "execution_count": null,
   "metadata": {},
   "outputs": [
    {
     "name": "stdout",
     "output_type": "stream",
     "text": [
      "train                20020\n",
      "validation           10010\n",
      "test                 10010\n"
     ]
    }
   ],
   "source": [
    "for split in corpora_encoded:\n",
    "    print(f\"{split:<20} {len(corpora_encoded[split])}\")"
   ]
  },
  {
   "cell_type": "code",
   "execution_count": null,
   "metadata": {},
   "outputs": [
    {
     "name": "stderr",
     "output_type": "stream",
     "text": [
      "/opt/homebrew/Caskroom/miniforge/base/envs/transformers_test/lib/python3.10/site-packages/transformers/optimization.py:306: FutureWarning: This implementation of AdamW is deprecated and will be removed in a future version. Use the PyTorch implementation torch.optim.AdamW instead, or set `no_deprecation_warning=True` to disable this warning\n",
      "  warnings.warn(\n"
     ]
    },
    {
     "data": {
      "application/vnd.jupyter.widget-view+json": {
       "model_id": "051b3c143cc64afb9e41bbb51a2afb4f",
       "version_major": 2,
       "version_minor": 0
      },
      "text/plain": [
       "  0%|          | 0/2505 [00:00<?, ?it/s]"
      ]
     },
     "metadata": {},
     "output_type": "display_data"
    },
    {
     "name": "stdout",
     "output_type": "stream",
     "text": [
      "{'loss': 0.3333, 'learning_rate': 1.3341317365269462e-05, 'epoch': 1.0}\n"
     ]
    },
    {
     "data": {
      "application/vnd.jupyter.widget-view+json": {
       "model_id": "4faa3936828541319bfc63f81d22ec14",
       "version_major": 2,
       "version_minor": 0
      },
      "text/plain": [
       "  0%|          | 0/418 [00:00<?, ?it/s]"
      ]
     },
     "metadata": {},
     "output_type": "display_data"
    },
    {
     "name": "stdout",
     "output_type": "stream",
     "text": [
      "{'eval_loss': 0.19712050259113312, 'eval_f1': 0.812826620214014, 'eval_runtime': 115.135, 'eval_samples_per_second': 86.941, 'eval_steps_per_second': 3.631, 'epoch': 1.0}\n",
      "{'loss': 0.1713, 'learning_rate': 6.682634730538923e-06, 'epoch': 2.0}\n"
     ]
    },
    {
     "data": {
      "application/vnd.jupyter.widget-view+json": {
       "model_id": "e547acea35b04a51b3f6e8971a4d4188",
       "version_major": 2,
       "version_minor": 0
      },
      "text/plain": [
       "  0%|          | 0/418 [00:00<?, ?it/s]"
      ]
     },
     "metadata": {},
     "output_type": "display_data"
    },
    {
     "name": "stdout",
     "output_type": "stream",
     "text": [
      "{'eval_loss': 0.17813758552074432, 'eval_f1': 0.8376906710901159, 'eval_runtime': 114.0085, 'eval_samples_per_second': 87.801, 'eval_steps_per_second': 3.666, 'epoch': 2.0}\n",
      "{'loss': 0.1312, 'learning_rate': 2.3952095808383236e-08, 'epoch': 3.0}\n"
     ]
    },
    {
     "data": {
      "application/vnd.jupyter.widget-view+json": {
       "model_id": "7c7b05e4103a441396fac5ba07325dc2",
       "version_major": 2,
       "version_minor": 0
      },
      "text/plain": [
       "  0%|          | 0/418 [00:00<?, ?it/s]"
      ]
     },
     "metadata": {},
     "output_type": "display_data"
    },
    {
     "name": "stdout",
     "output_type": "stream",
     "text": [
      "{'eval_loss': 0.17378000915050507, 'eval_f1': 0.8485569985569985, 'eval_runtime': 115.7807, 'eval_samples_per_second': 86.457, 'eval_steps_per_second': 3.61, 'epoch': 3.0}\n",
      "{'train_runtime': 7077.6999, 'train_samples_per_second': 8.486, 'train_steps_per_second': 0.354, 'train_loss': 0.2118049201613177, 'epoch': 3.0}\n"
     ]
    },
    {
     "data": {
      "application/vnd.jupyter.widget-view+json": {
       "model_id": "ab89650b50e742318c1e2c51571b0d8f",
       "version_major": 2,
       "version_minor": 0
      },
      "text/plain": [
       "  0%|          | 0/263 [00:00<?, ?it/s]"
      ]
     },
     "metadata": {},
     "output_type": "display_data"
    },
    {
     "name": "stdout",
     "output_type": "stream",
     "text": [
      "defaultdict(<class 'dict'>, {'all': {'de': 0.8580619673796489, 'fr': 0.8601002749474366, 'it': 0.8642732049036776, 'en': 0.7473684210526317}})\n"
     ]
    }
   ],
   "source": [
    "training_args.logging_steps = len(corpora_encoded[\"train\"]) // BATCH_SIZE\n",
    "training_args.output_dir = \"xlm-roberta-base-finetuned-panx-all-ch\"\n",
    "\n",
    "xtrainer = tfm.Trainer(\n",
    "    model_init=model_init, \n",
    "    args=training_args,\n",
    "    data_collator=data_collator, \n",
    "    compute_metrics=compute_metrics,\n",
    "    train_dataset=corpora_encoded[\"train\"],\n",
    "    eval_dataset=corpora_encoded[\"validation\"],\n",
    "    tokenizer=xlmr_tokenizer,\n",
    ")\n",
    "\n",
    "xtrainer.train()\n",
    "\n",
    "for idx, lang in enumerate(langs):\n",
    "    f1_scores[\"all\"][lang] = get_f1_score(xtrainer, corpora[idx][\"test\"])\n",
    "\n",
    "print(f1_scores)"
   ]
  },
  {
   "cell_type": "markdown",
   "metadata": {},
   "source": [
    "## Save Model"
   ]
  },
  {
   "cell_type": "code",
   "execution_count": null,
   "metadata": {},
   "outputs": [],
   "source": [
    "# saves in args.output_dir directory\n",
    "xtrainer.save_model()"
   ]
  },
  {
   "cell_type": "markdown",
   "metadata": {},
   "source": [
    "## Reload a model"
   ]
  },
  {
   "cell_type": "code",
   "execution_count": 11,
   "metadata": {},
   "outputs": [
    {
     "data": {
      "text/plain": [
       "[{'entity': 'B-PER',\n",
       "  'score': 0.9855789,\n",
       "  'index': 1,\n",
       "  'word': '▁Sylv',\n",
       "  'start': 0,\n",
       "  'end': 4},\n",
       " {'entity': 'I-PER',\n",
       "  'score': 0.924334,\n",
       "  'index': 2,\n",
       "  'word': 'ain',\n",
       "  'start': 4,\n",
       "  'end': 7},\n",
       " {'entity': 'I-PER',\n",
       "  'score': 0.99736816,\n",
       "  'index': 3,\n",
       "  'word': '▁Pay',\n",
       "  'start': 8,\n",
       "  'end': 11},\n",
       " {'entity': 'I-PER',\n",
       "  'score': 0.9969472,\n",
       "  'index': 4,\n",
       "  'word': 'ot',\n",
       "  'start': 11,\n",
       "  'end': 13},\n",
       " {'entity': 'B-LOC',\n",
       "  'score': 0.7727065,\n",
       "  'index': 12,\n",
       "  'word': '▁',\n",
       "  'start': 53,\n",
       "  'end': 54},\n",
       " {'entity': 'B-LOC',\n",
       "  'score': 0.983724,\n",
       "  'index': 13,\n",
       "  'word': 'Bretagne',\n",
       "  'start': 53,\n",
       "  'end': 61},\n",
       " {'entity': 'B-ORG',\n",
       "  'score': 0.93293,\n",
       "  'index': 15,\n",
       "  'word': '▁Nike',\n",
       "  'start': 67,\n",
       "  'end': 71}]"
      ]
     },
     "execution_count": 11,
     "metadata": {},
     "output_type": "execute_result"
    }
   ],
   "source": [
    "NEW_MODEL = \"../models/xlm-roberta-base-finetuned-panx-all-ch\"\n",
    "\n",
    "text = \"Sylvain Payot est un data scientist qui travaille en Bretagne pour Nike\"\n",
    "ner = tfm.pipeline(\"ner\", model=NEW_MODEL)\n",
    "ner(text)\n",
    "\n"
   ]
  },
  {
   "cell_type": "code",
   "execution_count": 5,
   "metadata": {},
   "outputs": [],
   "source": [
    "NEW_MODEL = \"xlm-roberta-base-finetuned-panx-all-ch\"\n",
    "model = tfm.AutoModelForTokenClassification.from_pretrained(NEW_MODEL)\n",
    "\n",
    "n_params = sum(p.numel() for p in model.parameters())\n",
    "print(f\"number of parameters: {n_params:,}\")\n",
    "\n",
    "trainer = tfm.Trainer(\n",
    "    model=model, \n",
    "    args=training_args,\n",
    "    data_collator=data_collator, \n",
    "    compute_metrics=compute_metrics,\n",
    "    train_dataset=corpora_encoded[\"train\"],\n",
    "    eval_dataset=corpora_encoded[\"validation\"],\n",
    "    tokenizer=xlmr_tokenizer,\n",
    ")\n",
    "trainer.evaluate(panx_de_encoded[\"validation\"])"
   ]
  },
  {
   "cell_type": "code",
   "execution_count": 82,
   "metadata": {},
   "outputs": [
    {
     "data": {
      "text/html": [
       "<div>\n",
       "<style scoped>\n",
       "    .dataframe tbody tr th:only-of-type {\n",
       "        vertical-align: middle;\n",
       "    }\n",
       "\n",
       "    .dataframe tbody tr th {\n",
       "        vertical-align: top;\n",
       "    }\n",
       "\n",
       "    .dataframe thead th {\n",
       "        text-align: right;\n",
       "    }\n",
       "</style>\n",
       "<table border=\"1\" class=\"dataframe\">\n",
       "  <thead>\n",
       "    <tr style=\"text-align: right;\">\n",
       "      <th></th>\n",
       "      <th>0</th>\n",
       "      <th>1</th>\n",
       "      <th>2</th>\n",
       "      <th>3</th>\n",
       "      <th>4</th>\n",
       "      <th>5</th>\n",
       "      <th>6</th>\n",
       "      <th>7</th>\n",
       "      <th>8</th>\n",
       "      <th>9</th>\n",
       "      <th>10</th>\n",
       "      <th>11</th>\n",
       "      <th>12</th>\n",
       "      <th>13</th>\n",
       "      <th>14</th>\n",
       "      <th>15</th>\n",
       "      <th>16</th>\n",
       "    </tr>\n",
       "  </thead>\n",
       "  <tbody>\n",
       "    <tr>\n",
       "      <th>tokens</th>\n",
       "      <td>&lt;s&gt;</td>\n",
       "      <td>▁Sylv</td>\n",
       "      <td>ain</td>\n",
       "      <td>▁Pay</td>\n",
       "      <td>ot</td>\n",
       "      <td>▁est</td>\n",
       "      <td>▁un</td>\n",
       "      <td>▁data</td>\n",
       "      <td>▁scientist</td>\n",
       "      <td>▁qui</td>\n",
       "      <td>▁travaille</td>\n",
       "      <td>▁en</td>\n",
       "      <td>▁</td>\n",
       "      <td>Bretagne</td>\n",
       "      <td>▁pour</td>\n",
       "      <td>▁Nike</td>\n",
       "      <td>&lt;/s&gt;</td>\n",
       "    </tr>\n",
       "    <tr>\n",
       "      <th>tags</th>\n",
       "      <td>I-ORG</td>\n",
       "      <td>B-PER</td>\n",
       "      <td>I-PER</td>\n",
       "      <td>I-PER</td>\n",
       "      <td>I-PER</td>\n",
       "      <td>O</td>\n",
       "      <td>O</td>\n",
       "      <td>O</td>\n",
       "      <td>O</td>\n",
       "      <td>O</td>\n",
       "      <td>O</td>\n",
       "      <td>O</td>\n",
       "      <td>B-LOC</td>\n",
       "      <td>B-LOC</td>\n",
       "      <td>O</td>\n",
       "      <td>B-ORG</td>\n",
       "      <td>O</td>\n",
       "    </tr>\n",
       "  </tbody>\n",
       "</table>\n",
       "</div>"
      ],
      "text/plain": [
       "           0      1      2      3      4     5    6      7           8     9   \\\n",
       "tokens    <s>  ▁Sylv    ain   ▁Pay     ot  ▁est  ▁un  ▁data  ▁scientist  ▁qui   \n",
       "tags    I-ORG  B-PER  I-PER  I-PER  I-PER     O    O      O           O     O   \n",
       "\n",
       "                10   11     12        13     14     15    16  \n",
       "tokens  ▁travaille  ▁en      ▁  Bretagne  ▁pour  ▁Nike  </s>  \n",
       "tags             O    O  B-LOC     B-LOC      O  B-ORG     O  "
      ]
     },
     "execution_count": 82,
     "metadata": {},
     "output_type": "execute_result"
    }
   ],
   "source": [
    "ner.inspect.tag_text(\"Sylvain Payot est un data scientist qui travaille en Bretagne pour Nike\", xtrainer.model, xlmr_tokenizer, tags)"
   ]
  }
 ],
 "metadata": {
  "kernelspec": {
   "display_name": "tfm4",
   "language": "python",
   "name": "python3"
  },
  "language_info": {
   "codemirror_mode": {
    "name": "ipython",
    "version": 3
   },
   "file_extension": ".py",
   "mimetype": "text/x-python",
   "name": "python",
   "nbconvert_exporter": "python",
   "pygments_lexer": "ipython3",
   "version": "3.9.15"
  },
  "orig_nbformat": 4,
  "vscode": {
   "interpreter": {
    "hash": "eb6be457b960a2f49fdbcb4c5085340aac6fd502e5d42143ce2ce0b3e72004ac"
   }
  }
 },
 "nbformat": 4,
 "nbformat_minor": 2
}
