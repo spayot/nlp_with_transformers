{
 "cells": [
  {
   "cell_type": "code",
   "execution_count": 2,
   "metadata": {},
   "outputs": [
    {
     "name": "stderr",
     "output_type": "stream",
     "text": [
      "/Users/spayot/miniforge3/envs/tfm4/lib/python3.9/site-packages/tqdm/auto.py:22: TqdmWarning: IProgress not found. Please update jupyter and ipywidgets. See https://ipywidgets.readthedocs.io/en/stable/user_install.html\n",
      "  from .autonotebook import tqdm as notebook_tqdm\n"
     ]
    }
   ],
   "source": [
    "from collections import Counter, defaultdict\n",
    "import sys\n",
    "from typing import Tuple\n",
    "\n",
    "\n",
    "import datasets\n",
    "import matplotlib.pyplot as plt\n",
    "import numpy as np\n",
    "import pandas as pd\n",
    "from seqeval import metrics\n",
    "import torch\n",
    "import transformers as tfm\n",
    "\n",
    "sys.path.append(\"../src\")\n",
    "\n",
    "import ner\n",
    "\n",
    "%load_ext autoreload\n",
    "%autoreload 2\n"
   ]
  },
  {
   "cell_type": "code",
   "execution_count": 3,
   "metadata": {},
   "outputs": [],
   "source": [
    "pd.set_option('display.max_colwidth', None)\n",
    "\n",
    "MODEL_CKPT = \"xlm-roberta-base\""
   ]
  },
  {
   "cell_type": "markdown",
   "metadata": {},
   "source": [
    "# MultiLingual NER\n",
    "* Using XLM-R model\n",
    "* task: create NER model for swiss languages (de, fr, it, en)\n",
    "* dataset: XTREME - PAN-X: de, fr, it, en\n",
    "\n",
    "## Dataset\n",
    "### Load"
   ]
  },
  {
   "cell_type": "code",
   "execution_count": 4,
   "metadata": {},
   "outputs": [
    {
     "name": "stderr",
     "output_type": "stream",
     "text": [
      "Found cached dataset xtreme (/Users/spayot/.cache/huggingface/datasets/xtreme/PAN-X.de/1.0.0/29f5d57a48779f37ccb75cb8708d1095448aad0713b425bdc1ff9a4a128a56e4)\n",
      "100%|██████████| 3/3 [00:00<00:00, 130.11it/s]\n",
      "Loading cached shuffled indices for dataset at /Users/spayot/.cache/huggingface/datasets/xtreme/PAN-X.de/1.0.0/29f5d57a48779f37ccb75cb8708d1095448aad0713b425bdc1ff9a4a128a56e4/cache-e5ddf09f1ae095ec.arrow\n",
      "Loading cached shuffled indices for dataset at /Users/spayot/.cache/huggingface/datasets/xtreme/PAN-X.de/1.0.0/29f5d57a48779f37ccb75cb8708d1095448aad0713b425bdc1ff9a4a128a56e4/cache-25e7e2dd003d0fa6.arrow\n",
      "Loading cached shuffled indices for dataset at /Users/spayot/.cache/huggingface/datasets/xtreme/PAN-X.de/1.0.0/29f5d57a48779f37ccb75cb8708d1095448aad0713b425bdc1ff9a4a128a56e4/cache-73a95bc0accfea8b.arrow\n",
      "Found cached dataset xtreme (/Users/spayot/.cache/huggingface/datasets/xtreme/PAN-X.fr/1.0.0/29f5d57a48779f37ccb75cb8708d1095448aad0713b425bdc1ff9a4a128a56e4)\n",
      "100%|██████████| 3/3 [00:00<00:00, 334.37it/s]\n",
      "Loading cached shuffled indices for dataset at /Users/spayot/.cache/huggingface/datasets/xtreme/PAN-X.fr/1.0.0/29f5d57a48779f37ccb75cb8708d1095448aad0713b425bdc1ff9a4a128a56e4/cache-6ff29513007ec78b.arrow\n",
      "Loading cached shuffled indices for dataset at /Users/spayot/.cache/huggingface/datasets/xtreme/PAN-X.fr/1.0.0/29f5d57a48779f37ccb75cb8708d1095448aad0713b425bdc1ff9a4a128a56e4/cache-c5c9a4fc19dfd7d6.arrow\n",
      "Loading cached shuffled indices for dataset at /Users/spayot/.cache/huggingface/datasets/xtreme/PAN-X.fr/1.0.0/29f5d57a48779f37ccb75cb8708d1095448aad0713b425bdc1ff9a4a128a56e4/cache-9711ab25936b81b7.arrow\n",
      "Found cached dataset xtreme (/Users/spayot/.cache/huggingface/datasets/xtreme/PAN-X.it/1.0.0/29f5d57a48779f37ccb75cb8708d1095448aad0713b425bdc1ff9a4a128a56e4)\n",
      "100%|██████████| 3/3 [00:00<00:00, 339.13it/s]\n",
      "Loading cached shuffled indices for dataset at /Users/spayot/.cache/huggingface/datasets/xtreme/PAN-X.it/1.0.0/29f5d57a48779f37ccb75cb8708d1095448aad0713b425bdc1ff9a4a128a56e4/cache-daa9a1770078307c.arrow\n",
      "Loading cached shuffled indices for dataset at /Users/spayot/.cache/huggingface/datasets/xtreme/PAN-X.it/1.0.0/29f5d57a48779f37ccb75cb8708d1095448aad0713b425bdc1ff9a4a128a56e4/cache-5e244c05031bab3c.arrow\n",
      "Loading cached shuffled indices for dataset at /Users/spayot/.cache/huggingface/datasets/xtreme/PAN-X.it/1.0.0/29f5d57a48779f37ccb75cb8708d1095448aad0713b425bdc1ff9a4a128a56e4/cache-497ee15c12bff58d.arrow\n",
      "Found cached dataset xtreme (/Users/spayot/.cache/huggingface/datasets/xtreme/PAN-X.en/1.0.0/29f5d57a48779f37ccb75cb8708d1095448aad0713b425bdc1ff9a4a128a56e4)\n",
      "100%|██████████| 3/3 [00:00<00:00, 360.22it/s]\n",
      "Loading cached shuffled indices for dataset at /Users/spayot/.cache/huggingface/datasets/xtreme/PAN-X.en/1.0.0/29f5d57a48779f37ccb75cb8708d1095448aad0713b425bdc1ff9a4a128a56e4/cache-757845faa9fa6949.arrow\n",
      "Loading cached shuffled indices for dataset at /Users/spayot/.cache/huggingface/datasets/xtreme/PAN-X.en/1.0.0/29f5d57a48779f37ccb75cb8708d1095448aad0713b425bdc1ff9a4a128a56e4/cache-305cefc7ffa49fd9.arrow\n",
      "Loading cached shuffled indices for dataset at /Users/spayot/.cache/huggingface/datasets/xtreme/PAN-X.en/1.0.0/29f5d57a48779f37ccb75cb8708d1095448aad0713b425bdc1ff9a4a128a56e4/cache-e5ec5e6ba7c1237d.arrow\n"
     ]
    }
   ],
   "source": [
    "langs = {\"de\": 0.629, \"fr\": 0.229, \"it\": 0.084, \"en\": 0.059}\n",
    "\n",
    "# return a DatasetDict if a key doesn't exist\n",
    "panx_ch = defaultdict(datasets.DatasetDict)\n",
    "\n",
    "for lang, frac in langs.items():\n",
    "    # load monolingual corpus\n",
    "    ds = datasets.load_dataset(\"xtreme\", name=f\"PAN-X.{lang}\")\n",
    "    # sample examples to create imbalanced dataset based on language prevalence\n",
    "    for split in ds:\n",
    "        panx_ch[lang][split] = (ds[split]\n",
    "            .shuffle(seed=0)\n",
    "            .select(range(int(frac * ds[split].num_rows))))\n",
    "\n",
    "    "
   ]
  },
  {
   "cell_type": "markdown",
   "metadata": {},
   "source": [
    "### Exploratory Data Analysis"
   ]
  },
  {
   "cell_type": "code",
   "execution_count": 5,
   "metadata": {},
   "outputs": [
    {
     "name": "stdout",
     "output_type": "stream",
     "text": [
      "de 12580 rows\n",
      "fr 4580 rows\n",
      "it 1680 rows\n",
      "en 1180 rows\n"
     ]
    }
   ],
   "source": [
    "# inspecting the number of examples for each language\n",
    "for lang, ds in panx_ch.items():\n",
    "    print(lang, ds[\"train\"].num_rows, \"rows\", sep=\" \")"
   ]
  },
  {
   "cell_type": "code",
   "execution_count": 6,
   "metadata": {},
   "outputs": [
    {
     "data": {
      "text/plain": [
       "{'tokens': Sequence(feature=Value(dtype='string', id=None), length=-1, id=None),\n",
       " 'ner_tags': Sequence(feature=ClassLabel(names=['O', 'B-PER', 'I-PER', 'B-ORG', 'I-ORG', 'B-LOC', 'I-LOC'], id=None), length=-1, id=None),\n",
       " 'langs': Sequence(feature=Value(dtype='string', id=None), length=-1, id=None)}"
      ]
     },
     "execution_count": 6,
     "metadata": {},
     "output_type": "execute_result"
    }
   ],
   "source": [
    "# what are the features in each dataset?\n",
    "panx_ch[\"de\"][\"train\"].features"
   ]
  },
  {
   "cell_type": "code",
   "execution_count": 7,
   "metadata": {},
   "outputs": [
    {
     "name": "stdout",
     "output_type": "stream",
     "text": [
      "{'ner_tags_str': [['O', 'O', 'B-ORG', 'I-ORG', 'O', 'O'], ['B-ORG', 'I-ORG', 'O', 'B-PER', 'I-PER'], ['B-LOC', 'I-LOC', 'I-LOC', 'O', 'B-LOC', 'O', 'O', 'O', 'O', 'B-ORG', 'I-ORG', 'O', 'O']]}\n"
     ]
    }
   ],
   "source": [
    "# let's add string tags \n",
    "tags = panx_ch[\"de\"][\"train\"].features[\"ner_tags\"].feature\n",
    "\n",
    "def create_tag_names(batch: dict):\n",
    "    # tags.int2str turns a list of ids into str labels\n",
    "    tag_names: list = [tags.int2str(tag_id) for tag_id in batch[\"ner_tags\"]] \n",
    "    \n",
    "    return {\"ner_tags_str\": tag_names}\n",
    "\n",
    "batch = ds[\"train\"][:3]\n",
    "\n",
    "print(create_tag_names(batch))\n",
    "\n",
    "    "
   ]
  },
  {
   "cell_type": "code",
   "execution_count": 8,
   "metadata": {},
   "outputs": [
    {
     "name": "stderr",
     "output_type": "stream",
     "text": [
      "Loading cached processed dataset at /Users/spayot/.cache/huggingface/datasets/xtreme/PAN-X.de/1.0.0/29f5d57a48779f37ccb75cb8708d1095448aad0713b425bdc1ff9a4a128a56e4/cache-193a8d7ac1077590.arrow\n",
      "Loading cached processed dataset at /Users/spayot/.cache/huggingface/datasets/xtreme/PAN-X.de/1.0.0/29f5d57a48779f37ccb75cb8708d1095448aad0713b425bdc1ff9a4a128a56e4/cache-f299581438c55b9a.arrow\n",
      "Loading cached processed dataset at /Users/spayot/.cache/huggingface/datasets/xtreme/PAN-X.de/1.0.0/29f5d57a48779f37ccb75cb8708d1095448aad0713b425bdc1ff9a4a128a56e4/cache-3f248af3e70ec86f.arrow\n"
     ]
    },
    {
     "data": {
      "text/html": [
       "<div>\n",
       "<style scoped>\n",
       "    .dataframe tbody tr th:only-of-type {\n",
       "        vertical-align: middle;\n",
       "    }\n",
       "\n",
       "    .dataframe tbody tr th {\n",
       "        vertical-align: top;\n",
       "    }\n",
       "\n",
       "    .dataframe thead th {\n",
       "        text-align: right;\n",
       "    }\n",
       "</style>\n",
       "<table border=\"1\" class=\"dataframe\">\n",
       "  <thead>\n",
       "    <tr style=\"text-align: right;\">\n",
       "      <th></th>\n",
       "      <th>0</th>\n",
       "      <th>1</th>\n",
       "      <th>2</th>\n",
       "      <th>3</th>\n",
       "      <th>4</th>\n",
       "      <th>5</th>\n",
       "      <th>6</th>\n",
       "      <th>7</th>\n",
       "      <th>8</th>\n",
       "      <th>9</th>\n",
       "      <th>10</th>\n",
       "      <th>11</th>\n",
       "    </tr>\n",
       "  </thead>\n",
       "  <tbody>\n",
       "    <tr>\n",
       "      <th>tokens</th>\n",
       "      <td>2.000</td>\n",
       "      <td>Einwohnern</td>\n",
       "      <td>an</td>\n",
       "      <td>der</td>\n",
       "      <td>Danziger</td>\n",
       "      <td>Bucht</td>\n",
       "      <td>in</td>\n",
       "      <td>der</td>\n",
       "      <td>polnischen</td>\n",
       "      <td>Woiwodschaft</td>\n",
       "      <td>Pommern</td>\n",
       "      <td>.</td>\n",
       "    </tr>\n",
       "    <tr>\n",
       "      <th>ner_tags_str</th>\n",
       "      <td>O</td>\n",
       "      <td>O</td>\n",
       "      <td>O</td>\n",
       "      <td>O</td>\n",
       "      <td>B-LOC</td>\n",
       "      <td>I-LOC</td>\n",
       "      <td>O</td>\n",
       "      <td>O</td>\n",
       "      <td>B-LOC</td>\n",
       "      <td>B-LOC</td>\n",
       "      <td>I-LOC</td>\n",
       "      <td>O</td>\n",
       "    </tr>\n",
       "  </tbody>\n",
       "</table>\n",
       "</div>"
      ],
      "text/plain": [
       "                 0           1   2    3         4      5   6    7   \\\n",
       "tokens        2.000  Einwohnern  an  der  Danziger  Bucht  in  der   \n",
       "ner_tags_str      O           O   O    O     B-LOC  I-LOC   O    O   \n",
       "\n",
       "                      8             9        10 11  \n",
       "tokens        polnischen  Woiwodschaft  Pommern  .  \n",
       "ner_tags_str       B-LOC         B-LOC    I-LOC  O  "
      ]
     },
     "execution_count": 8,
     "metadata": {},
     "output_type": "execute_result"
    }
   ],
   "source": [
    "panx_de = panx_ch[\"de\"].map(create_tag_names)\n",
    "\n",
    "de_example = panx_de[\"train\"][0]\n",
    "\n",
    "pd.DataFrame(de_example)[[\"tokens\", \"ner_tags_str\"]].T\n",
    "\n"
   ]
  },
  {
   "cell_type": "markdown",
   "metadata": {},
   "source": [
    "#### How many of each tags in DE dataset?"
   ]
  },
  {
   "cell_type": "code",
   "execution_count": 9,
   "metadata": {},
   "outputs": [
    {
     "data": {
      "text/html": [
       "<div>\n",
       "<style scoped>\n",
       "    .dataframe tbody tr th:only-of-type {\n",
       "        vertical-align: middle;\n",
       "    }\n",
       "\n",
       "    .dataframe tbody tr th {\n",
       "        vertical-align: top;\n",
       "    }\n",
       "\n",
       "    .dataframe thead th {\n",
       "        text-align: right;\n",
       "    }\n",
       "</style>\n",
       "<table border=\"1\" class=\"dataframe\">\n",
       "  <thead>\n",
       "    <tr style=\"text-align: right;\">\n",
       "      <th></th>\n",
       "      <th>train</th>\n",
       "      <th>validation</th>\n",
       "      <th>test</th>\n",
       "    </tr>\n",
       "  </thead>\n",
       "  <tbody>\n",
       "    <tr>\n",
       "      <th>LOC</th>\n",
       "      <td>6186</td>\n",
       "      <td>3172</td>\n",
       "      <td>3180</td>\n",
       "    </tr>\n",
       "    <tr>\n",
       "      <th>ORG</th>\n",
       "      <td>5366</td>\n",
       "      <td>2683</td>\n",
       "      <td>2573</td>\n",
       "    </tr>\n",
       "    <tr>\n",
       "      <th>PER</th>\n",
       "      <td>5810</td>\n",
       "      <td>2893</td>\n",
       "      <td>3071</td>\n",
       "    </tr>\n",
       "  </tbody>\n",
       "</table>\n",
       "</div>"
      ],
      "text/plain": [
       "     train  validation  test\n",
       "LOC   6186        3172  3180\n",
       "ORG   5366        2683  2573\n",
       "PER   5810        2893  3071"
      ]
     },
     "execution_count": 9,
     "metadata": {},
     "output_type": "execute_result"
    }
   ],
   "source": [
    "freqs = defaultdict(Counter)\n",
    "\n",
    "for split, ds in panx_de.items():\n",
    "    for tag_list in ds[\"ner_tags_str\"]:\n",
    "        for tag in tag_list:\n",
    "            if tag.startswith(\"B-\"):\n",
    "                freqs[split][tag[2:]] += 1\n",
    "\n",
    "pd.DataFrame(freqs)"
   ]
  },
  {
   "cell_type": "markdown",
   "metadata": {},
   "source": [
    "## Tokenizer"
   ]
  },
  {
   "cell_type": "code",
   "execution_count": 10,
   "metadata": {},
   "outputs": [
    {
     "name": "stdout",
     "output_type": "stream",
     "text": [
      "['<s>', '▁This', '▁can', '▁probably', '▁be', '▁done', '.', '▁N', \"'\", 'est', '-', 'ce', '▁pas', '?', '</s>']\n"
     ]
    }
   ],
   "source": [
    "xlmr_tokenizer = tfm.AutoTokenizer.from_pretrained(MODEL_CKPT)\n",
    "\n",
    "text = \"This can probably be done. N'est-ce pas?\"\n",
    "\n",
    "print(xlmr_tokenizer(text).tokens())"
   ]
  },
  {
   "cell_type": "markdown",
   "metadata": {},
   "source": [
    "## Model instantiation"
   ]
  },
  {
   "cell_type": "code",
   "execution_count": 11,
   "metadata": {},
   "outputs": [
    {
     "name": "stderr",
     "output_type": "stream",
     "text": [
      "Some weights of the model checkpoint at xlm-roberta-base were not used when initializing XLMRobertaForTokenClassification: ['lm_head.decoder.weight', 'lm_head.dense.bias', 'lm_head.layer_norm.weight', 'lm_head.dense.weight', 'lm_head.bias', 'lm_head.layer_norm.bias']\n",
      "- This IS expected if you are initializing XLMRobertaForTokenClassification from the checkpoint of a model trained on another task or with another architecture (e.g. initializing a BertForSequenceClassification model from a BertForPreTraining model).\n",
      "- This IS NOT expected if you are initializing XLMRobertaForTokenClassification from the checkpoint of a model that you expect to be exactly identical (initializing a BertForSequenceClassification model from a BertForSequenceClassification model).\n",
      "Some weights of XLMRobertaForTokenClassification were not initialized from the model checkpoint at xlm-roberta-base and are newly initialized: ['classifier.weight', 'classifier.bias']\n",
      "You should probably TRAIN this model on a down-stream task to be able to use it for predictions and inference.\n"
     ]
    }
   ],
   "source": [
    "id2label = dict(enumerate(tags.names))\n",
    "label2id = {tag: idx for idx, tag in enumerate(tags.names)}\n",
    "\n",
    "xlmr_config = tfm.AutoConfig.from_pretrained(MODEL_CKPT, num_labels=tags.num_classes, \n",
    "                                         id2label=id2label, label2id=label2id)\n",
    "\n",
    "xlmr = tfm.AutoModelForTokenClassification.from_pretrained(MODEL_CKPT, config = xlmr_config)"
   ]
  },
  {
   "cell_type": "code",
   "execution_count": 12,
   "metadata": {},
   "outputs": [
    {
     "name": "stdout",
     "output_type": "stream",
     "text": [
      "original text \"This can probably be done. N'est-ce pas?\"\n",
      "number of tokens after tokenization: 15\n",
      "outputs size: torch.Size([1, 15, 7])\n"
     ]
    },
    {
     "data": {
      "text/html": [
       "<div>\n",
       "<style scoped>\n",
       "    .dataframe tbody tr th:only-of-type {\n",
       "        vertical-align: middle;\n",
       "    }\n",
       "\n",
       "    .dataframe tbody tr th {\n",
       "        vertical-align: top;\n",
       "    }\n",
       "\n",
       "    .dataframe thead th {\n",
       "        text-align: right;\n",
       "    }\n",
       "</style>\n",
       "<table border=\"1\" class=\"dataframe\">\n",
       "  <thead>\n",
       "    <tr style=\"text-align: right;\">\n",
       "      <th></th>\n",
       "      <th>0</th>\n",
       "      <th>1</th>\n",
       "      <th>2</th>\n",
       "      <th>3</th>\n",
       "      <th>4</th>\n",
       "      <th>5</th>\n",
       "      <th>6</th>\n",
       "      <th>7</th>\n",
       "      <th>8</th>\n",
       "      <th>9</th>\n",
       "      <th>10</th>\n",
       "      <th>11</th>\n",
       "      <th>12</th>\n",
       "      <th>13</th>\n",
       "      <th>14</th>\n",
       "    </tr>\n",
       "  </thead>\n",
       "  <tbody>\n",
       "    <tr>\n",
       "      <th>tokens</th>\n",
       "      <td>&lt;s&gt;</td>\n",
       "      <td>▁This</td>\n",
       "      <td>▁can</td>\n",
       "      <td>▁probably</td>\n",
       "      <td>▁be</td>\n",
       "      <td>▁done</td>\n",
       "      <td>.</td>\n",
       "      <td>▁N</td>\n",
       "      <td>'</td>\n",
       "      <td>est</td>\n",
       "      <td>-</td>\n",
       "      <td>ce</td>\n",
       "      <td>▁pas</td>\n",
       "      <td>?</td>\n",
       "      <td>&lt;/s&gt;</td>\n",
       "    </tr>\n",
       "    <tr>\n",
       "      <th>ids</th>\n",
       "      <td>0</td>\n",
       "      <td>3293</td>\n",
       "      <td>831</td>\n",
       "      <td>31895</td>\n",
       "      <td>186</td>\n",
       "      <td>16940</td>\n",
       "      <td>5</td>\n",
       "      <td>541</td>\n",
       "      <td>25</td>\n",
       "      <td>525</td>\n",
       "      <td>9</td>\n",
       "      <td>329</td>\n",
       "      <td>452</td>\n",
       "      <td>32</td>\n",
       "      <td>2</td>\n",
       "    </tr>\n",
       "    <tr>\n",
       "      <th>pred_labels</th>\n",
       "      <td>B-PER</td>\n",
       "      <td>I-ORG</td>\n",
       "      <td>I-ORG</td>\n",
       "      <td>I-ORG</td>\n",
       "      <td>B-PER</td>\n",
       "      <td>I-ORG</td>\n",
       "      <td>B-PER</td>\n",
       "      <td>I-PER</td>\n",
       "      <td>B-PER</td>\n",
       "      <td>I-ORG</td>\n",
       "      <td>B-PER</td>\n",
       "      <td>B-PER</td>\n",
       "      <td>I-ORG</td>\n",
       "      <td>B-PER</td>\n",
       "      <td>B-PER</td>\n",
       "    </tr>\n",
       "  </tbody>\n",
       "</table>\n",
       "</div>"
      ],
      "text/plain": [
       "                0      1      2          3      4      5      6      7   \\\n",
       "tokens         <s>  ▁This   ▁can  ▁probably    ▁be  ▁done      .     ▁N   \n",
       "ids              0   3293    831      31895    186  16940      5    541   \n",
       "pred_labels  B-PER  I-ORG  I-ORG      I-ORG  B-PER  I-ORG  B-PER  I-PER   \n",
       "\n",
       "                8      9      10     11     12     13     14  \n",
       "tokens           '    est      -     ce   ▁pas      ?   </s>  \n",
       "ids             25    525      9    329    452     32      2  \n",
       "pred_labels  B-PER  I-ORG  B-PER  B-PER  I-ORG  B-PER  B-PER  "
      ]
     },
     "metadata": {},
     "output_type": "display_data"
    }
   ],
   "source": [
    "# verify that the model outputs something with the expected format:\n",
    "print(f\"original text \\\"{text}\\\"\")\n",
    "\n",
    "tokens = xlmr_tokenizer(text).tokens()\n",
    "print(f\"number of tokens after tokenization: {len(xlmr_tokenizer(text).tokens())}\")\n",
    "\n",
    "input_ids = xlmr_tokenizer.encode(text, return_tensors=\"pt\")\n",
    "\n",
    "outputs = xlmr(input_ids)\n",
    "print(f\"outputs size: {outputs.logits.size()}\")\n",
    "\n",
    "pred_ids = outputs.logits.argmax(-1).numpy()\n",
    "example = {\n",
    "    \"tokens\": tokens, \n",
    "    \"ids\": input_ids[0].numpy(),\n",
    "    \"preds\": outputs.logits.argmax(-1).numpy()[0],\n",
    "    }\n",
    "\n",
    "example = pd.DataFrame(example)\n",
    "\n",
    "example[\"pred_labels\"] = example.preds.map(id2label)\n",
    "display(example.drop(\"preds\", axis=1).T)"
   ]
  },
  {
   "cell_type": "code",
   "execution_count": 13,
   "metadata": {},
   "outputs": [
    {
     "data": {
      "text/html": [
       "<div>\n",
       "<style scoped>\n",
       "    .dataframe tbody tr th:only-of-type {\n",
       "        vertical-align: middle;\n",
       "    }\n",
       "\n",
       "    .dataframe tbody tr th {\n",
       "        vertical-align: top;\n",
       "    }\n",
       "\n",
       "    .dataframe thead th {\n",
       "        text-align: right;\n",
       "    }\n",
       "</style>\n",
       "<table border=\"1\" class=\"dataframe\">\n",
       "  <thead>\n",
       "    <tr style=\"text-align: right;\">\n",
       "      <th></th>\n",
       "      <th>0</th>\n",
       "      <th>1</th>\n",
       "      <th>2</th>\n",
       "      <th>3</th>\n",
       "      <th>4</th>\n",
       "      <th>5</th>\n",
       "      <th>6</th>\n",
       "      <th>7</th>\n",
       "      <th>8</th>\n",
       "      <th>9</th>\n",
       "      <th>10</th>\n",
       "      <th>11</th>\n",
       "      <th>12</th>\n",
       "      <th>13</th>\n",
       "    </tr>\n",
       "  </thead>\n",
       "  <tbody>\n",
       "    <tr>\n",
       "      <th>tokens</th>\n",
       "      <td>&lt;s&gt;</td>\n",
       "      <td>▁let</td>\n",
       "      <td>'</td>\n",
       "      <td>s</td>\n",
       "      <td>▁try</td>\n",
       "      <td>▁with</td>\n",
       "      <td>▁another</td>\n",
       "      <td>▁text</td>\n",
       "      <td>▁now</td>\n",
       "      <td>.</td>\n",
       "      <td>▁en</td>\n",
       "      <td>▁franca</td>\n",
       "      <td>is</td>\n",
       "      <td>&lt;/s&gt;</td>\n",
       "    </tr>\n",
       "    <tr>\n",
       "      <th>tags</th>\n",
       "      <td>B-PER</td>\n",
       "      <td>I-ORG</td>\n",
       "      <td>B-PER</td>\n",
       "      <td>B-PER</td>\n",
       "      <td>I-ORG</td>\n",
       "      <td>B-PER</td>\n",
       "      <td>I-ORG</td>\n",
       "      <td>I-ORG</td>\n",
       "      <td>B-PER</td>\n",
       "      <td>B-PER</td>\n",
       "      <td>B-PER</td>\n",
       "      <td>B-PER</td>\n",
       "      <td>B-PER</td>\n",
       "      <td>B-PER</td>\n",
       "    </tr>\n",
       "  </tbody>\n",
       "</table>\n",
       "</div>"
      ],
      "text/plain": [
       "           0      1      2      3      4      5         6      7      8   \\\n",
       "tokens    <s>   ▁let      '      s   ▁try  ▁with  ▁another  ▁text   ▁now   \n",
       "tags    B-PER  I-ORG  B-PER  B-PER  I-ORG  B-PER     I-ORG  I-ORG  B-PER   \n",
       "\n",
       "           9      10       11     12     13  \n",
       "tokens      .    ▁en  ▁franca     is   </s>  \n",
       "tags    B-PER  B-PER    B-PER  B-PER  B-PER  "
      ]
     },
     "execution_count": 13,
     "metadata": {},
     "output_type": "execute_result"
    }
   ],
   "source": [
    "# refactored: turning above into a function\n",
    "ner.inspect.tag_text(\n",
    "    text=\"let's try with another text now. en francais\", \n",
    "    model=xlmr,\n",
    "    tokenizer=xlmr_tokenizer,\n",
    "    tags=tags,\n",
    "    )\n"
   ]
  },
  {
   "cell_type": "markdown",
   "metadata": {},
   "source": [
    "## Preparing the Dataset\n",
    "* tokenize doc\n",
    "* add labels for unlabeled tokens (e.g. second part of split words, or initial character)."
   ]
  },
  {
   "cell_type": "code",
   "execution_count": 14,
   "metadata": {},
   "outputs": [
    {
     "name": "stderr",
     "output_type": "stream",
     "text": [
      "Loading cached processed dataset at /Users/spayot/.cache/huggingface/datasets/xtreme/PAN-X.de/1.0.0/29f5d57a48779f37ccb75cb8708d1095448aad0713b425bdc1ff9a4a128a56e4/cache-c7be8333fea9e107.arrow\n",
      "100%|██████████| 7/7 [00:00<00:00, 26.52ba/s]\n",
      "Loading cached processed dataset at /Users/spayot/.cache/huggingface/datasets/xtreme/PAN-X.de/1.0.0/29f5d57a48779f37ccb75cb8708d1095448aad0713b425bdc1ff9a4a128a56e4/cache-a3db93457688929d.arrow\n"
     ]
    }
   ],
   "source": [
    "# refactored: moved tokenize_and_align_labels to ner.preproc module\n",
    "def encode_panx_dataset(corpus: datasets.DatasetDict) -> datasets.DatasetDict:\n",
    "    return corpus.map(ner.preproc.tokenize_and_align_labels,\n",
    "        fn_kwargs={\"tokenizer\": xlmr_tokenizer}, \n",
    "        batched=True, \n",
    "        remove_columns=[\"langs\", \"ner_tags\", \"tokens\"]\n",
    "        )\n",
    "\n",
    "panx_de_encoded = encode_panx_dataset(panx_ch[\"de\"])"
   ]
  },
  {
   "cell_type": "code",
   "execution_count": 15,
   "metadata": {},
   "outputs": [
    {
     "data": {
      "text/html": [
       "<div>\n",
       "<style scoped>\n",
       "    .dataframe tbody tr th:only-of-type {\n",
       "        vertical-align: middle;\n",
       "    }\n",
       "\n",
       "    .dataframe tbody tr th {\n",
       "        vertical-align: top;\n",
       "    }\n",
       "\n",
       "    .dataframe thead th {\n",
       "        text-align: right;\n",
       "    }\n",
       "</style>\n",
       "<table border=\"1\" class=\"dataframe\">\n",
       "  <thead>\n",
       "    <tr style=\"text-align: right;\">\n",
       "      <th></th>\n",
       "      <th>0</th>\n",
       "      <th>1</th>\n",
       "      <th>2</th>\n",
       "      <th>3</th>\n",
       "      <th>4</th>\n",
       "      <th>5</th>\n",
       "      <th>6</th>\n",
       "      <th>7</th>\n",
       "      <th>8</th>\n",
       "      <th>9</th>\n",
       "      <th>...</th>\n",
       "      <th>15</th>\n",
       "      <th>16</th>\n",
       "      <th>17</th>\n",
       "      <th>18</th>\n",
       "      <th>19</th>\n",
       "      <th>20</th>\n",
       "      <th>21</th>\n",
       "      <th>22</th>\n",
       "      <th>23</th>\n",
       "      <th>24</th>\n",
       "    </tr>\n",
       "  </thead>\n",
       "  <tbody>\n",
       "    <tr>\n",
       "      <th>input_ids</th>\n",
       "      <td>0</td>\n",
       "      <td>70101</td>\n",
       "      <td>176581</td>\n",
       "      <td>19</td>\n",
       "      <td>142</td>\n",
       "      <td>122</td>\n",
       "      <td>2290</td>\n",
       "      <td>708</td>\n",
       "      <td>1505</td>\n",
       "      <td>18363</td>\n",
       "      <td>...</td>\n",
       "      <td>13787</td>\n",
       "      <td>14</td>\n",
       "      <td>15263</td>\n",
       "      <td>18917</td>\n",
       "      <td>663</td>\n",
       "      <td>6947</td>\n",
       "      <td>19</td>\n",
       "      <td>6</td>\n",
       "      <td>5</td>\n",
       "      <td>2</td>\n",
       "    </tr>\n",
       "    <tr>\n",
       "      <th>attention_mask</th>\n",
       "      <td>1</td>\n",
       "      <td>1</td>\n",
       "      <td>1</td>\n",
       "      <td>1</td>\n",
       "      <td>1</td>\n",
       "      <td>1</td>\n",
       "      <td>1</td>\n",
       "      <td>1</td>\n",
       "      <td>1</td>\n",
       "      <td>1</td>\n",
       "      <td>...</td>\n",
       "      <td>1</td>\n",
       "      <td>1</td>\n",
       "      <td>1</td>\n",
       "      <td>1</td>\n",
       "      <td>1</td>\n",
       "      <td>1</td>\n",
       "      <td>1</td>\n",
       "      <td>1</td>\n",
       "      <td>1</td>\n",
       "      <td>1</td>\n",
       "    </tr>\n",
       "    <tr>\n",
       "      <th>labels</th>\n",
       "      <td>-100</td>\n",
       "      <td>0</td>\n",
       "      <td>0</td>\n",
       "      <td>-100</td>\n",
       "      <td>0</td>\n",
       "      <td>0</td>\n",
       "      <td>5</td>\n",
       "      <td>-100</td>\n",
       "      <td>-100</td>\n",
       "      <td>6</td>\n",
       "      <td>...</td>\n",
       "      <td>5</td>\n",
       "      <td>-100</td>\n",
       "      <td>-100</td>\n",
       "      <td>-100</td>\n",
       "      <td>6</td>\n",
       "      <td>-100</td>\n",
       "      <td>-100</td>\n",
       "      <td>0</td>\n",
       "      <td>-100</td>\n",
       "      <td>-100</td>\n",
       "    </tr>\n",
       "    <tr>\n",
       "      <th>tokens</th>\n",
       "      <td>&lt;s&gt;</td>\n",
       "      <td>▁2.000</td>\n",
       "      <td>▁Einwohner</td>\n",
       "      <td>n</td>\n",
       "      <td>▁an</td>\n",
       "      <td>▁der</td>\n",
       "      <td>▁Dan</td>\n",
       "      <td>zi</td>\n",
       "      <td>ger</td>\n",
       "      <td>▁Buch</td>\n",
       "      <td>...</td>\n",
       "      <td>▁Wo</td>\n",
       "      <td>i</td>\n",
       "      <td>wod</td>\n",
       "      <td>schaft</td>\n",
       "      <td>▁Po</td>\n",
       "      <td>mmer</td>\n",
       "      <td>n</td>\n",
       "      <td>▁</td>\n",
       "      <td>.</td>\n",
       "      <td>&lt;/s&gt;</td>\n",
       "    </tr>\n",
       "  </tbody>\n",
       "</table>\n",
       "<p>4 rows × 25 columns</p>\n",
       "</div>"
      ],
      "text/plain": [
       "                  0       1           2     3    4     5     6     7     8   \\\n",
       "input_ids          0   70101      176581    19  142   122  2290   708  1505   \n",
       "attention_mask     1       1           1     1    1     1     1     1     1   \n",
       "labels          -100       0           0  -100    0     0     5  -100  -100   \n",
       "tokens           <s>  ▁2.000  ▁Einwohner     n  ▁an  ▁der  ▁Dan    zi   ger   \n",
       "\n",
       "                   9   ...     15    16     17      18   19    20    21 22  \\\n",
       "input_ids       18363  ...  13787    14  15263   18917  663  6947    19  6   \n",
       "attention_mask      1  ...      1     1      1       1    1     1     1  1   \n",
       "labels              6  ...      5  -100   -100    -100    6  -100  -100  0   \n",
       "tokens          ▁Buch  ...    ▁Wo     i    wod  schaft  ▁Po  mmer     n  ▁   \n",
       "\n",
       "                  23    24  \n",
       "input_ids          5     2  \n",
       "attention_mask     1     1  \n",
       "labels          -100  -100  \n",
       "tokens             .  </s>  \n",
       "\n",
       "[4 rows x 25 columns]"
      ]
     },
     "execution_count": 15,
     "metadata": {},
     "output_type": "execute_result"
    }
   ],
   "source": [
    "example = panx_de_encoded[\"train\"][0]\n",
    "df = pd.DataFrame(example)\n",
    "df[\"tokens\"] = xlmr_tokenizer.convert_ids_to_tokens(example[\"input_ids\"])\n",
    "df.T"
   ]
  },
  {
   "cell_type": "markdown",
   "metadata": {},
   "source": [
    "## Performance Measures\n",
    "using seqeval library"
   ]
  },
  {
   "cell_type": "code",
   "execution_count": 16,
   "metadata": {},
   "outputs": [
    {
     "name": "stdout",
     "output_type": "stream",
     "text": [
      "              precision    recall  f1-score   support\n",
      "\n",
      "           a       0.50      1.00      0.67         1\n",
      "           b       0.00      0.00      0.00         1\n",
      "           c       1.00      1.00      1.00         2\n",
      "\n",
      "   micro avg       0.60      0.75      0.67         4\n",
      "   macro avg       0.50      0.67      0.56         4\n",
      "weighted avg       0.62      0.75      0.67         4\n",
      "\n"
     ]
    }
   ],
   "source": [
    "# quick look at how seqeval metrics work.\n",
    "y_true = [[\"B-a\",\"B-b\",\"I-b\",\"I-b\",\"B-c\",\"B-c\"]]\n",
    "y_pred = [[\"B-a\",\"B-b\",\"I-b\",\"B-a\",\"B-c\",\"B-c\"]]\n",
    "\n",
    "print(metrics.classification_report(y_true, y_pred))"
   ]
  },
  {
   "cell_type": "code",
   "execution_count": 22,
   "metadata": {},
   "outputs": [
    {
     "name": "stdout",
     "output_type": "stream",
     "text": [
      "[['I-ORG', 'I-PER', 'B-LOC', 'I-ORG', 'B-LOC', 'I-PER'], ['B-LOC', 'B-ORG', 'I-ORG', 'I-ORG', 'B-PER', 'B-LOC', 'O']]\n",
      "[['I-ORG', 'I-PER', 'B-LOC', 'I-PER', 'B-LOC', 'I-PER'], ['B-LOC', 'B-ORG', 'I-ORG', 'B-ORG', 'B-PER', 'B-LOC', 'O']]\n"
     ]
    },
    {
     "data": {
      "text/plain": [
       "{'f1': 0.761904761904762}"
      ]
     },
     "execution_count": 22,
     "metadata": {},
     "output_type": "execute_result"
    }
   ],
   "source": [
    "# testing SeqevalConverter: \n",
    "seqeval_converter = ner.metrics.SeqevalConverter(id2label)\n",
    "\n",
    "test_preds = torch.rand((2,9,7)).numpy()\n",
    "test_true = test_preds.argmax(-1)\n",
    "test_true[0,0] = -100\n",
    "test_true[1,0] = -100\n",
    "test_true[0,-1] = -100\n",
    "test_true[1,-1] = -100\n",
    "\n",
    "test_true[0,4] = 4\n",
    "test_true[1,4] = 4\n",
    "\n",
    "test_true[0,5] = -100\n",
    "\n",
    "y_true, y_pred = seqeval_converter.align_predictions(predictions=test_preds, label_ids=test_true)\n",
    "print(y_true, y_pred, sep=\"\\n\")\n",
    "\n",
    "eval_pred = tfm.EvalPrediction(test_preds, test_true)\n",
    "seqeval_converter.compute_metrics(eval_pred)"
   ]
  },
  {
   "cell_type": "markdown",
   "metadata": {},
   "source": [
    "# FineTuning XLM-R"
   ]
  },
  {
   "cell_type": "code",
   "execution_count": 35,
   "metadata": {},
   "outputs": [],
   "source": [
    "# define training arguments\n",
    "BATCH_SIZE = 24\n",
    "OUTPUT_DIR = f\"../models/{MODEL_CKPT}-finetuned-panx-de\"\n",
    "RELOAD_SAVED_MODEL = True\n",
    "\n",
    "\n",
    "training_config = {\n",
    "    \"output_dir\": OUTPUT_DIR,\n",
    "    \"num_train_epochs\": 3,\n",
    "    \"learning_rate\": 2e-5,\n",
    "    \"per_device_train_batch_size\": BATCH_SIZE,\n",
    "    \"per_device_eval_batch_size\": BATCH_SIZE,\n",
    "    \"weight_decay\": 0.01,\n",
    "    \"save_steps\": 1e6,\n",
    "    \"evaluation_strategy\": \"epoch\",\n",
    "    \"disable_tqdm\": False,\n",
    "    \"logging_steps\": len(panx_de_encoded[\"train\"]) // BATCH_SIZE,\n",
    "    \"push_to_hub\": False,\n",
    "    \"log_level\": \"error\",\n",
    "}\n",
    "\n",
    "training_args = tfm.TrainingArguments(**training_config)\n",
    "\n",
    "# refactored\n",
    "seqeval_converter = ner.metrics.SeqevalConverter(id2label)\n",
    "\n",
    "\n",
    "# define data collation\n",
    "data_collator = tfm.DataCollatorForTokenClassification(xlmr_tokenizer)\n",
    "\n",
    "def model_init():\n",
    "    return (tfm.AutoModelForTokenClassification.from_pretrained(MODEL_CKPT, config=xlmr_config))\n",
    "\n",
    "def model_reload():\n",
    "        return tfm.AutoModelForTokenClassification.from_pretrained(OUTPUT_DIR, config=xlmr_config)\n",
    "\n",
    "\n",
    "\n",
    "if not RELOAD_SAVED_MODEL:\n",
    "    trainer = tfm.Trainer(\n",
    "        model_init=model_init, \n",
    "        tokenizer=xlmr_tokenizer,\n",
    "        args=training_args,\n",
    "        data_collator=data_collator, \n",
    "        compute_metrics=seqeval_converter.compute_metrics,\n",
    "        train_dataset=panx_de_encoded[\"train\"],\n",
    "        eval_dataset=panx_de_encoded[\"validation\"],\n",
    "    )\n",
    "    trainer.train() # takes approx 50min on MacBook Pro\n",
    "else:\n",
    "    # if model already trained, you can skip previous trainer.train() cell\n",
    "    trainer = tfm.Trainer(\n",
    "        model_init=model_reload, \n",
    "        tokenizer=xlmr_tokenizer,\n",
    "        args=training_args,\n",
    "        data_collator=data_collator, \n",
    "        compute_metrics=seqeval_converter.compute_metrics,\n",
    "        train_dataset=panx_de_encoded[\"train\"],\n",
    "        eval_dataset=panx_de_encoded[\"validation\"],\n",
    "    )\n"
   ]
  },
  {
   "cell_type": "code",
   "execution_count": 103,
   "metadata": {},
   "outputs": [
    {
     "name": "stderr",
     "output_type": "stream",
     "text": [
      "100%|██████████| 263/263 [01:16<00:00,  3.45it/s]\n"
     ]
    },
    {
     "data": {
      "text/plain": [
       "{'eval_loss': 0.14076970517635345,\n",
       " 'eval_f1': 0.8597321174123681,\n",
       " 'eval_runtime': 76.6659,\n",
       " 'eval_samples_per_second': 82.044,\n",
       " 'eval_steps_per_second': 3.43,\n",
       " 'epoch': 3.0}"
      ]
     },
     "execution_count": 103,
     "metadata": {},
     "output_type": "execute_result"
    }
   ],
   "source": [
    "trainer.evaluate(panx_de_encoded[\"validation\"])"
   ]
  },
  {
   "cell_type": "code",
   "execution_count": 104,
   "metadata": {},
   "outputs": [],
   "source": [
    "trainer.save_model()"
   ]
  },
  {
   "attachments": {},
   "cell_type": "markdown",
   "metadata": {},
   "source": [
    "#### Test trained model on a simple sentence"
   ]
  },
  {
   "cell_type": "code",
   "execution_count": 105,
   "metadata": {},
   "outputs": [
    {
     "data": {
      "text/html": [
       "<div>\n",
       "<style scoped>\n",
       "    .dataframe tbody tr th:only-of-type {\n",
       "        vertical-align: middle;\n",
       "    }\n",
       "\n",
       "    .dataframe tbody tr th {\n",
       "        vertical-align: top;\n",
       "    }\n",
       "\n",
       "    .dataframe thead th {\n",
       "        text-align: right;\n",
       "    }\n",
       "</style>\n",
       "<table border=\"1\" class=\"dataframe\">\n",
       "  <thead>\n",
       "    <tr style=\"text-align: right;\">\n",
       "      <th></th>\n",
       "      <th>0</th>\n",
       "      <th>1</th>\n",
       "      <th>2</th>\n",
       "      <th>3</th>\n",
       "      <th>4</th>\n",
       "      <th>5</th>\n",
       "      <th>6</th>\n",
       "      <th>7</th>\n",
       "      <th>8</th>\n",
       "      <th>9</th>\n",
       "      <th>10</th>\n",
       "      <th>11</th>\n",
       "      <th>12</th>\n",
       "      <th>13</th>\n",
       "      <th>14</th>\n",
       "    </tr>\n",
       "  </thead>\n",
       "  <tbody>\n",
       "    <tr>\n",
       "      <th>tokens</th>\n",
       "      <td>&lt;s&gt;</td>\n",
       "      <td>▁Sylv</td>\n",
       "      <td>ain</td>\n",
       "      <td>▁Pay</td>\n",
       "      <td>ot</td>\n",
       "      <td>▁ist</td>\n",
       "      <td>▁ein</td>\n",
       "      <td>▁Informati</td>\n",
       "      <td>ker</td>\n",
       "      <td>▁bei</td>\n",
       "      <td>▁Nike</td>\n",
       "      <td>▁in</td>\n",
       "      <td>▁Kaliforni</td>\n",
       "      <td>en</td>\n",
       "      <td>&lt;/s&gt;</td>\n",
       "    </tr>\n",
       "    <tr>\n",
       "      <th>tags</th>\n",
       "      <td>O</td>\n",
       "      <td>B-PER</td>\n",
       "      <td>I-PER</td>\n",
       "      <td>I-PER</td>\n",
       "      <td>I-PER</td>\n",
       "      <td>O</td>\n",
       "      <td>O</td>\n",
       "      <td>O</td>\n",
       "      <td>O</td>\n",
       "      <td>O</td>\n",
       "      <td>B-ORG</td>\n",
       "      <td>O</td>\n",
       "      <td>B-LOC</td>\n",
       "      <td>I-LOC</td>\n",
       "      <td>O</td>\n",
       "    </tr>\n",
       "  </tbody>\n",
       "</table>\n",
       "</div>"
      ],
      "text/plain": [
       "         0      1      2      3      4     5     6           7    8     9   \\\n",
       "tokens  <s>  ▁Sylv    ain   ▁Pay     ot  ▁ist  ▁ein  ▁Informati  ker  ▁bei   \n",
       "tags      O  B-PER  I-PER  I-PER  I-PER     O     O           O    O     O   \n",
       "\n",
       "           10   11          12     13    14  \n",
       "tokens  ▁Nike  ▁in  ▁Kaliforni     en  </s>  \n",
       "tags    B-ORG    O       B-LOC  I-LOC     O  "
      ]
     },
     "execution_count": 105,
     "metadata": {},
     "output_type": "execute_result"
    }
   ],
   "source": [
    "text_de = \"Sylvain Payot ist ein Informatiker bei Nike in Kalifornien\"\n",
    "ner.inspect.tag_text(text_de, trainer.model, xlmr_tokenizer, tags)"
   ]
  },
  {
   "cell_type": "code",
   "execution_count": 106,
   "metadata": {},
   "outputs": [
    {
     "data": {
      "text/html": [
       "<div>\n",
       "<style scoped>\n",
       "    .dataframe tbody tr th:only-of-type {\n",
       "        vertical-align: middle;\n",
       "    }\n",
       "\n",
       "    .dataframe tbody tr th {\n",
       "        vertical-align: top;\n",
       "    }\n",
       "\n",
       "    .dataframe thead th {\n",
       "        text-align: right;\n",
       "    }\n",
       "</style>\n",
       "<table border=\"1\" class=\"dataframe\">\n",
       "  <thead>\n",
       "    <tr style=\"text-align: right;\">\n",
       "      <th></th>\n",
       "      <th>0</th>\n",
       "      <th>1</th>\n",
       "      <th>2</th>\n",
       "      <th>3</th>\n",
       "      <th>4</th>\n",
       "      <th>5</th>\n",
       "      <th>6</th>\n",
       "      <th>7</th>\n",
       "      <th>8</th>\n",
       "      <th>9</th>\n",
       "      <th>10</th>\n",
       "      <th>11</th>\n",
       "      <th>12</th>\n",
       "      <th>13</th>\n",
       "      <th>14</th>\n",
       "      <th>15</th>\n",
       "      <th>16</th>\n",
       "      <th>17</th>\n",
       "    </tr>\n",
       "  </thead>\n",
       "  <tbody>\n",
       "    <tr>\n",
       "      <th>tokens</th>\n",
       "      <td>&lt;s&gt;</td>\n",
       "      <td>▁Sylv</td>\n",
       "      <td>ain</td>\n",
       "      <td>▁Pay</td>\n",
       "      <td>ot</td>\n",
       "      <td>▁est</td>\n",
       "      <td>▁un</td>\n",
       "      <td>▁informatic</td>\n",
       "      <td>ien</td>\n",
       "      <td>▁travail</td>\n",
       "      <td>lant</td>\n",
       "      <td>▁à</td>\n",
       "      <td>▁Nike</td>\n",
       "      <td>▁en</td>\n",
       "      <td>▁</td>\n",
       "      <td>Bretagne</td>\n",
       "      <td>.</td>\n",
       "      <td>&lt;/s&gt;</td>\n",
       "    </tr>\n",
       "    <tr>\n",
       "      <th>tags</th>\n",
       "      <td>O</td>\n",
       "      <td>B-PER</td>\n",
       "      <td>B-PER</td>\n",
       "      <td>I-PER</td>\n",
       "      <td>I-PER</td>\n",
       "      <td>O</td>\n",
       "      <td>O</td>\n",
       "      <td>O</td>\n",
       "      <td>O</td>\n",
       "      <td>O</td>\n",
       "      <td>O</td>\n",
       "      <td>O</td>\n",
       "      <td>B-ORG</td>\n",
       "      <td>O</td>\n",
       "      <td>B-LOC</td>\n",
       "      <td>B-LOC</td>\n",
       "      <td>O</td>\n",
       "      <td>O</td>\n",
       "    </tr>\n",
       "  </tbody>\n",
       "</table>\n",
       "</div>"
      ],
      "text/plain": [
       "         0      1      2      3      4     5    6            7    8   \\\n",
       "tokens  <s>  ▁Sylv    ain   ▁Pay     ot  ▁est  ▁un  ▁informatic  ien   \n",
       "tags      O  B-PER  B-PER  I-PER  I-PER     O    O            O    O   \n",
       "\n",
       "              9     10  11     12   13     14        15 16    17  \n",
       "tokens  ▁travail  lant  ▁à  ▁Nike  ▁en      ▁  Bretagne  .  </s>  \n",
       "tags           O     O   O  B-ORG    O  B-LOC     B-LOC  O     O  "
      ]
     },
     "execution_count": 106,
     "metadata": {},
     "output_type": "execute_result"
    }
   ],
   "source": [
    "# also works in French!\n",
    "text_fr = \"Sylvain Payot est un informaticien travaillant à Nike en Bretagne.\"\n",
    "ner.inspect.tag_text(text_fr, trainer.model, xlmr_tokenizer, tags)"
   ]
  },
  {
   "cell_type": "markdown",
   "metadata": {},
   "source": [
    "### Error Analysis"
   ]
  },
  {
   "cell_type": "code",
   "execution_count": 153,
   "metadata": {},
   "outputs": [],
   "source": [
    "# refactored\n",
    "builder = ner.erroranalysis.TokensLossDataFrameBuilder(\n",
    "    trainer=trainer,\n",
    "    data_collator=data_collator,\n",
    ")"
   ]
  },
  {
   "cell_type": "code",
   "execution_count": 156,
   "metadata": {},
   "outputs": [
    {
     "data": {
      "text/html": [
       "<div>\n",
       "<style scoped>\n",
       "    .dataframe tbody tr th:only-of-type {\n",
       "        vertical-align: middle;\n",
       "    }\n",
       "\n",
       "    .dataframe tbody tr th {\n",
       "        vertical-align: top;\n",
       "    }\n",
       "\n",
       "    .dataframe thead th {\n",
       "        text-align: right;\n",
       "    }\n",
       "</style>\n",
       "<table border=\"1\" class=\"dataframe\">\n",
       "  <thead>\n",
       "    <tr style=\"text-align: right;\">\n",
       "      <th></th>\n",
       "      <th>input_ids</th>\n",
       "      <th>attention_mask</th>\n",
       "      <th>labels</th>\n",
       "      <th>loss</th>\n",
       "      <th>predicted_labels</th>\n",
       "      <th>input_tokens</th>\n",
       "    </tr>\n",
       "  </thead>\n",
       "  <tbody>\n",
       "    <tr>\n",
       "      <th>0</th>\n",
       "      <td>10699</td>\n",
       "      <td>1</td>\n",
       "      <td>B-ORG</td>\n",
       "      <td>0.05</td>\n",
       "      <td>B-ORG</td>\n",
       "      <td>▁Ham</td>\n",
       "    </tr>\n",
       "    <tr>\n",
       "      <th>0</th>\n",
       "      <td>15</td>\n",
       "      <td>1</td>\n",
       "      <td>I-ORG</td>\n",
       "      <td>0.06</td>\n",
       "      <td>I-ORG</td>\n",
       "      <td>▁(</td>\n",
       "    </tr>\n",
       "    <tr>\n",
       "      <th>0</th>\n",
       "      <td>16104</td>\n",
       "      <td>1</td>\n",
       "      <td>I-ORG</td>\n",
       "      <td>0.05</td>\n",
       "      <td>I-ORG</td>\n",
       "      <td>▁Unternehmen</td>\n",
       "    </tr>\n",
       "    <tr>\n",
       "      <th>0</th>\n",
       "      <td>1388</td>\n",
       "      <td>1</td>\n",
       "      <td>I-ORG</td>\n",
       "      <td>0.06</td>\n",
       "      <td>I-ORG</td>\n",
       "      <td>▁)</td>\n",
       "    </tr>\n",
       "    <tr>\n",
       "      <th>1</th>\n",
       "      <td>56530</td>\n",
       "      <td>1</td>\n",
       "      <td>O</td>\n",
       "      <td>0.00</td>\n",
       "      <td>O</td>\n",
       "      <td>▁WE</td>\n",
       "    </tr>\n",
       "  </tbody>\n",
       "</table>\n",
       "</div>"
      ],
      "text/plain": [
       "  input_ids attention_mask labels  loss predicted_labels  input_tokens\n",
       "0     10699              1  B-ORG  0.05            B-ORG          ▁Ham\n",
       "0        15              1  I-ORG  0.06            I-ORG            ▁(\n",
       "0     16104              1  I-ORG  0.05            I-ORG  ▁Unternehmen\n",
       "0      1388              1  I-ORG  0.06            I-ORG            ▁)\n",
       "1     56530              1      O  0.00                O           ▁WE"
      ]
     },
     "execution_count": 156,
     "metadata": {},
     "output_type": "execute_result"
    }
   ],
   "source": [
    "# below is equivalent to analyzer.build_tokens_dataframe(<dataset>)\n",
    "ds = builder._calculate_token_level_loss_on_dataset(panx_de_encoded[\"validation\"])\n",
    "df = builder._convert_dataset_to_pandas(ds)\n",
    "df_tokens = builder._convert_to_token_level_dataframe(df)\n",
    "df_tokens.head()"
   ]
  },
  {
   "cell_type": "code",
   "execution_count": 157,
   "metadata": {},
   "outputs": [
    {
     "data": {
      "text/html": [
       "<div>\n",
       "<style scoped>\n",
       "    .dataframe tbody tr th:only-of-type {\n",
       "        vertical-align: middle;\n",
       "    }\n",
       "\n",
       "    .dataframe tbody tr th {\n",
       "        vertical-align: top;\n",
       "    }\n",
       "\n",
       "    .dataframe thead th {\n",
       "        text-align: right;\n",
       "    }\n",
       "</style>\n",
       "<table border=\"1\" class=\"dataframe\">\n",
       "  <thead>\n",
       "    <tr style=\"text-align: right;\">\n",
       "      <th></th>\n",
       "      <th>0</th>\n",
       "      <th>1</th>\n",
       "      <th>2</th>\n",
       "      <th>3</th>\n",
       "      <th>4</th>\n",
       "      <th>5</th>\n",
       "      <th>6</th>\n",
       "      <th>7</th>\n",
       "      <th>8</th>\n",
       "      <th>9</th>\n",
       "    </tr>\n",
       "  </thead>\n",
       "  <tbody>\n",
       "    <tr>\n",
       "      <th>input_tokens</th>\n",
       "      <td>▁</td>\n",
       "      <td>▁von</td>\n",
       "      <td>▁in</td>\n",
       "      <td>▁der</td>\n",
       "      <td>▁/</td>\n",
       "      <td>▁und</td>\n",
       "      <td>▁(</td>\n",
       "      <td>▁)</td>\n",
       "      <td>▁''</td>\n",
       "      <td>▁A</td>\n",
       "    </tr>\n",
       "    <tr>\n",
       "      <th>count</th>\n",
       "      <td>6066</td>\n",
       "      <td>808</td>\n",
       "      <td>989</td>\n",
       "      <td>1388</td>\n",
       "      <td>163</td>\n",
       "      <td>1171</td>\n",
       "      <td>246</td>\n",
       "      <td>246</td>\n",
       "      <td>2898</td>\n",
       "      <td>125</td>\n",
       "    </tr>\n",
       "    <tr>\n",
       "      <th>mean</th>\n",
       "      <td>0.04</td>\n",
       "      <td>0.17</td>\n",
       "      <td>0.13</td>\n",
       "      <td>0.08</td>\n",
       "      <td>0.56</td>\n",
       "      <td>0.07</td>\n",
       "      <td>0.32</td>\n",
       "      <td>0.31</td>\n",
       "      <td>0.02</td>\n",
       "      <td>0.42</td>\n",
       "    </tr>\n",
       "    <tr>\n",
       "      <th>sum</th>\n",
       "      <td>213.37</td>\n",
       "      <td>139.38</td>\n",
       "      <td>128.83</td>\n",
       "      <td>111.32</td>\n",
       "      <td>91.12</td>\n",
       "      <td>82.69</td>\n",
       "      <td>79.6</td>\n",
       "      <td>75.17</td>\n",
       "      <td>70.3</td>\n",
       "      <td>52.94</td>\n",
       "    </tr>\n",
       "  </tbody>\n",
       "</table>\n",
       "</div>"
      ],
      "text/plain": [
       "                   0       1       2       3      4      5     6      7     8  \\\n",
       "input_tokens       ▁    ▁von     ▁in    ▁der     ▁/   ▁und    ▁(     ▁)   ▁''   \n",
       "count           6066     808     989    1388    163   1171   246    246  2898   \n",
       "mean            0.04    0.17    0.13    0.08   0.56   0.07  0.32   0.31  0.02   \n",
       "sum           213.37  139.38  128.83  111.32  91.12  82.69  79.6  75.17  70.3   \n",
       "\n",
       "                  9  \n",
       "input_tokens     ▁A  \n",
       "count           125  \n",
       "mean           0.42  \n",
       "sum           52.94  "
      ]
     },
     "metadata": {},
     "output_type": "display_data"
    },
    {
     "data": {
      "text/html": [
       "<div>\n",
       "<style scoped>\n",
       "    .dataframe tbody tr th:only-of-type {\n",
       "        vertical-align: middle;\n",
       "    }\n",
       "\n",
       "    .dataframe tbody tr th {\n",
       "        vertical-align: top;\n",
       "    }\n",
       "\n",
       "    .dataframe thead th {\n",
       "        text-align: right;\n",
       "    }\n",
       "</style>\n",
       "<table border=\"1\" class=\"dataframe\">\n",
       "  <thead>\n",
       "    <tr style=\"text-align: right;\">\n",
       "      <th></th>\n",
       "      <th>0</th>\n",
       "      <th>1</th>\n",
       "      <th>2</th>\n",
       "      <th>3</th>\n",
       "      <th>4</th>\n",
       "      <th>5</th>\n",
       "      <th>6</th>\n",
       "      <th>7</th>\n",
       "      <th>8</th>\n",
       "      <th>9</th>\n",
       "    </tr>\n",
       "  </thead>\n",
       "  <tbody>\n",
       "    <tr>\n",
       "      <th>input_tokens</th>\n",
       "      <td>▁−</td>\n",
       "      <td>▁Geburt</td>\n",
       "      <td>▁Geburtstag</td>\n",
       "      <td>▁Gebäude</td>\n",
       "      <td>▁Gedanken</td>\n",
       "      <td>▁Noch</td>\n",
       "      <td>▁Gefühl</td>\n",
       "      <td>▁Gegensatz</td>\n",
       "      <td>▁Gegner</td>\n",
       "      <td>▁Gebrauch</td>\n",
       "    </tr>\n",
       "    <tr>\n",
       "      <th>count</th>\n",
       "      <td>3</td>\n",
       "      <td>6</td>\n",
       "      <td>6</td>\n",
       "      <td>5</td>\n",
       "      <td>2</td>\n",
       "      <td>3</td>\n",
       "      <td>1</td>\n",
       "      <td>2</td>\n",
       "      <td>7</td>\n",
       "      <td>1</td>\n",
       "    </tr>\n",
       "    <tr>\n",
       "      <th>mean</th>\n",
       "      <td>0.0</td>\n",
       "      <td>0.0</td>\n",
       "      <td>0.0</td>\n",
       "      <td>0.0</td>\n",
       "      <td>0.0</td>\n",
       "      <td>0.0</td>\n",
       "      <td>0.0</td>\n",
       "      <td>0.0</td>\n",
       "      <td>0.0</td>\n",
       "      <td>0.0</td>\n",
       "    </tr>\n",
       "    <tr>\n",
       "      <th>sum</th>\n",
       "      <td>0.0</td>\n",
       "      <td>0.0</td>\n",
       "      <td>0.0</td>\n",
       "      <td>0.0</td>\n",
       "      <td>0.0</td>\n",
       "      <td>0.0</td>\n",
       "      <td>0.0</td>\n",
       "      <td>0.0</td>\n",
       "      <td>0.0</td>\n",
       "      <td>0.0</td>\n",
       "    </tr>\n",
       "  </tbody>\n",
       "</table>\n",
       "</div>"
      ],
      "text/plain": [
       "                0        1            2         3          4      5        6  \\\n",
       "input_tokens   ▁−  ▁Geburt  ▁Geburtstag  ▁Gebäude  ▁Gedanken  ▁Noch  ▁Gefühl   \n",
       "count           3        6            6         5          2      3        1   \n",
       "mean          0.0      0.0          0.0       0.0        0.0    0.0      0.0   \n",
       "sum           0.0      0.0          0.0       0.0        0.0    0.0      0.0   \n",
       "\n",
       "                       7        8          9  \n",
       "input_tokens  ▁Gegensatz  ▁Gegner  ▁Gebrauch  \n",
       "count                  2        7          1  \n",
       "mean                 0.0      0.0        0.0  \n",
       "sum                  0.0      0.0        0.0  "
      ]
     },
     "metadata": {},
     "output_type": "display_data"
    },
    {
     "data": {
      "text/html": [
       "<div>\n",
       "<style scoped>\n",
       "    .dataframe tbody tr th:only-of-type {\n",
       "        vertical-align: middle;\n",
       "    }\n",
       "\n",
       "    .dataframe tbody tr th {\n",
       "        vertical-align: top;\n",
       "    }\n",
       "\n",
       "    .dataframe thead th {\n",
       "        text-align: right;\n",
       "    }\n",
       "</style>\n",
       "<table border=\"1\" class=\"dataframe\">\n",
       "  <thead>\n",
       "    <tr style=\"text-align: right;\">\n",
       "      <th></th>\n",
       "      <th>0</th>\n",
       "      <th>1</th>\n",
       "      <th>2</th>\n",
       "      <th>3</th>\n",
       "      <th>4</th>\n",
       "      <th>5</th>\n",
       "      <th>6</th>\n",
       "      <th>7</th>\n",
       "      <th>8</th>\n",
       "      <th>9</th>\n",
       "    </tr>\n",
       "  </thead>\n",
       "  <tbody>\n",
       "    <tr>\n",
       "      <th>input_tokens</th>\n",
       "      <td>▁</td>\n",
       "      <td>▁''</td>\n",
       "      <td>▁'</td>\n",
       "      <td>▁der</td>\n",
       "      <td>▁und</td>\n",
       "      <td>▁in</td>\n",
       "      <td>▁die</td>\n",
       "      <td>▁von</td>\n",
       "      <td>▁er</td>\n",
       "      <td>▁den</td>\n",
       "    </tr>\n",
       "    <tr>\n",
       "      <th>count</th>\n",
       "      <td>6066</td>\n",
       "      <td>2898</td>\n",
       "      <td>2133</td>\n",
       "      <td>1388</td>\n",
       "      <td>1171</td>\n",
       "      <td>989</td>\n",
       "      <td>860</td>\n",
       "      <td>808</td>\n",
       "      <td>707</td>\n",
       "      <td>489</td>\n",
       "    </tr>\n",
       "    <tr>\n",
       "      <th>mean</th>\n",
       "      <td>0.04</td>\n",
       "      <td>0.02</td>\n",
       "      <td>0.02</td>\n",
       "      <td>0.08</td>\n",
       "      <td>0.07</td>\n",
       "      <td>0.13</td>\n",
       "      <td>0.05</td>\n",
       "      <td>0.17</td>\n",
       "      <td>0.0</td>\n",
       "      <td>0.03</td>\n",
       "    </tr>\n",
       "    <tr>\n",
       "      <th>sum</th>\n",
       "      <td>213.37</td>\n",
       "      <td>70.3</td>\n",
       "      <td>34.46</td>\n",
       "      <td>111.32</td>\n",
       "      <td>82.69</td>\n",
       "      <td>128.83</td>\n",
       "      <td>42.8</td>\n",
       "      <td>139.38</td>\n",
       "      <td>0.0</td>\n",
       "      <td>13.42</td>\n",
       "    </tr>\n",
       "  </tbody>\n",
       "</table>\n",
       "</div>"
      ],
      "text/plain": [
       "                   0     1      2       3      4       5     6       7    8  \\\n",
       "input_tokens       ▁   ▁''     ▁'    ▁der   ▁und     ▁in  ▁die    ▁von  ▁er   \n",
       "count           6066  2898   2133    1388   1171     989   860     808  707   \n",
       "mean            0.04  0.02   0.02    0.08   0.07    0.13  0.05    0.17  0.0   \n",
       "sum           213.37  70.3  34.46  111.32  82.69  128.83  42.8  139.38  0.0   \n",
       "\n",
       "                  9  \n",
       "input_tokens   ▁den  \n",
       "count           489  \n",
       "mean           0.03  \n",
       "sum           13.42  "
      ]
     },
     "metadata": {},
     "output_type": "display_data"
    }
   ],
   "source": [
    "# refactored\n",
    "analyzer = ner.erroranalysis.NERLossAnalyzer(df_tokens)\n",
    "\n",
    "# tokens with highest cumulated loss across dataset\n",
    "display(analyzer.loss_groupby_analysis(groupby=\"input_tokens\", sort=\"sum\", ascending=False))\n",
    "\n",
    "# lowest loss in terms of sum\n",
    "display(analyzer.loss_groupby_analysis(groupby=\"input_tokens\", ascending=True))\n",
    "\n",
    "# most frequent tokens and their loss\n",
    "display(analyzer.loss_groupby_analysis(groupby=\"input_tokens\", sort=\"count\", ascending=False))"
   ]
  },
  {
   "cell_type": "markdown",
   "metadata": {},
   "source": [
    "#### Visualize the Confusion Matrix"
   ]
  },
  {
   "cell_type": "code",
   "execution_count": 158,
   "metadata": {},
   "outputs": [
    {
     "data": {
      "image/png": "[encoded data removed]",
      "text/plain": [
       "<Figure size 600x600 with 1 Axes>"
      ]
     },
     "metadata": {},
     "output_type": "display_data"
    }
   ],
   "source": [
    "ner.plot.plot_confusion_matrix(df_tokens.labels, df_tokens.predicted_labels, tags.names)"
   ]
  },
  {
   "cell_type": "markdown",
   "metadata": {},
   "source": [
    "## Evaluate Cross Lingual Performance\n",
    "* evaluating performance on other languages without re-training."
   ]
  },
  {
   "cell_type": "code",
   "execution_count": 36,
   "metadata": {},
   "outputs": [
    {
     "name": "stderr",
     "output_type": "stream",
     "text": [
      "100%|██████████| 263/263 [01:16<00:00,  3.46it/s]"
     ]
    },
    {
     "name": "stdout",
     "output_type": "stream",
     "text": [
      "f1-scores of [de]-trained model on [de] test dataset is: 0.861\n"
     ]
    },
    {
     "name": "stderr",
     "output_type": "stream",
     "text": [
      "\n"
     ]
    }
   ],
   "source": [
    "def get_f1_score(trainer: tfm.Trainer, dataset: datasets.Dataset) -> float:\n",
    "    return trainer.predict(dataset).metrics[\"test_f1\"]\n",
    "\n",
    "\n",
    "f1_scores = defaultdict(dict)\n",
    "f1_scores[\"de\"][\"de\"] = get_f1_score(trainer, panx_de_encoded[\"test\"])\n",
    "print(f\"f1-scores of [de]-trained model on [de] test dataset is: {f1_scores['de']['de']:.3f}\")"
   ]
  },
  {
   "cell_type": "code",
   "execution_count": 37,
   "metadata": {},
   "outputs": [
    {
     "name": "stderr",
     "output_type": "stream",
     "text": [
      "100%|██████████| 5/5 [00:00<00:00, 25.34ba/s]\n",
      "100%|██████████| 3/3 [00:00<00:00, 40.20ba/s]\n",
      "100%|██████████| 3/3 [00:00<00:00, 40.66ba/s]\n",
      "100%|██████████| 96/96 [00:22<00:00,  4.18it/s]\n"
     ]
    },
    {
     "name": "stdout",
     "output_type": "stream",
     "text": [
      "f1-score of [de]-trained model on [fr] test dataset is: 0.706\n"
     ]
    },
    {
     "name": "stderr",
     "output_type": "stream",
     "text": [
      "100%|██████████| 2/2 [00:00<00:00, 29.14ba/s]\n",
      "100%|██████████| 1/1 [00:00<00:00, 29.45ba/s]\n",
      "100%|██████████| 1/1 [00:00<00:00, 30.95ba/s]\n",
      "100%|██████████| 35/35 [00:08<00:00,  4.31it/s]\n"
     ]
    },
    {
     "name": "stdout",
     "output_type": "stream",
     "text": [
      "f1-score of [de]-trained model on [it] test dataset is: 0.696\n"
     ]
    },
    {
     "name": "stderr",
     "output_type": "stream",
     "text": [
      "100%|██████████| 2/2 [00:00<00:00, 39.45ba/s]\n",
      "100%|██████████| 1/1 [00:00<00:00, 39.95ba/s]\n",
      "100%|██████████| 1/1 [00:00<00:00, 39.06ba/s]\n",
      "100%|██████████| 25/25 [00:05<00:00,  4.26it/s]"
     ]
    },
    {
     "name": "stdout",
     "output_type": "stream",
     "text": [
      "f1-score of [de]-trained model on [en] test dataset is: 0.598\n"
     ]
    },
    {
     "name": "stderr",
     "output_type": "stream",
     "text": [
      "\n"
     ]
    }
   ],
   "source": [
    "def evaluate_lang_performance(lang: str, trainer: tfm.Trainer) -> float:\n",
    "    ds_encoded = encode_panx_dataset(panx_ch[lang])\n",
    "    return get_f1_score(trainer, ds_encoded[\"test\"])\n",
    "\n",
    "for lang in [\"fr\", \"it\", \"en\"]:\n",
    "    f1_scores[\"de\"][lang] = evaluate_lang_performance(lang, trainer)\n",
    "    print(f\"f1-score of [de]-trained model on [{lang}] test dataset is: {f1_scores['de'][lang]:.3f}\")"
   ]
  },
  {
   "cell_type": "code",
   "execution_count": 38,
   "metadata": {},
   "outputs": [
    {
     "data": {
      "text/plain": [
       "defaultdict(dict,\n",
       "            {'de': {'de': 0.8608626740631722,\n",
       "              'fr': 0.7058823529411765,\n",
       "              'it': 0.6957997454391174,\n",
       "              'en': 0.5980670835702103}})"
      ]
     },
     "execution_count": 38,
     "metadata": {},
     "output_type": "execute_result"
    }
   ],
   "source": [
    "f1_scores"
   ]
  },
  {
   "cell_type": "markdown",
   "metadata": {},
   "source": [
    "### what language specific dataset size is necessary to beat zero-shot transfer on higher resource model?\n",
    "* example from FR\n",
    "steps:\n",
    "* train a model on a dataset of increasing size in French\n",
    "* evaluate its performance on fr test dataset\n"
   ]
  },
  {
   "cell_type": "code",
   "execution_count": 40,
   "metadata": {},
   "outputs": [],
   "source": [
    "def train_on_subset(dataset: datasets.Dataset, num_samples: int) -> pd.DataFrame:\n",
    "    \"\"\"train a model on a subset of a total dataset of size `num_samples`. extract f1-scores\"\"\"\n",
    "\n",
    "    train_ds = dataset[\"train\"].shuffle(seed=42).select(range(num_samples))\n",
    "    valid_ds = dataset[\"validation\"]\n",
    "    test_ds = dataset[\"test\"]\n",
    "\n",
    "    training_args.logging_steps = len(train_ds) // BATCH_SIZE\n",
    "    trainer = tfm.Trainer(\n",
    "        model_init=model_init, \n",
    "        args=training_args,\n",
    "        data_collator=data_collator, \n",
    "        compute_metrics=seqeval_converter.compute_metrics,\n",
    "        train_dataset=train_ds,\n",
    "        eval_dataset=valid_ds,\n",
    "        tokenizer=xlmr_tokenizer,\n",
    "    )\n",
    "\n",
    "    trainer.train()\n",
    "\n",
    "    f1_score = get_f1_score(trainer=trainer, dataset=test_ds)\n",
    "\n",
    "    return pd.DataFrame({\"num_samples\": [num_samples], \"f1_score\": [f1_score]})\n",
    "\n"
   ]
  },
  {
   "cell_type": "code",
   "execution_count": 41,
   "metadata": {},
   "outputs": [
    {
     "name": "stderr",
     "output_type": "stream",
     "text": [
      "Loading cached processed dataset at /Users/spayot/.cache/huggingface/datasets/xtreme/PAN-X.fr/1.0.0/29f5d57a48779f37ccb75cb8708d1095448aad0713b425bdc1ff9a4a128a56e4/cache-7f028a01a5fa4a2c.arrow\n",
      "Loading cached processed dataset at /Users/spayot/.cache/huggingface/datasets/xtreme/PAN-X.fr/1.0.0/29f5d57a48779f37ccb75cb8708d1095448aad0713b425bdc1ff9a4a128a56e4/cache-5eb1e7e2bdc288cf.arrow\n",
      "Loading cached processed dataset at /Users/spayot/.cache/huggingface/datasets/xtreme/PAN-X.fr/1.0.0/29f5d57a48779f37ccb75cb8708d1095448aad0713b425bdc1ff9a4a128a56e4/cache-276d0daf34adb6cc.arrow\n",
      "/Users/spayot/miniforge3/envs/tfm4/lib/python3.9/site-packages/transformers/optimization.py:306: FutureWarning: This implementation of AdamW is deprecated and will be removed in a future version. Use the PyTorch implementation torch.optim.AdamW instead, or set `no_deprecation_warning=True` to disable this warning\n",
      "  warnings.warn(\n",
      " 30%|███       | 10/33 [00:20<00:39,  1.73s/it]"
     ]
    },
    {
     "name": "stdout",
     "output_type": "stream",
     "text": [
      "{'loss': 1.6557, 'learning_rate': 1.3939393939393942e-05, 'epoch': 0.91}\n"
     ]
    },
    {
     "name": "stderr",
     "output_type": "stream",
     "text": [
      "                                               \n",
      " 33%|███▎      | 11/33 [00:44<00:35,  1.61s/it]"
     ]
    },
    {
     "name": "stdout",
     "output_type": "stream",
     "text": [
      "{'eval_loss': 1.4775304794311523, 'eval_f1': 0.0, 'eval_runtime': 22.6371, 'eval_samples_per_second': 101.161, 'eval_steps_per_second': 4.241, 'epoch': 1.0}\n"
     ]
    },
    {
     "name": "stderr",
     "output_type": "stream",
     "text": [
      " 61%|██████    | 20/33 [01:01<00:29,  2.25s/it]"
     ]
    },
    {
     "name": "stdout",
     "output_type": "stream",
     "text": [
      "{'loss': 1.412, 'learning_rate': 7.87878787878788e-06, 'epoch': 1.82}\n"
     ]
    },
    {
     "name": "stderr",
     "output_type": "stream",
     "text": [
      "                                               \n",
      " 67%|██████▋   | 22/33 [01:26<00:19,  1.80s/it]"
     ]
    },
    {
     "name": "stdout",
     "output_type": "stream",
     "text": [
      "{'eval_loss': 1.3657972812652588, 'eval_f1': 0.0, 'eval_runtime': 22.2322, 'eval_samples_per_second': 103.004, 'eval_steps_per_second': 4.318, 'epoch': 2.0}\n"
     ]
    },
    {
     "name": "stderr",
     "output_type": "stream",
     "text": [
      " 91%|█████████ | 30/33 [01:43<00:07,  2.42s/it]"
     ]
    },
    {
     "name": "stdout",
     "output_type": "stream",
     "text": [
      "{'loss': 1.315, 'learning_rate': 1.8181818181818183e-06, 'epoch': 2.73}\n"
     ]
    },
    {
     "name": "stderr",
     "output_type": "stream",
     "text": [
      "                                               \n",
      "100%|██████████| 33/33 [02:09<00:00,  3.92s/it]\n"
     ]
    },
    {
     "name": "stdout",
     "output_type": "stream",
     "text": [
      "{'eval_loss': 1.3307245969772339, 'eval_f1': 0.0, 'eval_runtime': 21.9764, 'eval_samples_per_second': 104.203, 'eval_steps_per_second': 4.368, 'epoch': 3.0}\n",
      "{'train_runtime': 129.4619, 'train_samples_per_second': 5.793, 'train_steps_per_second': 0.255, 'train_loss': 1.4574045412468188, 'epoch': 3.0}\n"
     ]
    },
    {
     "name": "stderr",
     "output_type": "stream",
     "text": [
      "100%|██████████| 96/96 [00:23<00:00,  4.01it/s]\n"
     ]
    },
    {
     "data": {
      "text/html": [
       "<div>\n",
       "<style scoped>\n",
       "    .dataframe tbody tr th:only-of-type {\n",
       "        vertical-align: middle;\n",
       "    }\n",
       "\n",
       "    .dataframe tbody tr th {\n",
       "        vertical-align: top;\n",
       "    }\n",
       "\n",
       "    .dataframe thead th {\n",
       "        text-align: right;\n",
       "    }\n",
       "</style>\n",
       "<table border=\"1\" class=\"dataframe\">\n",
       "  <thead>\n",
       "    <tr style=\"text-align: right;\">\n",
       "      <th></th>\n",
       "      <th>num_samples</th>\n",
       "      <th>f1_score</th>\n",
       "    </tr>\n",
       "  </thead>\n",
       "  <tbody>\n",
       "    <tr>\n",
       "      <th>0</th>\n",
       "      <td>250</td>\n",
       "      <td>0.0</td>\n",
       "    </tr>\n",
       "  </tbody>\n",
       "</table>\n",
       "</div>"
      ],
      "text/plain": [
       "   num_samples  f1_score\n",
       "0          250       0.0"
      ]
     },
     "execution_count": 41,
     "metadata": {},
     "output_type": "execute_result"
    }
   ],
   "source": [
    "panx_fr_encoded = encode_panx_dataset(panx_ch[\"fr\"])\n",
    "\n",
    "subset_df = train_on_subset(panx_fr_encoded, 250)\n",
    "subset_df"
   ]
  },
  {
   "cell_type": "code",
   "execution_count": 42,
   "metadata": {},
   "outputs": [
    {
     "name": "stderr",
     "output_type": "stream",
     "text": [
      "Loading cached shuffled indices for dataset at /Users/spayot/.cache/huggingface/datasets/xtreme/PAN-X.fr/1.0.0/29f5d57a48779f37ccb75cb8708d1095448aad0713b425bdc1ff9a4a128a56e4/cache-2311d41ec9a03774.arrow\n",
      "/Users/spayot/miniforge3/envs/tfm4/lib/python3.9/site-packages/transformers/optimization.py:306: FutureWarning: This implementation of AdamW is deprecated and will be removed in a future version. Use the PyTorch implementation torch.optim.AdamW instead, or set `no_deprecation_warning=True` to disable this warning\n",
      "  warnings.warn(\n",
      " 32%|███▏      | 20/63 [00:48<01:35,  2.21s/it]"
     ]
    },
    {
     "name": "stdout",
     "output_type": "stream",
     "text": [
      "{'loss': 1.5147, 'learning_rate': 1.3650793650793652e-05, 'epoch': 0.95}\n"
     ]
    },
    {
     "name": "stderr",
     "output_type": "stream",
     "text": [
      " 33%|███▎      | 21/63 [00:50<01:21,  1.94s/it]\n",
      " 33%|███▎      | 21/63 [01:13<01:21,  1.94s/it]"
     ]
    },
    {
     "name": "stdout",
     "output_type": "stream",
     "text": [
      "{'eval_loss': 1.298267126083374, 'eval_f1': 0.03580016029922522, 'eval_runtime': 23.3182, 'eval_samples_per_second': 98.207, 'eval_steps_per_second': 4.117, 'epoch': 1.0}\n"
     ]
    },
    {
     "name": "stderr",
     "output_type": "stream",
     "text": [
      " 63%|██████▎   | 40/63 [02:00<00:56,  2.46s/it]"
     ]
    },
    {
     "name": "stdout",
     "output_type": "stream",
     "text": [
      "{'loss': 1.1545, 'learning_rate': 7.301587301587301e-06, 'epoch': 1.9}\n"
     ]
    },
    {
     "name": "stderr",
     "output_type": "stream",
     "text": [
      " 67%|██████▋   | 42/63 [02:06<00:57,  2.75s/it]\n",
      " 67%|██████▋   | 42/63 [02:29<00:57,  2.75s/it]"
     ]
    },
    {
     "name": "stdout",
     "output_type": "stream",
     "text": [
      "{'eval_loss': 1.0415717363357544, 'eval_f1': 0.23568136932192235, 'eval_runtime': 23.1456, 'eval_samples_per_second': 98.939, 'eval_steps_per_second': 4.148, 'epoch': 2.0}\n"
     ]
    },
    {
     "name": "stderr",
     "output_type": "stream",
     "text": [
      " 95%|█████████▌| 60/63 [03:16<00:08,  2.71s/it]"
     ]
    },
    {
     "name": "stdout",
     "output_type": "stream",
     "text": [
      "{'loss': 0.9972, 'learning_rate': 9.523809523809525e-07, 'epoch': 2.86}\n"
     ]
    },
    {
     "name": "stderr",
     "output_type": "stream",
     "text": [
      "100%|██████████| 63/63 [03:23<00:00,  2.41s/it]\n",
      "100%|██████████| 63/63 [03:45<00:00,  3.58s/it]\n"
     ]
    },
    {
     "name": "stdout",
     "output_type": "stream",
     "text": [
      "{'eval_loss': 0.9526299834251404, 'eval_f1': 0.29579461332493306, 'eval_runtime': 21.6612, 'eval_samples_per_second': 105.719, 'eval_steps_per_second': 4.432, 'epoch': 3.0}\n",
      "{'train_runtime': 225.2873, 'train_samples_per_second': 6.658, 'train_steps_per_second': 0.28, 'train_loss': 1.2097306175837441, 'epoch': 3.0}\n"
     ]
    },
    {
     "name": "stderr",
     "output_type": "stream",
     "text": [
      "100%|██████████| 96/96 [00:22<00:00,  4.22it/s]\n",
      "/var/folders/ds/s6rqbzwj33q811h82fdmj_6w0000gn/T/ipykernel_64636/3174895469.py:2: FutureWarning: The frame.append method is deprecated and will be removed from pandas in a future version. Use pandas.concat instead.\n",
      "  subset_df = subset_df.append(train_on_subset(panx_fr_encoded, num_samples), ignore_index=True)\n",
      "Loading cached shuffled indices for dataset at /Users/spayot/.cache/huggingface/datasets/xtreme/PAN-X.fr/1.0.0/29f5d57a48779f37ccb75cb8708d1095448aad0713b425bdc1ff9a4a128a56e4/cache-2311d41ec9a03774.arrow\n",
      " 33%|███▎      | 41/126 [01:17<02:45,  1.95s/it]"
     ]
    },
    {
     "name": "stdout",
     "output_type": "stream",
     "text": [
      "{'loss': 1.3695, 'learning_rate': 1.3492063492063494e-05, 'epoch': 0.98}\n"
     ]
    },
    {
     "name": "stderr",
     "output_type": "stream",
     "text": [
      "                                                \n",
      " 33%|███▎      | 42/126 [01:40<02:33,  1.83s/it]"
     ]
    },
    {
     "name": "stdout",
     "output_type": "stream",
     "text": [
      "{'eval_loss': 0.990759015083313, 'eval_f1': 0.25126903553299496, 'eval_runtime': 21.7031, 'eval_samples_per_second': 105.515, 'eval_steps_per_second': 4.423, 'epoch': 1.0}\n"
     ]
    },
    {
     "name": "stderr",
     "output_type": "stream",
     "text": [
      " 65%|██████▌   | 82/126 [03:01<01:13,  1.66s/it]"
     ]
    },
    {
     "name": "stdout",
     "output_type": "stream",
     "text": [
      "{'loss': 0.8003, 'learning_rate': 6.984126984126984e-06, 'epoch': 1.95}\n"
     ]
    },
    {
     "name": "stderr",
     "output_type": "stream",
     "text": [
      "                                                \n",
      " 67%|██████▋   | 84/126 [03:28<01:11,  1.69s/it]"
     ]
    },
    {
     "name": "stdout",
     "output_type": "stream",
     "text": [
      "{'eval_loss': 0.6109403967857361, 'eval_f1': 0.6145026340254106, 'eval_runtime': 22.8186, 'eval_samples_per_second': 100.357, 'eval_steps_per_second': 4.207, 'epoch': 2.0}\n"
     ]
    },
    {
     "name": "stderr",
     "output_type": "stream",
     "text": [
      " 98%|█████████▊| 123/126 [04:36<00:05,  1.78s/it]"
     ]
    },
    {
     "name": "stdout",
     "output_type": "stream",
     "text": [
      "{'loss': 0.572, 'learning_rate': 4.7619047619047623e-07, 'epoch': 2.93}\n"
     ]
    },
    {
     "name": "stderr",
     "output_type": "stream",
     "text": [
      "                                                 \n",
      "100%|██████████| 126/126 [05:03<00:00,  2.41s/it]\n"
     ]
    },
    {
     "name": "stdout",
     "output_type": "stream",
     "text": [
      "{'eval_loss': 0.5201591849327087, 'eval_f1': 0.6796675191815859, 'eval_runtime': 21.8849, 'eval_samples_per_second': 104.638, 'eval_steps_per_second': 4.387, 'epoch': 3.0}\n",
      "{'train_runtime': 303.4153, 'train_samples_per_second': 9.887, 'train_steps_per_second': 0.415, 'train_loss': 0.9047734264343504, 'epoch': 3.0}\n"
     ]
    },
    {
     "name": "stderr",
     "output_type": "stream",
     "text": [
      "100%|██████████| 96/96 [00:23<00:00,  4.10it/s]\n",
      "Loading cached shuffled indices for dataset at /Users/spayot/.cache/huggingface/datasets/xtreme/PAN-X.fr/1.0.0/29f5d57a48779f37ccb75cb8708d1095448aad0713b425bdc1ff9a4a128a56e4/cache-2311d41ec9a03774.arrow\n",
      " 33%|███▎      | 83/252 [02:40<05:24,  1.92s/it]"
     ]
    },
    {
     "name": "stdout",
     "output_type": "stream",
     "text": [
      "{'loss': 0.995, 'learning_rate': 1.3412698412698413e-05, 'epoch': 0.99}\n"
     ]
    },
    {
     "name": "stderr",
     "output_type": "stream",
     "text": [
      "                                                \n",
      " 33%|███▎      | 84/252 [03:03<04:36,  1.65s/it]"
     ]
    },
    {
     "name": "stdout",
     "output_type": "stream",
     "text": [
      "{'eval_loss': 0.5013786554336548, 'eval_f1': 0.6818181818181818, 'eval_runtime': 22.1812, 'eval_samples_per_second': 103.241, 'eval_steps_per_second': 4.328, 'epoch': 1.0}\n"
     ]
    },
    {
     "name": "stderr",
     "output_type": "stream",
     "text": [
      " 66%|██████▌   | 166/252 [05:44<03:04,  2.14s/it]"
     ]
    },
    {
     "name": "stdout",
     "output_type": "stream",
     "text": [
      "{'loss': 0.4332, 'learning_rate': 6.825396825396826e-06, 'epoch': 1.98}\n"
     ]
    },
    {
     "name": "stderr",
     "output_type": "stream",
     "text": [
      "                                                 \n",
      " 67%|██████▋   | 168/252 [06:09<02:30,  1.80s/it]"
     ]
    },
    {
     "name": "stdout",
     "output_type": "stream",
     "text": [
      "{'eval_loss': 0.39649808406829834, 'eval_f1': 0.752628120893561, 'eval_runtime': 21.8417, 'eval_samples_per_second': 104.845, 'eval_steps_per_second': 4.395, 'epoch': 2.0}\n"
     ]
    },
    {
     "name": "stderr",
     "output_type": "stream",
     "text": [
      " 99%|█████████▉| 249/252 [08:46<00:06,  2.14s/it]"
     ]
    },
    {
     "name": "stdout",
     "output_type": "stream",
     "text": [
      "{'loss': 0.3375, 'learning_rate': 2.3809523809523811e-07, 'epoch': 2.96}\n"
     ]
    },
    {
     "name": "stderr",
     "output_type": "stream",
     "text": [
      "                                                 \n",
      "100%|██████████| 252/252 [09:13<00:00,  2.20s/it]\n"
     ]
    },
    {
     "name": "stdout",
     "output_type": "stream",
     "text": [
      "{'eval_loss': 0.3630988895893097, 'eval_f1': 0.7809903622465937, 'eval_runtime': 21.7437, 'eval_samples_per_second': 105.318, 'eval_steps_per_second': 4.415, 'epoch': 3.0}\n",
      "{'train_runtime': 553.2204, 'train_samples_per_second': 10.846, 'train_steps_per_second': 0.456, 'train_loss': 0.5875913065577311, 'epoch': 3.0}\n"
     ]
    },
    {
     "name": "stderr",
     "output_type": "stream",
     "text": [
      "100%|██████████| 96/96 [00:23<00:00,  4.02it/s]\n"
     ]
    }
   ],
   "source": [
    "for num_samples in [500, 1000, 2000]:\n",
    "    subset_df = subset_df.append(train_on_subset(panx_fr_encoded, num_samples), ignore_index=True)"
   ]
  },
  {
   "cell_type": "code",
   "execution_count": 43,
   "metadata": {},
   "outputs": [
    {
     "data": {
      "text/html": [
       "<div>\n",
       "<style scoped>\n",
       "    .dataframe tbody tr th:only-of-type {\n",
       "        vertical-align: middle;\n",
       "    }\n",
       "\n",
       "    .dataframe tbody tr th {\n",
       "        vertical-align: top;\n",
       "    }\n",
       "\n",
       "    .dataframe thead th {\n",
       "        text-align: right;\n",
       "    }\n",
       "</style>\n",
       "<table border=\"1\" class=\"dataframe\">\n",
       "  <thead>\n",
       "    <tr style=\"text-align: right;\">\n",
       "      <th></th>\n",
       "      <th>num_samples</th>\n",
       "      <th>f1_score</th>\n",
       "    </tr>\n",
       "  </thead>\n",
       "  <tbody>\n",
       "    <tr>\n",
       "      <th>0</th>\n",
       "      <td>250</td>\n",
       "      <td>0.000000</td>\n",
       "    </tr>\n",
       "    <tr>\n",
       "      <th>1</th>\n",
       "      <td>500</td>\n",
       "      <td>0.282576</td>\n",
       "    </tr>\n",
       "    <tr>\n",
       "      <th>2</th>\n",
       "      <td>1000</td>\n",
       "      <td>0.690998</td>\n",
       "    </tr>\n",
       "    <tr>\n",
       "      <th>3</th>\n",
       "      <td>2000</td>\n",
       "      <td>0.776162</td>\n",
       "    </tr>\n",
       "  </tbody>\n",
       "</table>\n",
       "</div>"
      ],
      "text/plain": [
       "   num_samples  f1_score\n",
       "0          250  0.000000\n",
       "1          500  0.282576\n",
       "2         1000  0.690998\n",
       "3         2000  0.776162"
      ]
     },
     "execution_count": 43,
     "metadata": {},
     "output_type": "execute_result"
    }
   ],
   "source": [
    "subset_df"
   ]
  },
  {
   "cell_type": "code",
   "execution_count": 45,
   "metadata": {},
   "outputs": [
    {
     "data": {
      "image/png": "[encoded data removed]",
      "text/plain": [
       "<Figure size 640x480 with 1 Axes>"
      ]
     },
     "metadata": {},
     "output_type": "display_data"
    }
   ],
   "source": [
    "fig, ax = plt.subplots()\n",
    "ax.axhline(f1_scores[\"de\"][\"fr\"], ls=\"--\", color=\"r\")\n",
    "subset_df.set_index(\"num_samples\").plot(ax=ax)\n",
    "plt.legend([\"Zero-shot from [de]\", \"Fine-tuned on [fr]\"], loc=\"lower right\")\n",
    "plt.ylim((0,1))\n",
    "plt.xlabel(\"Number of Training Samples\")\n",
    "plt.ylabel(\"F1-Score\")\n",
    "plt.savefig(\"../images/zero-shot-from-de-vs-finetuned-fr.jpg\")\n",
    "plt.show()\n",
    "\n"
   ]
  },
  {
   "attachments": {},
   "cell_type": "markdown",
   "metadata": {},
   "source": [
    "**Conclusions**: it takes about 1,500 labeled examples in French for it to outperform the model trained on German-only data (12k examples) for the French test set.\n",
    "\n",
    "## Training on all languages at once\n",
    "### Encode and Concatenate datasets for each language"
   ]
  },
  {
   "cell_type": "code",
   "execution_count": 46,
   "metadata": {},
   "outputs": [
    {
     "name": "stderr",
     "output_type": "stream",
     "text": [
      "100%|██████████| 13/13 [00:00<00:00, 20.66ba/s]\n",
      "Loading cached processed dataset at /Users/spayot/.cache/huggingface/datasets/xtreme/PAN-X.de/1.0.0/29f5d57a48779f37ccb75cb8708d1095448aad0713b425bdc1ff9a4a128a56e4/cache-5aff204934de6ebd.arrow\n",
      "Loading cached processed dataset at /Users/spayot/.cache/huggingface/datasets/xtreme/PAN-X.de/1.0.0/29f5d57a48779f37ccb75cb8708d1095448aad0713b425bdc1ff9a4a128a56e4/cache-9d8b48dc6bfa4672.arrow\n",
      "Loading cached processed dataset at /Users/spayot/.cache/huggingface/datasets/xtreme/PAN-X.fr/1.0.0/29f5d57a48779f37ccb75cb8708d1095448aad0713b425bdc1ff9a4a128a56e4/cache-7f028a01a5fa4a2c.arrow\n",
      "Loading cached processed dataset at /Users/spayot/.cache/huggingface/datasets/xtreme/PAN-X.fr/1.0.0/29f5d57a48779f37ccb75cb8708d1095448aad0713b425bdc1ff9a4a128a56e4/cache-5eb1e7e2bdc288cf.arrow\n",
      "Loading cached processed dataset at /Users/spayot/.cache/huggingface/datasets/xtreme/PAN-X.fr/1.0.0/29f5d57a48779f37ccb75cb8708d1095448aad0713b425bdc1ff9a4a128a56e4/cache-276d0daf34adb6cc.arrow\n",
      "Loading cached processed dataset at /Users/spayot/.cache/huggingface/datasets/xtreme/PAN-X.it/1.0.0/29f5d57a48779f37ccb75cb8708d1095448aad0713b425bdc1ff9a4a128a56e4/cache-ca5ccb0b32284801.arrow\n",
      "Loading cached processed dataset at /Users/spayot/.cache/huggingface/datasets/xtreme/PAN-X.it/1.0.0/29f5d57a48779f37ccb75cb8708d1095448aad0713b425bdc1ff9a4a128a56e4/cache-73efb639fbafb603.arrow\n",
      "Loading cached processed dataset at /Users/spayot/.cache/huggingface/datasets/xtreme/PAN-X.it/1.0.0/29f5d57a48779f37ccb75cb8708d1095448aad0713b425bdc1ff9a4a128a56e4/cache-299a71f4e850d597.arrow\n",
      "Loading cached processed dataset at /Users/spayot/.cache/huggingface/datasets/xtreme/PAN-X.en/1.0.0/29f5d57a48779f37ccb75cb8708d1095448aad0713b425bdc1ff9a4a128a56e4/cache-2b9d20081d6d079e.arrow\n",
      "Loading cached processed dataset at /Users/spayot/.cache/huggingface/datasets/xtreme/PAN-X.en/1.0.0/29f5d57a48779f37ccb75cb8708d1095448aad0713b425bdc1ff9a4a128a56e4/cache-2ec7f66746a7d7b5.arrow\n",
      "Loading cached processed dataset at /Users/spayot/.cache/huggingface/datasets/xtreme/PAN-X.en/1.0.0/29f5d57a48779f37ccb75cb8708d1095448aad0713b425bdc1ff9a4a128a56e4/cache-4f798fbc5da6dced.arrow\n"
     ]
    }
   ],
   "source": [
    "def concatenate_splits(corpora: list[datasets.DatasetDict]) -> datasets.DatasetDict:\n",
    "    multi_corpus = datasets.DatasetDict()\n",
    "    for split in corpora[0].keys():\n",
    "        multi_corpus[split] = datasets.concatenate_datasets(\n",
    "            [corpus[split] for corpus in corpora]\n",
    "            ).shuffle(seed=42)\n",
    "    return multi_corpus\n",
    "\n",
    "\n",
    "langs = [\"de\", \"fr\", \"it\", \"en\"]\n",
    "\n",
    "# initialize corpora\n",
    "corpora = [encode_panx_dataset(panx_ch[lang]) for lang in langs]\n",
    "\n",
    "corpora_encoded = concatenate_splits(corpora)"
   ]
  },
  {
   "cell_type": "code",
   "execution_count": 50,
   "metadata": {},
   "outputs": [
    {
     "name": "stdout",
     "output_type": "stream",
     "text": [
      "train                20020\n",
      "validation           10010\n",
      "test                 10010\n"
     ]
    }
   ],
   "source": [
    "for split in corpora_encoded:\n",
    "    print(f\"{split:<20} {len(corpora_encoded[split])}\")"
   ]
  },
  {
   "cell_type": "code",
   "execution_count": 51,
   "metadata": {},
   "outputs": [
    {
     "name": "stderr",
     "output_type": "stream",
     "text": [
      "/Users/spayot/miniforge3/envs/tfm4/lib/python3.9/site-packages/transformers/optimization.py:306: FutureWarning: This implementation of AdamW is deprecated and will be removed in a future version. Use the PyTorch implementation torch.optim.AdamW instead, or set `no_deprecation_warning=True` to disable this warning\n",
      "  warnings.warn(\n",
      " 33%|███▎      | 834/2505 [29:46<41:30,  1.49s/it]  "
     ]
    },
    {
     "name": "stdout",
     "output_type": "stream",
     "text": [
      "{'loss': 0.3207, 'learning_rate': 1.3341317365269462e-05, 'epoch': 1.0}\n"
     ]
    },
    {
     "name": "stderr",
     "output_type": "stream",
     "text": [
      "                                                  \n",
      " 33%|███▎      | 835/2505 [31:50<34:11,  1.23s/it]"
     ]
    },
    {
     "name": "stdout",
     "output_type": "stream",
     "text": [
      "{'eval_loss': 0.19176006317138672, 'eval_f1': 0.8163530175210902, 'eval_runtime': 124.056, 'eval_samples_per_second': 80.689, 'eval_steps_per_second': 3.369, 'epoch': 1.0}\n"
     ]
    },
    {
     "name": "stderr",
     "output_type": "stream",
     "text": [
      " 67%|██████▋   | 1668/2505 [54:20<20:39,  1.48s/it]  "
     ]
    },
    {
     "name": "stdout",
     "output_type": "stream",
     "text": [
      "{'loss': 0.173, 'learning_rate': 6.682634730538923e-06, 'epoch': 2.0}\n"
     ]
    },
    {
     "name": "stderr",
     "output_type": "stream",
     "text": [
      " 67%|██████▋   | 1670/2505 [54:21<15:50,  1.14s/it]\n",
      " 67%|██████▋   | 1670/2505 [56:22<15:50,  1.14s/it]"
     ]
    },
    {
     "name": "stdout",
     "output_type": "stream",
     "text": [
      "{'eval_loss': 0.17086975276470184, 'eval_f1': 0.8427691087967135, 'eval_runtime': 120.2927, 'eval_samples_per_second': 83.214, 'eval_steps_per_second': 3.475, 'epoch': 2.0}\n"
     ]
    },
    {
     "name": "stderr",
     "output_type": "stream",
     "text": [
      "100%|█████████▉| 2502/2505 [1:16:29<00:03,  1.33s/it]"
     ]
    },
    {
     "name": "stdout",
     "output_type": "stream",
     "text": [
      "{'loss': 0.1324, 'learning_rate': 2.3952095808383236e-08, 'epoch': 3.0}\n"
     ]
    },
    {
     "name": "stderr",
     "output_type": "stream",
     "text": [
      "                                                     \n",
      "100%|██████████| 2505/2505 [1:18:31<00:00,  1.88s/it]\n"
     ]
    },
    {
     "name": "stdout",
     "output_type": "stream",
     "text": [
      "{'eval_loss': 0.17233458161354065, 'eval_f1': 0.8488871252840806, 'eval_runtime': 118.0063, 'eval_samples_per_second': 84.826, 'eval_steps_per_second': 3.542, 'epoch': 3.0}\n",
      "{'train_runtime': 4711.4629, 'train_samples_per_second': 12.748, 'train_steps_per_second': 0.532, 'train_loss': 0.20856272060714082, 'epoch': 3.0}\n"
     ]
    },
    {
     "name": "stderr",
     "output_type": "stream",
     "text": [
      "100%|██████████| 263/263 [01:17<00:00,  3.40it/s]\n",
      "100%|██████████| 96/96 [00:24<00:00,  3.86it/s]\n",
      "100%|██████████| 35/35 [00:09<00:00,  3.78it/s]\n",
      "100%|██████████| 25/25 [00:06<00:00,  3.92it/s]"
     ]
    },
    {
     "name": "stdout",
     "output_type": "stream",
     "text": [
      "defaultdict(<class 'dict'>, {'de': {'de': 0.8608626740631722, 'fr': 0.7058823529411765, 'it': 0.6957997454391174, 'en': 0.5980670835702103}, 'all': {'de': 0.8596302787042795, 'fr': 0.8529411764705883, 'it': 0.8670469504168495, 'en': 0.7558962264150942}})\n"
     ]
    },
    {
     "name": "stderr",
     "output_type": "stream",
     "text": [
      "\n"
     ]
    }
   ],
   "source": [
    "training_args.logging_steps = len(corpora_encoded[\"train\"]) // BATCH_SIZE\n",
    "training_args.output_dir = \"../models/xlm-roberta-base-finetuned-panx-all-ch\"\n",
    "\n",
    "xtrainer = tfm.Trainer(\n",
    "    model_init=model_init, \n",
    "    args=training_args,\n",
    "    data_collator=data_collator, \n",
    "    compute_metrics=seqeval_converter.compute_metrics,\n",
    "    train_dataset=corpora_encoded[\"train\"],\n",
    "    eval_dataset=corpora_encoded[\"validation\"],\n",
    "    tokenizer=xlmr_tokenizer,\n",
    ")\n",
    "\n",
    "xtrainer.train()\n",
    "\n",
    "for idx, lang in enumerate(langs):\n",
    "    f1_scores[\"all\"][lang] = get_f1_score(xtrainer, corpora[idx][\"test\"])\n",
    "\n",
    "print(f1_scores)"
   ]
  },
  {
   "cell_type": "code",
   "execution_count": 74,
   "metadata": {},
   "outputs": [
    {
     "data": {
      "image/png": "[encoded data removed]",
      "text/plain": [
       "<Figure size 640x480 with 1 Axes>"
      ]
     },
     "metadata": {},
     "output_type": "display_data"
    }
   ],
   "source": [
    "SCORE_IMAGE_PATH = \"../images/f1_scores.jpg\"\n",
    "\n",
    "ner.plot.plot_f1_scores(f1_scores, save_path=SCORE_IMAGE_PATH)"
   ]
  },
  {
   "cell_type": "markdown",
   "metadata": {},
   "source": [
    "## Save Model"
   ]
  },
  {
   "cell_type": "code",
   "execution_count": 52,
   "metadata": {},
   "outputs": [],
   "source": [
    "# saves in args.output_dir directory\n",
    "xtrainer.save_model()"
   ]
  },
  {
   "attachments": {},
   "cell_type": "markdown",
   "metadata": {},
   "source": [
    "## inspect model"
   ]
  },
  {
   "cell_type": "code",
   "execution_count": 83,
   "metadata": {},
   "outputs": [
    {
     "data": {
      "text/html": [
       "<div>\n",
       "<style scoped>\n",
       "    .dataframe tbody tr th:only-of-type {\n",
       "        vertical-align: middle;\n",
       "    }\n",
       "\n",
       "    .dataframe tbody tr th {\n",
       "        vertical-align: top;\n",
       "    }\n",
       "\n",
       "    .dataframe thead th {\n",
       "        text-align: right;\n",
       "    }\n",
       "</style>\n",
       "<table border=\"1\" class=\"dataframe\">\n",
       "  <thead>\n",
       "    <tr style=\"text-align: right;\">\n",
       "      <th></th>\n",
       "      <th>0</th>\n",
       "      <th>1</th>\n",
       "      <th>2</th>\n",
       "      <th>3</th>\n",
       "      <th>4</th>\n",
       "      <th>5</th>\n",
       "      <th>6</th>\n",
       "      <th>7</th>\n",
       "      <th>8</th>\n",
       "      <th>9</th>\n",
       "      <th>...</th>\n",
       "      <th>11</th>\n",
       "      <th>12</th>\n",
       "      <th>13</th>\n",
       "      <th>14</th>\n",
       "      <th>15</th>\n",
       "      <th>16</th>\n",
       "      <th>17</th>\n",
       "      <th>18</th>\n",
       "      <th>19</th>\n",
       "      <th>20</th>\n",
       "    </tr>\n",
       "  </thead>\n",
       "  <tbody>\n",
       "    <tr>\n",
       "      <th>tokens</th>\n",
       "      <td>&lt;s&gt;</td>\n",
       "      <td>▁Je</td>\n",
       "      <td>▁connais</td>\n",
       "      <td>▁un</td>\n",
       "      <td>▁certain</td>\n",
       "      <td>▁Sylv</td>\n",
       "      <td>ain</td>\n",
       "      <td>▁Pay</td>\n",
       "      <td>ot</td>\n",
       "      <td>▁qui</td>\n",
       "      <td>...</td>\n",
       "      <td>▁data</td>\n",
       "      <td>▁scientist</td>\n",
       "      <td>▁et</td>\n",
       "      <td>▁travaille</td>\n",
       "      <td>▁en</td>\n",
       "      <td>▁</td>\n",
       "      <td>Bretagne</td>\n",
       "      <td>▁pour</td>\n",
       "      <td>▁Nike</td>\n",
       "      <td>&lt;/s&gt;</td>\n",
       "    </tr>\n",
       "    <tr>\n",
       "      <th>tags</th>\n",
       "      <td>O</td>\n",
       "      <td>O</td>\n",
       "      <td>O</td>\n",
       "      <td>O</td>\n",
       "      <td>O</td>\n",
       "      <td>B-PER</td>\n",
       "      <td>I-PER</td>\n",
       "      <td>I-PER</td>\n",
       "      <td>I-PER</td>\n",
       "      <td>O</td>\n",
       "      <td>...</td>\n",
       "      <td>B-ORG</td>\n",
       "      <td>O</td>\n",
       "      <td>O</td>\n",
       "      <td>O</td>\n",
       "      <td>O</td>\n",
       "      <td>B-LOC</td>\n",
       "      <td>B-LOC</td>\n",
       "      <td>O</td>\n",
       "      <td>B-ORG</td>\n",
       "      <td>O</td>\n",
       "    </tr>\n",
       "  </tbody>\n",
       "</table>\n",
       "<p>2 rows × 21 columns</p>\n",
       "</div>"
      ],
      "text/plain": [
       "         0    1         2    3         4      5      6      7      8     9   \\\n",
       "tokens  <s>  ▁Je  ▁connais  ▁un  ▁certain  ▁Sylv    ain   ▁Pay     ot  ▁qui   \n",
       "tags      O    O         O    O         O  B-PER  I-PER  I-PER  I-PER     O   \n",
       "\n",
       "        ...     11          12   13          14   15     16        17     18  \\\n",
       "tokens  ...  ▁data  ▁scientist  ▁et  ▁travaille  ▁en      ▁  Bretagne  ▁pour   \n",
       "tags    ...  B-ORG           O    O           O    O  B-LOC     B-LOC      O   \n",
       "\n",
       "           19    20  \n",
       "tokens  ▁Nike  </s>  \n",
       "tags    B-ORG     O  \n",
       "\n",
       "[2 rows x 21 columns]"
      ]
     },
     "execution_count": 83,
     "metadata": {},
     "output_type": "execute_result"
    }
   ],
   "source": [
    "text = \"Je connais un certain Sylvain Payot qui est data scientist et travaille en Bretagne pour Nike\"\n",
    "ner.inspect.tag_text(text, xtrainer.model, xlmr_tokenizer, tags)"
   ]
  },
  {
   "cell_type": "markdown",
   "metadata": {},
   "source": [
    "## Reload a model"
   ]
  },
  {
   "cell_type": "code",
   "execution_count": 84,
   "metadata": {},
   "outputs": [
    {
     "data": {
      "text/html": [
       "<div>\n",
       "<style scoped>\n",
       "    .dataframe tbody tr th:only-of-type {\n",
       "        vertical-align: middle;\n",
       "    }\n",
       "\n",
       "    .dataframe tbody tr th {\n",
       "        vertical-align: top;\n",
       "    }\n",
       "\n",
       "    .dataframe thead th {\n",
       "        text-align: right;\n",
       "    }\n",
       "</style>\n",
       "<table border=\"1\" class=\"dataframe\">\n",
       "  <thead>\n",
       "    <tr style=\"text-align: right;\">\n",
       "      <th></th>\n",
       "      <th>entity</th>\n",
       "      <th>score</th>\n",
       "      <th>index</th>\n",
       "      <th>word</th>\n",
       "      <th>start</th>\n",
       "      <th>end</th>\n",
       "    </tr>\n",
       "  </thead>\n",
       "  <tbody>\n",
       "    <tr>\n",
       "      <th>0</th>\n",
       "      <td>B-PER</td>\n",
       "      <td>0.994795</td>\n",
       "      <td>5</td>\n",
       "      <td>▁Sylv</td>\n",
       "      <td>22</td>\n",
       "      <td>26</td>\n",
       "    </tr>\n",
       "    <tr>\n",
       "      <th>1</th>\n",
       "      <td>I-PER</td>\n",
       "      <td>0.625905</td>\n",
       "      <td>6</td>\n",
       "      <td>ain</td>\n",
       "      <td>26</td>\n",
       "      <td>29</td>\n",
       "    </tr>\n",
       "    <tr>\n",
       "      <th>2</th>\n",
       "      <td>I-PER</td>\n",
       "      <td>0.997478</td>\n",
       "      <td>7</td>\n",
       "      <td>▁Pay</td>\n",
       "      <td>30</td>\n",
       "      <td>33</td>\n",
       "    </tr>\n",
       "    <tr>\n",
       "      <th>3</th>\n",
       "      <td>I-PER</td>\n",
       "      <td>0.995401</td>\n",
       "      <td>8</td>\n",
       "      <td>ot</td>\n",
       "      <td>33</td>\n",
       "      <td>35</td>\n",
       "    </tr>\n",
       "    <tr>\n",
       "      <th>4</th>\n",
       "      <td>B-ORG</td>\n",
       "      <td>0.976891</td>\n",
       "      <td>22</td>\n",
       "      <td>▁Nike</td>\n",
       "      <td>91</td>\n",
       "      <td>95</td>\n",
       "    </tr>\n",
       "  </tbody>\n",
       "</table>\n",
       "</div>"
      ],
      "text/plain": [
       "  entity     score  index   word  start  end\n",
       "0  B-PER  0.994795      5  ▁Sylv     22   26\n",
       "1  I-PER  0.625905      6    ain     26   29\n",
       "2  I-PER  0.997478      7   ▁Pay     30   33\n",
       "3  I-PER  0.995401      8     ot     33   35\n",
       "4  B-ORG  0.976891     22  ▁Nike     91   95"
      ]
     },
     "execution_count": 84,
     "metadata": {},
     "output_type": "execute_result"
    }
   ],
   "source": [
    "text = \"Je connais un certain Sylvain Payot qui est data scientist et travaille dans l'Oregon pour Nike\"\n",
    "ner_pipeline = tfm.pipeline(\"ner\", model=training_args.output_dir)\n",
    "pd.DataFrame(ner_pipeline(text))\n",
    "\n"
   ]
  }
 ],
 "metadata": {
  "kernelspec": {
   "display_name": "tfm4",
   "language": "python",
   "name": "python3"
  },
  "language_info": {
   "codemirror_mode": {
    "name": "ipython",
    "version": 3
   },
   "file_extension": ".py",
   "mimetype": "text/x-python",
   "name": "python",
   "nbconvert_exporter": "python",
   "pygments_lexer": "ipython3",
   "version": "3.9.15"
  },
  "orig_nbformat": 4,
  "vscode": {
   "interpreter": {
    "hash": "eb6be457b960a2f49fdbcb4c5085340aac6fd502e5d42143ce2ce0b3e72004ac"
   }
  }
 },
 "nbformat": 4,
 "nbformat_minor": 2
}
